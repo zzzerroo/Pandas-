{
  "nbformat": 4,
  "nbformat_minor": 0,
  "metadata": {
    "colab": {
      "name": "Task09.ipynb",
      "provenance": [],
      "collapsed_sections": []
    },
    "kernelspec": {
      "name": "python3",
      "display_name": "Python 3"
    }
  },
  "cells": [
    {
      "cell_type": "markdown",
      "metadata": {
        "id": "YRRRnVxX5U_i"
      },
      "source": [
        "## 分类数据\r\n",
        "\r\n",
        "### 一、cat对象\r\n",
        "#### 1. cat对象的属性\r\n",
        "在 `pandas` 中提供了 `category` 类型，使用户能够处理分类类型的变量，将一个普通序列转换成分类变量可以使用 `astype` 方法。"
      ]
    },
    {
      "cell_type": "code",
      "metadata": {
        "id": "lmC7gMl05QUz",
        "colab": {
          "base_uri": "https://localhost:8080/"
        },
        "outputId": "133f4f14-cd10-4c2e-d88e-9835490f91cf"
      },
      "source": [
        "%cd drive/MyDrive/"
      ],
      "execution_count": 1,
      "outputs": [
        {
          "output_type": "stream",
          "text": [
            "/content/drive/MyDrive\n"
          ],
          "name": "stdout"
        }
      ]
    },
    {
      "cell_type": "code",
      "metadata": {
        "id": "bgJVBO_4579L"
      },
      "source": [
        "import pandas as pd\r\n",
        "import numpy as np"
      ],
      "execution_count": 2,
      "outputs": []
    },
    {
      "cell_type": "code",
      "metadata": {
        "colab": {
          "base_uri": "https://localhost:8080/",
          "height": 197
        },
        "id": "CHdJcoS45-d5",
        "outputId": "74d6c69c-7d33-41bb-e1fb-d71c671f3545"
      },
      "source": [
        "df = pd.read_csv('data/learn_pandas.csv',\r\n",
        "        usecols=['Grade', 'Name', 'Gender', 'Height', 'Weight'])\r\n",
        "df.head()"
      ],
      "execution_count": 4,
      "outputs": [
        {
          "output_type": "execute_result",
          "data": {
            "text/html": [
              "<div>\n",
              "<style scoped>\n",
              "    .dataframe tbody tr th:only-of-type {\n",
              "        vertical-align: middle;\n",
              "    }\n",
              "\n",
              "    .dataframe tbody tr th {\n",
              "        vertical-align: top;\n",
              "    }\n",
              "\n",
              "    .dataframe thead th {\n",
              "        text-align: right;\n",
              "    }\n",
              "</style>\n",
              "<table border=\"1\" class=\"dataframe\">\n",
              "  <thead>\n",
              "    <tr style=\"text-align: right;\">\n",
              "      <th></th>\n",
              "      <th>Grade</th>\n",
              "      <th>Name</th>\n",
              "      <th>Gender</th>\n",
              "      <th>Height</th>\n",
              "      <th>Weight</th>\n",
              "    </tr>\n",
              "  </thead>\n",
              "  <tbody>\n",
              "    <tr>\n",
              "      <th>0</th>\n",
              "      <td>Freshman</td>\n",
              "      <td>Gaopeng Yang</td>\n",
              "      <td>Female</td>\n",
              "      <td>158.9</td>\n",
              "      <td>46.0</td>\n",
              "    </tr>\n",
              "    <tr>\n",
              "      <th>1</th>\n",
              "      <td>Freshman</td>\n",
              "      <td>Changqiang You</td>\n",
              "      <td>Male</td>\n",
              "      <td>166.5</td>\n",
              "      <td>70.0</td>\n",
              "    </tr>\n",
              "    <tr>\n",
              "      <th>2</th>\n",
              "      <td>Senior</td>\n",
              "      <td>Mei Sun</td>\n",
              "      <td>Male</td>\n",
              "      <td>188.9</td>\n",
              "      <td>89.0</td>\n",
              "    </tr>\n",
              "    <tr>\n",
              "      <th>3</th>\n",
              "      <td>Sophomore</td>\n",
              "      <td>Xiaojuan Sun</td>\n",
              "      <td>Female</td>\n",
              "      <td>NaN</td>\n",
              "      <td>41.0</td>\n",
              "    </tr>\n",
              "    <tr>\n",
              "      <th>4</th>\n",
              "      <td>Sophomore</td>\n",
              "      <td>Gaojuan You</td>\n",
              "      <td>Male</td>\n",
              "      <td>174.0</td>\n",
              "      <td>74.0</td>\n",
              "    </tr>\n",
              "  </tbody>\n",
              "</table>\n",
              "</div>"
            ],
            "text/plain": [
              "       Grade            Name  Gender  Height  Weight\n",
              "0   Freshman    Gaopeng Yang  Female   158.9    46.0\n",
              "1   Freshman  Changqiang You    Male   166.5    70.0\n",
              "2     Senior         Mei Sun    Male   188.9    89.0\n",
              "3  Sophomore    Xiaojuan Sun  Female     NaN    41.0\n",
              "4  Sophomore     Gaojuan You    Male   174.0    74.0"
            ]
          },
          "metadata": {
            "tags": []
          },
          "execution_count": 4
        }
      ]
    },
    {
      "cell_type": "code",
      "metadata": {
        "colab": {
          "base_uri": "https://localhost:8080/"
        },
        "id": "qywil2-o6Lsw",
        "outputId": "33b19b4a-e55b-45af-e0da-13d85651ec84"
      },
      "source": [
        "s = df.Grade.astype('category')\r\n",
        "s.head()"
      ],
      "execution_count": 5,
      "outputs": [
        {
          "output_type": "execute_result",
          "data": {
            "text/plain": [
              "0     Freshman\n",
              "1     Freshman\n",
              "2       Senior\n",
              "3    Sophomore\n",
              "4    Sophomore\n",
              "Name: Grade, dtype: category\n",
              "Categories (4, object): ['Freshman', 'Junior', 'Senior', 'Sophomore']"
            ]
          },
          "metadata": {
            "tags": []
          },
          "execution_count": 5
        }
      ]
    },
    {
      "cell_type": "markdown",
      "metadata": {
        "id": "wEnzD2Ct6eRt"
      },
      "source": [
        "在一个分类类型的 `Series` 中定义了 `cat` 对象，它和上一章中介绍的 `str` 对象类似，定义了一些属性和方法来进行分类类别的操作。"
      ]
    },
    {
      "cell_type": "code",
      "metadata": {
        "colab": {
          "base_uri": "https://localhost:8080/"
        },
        "id": "OVs-m1LX6Xd2",
        "outputId": "e5ce94de-a674-4ad8-b17e-0754e47a2c5b"
      },
      "source": [
        "s.cat"
      ],
      "execution_count": 6,
      "outputs": [
        {
          "output_type": "execute_result",
          "data": {
            "text/plain": [
              "<pandas.core.arrays.categorical.CategoricalAccessor object at 0x7f6f3a5a9c50>"
            ]
          },
          "metadata": {
            "tags": []
          },
          "execution_count": 6
        }
      ]
    },
    {
      "cell_type": "markdown",
      "metadata": {
        "id": "D6TxPaC26o7Z"
      },
      "source": [
        "对于一个具体的分类，有两个组成部分，其一为类别的本身，它以 `Index` 类型存储，其二为是否有序，它们都可以通过 `cat` 的属性被访问"
      ]
    },
    {
      "cell_type": "code",
      "metadata": {
        "colab": {
          "base_uri": "https://localhost:8080/"
        },
        "id": "u_IctQzg6h_a",
        "outputId": "a3135432-c122-4829-8c20-a2bbdf7681b5"
      },
      "source": [
        "s.cat.categories"
      ],
      "execution_count": 7,
      "outputs": [
        {
          "output_type": "execute_result",
          "data": {
            "text/plain": [
              "Index(['Freshman', 'Junior', 'Senior', 'Sophomore'], dtype='object')"
            ]
          },
          "metadata": {
            "tags": []
          },
          "execution_count": 7
        }
      ]
    },
    {
      "cell_type": "code",
      "metadata": {
        "colab": {
          "base_uri": "https://localhost:8080/"
        },
        "id": "HGo9gLHz6tcy",
        "outputId": "142b7815-29c1-4d83-c09d-8dfbfaa7aa0d"
      },
      "source": [
        "s.cat.ordered"
      ],
      "execution_count": 8,
      "outputs": [
        {
          "output_type": "execute_result",
          "data": {
            "text/plain": [
              "False"
            ]
          },
          "metadata": {
            "tags": []
          },
          "execution_count": 8
        }
      ]
    },
    {
      "cell_type": "markdown",
      "metadata": {
        "id": "zXrRXxCY6zvq"
      },
      "source": [
        "另外，每一个序列的类别会被赋予唯一的整数编号，它们的编号取决于 `cat.categories` 中的顺序，该属性可以通过 `codes` 访问："
      ]
    },
    {
      "cell_type": "code",
      "metadata": {
        "colab": {
          "base_uri": "https://localhost:8080/"
        },
        "id": "11Bd0Q236yFq",
        "outputId": "9b958c0b-c8ab-4bd6-ef78-dfd5b8ff4972"
      },
      "source": [
        "s.cat.codes.head()"
      ],
      "execution_count": 9,
      "outputs": [
        {
          "output_type": "execute_result",
          "data": {
            "text/plain": [
              "0    0\n",
              "1    0\n",
              "2    2\n",
              "3    3\n",
              "4    3\n",
              "dtype: int8"
            ]
          },
          "metadata": {
            "tags": []
          },
          "execution_count": 9
        }
      ]
    },
    {
      "cell_type": "markdown",
      "metadata": {
        "id": "h0m0yjQd7BSF"
      },
      "source": [
        "#### 2. 类别的增加、删除和修改\r\n",
        "\r\n",
        "首先，对于类别的增加可以使用 `add_categories` ："
      ]
    },
    {
      "cell_type": "code",
      "metadata": {
        "colab": {
          "base_uri": "https://localhost:8080/"
        },
        "id": "tm4L35pF63Iv",
        "outputId": "4d93ec23-5971-4edd-8b7d-dc00539166e8"
      },
      "source": [
        "# 增加一个毕业生类别\r\n",
        "s = s.cat.add_categories('Graduate')\r\n",
        "\r\n",
        "s.cat.categories"
      ],
      "execution_count": 11,
      "outputs": [
        {
          "output_type": "execute_result",
          "data": {
            "text/plain": [
              "Index(['Freshman', 'Junior', 'Senior', 'Sophomore', 'Graduate'], dtype='object')"
            ]
          },
          "metadata": {
            "tags": []
          },
          "execution_count": 11
        }
      ]
    },
    {
      "cell_type": "markdown",
      "metadata": {
        "id": "4zIeETTD7WVB"
      },
      "source": [
        "若要删除某一个类别可以使用 `remove_categories` ，同时所有原来序列中的该类会被设置为缺失。"
      ]
    },
    {
      "cell_type": "code",
      "metadata": {
        "colab": {
          "base_uri": "https://localhost:8080/"
        },
        "id": "6iHICyCx6-uQ",
        "outputId": "731802e7-6cf7-4707-fb07-bc35f2b388ec"
      },
      "source": [
        "s = s.cat.remove_categories('Freshman')\r\n",
        "s.cat.categories\r\n",
        "s.head()"
      ],
      "execution_count": 15,
      "outputs": [
        {
          "output_type": "execute_result",
          "data": {
            "text/plain": [
              "0          NaN\n",
              "1          NaN\n",
              "2       Senior\n",
              "3    Sophomore\n",
              "4    Sophomore\n",
              "Name: Grade, dtype: category\n",
              "Categories (4, object): ['Junior', 'Senior', 'Sophomore', 'Graduate']"
            ]
          },
          "metadata": {
            "tags": []
          },
          "execution_count": 15
        }
      ]
    },
    {
      "cell_type": "markdown",
      "metadata": {
        "id": "frbRdKvN7mnG"
      },
      "source": [
        "可以使用 `set_categories` 直接设置序列的新类别，原来的类别中如果存在元素不属于新类别，那么会被设置为缺失。"
      ]
    },
    {
      "cell_type": "code",
      "metadata": {
        "colab": {
          "base_uri": "https://localhost:8080/"
        },
        "id": "j5_drTmN7cKV",
        "outputId": "27394255-09c7-443f-cd4a-53382e89a8d1"
      },
      "source": [
        " # 新类别为大二学生和博士\r\n",
        "s = s.cat.set_categories(['Sophomore','PhD'])\r\n",
        "s.cat.categories"
      ],
      "execution_count": 16,
      "outputs": [
        {
          "output_type": "execute_result",
          "data": {
            "text/plain": [
              "Index(['Sophomore', 'PhD'], dtype='object')"
            ]
          },
          "metadata": {
            "tags": []
          },
          "execution_count": 16
        }
      ]
    },
    {
      "cell_type": "code",
      "metadata": {
        "colab": {
          "base_uri": "https://localhost:8080/"
        },
        "id": "td5e2gYu7xyy",
        "outputId": "45612b2a-1e0a-4f60-905e-2203824d202f"
      },
      "source": [
        "s.head()"
      ],
      "execution_count": 17,
      "outputs": [
        {
          "output_type": "execute_result",
          "data": {
            "text/plain": [
              "0          NaN\n",
              "1          NaN\n",
              "2          NaN\n",
              "3    Sophomore\n",
              "4    Sophomore\n",
              "Name: Grade, dtype: category\n",
              "Categories (2, object): ['Sophomore', 'PhD']"
            ]
          },
          "metadata": {
            "tags": []
          },
          "execution_count": 17
        }
      ]
    },
    {
      "cell_type": "markdown",
      "metadata": {
        "id": "anfv4Mlj7z2F"
      },
      "source": [
        "如果想要删除未出现在序列中的类别，可以使用 `remove_unused_categories` 来实现："
      ]
    },
    {
      "cell_type": "code",
      "metadata": {
        "colab": {
          "base_uri": "https://localhost:8080/"
        },
        "id": "rfWPfF-G7ynb",
        "outputId": "f9792c14-e956-4eff-80d5-f66783e4b5f6"
      },
      "source": [
        "# 移除了未出现的博士生类别\r\n",
        "s = s.cat.remove_unused_categories() \r\n",
        "s.cat.categories"
      ],
      "execution_count": 18,
      "outputs": [
        {
          "output_type": "execute_result",
          "data": {
            "text/plain": [
              "Index(['Sophomore'], dtype='object')"
            ]
          },
          "metadata": {
            "tags": []
          },
          "execution_count": 18
        }
      ]
    },
    {
      "cell_type": "markdown",
      "metadata": {
        "id": "MZWdLFhA7_CH"
      },
      "source": [
        "修改操作可以通过 `rename_categories` 方法完成，同时需要注意的是，这个方法会对原序列的对应值也进行相应修改。"
      ]
    },
    {
      "cell_type": "code",
      "metadata": {
        "colab": {
          "base_uri": "https://localhost:8080/"
        },
        "id": "wMh0f96475-_",
        "outputId": "42cf1da0-4638-4b3f-fac3-bd6fc59474e8"
      },
      "source": [
        "s = s.cat.rename_categories({'Sophomore':'本科二年级学生'})\r\n",
        "s.head()"
      ],
      "execution_count": 19,
      "outputs": [
        {
          "output_type": "execute_result",
          "data": {
            "text/plain": [
              "0        NaN\n",
              "1        NaN\n",
              "2        NaN\n",
              "3    本科二年级学生\n",
              "4    本科二年级学生\n",
              "Name: Grade, dtype: category\n",
              "Categories (1, object): ['本科二年级学生']"
            ]
          },
          "metadata": {
            "tags": []
          },
          "execution_count": 19
        }
      ]
    },
    {
      "cell_type": "markdown",
      "metadata": {
        "id": "j8iklRSQ8Q1l"
      },
      "source": [
        "### 二、有序分类\r\n",
        "#### 1. 序的建立\r\n",
        "有序类别和无序类别可以通过 `as_unordered` 和 `reorder_categories` 互相转化，需要注意的是后者传入的参数必须是由当前序列的无需类别构成的列表，不能够增加新的类别，也不能缺少原来的类别，并且必须指定参数 `ordered=True` ，否则方法无效。"
      ]
    },
    {
      "cell_type": "code",
      "metadata": {
        "id": "9EsfrIDU8GF9"
      },
      "source": [
        "# 对年纪高低进行相对大小的类别划分吗，然后再恢复无序状态\r\n",
        "s = df.Grade.astype('category')\r\n",
        "s = s.cat.reorder_categories(['Freshman', 'Sophomore',\r\n",
        "                 'Junior', 'Senior'],ordered=True)"
      ],
      "execution_count": 20,
      "outputs": []
    },
    {
      "cell_type": "code",
      "metadata": {
        "colab": {
          "base_uri": "https://localhost:8080/"
        },
        "id": "BSqF0gtK8igR",
        "outputId": "b4515265-44ca-4c8c-e0fc-a4d8d6ff5030"
      },
      "source": [
        "s.head()"
      ],
      "execution_count": 21,
      "outputs": [
        {
          "output_type": "execute_result",
          "data": {
            "text/plain": [
              "0     Freshman\n",
              "1     Freshman\n",
              "2       Senior\n",
              "3    Sophomore\n",
              "4    Sophomore\n",
              "Name: Grade, dtype: category\n",
              "Categories (4, object): ['Freshman' < 'Sophomore' < 'Junior' < 'Senior']"
            ]
          },
          "metadata": {
            "tags": []
          },
          "execution_count": 21
        }
      ]
    },
    {
      "cell_type": "code",
      "metadata": {
        "colab": {
          "base_uri": "https://localhost:8080/"
        },
        "id": "wE85Q3CG8j1d",
        "outputId": "a38902e5-27a6-41b7-8e32-b16385ad750a"
      },
      "source": [
        "s.cat.as_unordered().head()"
      ],
      "execution_count": 22,
      "outputs": [
        {
          "output_type": "execute_result",
          "data": {
            "text/plain": [
              "0     Freshman\n",
              "1     Freshman\n",
              "2       Senior\n",
              "3    Sophomore\n",
              "4    Sophomore\n",
              "Name: Grade, dtype: category\n",
              "Categories (4, object): ['Freshman', 'Sophomore', 'Junior', 'Senior']"
            ]
          },
          "metadata": {
            "tags": []
          },
          "execution_count": 22
        }
      ]
    },
    {
      "cell_type": "markdown",
      "metadata": {
        "id": "hMaduIl98ydp"
      },
      "source": [
        "> 如果不想指定 ordered=True 参数，那么可以先用 s.cat.as_ordered() 转化为有序类别，再利用 reorder_categories 进行具体的相对大小调整。"
      ]
    },
    {
      "cell_type": "markdown",
      "metadata": {
        "id": "9P3gH5zg80Wg"
      },
      "source": [
        "#### 2. 排序和比较\r\n",
        "分类变量的排序：只需把列的类型修改为 `category` 后，再赋予相应的大小关系，就能正常地使用 `sort_index` 和 `sort_values` 。"
      ]
    },
    {
      "cell_type": "code",
      "metadata": {
        "id": "X4UMj8ex8tjb"
      },
      "source": [
        "df.Grade = df.Grade.astype('category')\r\n",
        "df.Grade = df.Grade.cat.reorder_categories(['Freshman',\r\n",
        "                        'Sophomore',\r\n",
        "                        'Junior',\r\n",
        "                        'Senior'],ordered=True)"
      ],
      "execution_count": 23,
      "outputs": []
    },
    {
      "cell_type": "code",
      "metadata": {
        "colab": {
          "base_uri": "https://localhost:8080/",
          "height": 197
        },
        "id": "QM6paEW09DJu",
        "outputId": "e92145ad-710c-4f17-bdbc-499e69bc2c4e"
      },
      "source": [
        "# 值排序\r\n",
        "df.sort_values('Grade').head() "
      ],
      "execution_count": 24,
      "outputs": [
        {
          "output_type": "execute_result",
          "data": {
            "text/html": [
              "<div>\n",
              "<style scoped>\n",
              "    .dataframe tbody tr th:only-of-type {\n",
              "        vertical-align: middle;\n",
              "    }\n",
              "\n",
              "    .dataframe tbody tr th {\n",
              "        vertical-align: top;\n",
              "    }\n",
              "\n",
              "    .dataframe thead th {\n",
              "        text-align: right;\n",
              "    }\n",
              "</style>\n",
              "<table border=\"1\" class=\"dataframe\">\n",
              "  <thead>\n",
              "    <tr style=\"text-align: right;\">\n",
              "      <th></th>\n",
              "      <th>Grade</th>\n",
              "      <th>Name</th>\n",
              "      <th>Gender</th>\n",
              "      <th>Height</th>\n",
              "      <th>Weight</th>\n",
              "    </tr>\n",
              "  </thead>\n",
              "  <tbody>\n",
              "    <tr>\n",
              "      <th>0</th>\n",
              "      <td>Freshman</td>\n",
              "      <td>Gaopeng Yang</td>\n",
              "      <td>Female</td>\n",
              "      <td>158.9</td>\n",
              "      <td>46.0</td>\n",
              "    </tr>\n",
              "    <tr>\n",
              "      <th>105</th>\n",
              "      <td>Freshman</td>\n",
              "      <td>Qiang Shi</td>\n",
              "      <td>Female</td>\n",
              "      <td>164.5</td>\n",
              "      <td>52.0</td>\n",
              "    </tr>\n",
              "    <tr>\n",
              "      <th>96</th>\n",
              "      <td>Freshman</td>\n",
              "      <td>Changmei Feng</td>\n",
              "      <td>Female</td>\n",
              "      <td>163.8</td>\n",
              "      <td>56.0</td>\n",
              "    </tr>\n",
              "    <tr>\n",
              "      <th>88</th>\n",
              "      <td>Freshman</td>\n",
              "      <td>Xiaopeng Han</td>\n",
              "      <td>Female</td>\n",
              "      <td>164.1</td>\n",
              "      <td>53.0</td>\n",
              "    </tr>\n",
              "    <tr>\n",
              "      <th>81</th>\n",
              "      <td>Freshman</td>\n",
              "      <td>Yanli Zhang</td>\n",
              "      <td>Female</td>\n",
              "      <td>165.1</td>\n",
              "      <td>52.0</td>\n",
              "    </tr>\n",
              "  </tbody>\n",
              "</table>\n",
              "</div>"
            ],
            "text/plain": [
              "        Grade           Name  Gender  Height  Weight\n",
              "0    Freshman   Gaopeng Yang  Female   158.9    46.0\n",
              "105  Freshman      Qiang Shi  Female   164.5    52.0\n",
              "96   Freshman  Changmei Feng  Female   163.8    56.0\n",
              "88   Freshman   Xiaopeng Han  Female   164.1    53.0\n",
              "81   Freshman    Yanli Zhang  Female   165.1    52.0"
            ]
          },
          "metadata": {
            "tags": []
          },
          "execution_count": 24
        }
      ]
    },
    {
      "cell_type": "code",
      "metadata": {
        "colab": {
          "base_uri": "https://localhost:8080/",
          "height": 227
        },
        "id": "AbHebeFo9FTt",
        "outputId": "e0af4ae4-1367-4e0a-dab0-86ffa88272e3"
      },
      "source": [
        "# 索引排序\r\n",
        "df.set_index('Grade').sort_index().head() "
      ],
      "execution_count": 25,
      "outputs": [
        {
          "output_type": "execute_result",
          "data": {
            "text/html": [
              "<div>\n",
              "<style scoped>\n",
              "    .dataframe tbody tr th:only-of-type {\n",
              "        vertical-align: middle;\n",
              "    }\n",
              "\n",
              "    .dataframe tbody tr th {\n",
              "        vertical-align: top;\n",
              "    }\n",
              "\n",
              "    .dataframe thead th {\n",
              "        text-align: right;\n",
              "    }\n",
              "</style>\n",
              "<table border=\"1\" class=\"dataframe\">\n",
              "  <thead>\n",
              "    <tr style=\"text-align: right;\">\n",
              "      <th></th>\n",
              "      <th>Name</th>\n",
              "      <th>Gender</th>\n",
              "      <th>Height</th>\n",
              "      <th>Weight</th>\n",
              "    </tr>\n",
              "    <tr>\n",
              "      <th>Grade</th>\n",
              "      <th></th>\n",
              "      <th></th>\n",
              "      <th></th>\n",
              "      <th></th>\n",
              "    </tr>\n",
              "  </thead>\n",
              "  <tbody>\n",
              "    <tr>\n",
              "      <th>Freshman</th>\n",
              "      <td>Gaopeng Yang</td>\n",
              "      <td>Female</td>\n",
              "      <td>158.9</td>\n",
              "      <td>46.0</td>\n",
              "    </tr>\n",
              "    <tr>\n",
              "      <th>Freshman</th>\n",
              "      <td>Qiang Shi</td>\n",
              "      <td>Female</td>\n",
              "      <td>164.5</td>\n",
              "      <td>52.0</td>\n",
              "    </tr>\n",
              "    <tr>\n",
              "      <th>Freshman</th>\n",
              "      <td>Changmei Feng</td>\n",
              "      <td>Female</td>\n",
              "      <td>163.8</td>\n",
              "      <td>56.0</td>\n",
              "    </tr>\n",
              "    <tr>\n",
              "      <th>Freshman</th>\n",
              "      <td>Xiaopeng Han</td>\n",
              "      <td>Female</td>\n",
              "      <td>164.1</td>\n",
              "      <td>53.0</td>\n",
              "    </tr>\n",
              "    <tr>\n",
              "      <th>Freshman</th>\n",
              "      <td>Yanli Zhang</td>\n",
              "      <td>Female</td>\n",
              "      <td>165.1</td>\n",
              "      <td>52.0</td>\n",
              "    </tr>\n",
              "  </tbody>\n",
              "</table>\n",
              "</div>"
            ],
            "text/plain": [
              "                   Name  Gender  Height  Weight\n",
              "Grade                                          \n",
              "Freshman   Gaopeng Yang  Female   158.9    46.0\n",
              "Freshman      Qiang Shi  Female   164.5    52.0\n",
              "Freshman  Changmei Feng  Female   163.8    56.0\n",
              "Freshman   Xiaopeng Han  Female   164.1    53.0\n",
              "Freshman    Yanli Zhang  Female   165.1    52.0"
            ]
          },
          "metadata": {
            "tags": []
          },
          "execution_count": 25
        }
      ]
    },
    {
      "cell_type": "markdown",
      "metadata": {
        "id": "iLvMQ6Cm9IRs"
      },
      "source": [
        "由于序的建立，因此就可以进行比较操作。分类变量的比较操作分为两类，第一种是 `==` 或 `!=` 关系的比较，比较的对象可以是标量或者同长度的 `Series` （或 `list` ），第二种是 `>,>=,<,<=` 四类大小关系的比较，比较的对象和第一种类似，但是所有参与比较的元素必须属于原序列的 `categories` ，同时要和原序列具有相同的索引。"
      ]
    },
    {
      "cell_type": "code",
      "metadata": {
        "colab": {
          "base_uri": "https://localhost:8080/"
        },
        "id": "nuehn3A39HKK",
        "outputId": "2537757d-da89-449e-ca82-b3fcea858f45"
      },
      "source": [
        "res1 = df.Grade == 'Sophomore'\r\n",
        "res1.head()"
      ],
      "execution_count": 26,
      "outputs": [
        {
          "output_type": "execute_result",
          "data": {
            "text/plain": [
              "0    False\n",
              "1    False\n",
              "2    False\n",
              "3     True\n",
              "4     True\n",
              "Name: Grade, dtype: bool"
            ]
          },
          "metadata": {
            "tags": []
          },
          "execution_count": 26
        }
      ]
    },
    {
      "cell_type": "code",
      "metadata": {
        "id": "VyPr_2_09RLx"
      },
      "source": [
        "res2 = df.Grade == ['PhD']*df.shape[0]"
      ],
      "execution_count": 27,
      "outputs": []
    },
    {
      "cell_type": "code",
      "metadata": {
        "colab": {
          "base_uri": "https://localhost:8080/"
        },
        "id": "Ib125YFr9SQU",
        "outputId": "529afec1-888b-4fa9-a11a-1e89cdcb4ecc"
      },
      "source": [
        "res2.head()"
      ],
      "execution_count": 28,
      "outputs": [
        {
          "output_type": "execute_result",
          "data": {
            "text/plain": [
              "0    False\n",
              "1    False\n",
              "2    False\n",
              "3    False\n",
              "4    False\n",
              "Name: Grade, dtype: bool"
            ]
          },
          "metadata": {
            "tags": []
          },
          "execution_count": 28
        }
      ]
    },
    {
      "cell_type": "code",
      "metadata": {
        "colab": {
          "base_uri": "https://localhost:8080/"
        },
        "id": "8nmgaGFk9TTK",
        "outputId": "2ed73b93-0b46-4f21-f0f1-b9505845c35c"
      },
      "source": [
        "res3 = df.Grade <= 'Sophomore'\r\n",
        "res3.head()"
      ],
      "execution_count": 29,
      "outputs": [
        {
          "output_type": "execute_result",
          "data": {
            "text/plain": [
              "0     True\n",
              "1     True\n",
              "2    False\n",
              "3     True\n",
              "4     True\n",
              "Name: Grade, dtype: bool"
            ]
          },
          "metadata": {
            "tags": []
          },
          "execution_count": 29
        }
      ]
    },
    {
      "cell_type": "code",
      "metadata": {
        "id": "bzxoOJjU9VZq"
      },
      "source": [
        "# 打乱后比较\r\n",
        "res4 = df.Grade <= df.Grade.sample(\r\n",
        "              frac=1).reset_index(\r\n",
        "              drop=True) "
      ],
      "execution_count": 30,
      "outputs": []
    },
    {
      "cell_type": "code",
      "metadata": {
        "colab": {
          "base_uri": "https://localhost:8080/"
        },
        "id": "zg6GEm489ZUX",
        "outputId": "1ce696d3-7626-4f08-e9b1-d5cbc4ec9400"
      },
      "source": [
        "res4.head()"
      ],
      "execution_count": 31,
      "outputs": [
        {
          "output_type": "execute_result",
          "data": {
            "text/plain": [
              "0    True\n",
              "1    True\n",
              "2    True\n",
              "3    True\n",
              "4    True\n",
              "Name: Grade, dtype: bool"
            ]
          },
          "metadata": {
            "tags": []
          },
          "execution_count": 31
        }
      ]
    },
    {
      "cell_type": "markdown",
      "metadata": {
        "id": "g1gAyXg19bpm"
      },
      "source": [
        "### 三、区间类别\r\n",
        "#### 1. 利用cut和qcut进行区间构造\r\n",
        "区间是一种特殊的类别，在实际数据分析中，区间序列往往是通过 `cut` 和 `qcut` 方法进行构造的，这两个函数能够把原序列的数值特征进行装箱，即用区间位置来代替原来的具体数值。\r\n",
        "\r\n",
        "`cut` 的常见用法：\r\n",
        "\r\n",
        "其中，最重要的参数是 `bin` ，如果传入整数 `n` ，则代表把整个传入数组的按照最大和最小值等间距地分为 `n` 段。由于区间默认是左开右闭，需要进行调整把最小值包含进去，在 `pandas` 中的解决方案是在值最小的区间左端点再减去 `0.001*(max-min)` ，因此如果对序列 `[1,2]` 划分为`2`个箱子时，第一个箱子的范围 `(0.999,1.5]` ，第二个箱子的范围是 `(1.5,2]` 。如果需要指定左闭右开时，需要把 `right` 参数设置为 `False` ，相应的区间调整方法是在值最大的区间右端点再加上 `0.001*(max-min)` 。"
      ]
    },
    {
      "cell_type": "code",
      "metadata": {
        "colab": {
          "base_uri": "https://localhost:8080/"
        },
        "id": "zoq-ItKt9azM",
        "outputId": "749b22dd-9822-4528-85a4-04f44557b21c"
      },
      "source": [
        "s = pd.Series([1,2])\r\n",
        "pd.cut(s, bins=2)"
      ],
      "execution_count": 32,
      "outputs": [
        {
          "output_type": "execute_result",
          "data": {
            "text/plain": [
              "0    (0.999, 1.5]\n",
              "1      (1.5, 2.0]\n",
              "dtype: category\n",
              "Categories (2, interval[float64]): [(0.999, 1.5] < (1.5, 2.0]]"
            ]
          },
          "metadata": {
            "tags": []
          },
          "execution_count": 32
        }
      ]
    },
    {
      "cell_type": "code",
      "metadata": {
        "colab": {
          "base_uri": "https://localhost:8080/"
        },
        "id": "cTOhn9LV9w8G",
        "outputId": "0eaa3197-7560-42c8-bdfa-6edd72c769a8"
      },
      "source": [
        "pd.cut(s, bins=2, right=False)"
      ],
      "execution_count": 33,
      "outputs": [
        {
          "output_type": "execute_result",
          "data": {
            "text/plain": [
              "0      [1.0, 1.5)\n",
              "1    [1.5, 2.001)\n",
              "dtype: category\n",
              "Categories (2, interval[float64]): [[1.0, 1.5) < [1.5, 2.001)]"
            ]
          },
          "metadata": {
            "tags": []
          },
          "execution_count": 33
        }
      ]
    },
    {
      "cell_type": "markdown",
      "metadata": {
        "id": "rdw-MseE9zEi"
      },
      "source": [
        "`bins` 的另一个常见用法是指定区间分割点的列表（使用 `np.infty` 可以表示无穷大）："
      ]
    },
    {
      "cell_type": "code",
      "metadata": {
        "colab": {
          "base_uri": "https://localhost:8080/"
        },
        "id": "CSR8nuPL9yHp",
        "outputId": "f648e42d-858f-45d1-f6de-66197be32474"
      },
      "source": [
        "pd.cut(s, bins=[-np.infty, 1.2, 1.8, 2.2, np.infty])"
      ],
      "execution_count": 34,
      "outputs": [
        {
          "output_type": "execute_result",
          "data": {
            "text/plain": [
              "0    (-inf, 1.2]\n",
              "1     (1.8, 2.2]\n",
              "dtype: category\n",
              "Categories (4, interval[float64]): [(-inf, 1.2] < (1.2, 1.8] < (1.8, 2.2] < (2.2, inf]]"
            ]
          },
          "metadata": {
            "tags": []
          },
          "execution_count": 34
        }
      ]
    },
    {
      "cell_type": "markdown",
      "metadata": {
        "id": "jj72Q9NE922y"
      },
      "source": [
        "另外两个常用参数为 `labels` 和 `retbins` ，分别代表了区间的名字和是否返回分割点（默认不返回）"
      ]
    },
    {
      "cell_type": "code",
      "metadata": {
        "colab": {
          "base_uri": "https://localhost:8080/"
        },
        "id": "cBBr8Bk6916R",
        "outputId": "1099a857-c8ca-407a-9e28-d6766af7e5c0"
      },
      "source": [
        "s = pd.Series([1,2])\r\n",
        "res = pd.cut(s, bins=2, labels=['small', 'big'], retbins=True)\r\n",
        "res[0]"
      ],
      "execution_count": 35,
      "outputs": [
        {
          "output_type": "execute_result",
          "data": {
            "text/plain": [
              "0    small\n",
              "1      big\n",
              "dtype: category\n",
              "Categories (2, object): ['small' < 'big']"
            ]
          },
          "metadata": {
            "tags": []
          },
          "execution_count": 35
        }
      ]
    },
    {
      "cell_type": "code",
      "metadata": {
        "colab": {
          "base_uri": "https://localhost:8080/"
        },
        "id": "_WGPJEaZ98bA",
        "outputId": "eee5816e-2ba7-4c18-f923-9b8e2d3eb5f3"
      },
      "source": [
        "res[1]"
      ],
      "execution_count": 36,
      "outputs": [
        {
          "output_type": "execute_result",
          "data": {
            "text/plain": [
              "array([0.999, 1.5  , 2.   ])"
            ]
          },
          "metadata": {
            "tags": []
          },
          "execution_count": 36
        }
      ]
    },
    {
      "cell_type": "markdown",
      "metadata": {
        "id": "2EX92eAG-Aad"
      },
      "source": [
        "从用法上来说， `qcut` 和 `cut` 几乎没有差别，只是把 `bins` 参数变成的 `q` 参数， `qcut` 中的 `q` 是指 `quantile` 。这里的 `q` 为整数 `n` 时，指按照 `n` 等分位数把数据分箱，还可以传入浮点列表指代相应的分位数分割点。"
      ]
    },
    {
      "cell_type": "code",
      "metadata": {
        "colab": {
          "base_uri": "https://localhost:8080/"
        },
        "id": "7l7-IyFM993M",
        "outputId": "6f1a8901-e36c-49de-cae7-8e27a1290537"
      },
      "source": [
        "s = df.Weight\r\n",
        "pd.qcut(s, q=3).head()"
      ],
      "execution_count": 37,
      "outputs": [
        {
          "output_type": "execute_result",
          "data": {
            "text/plain": [
              "0    (33.999, 48.0]\n",
              "1      (55.0, 89.0]\n",
              "2      (55.0, 89.0]\n",
              "3    (33.999, 48.0]\n",
              "4      (55.0, 89.0]\n",
              "Name: Weight, dtype: category\n",
              "Categories (3, interval[float64]): [(33.999, 48.0] < (48.0, 55.0] < (55.0, 89.0]]"
            ]
          },
          "metadata": {
            "tags": []
          },
          "execution_count": 37
        }
      ]
    },
    {
      "cell_type": "code",
      "metadata": {
        "colab": {
          "base_uri": "https://localhost:8080/"
        },
        "id": "eRBgu6nV-H5b",
        "outputId": "347dbe1a-35e0-4551-8f43-3004b13dca54"
      },
      "source": [
        "pd.qcut(s, q=[0,0.2,0.8,1]).head()"
      ],
      "execution_count": 38,
      "outputs": [
        {
          "output_type": "execute_result",
          "data": {
            "text/plain": [
              "0      (44.0, 69.4]\n",
              "1      (69.4, 89.0]\n",
              "2      (69.4, 89.0]\n",
              "3    (33.999, 44.0]\n",
              "4      (69.4, 89.0]\n",
              "Name: Weight, dtype: category\n",
              "Categories (3, interval[float64]): [(33.999, 44.0] < (44.0, 69.4] < (69.4, 89.0]]"
            ]
          },
          "metadata": {
            "tags": []
          },
          "execution_count": 38
        }
      ]
    },
    {
      "cell_type": "markdown",
      "metadata": {
        "id": "2xIctCsM-J02"
      },
      "source": [
        "#### 2. 一般区间的构造\r\n",
        "对于某一个具体的区间而言，其具备三个要素，即左端点、右端点和端点的开闭状态，其中开闭状态可以指定 `right, left, both, neither` 中的一类："
      ]
    },
    {
      "cell_type": "code",
      "metadata": {
        "colab": {
          "base_uri": "https://localhost:8080/"
        },
        "id": "vj6nz8ho-JV0",
        "outputId": "c95250e8-2ee7-40d5-f202-ffe19289bdf7"
      },
      "source": [
        "my_interval = pd.Interval(0, 1, 'right')\r\n",
        "my_interval"
      ],
      "execution_count": 39,
      "outputs": [
        {
          "output_type": "execute_result",
          "data": {
            "text/plain": [
              "Interval(0, 1, closed='right')"
            ]
          },
          "metadata": {
            "tags": []
          },
          "execution_count": 39
        }
      ]
    },
    {
      "cell_type": "markdown",
      "metadata": {
        "id": "-B3GYILT-SHS"
      },
      "source": [
        "其属性包含了 `mid, length, right, left, closed` ，分别表示中点、长度、右端点、左端点和开闭状态。\r\n",
        "\r\n",
        "使用 `in` 可以判断元素是否属于区间："
      ]
    },
    {
      "cell_type": "code",
      "metadata": {
        "colab": {
          "base_uri": "https://localhost:8080/"
        },
        "id": "71YpR4VD-RKX",
        "outputId": "b1e59650-5639-4078-a07a-8f8394a3a9df"
      },
      "source": [
        "0.5 in my_interval"
      ],
      "execution_count": 40,
      "outputs": [
        {
          "output_type": "execute_result",
          "data": {
            "text/plain": [
              "True"
            ]
          },
          "metadata": {
            "tags": []
          },
          "execution_count": 40
        }
      ]
    },
    {
      "cell_type": "markdown",
      "metadata": {
        "id": "ZDD7cCyT-Vs0"
      },
      "source": [
        "使用 `overlaps` 可以判断两个区间是否有交集："
      ]
    },
    {
      "cell_type": "code",
      "metadata": {
        "id": "uad4jRj3-U4D"
      },
      "source": [
        "my_interval_2 = pd.Interval(0.5, 1.5, 'left')"
      ],
      "execution_count": 41,
      "outputs": []
    },
    {
      "cell_type": "code",
      "metadata": {
        "colab": {
          "base_uri": "https://localhost:8080/"
        },
        "id": "c5_DWo4S-Xlk",
        "outputId": "2b00538e-6c0e-4df0-e3e6-3403a4909456"
      },
      "source": [
        "my_interval.overlaps(my_interval_2)"
      ],
      "execution_count": 42,
      "outputs": [
        {
          "output_type": "execute_result",
          "data": {
            "text/plain": [
              "True"
            ]
          },
          "metadata": {
            "tags": []
          },
          "execution_count": 42
        }
      ]
    },
    {
      "cell_type": "markdown",
      "metadata": {
        "id": "qPJfEQ2J-ZxS"
      },
      "source": [
        "一般而言， `pd.IntervalIndex` 对象有四类方法生成，分别是 `from_breaks, from_arrays, from_tuples, interval_range` ，它们分别应用于不同的情况：\r\n",
        "\r\n",
        "`from_breaks` 的功能类似于 `cut` 或 `qcut` 函数，只不过后两个是通过计算得到的风格点，而前者是直接传入自定义的分割点："
      ]
    },
    {
      "cell_type": "code",
      "metadata": {
        "colab": {
          "base_uri": "https://localhost:8080/"
        },
        "id": "N7whljsr-Yqr",
        "outputId": "1f4a3fb2-dbbf-48e5-ac8a-79bda278ca85"
      },
      "source": [
        "pd.IntervalIndex.from_breaks([1,3,6,10], closed='both')"
      ],
      "execution_count": 43,
      "outputs": [
        {
          "output_type": "execute_result",
          "data": {
            "text/plain": [
              "IntervalIndex([[1, 3], [3, 6], [6, 10]],\n",
              "              closed='both',\n",
              "              dtype='interval[int64]')"
            ]
          },
          "metadata": {
            "tags": []
          },
          "execution_count": 43
        }
      ]
    },
    {
      "cell_type": "markdown",
      "metadata": {
        "id": "EN7wi2Xc-f9e"
      },
      "source": [
        "`from_arrays` 是分别传入左端点和右端点的列表，适用于有交集并且知道起点和终点的情况："
      ]
    },
    {
      "cell_type": "code",
      "metadata": {
        "colab": {
          "base_uri": "https://localhost:8080/"
        },
        "id": "PsgoYplr-e2A",
        "outputId": "ebceaec6-a8eb-420e-8291-77b521482936"
      },
      "source": [
        "pd.IntervalIndex.from_arrays(left = [1,3,6,10],\r\n",
        "                right = [5,4,9,11],\r\n",
        "                closed = 'neither')"
      ],
      "execution_count": 44,
      "outputs": [
        {
          "output_type": "execute_result",
          "data": {
            "text/plain": [
              "IntervalIndex([(1, 5), (3, 4), (6, 9), (10, 11)],\n",
              "              closed='neither',\n",
              "              dtype='interval[int64]')"
            ]
          },
          "metadata": {
            "tags": []
          },
          "execution_count": 44
        }
      ]
    },
    {
      "cell_type": "markdown",
      "metadata": {
        "id": "1Vy4qDnV-mIu"
      },
      "source": [
        "`from_tuples` 传入的是起点和终点元组构成的列表："
      ]
    },
    {
      "cell_type": "code",
      "metadata": {
        "colab": {
          "base_uri": "https://localhost:8080/"
        },
        "id": "4dtTNc6z-kyq",
        "outputId": "af795d31-63dd-48db-fa08-aec4ec6be45f"
      },
      "source": [
        "pd.IntervalIndex.from_tuples([(1,5),(3,4),(6,9),(10,11)],\r\n",
        "                  closed='neither')"
      ],
      "execution_count": 45,
      "outputs": [
        {
          "output_type": "execute_result",
          "data": {
            "text/plain": [
              "IntervalIndex([(1, 5), (3, 4), (6, 9), (10, 11)],\n",
              "              closed='neither',\n",
              "              dtype='interval[int64]')"
            ]
          },
          "metadata": {
            "tags": []
          },
          "execution_count": 45
        }
      ]
    },
    {
      "cell_type": "markdown",
      "metadata": {
        "id": "rilAUhy2-p6m"
      },
      "source": [
        "一个等差的区间序列由起点、终点、区间个数和区间长度决定，其中三个量确定的情况下，剩下一个量就确定了， `interval_range` 中的 `start, end, periods, freq`参数就对应了这四个量，从而就能构造出相应的区间："
      ]
    },
    {
      "cell_type": "code",
      "metadata": {
        "colab": {
          "base_uri": "https://localhost:8080/"
        },
        "id": "I6-bPoFw-oxN",
        "outputId": "d6171302-28a4-4fc6-f792-15e3078a28fc"
      },
      "source": [
        "pd.interval_range(start=1,end=5,periods=8)"
      ],
      "execution_count": 46,
      "outputs": [
        {
          "output_type": "execute_result",
          "data": {
            "text/plain": [
              "IntervalIndex([(1.0, 1.5], (1.5, 2.0], (2.0, 2.5], (2.5, 3.0], (3.0, 3.5], (3.5, 4.0], (4.0, 4.5], (4.5, 5.0]],\n",
              "              closed='right',\n",
              "              dtype='interval[float64]')"
            ]
          },
          "metadata": {
            "tags": []
          },
          "execution_count": 46
        }
      ]
    },
    {
      "cell_type": "code",
      "metadata": {
        "colab": {
          "base_uri": "https://localhost:8080/"
        },
        "id": "JmMJ8VJ3-tIl",
        "outputId": "b2a966ef-fc1c-4b7b-83d4-5b42dba0bf13"
      },
      "source": [
        "pd.interval_range(end=5,periods=8,freq=0.5)"
      ],
      "execution_count": 47,
      "outputs": [
        {
          "output_type": "execute_result",
          "data": {
            "text/plain": [
              "IntervalIndex([(1.0, 1.5], (1.5, 2.0], (2.0, 2.5], (2.5, 3.0], (3.0, 3.5], (3.5, 4.0], (4.0, 4.5], (4.5, 5.0]],\n",
              "              closed='right',\n",
              "              dtype='interval[float64]')"
            ]
          },
          "metadata": {
            "tags": []
          },
          "execution_count": 47
        }
      ]
    },
    {
      "cell_type": "markdown",
      "metadata": {
        "id": "u772wutM-v-j"
      },
      "source": [
        "如果直接使用 `pd.IntervalIndex([...], closed=...)` ，把 `Interval` 类型的列表组成传入其中转为区间索引，那么所有的区间会被强制转为指定的 `closed` 类型，因为 pd.`IntervalIndex` 只允许存放同一种开闭区间的 `Interval` 对象。"
      ]
    },
    {
      "cell_type": "code",
      "metadata": {
        "colab": {
          "base_uri": "https://localhost:8080/"
        },
        "id": "Mos4Larm-ueN",
        "outputId": "8d5f0f6d-2924-410e-cd94-aea9283c45aa"
      },
      "source": [
        "pd.IntervalIndex([my_interval, my_interval_2], closed='left')"
      ],
      "execution_count": 48,
      "outputs": [
        {
          "output_type": "execute_result",
          "data": {
            "text/plain": [
              "IntervalIndex([[0.0, 1.0), [0.5, 1.5)],\n",
              "              closed='left',\n",
              "              dtype='interval[float64]')"
            ]
          },
          "metadata": {
            "tags": []
          },
          "execution_count": 48
        }
      ]
    },
    {
      "cell_type": "markdown",
      "metadata": {
        "id": "jPNVCv_h-1rF"
      },
      "source": [
        "#### 3. 区间的属性与方法\r\n",
        "`IntervalIndex` 上也定义了一些有用的属性和方法。同时，如果想要具体利用 `cut` 或者 `qcut` 的结果进行分析，那么需要先将其转为该种索引类型：\r\n"
      ]
    },
    {
      "cell_type": "code",
      "metadata": {
        "id": "FGwSd-xT-1Km"
      },
      "source": [
        "id_interval = pd.IntervalIndex(pd.cut(s, 3))"
      ],
      "execution_count": 49,
      "outputs": []
    },
    {
      "cell_type": "markdown",
      "metadata": {
        "id": "xeWBWUDq-8Ek"
      },
      "source": [
        "与单个 `Interval` 类型相似， `IntervalIndex` 有若干常用属性： `left, right, mid, length` ，分别表示左右端点、两端点均值和区间长度。"
      ]
    },
    {
      "cell_type": "code",
      "metadata": {
        "id": "SlpbpcU6-63z"
      },
      "source": [
        "# 选出前5个展示\r\n",
        "id_demo = id_interval[:5] "
      ],
      "execution_count": 50,
      "outputs": []
    },
    {
      "cell_type": "code",
      "metadata": {
        "colab": {
          "base_uri": "https://localhost:8080/"
        },
        "id": "Ha0fsGSC-_0Q",
        "outputId": "bc6cd6bf-6823-4a0f-818e-a76bdf8aab79"
      },
      "source": [
        "id_demo"
      ],
      "execution_count": 51,
      "outputs": [
        {
          "output_type": "execute_result",
          "data": {
            "text/plain": [
              "IntervalIndex([(33.945, 52.333], (52.333, 70.667], (70.667, 89.0], (33.945, 52.333], (70.667, 89.0]],\n",
              "              closed='right',\n",
              "              name='Weight',\n",
              "              dtype='interval[float64]')"
            ]
          },
          "metadata": {
            "tags": []
          },
          "execution_count": 51
        }
      ]
    },
    {
      "cell_type": "code",
      "metadata": {
        "colab": {
          "base_uri": "https://localhost:8080/"
        },
        "id": "nmAT5ifI_AyT",
        "outputId": "71ef39cd-749e-40c9-9449-769fc3f1cc96"
      },
      "source": [
        "id_demo.left"
      ],
      "execution_count": 52,
      "outputs": [
        {
          "output_type": "execute_result",
          "data": {
            "text/plain": [
              "Float64Index([33.945, 52.333, 70.667, 33.945, 70.667], dtype='float64')"
            ]
          },
          "metadata": {
            "tags": []
          },
          "execution_count": 52
        }
      ]
    },
    {
      "cell_type": "code",
      "metadata": {
        "colab": {
          "base_uri": "https://localhost:8080/"
        },
        "id": "7tYJADS7_CrW",
        "outputId": "d3988947-f690-413f-a2df-000e11c7a5a1"
      },
      "source": [
        "id_demo.right"
      ],
      "execution_count": 53,
      "outputs": [
        {
          "output_type": "execute_result",
          "data": {
            "text/plain": [
              "Float64Index([52.333, 70.667, 89.0, 52.333, 89.0], dtype='float64')"
            ]
          },
          "metadata": {
            "tags": []
          },
          "execution_count": 53
        }
      ]
    },
    {
      "cell_type": "code",
      "metadata": {
        "colab": {
          "base_uri": "https://localhost:8080/"
        },
        "id": "K0398GAk_D2l",
        "outputId": "ab0b1f25-904e-414c-96c6-ce02450160bf"
      },
      "source": [
        "id_demo.mid"
      ],
      "execution_count": 54,
      "outputs": [
        {
          "output_type": "execute_result",
          "data": {
            "text/plain": [
              "Float64Index([43.138999999999996, 61.5, 79.8335, 43.138999999999996, 79.8335], dtype='float64')"
            ]
          },
          "metadata": {
            "tags": []
          },
          "execution_count": 54
        }
      ]
    },
    {
      "cell_type": "code",
      "metadata": {
        "colab": {
          "base_uri": "https://localhost:8080/"
        },
        "id": "Ny_7IiwP_E07",
        "outputId": "1bf5d490-ada2-4713-c359-bb1b9e8086d8"
      },
      "source": [
        "id_demo.length"
      ],
      "execution_count": 55,
      "outputs": [
        {
          "output_type": "execute_result",
          "data": {
            "text/plain": [
              "Float64Index([18.387999999999998, 18.334000000000003, 18.333,\n",
              "              18.387999999999998, 18.333],\n",
              "             dtype='float64')"
            ]
          },
          "metadata": {
            "tags": []
          },
          "execution_count": 55
        }
      ]
    },
    {
      "cell_type": "markdown",
      "metadata": {
        "id": "USEZQkLP_IIp"
      },
      "source": [
        "`IntervalIndex` 还有两个常用方法，包括 `contains` 和 `overlaps` ，分别指逐个判断每个区间是否包含某元素，以及是否和一个 `pd.Interval` 对象有交集。"
      ]
    },
    {
      "cell_type": "code",
      "metadata": {
        "colab": {
          "base_uri": "https://localhost:8080/"
        },
        "id": "WhAn03wL_HIs",
        "outputId": "24785f2a-08cd-4275-8045-c480047e79de"
      },
      "source": [
        "id_demo.contains(4)"
      ],
      "execution_count": 56,
      "outputs": [
        {
          "output_type": "execute_result",
          "data": {
            "text/plain": [
              "array([False, False, False, False, False])"
            ]
          },
          "metadata": {
            "tags": []
          },
          "execution_count": 56
        }
      ]
    },
    {
      "cell_type": "code",
      "metadata": {
        "colab": {
          "base_uri": "https://localhost:8080/"
        },
        "id": "LEEoxI0j_Mpq",
        "outputId": "5f867f38-0c4e-4289-e696-15025aad66bc"
      },
      "source": [
        "id_demo.overlaps(pd.Interval(40,60))"
      ],
      "execution_count": 57,
      "outputs": [
        {
          "output_type": "execute_result",
          "data": {
            "text/plain": [
              "array([ True,  True, False,  True, False])"
            ]
          },
          "metadata": {
            "tags": []
          },
          "execution_count": 57
        }
      ]
    },
    {
      "cell_type": "markdown",
      "metadata": {
        "id": "jrjJ4CLb_OZ3"
      },
      "source": [
        "### 四、练习\r\n",
        "#### Ex1：统计出未出现的类别\r\n",
        "在第五章中介绍了 `crosstab` 函数，在默认参数下它能够对两个列的组合出现的频数进行统计汇总：\r\n",
        "```python\r\n",
        "In [69]: df = pd.DataFrame({'A':['a','b','c','a'],\r\n",
        "   ....:                    'B':['cat','cat','dog','cat']})\r\n",
        "   ....: \r\n",
        "\r\n",
        "In [70]: pd.crosstab(df.A, df.B)\r\n",
        "Out[70]: \r\n",
        "B  cat  dog\r\n",
        "A          \r\n",
        "a    2    0\r\n",
        "b    1    0\r\n",
        "c    0    1\r\n",
        "```\r\n",
        "\r\n",
        "但事实上有些列存储的是分类变量，列中并不一定包含所有的类别，此时如果想要对这些未出现的类别在 `crosstab` 结果中也进行汇总，则可以指定 `dropna` 参数为 `False` ：\r\n",
        "\r\n",
        "```python\r\n",
        "In [71]: df.B = df.B.astype('category').cat.add_categories('sheep')\r\n",
        "\r\n",
        "In [72]: pd.crosstab(df.A, df.B, dropna=False)\r\n",
        "Out[72]: \r\n",
        "B  cat  dog  sheep\r\n",
        "A                 \r\n",
        "a    2    0      0\r\n",
        "b    1    0      0\r\n",
        "c    0    1      0\r\n",
        "\r\n",
        "```\r\n",
        "请实现一个带有 `dropna` 参数的 `my_crosstab` 函数来完成上面的功能。\r\n",
        "\r\n"
      ]
    },
    {
      "cell_type": "code",
      "metadata": {
        "id": "svbbeU9n_Ns1"
      },
      "source": [
        "def my_crosstab(s1, s2, dropna=True):\r\n",
        "    idx1 = (s1.cat.categories if s1.dtype.name == 'category' and\r\n",
        "            not dropna else s1.unique())\r\n",
        "    idx2 = (s2.cat.categories if s2.dtype.name == 'category' and\r\n",
        "            not dropna else s2.unique())\r\n",
        "    res = pd.DataFrame(np.zeros((idx1.shape[0], idx2.shape[0])),\r\n",
        "    index=idx1, columns=idx2)\r\n",
        "    for i, j in zip(s1, s2):\r\n",
        "        res.at[i, j] += 1\r\n",
        "    res = res.rename_axis(index=s1.name, columns=s2.name).astype('int')\r\n",
        "    return res"
      ],
      "execution_count": 58,
      "outputs": []
    },
    {
      "cell_type": "code",
      "metadata": {
        "id": "xTL-LUNLAAWD"
      },
      "source": [
        "df = pd.DataFrame({'A':['a','b','c','a'],\r\n",
        "       'B':['cat','cat','dog','cat']})"
      ],
      "execution_count": 59,
      "outputs": []
    },
    {
      "cell_type": "code",
      "metadata": {
        "id": "GVJzIH71AEMA"
      },
      "source": [
        "df.B = df.B.astype('category').cat.add_categories('sheep')"
      ],
      "execution_count": 60,
      "outputs": []
    },
    {
      "cell_type": "code",
      "metadata": {
        "colab": {
          "base_uri": "https://localhost:8080/",
          "height": 167
        },
        "id": "0d6Ibz3rAFhw",
        "outputId": "ecd83755-fb9e-4652-9972-76c6b41ab75f"
      },
      "source": [
        "my_crosstab(df.A, df.B)"
      ],
      "execution_count": 61,
      "outputs": [
        {
          "output_type": "execute_result",
          "data": {
            "text/html": [
              "<div>\n",
              "<style scoped>\n",
              "    .dataframe tbody tr th:only-of-type {\n",
              "        vertical-align: middle;\n",
              "    }\n",
              "\n",
              "    .dataframe tbody tr th {\n",
              "        vertical-align: top;\n",
              "    }\n",
              "\n",
              "    .dataframe thead th {\n",
              "        text-align: right;\n",
              "    }\n",
              "</style>\n",
              "<table border=\"1\" class=\"dataframe\">\n",
              "  <thead>\n",
              "    <tr style=\"text-align: right;\">\n",
              "      <th>B</th>\n",
              "      <th>cat</th>\n",
              "      <th>dog</th>\n",
              "    </tr>\n",
              "    <tr>\n",
              "      <th>A</th>\n",
              "      <th></th>\n",
              "      <th></th>\n",
              "    </tr>\n",
              "  </thead>\n",
              "  <tbody>\n",
              "    <tr>\n",
              "      <th>a</th>\n",
              "      <td>2</td>\n",
              "      <td>0</td>\n",
              "    </tr>\n",
              "    <tr>\n",
              "      <th>b</th>\n",
              "      <td>1</td>\n",
              "      <td>0</td>\n",
              "    </tr>\n",
              "    <tr>\n",
              "      <th>c</th>\n",
              "      <td>0</td>\n",
              "      <td>1</td>\n",
              "    </tr>\n",
              "  </tbody>\n",
              "</table>\n",
              "</div>"
            ],
            "text/plain": [
              "B  cat  dog\n",
              "A          \n",
              "a    2    0\n",
              "b    1    0\n",
              "c    0    1"
            ]
          },
          "metadata": {
            "tags": []
          },
          "execution_count": 61
        }
      ]
    },
    {
      "cell_type": "code",
      "metadata": {
        "colab": {
          "base_uri": "https://localhost:8080/",
          "height": 167
        },
        "id": "3oP0_FXXAHlo",
        "outputId": "c352f4e7-e272-4d93-dbdd-585943069cc7"
      },
      "source": [
        "my_crosstab(df.A, df.B, dropna=False)"
      ],
      "execution_count": 62,
      "outputs": [
        {
          "output_type": "execute_result",
          "data": {
            "text/html": [
              "<div>\n",
              "<style scoped>\n",
              "    .dataframe tbody tr th:only-of-type {\n",
              "        vertical-align: middle;\n",
              "    }\n",
              "\n",
              "    .dataframe tbody tr th {\n",
              "        vertical-align: top;\n",
              "    }\n",
              "\n",
              "    .dataframe thead th {\n",
              "        text-align: right;\n",
              "    }\n",
              "</style>\n",
              "<table border=\"1\" class=\"dataframe\">\n",
              "  <thead>\n",
              "    <tr style=\"text-align: right;\">\n",
              "      <th>B</th>\n",
              "      <th>cat</th>\n",
              "      <th>dog</th>\n",
              "      <th>sheep</th>\n",
              "    </tr>\n",
              "    <tr>\n",
              "      <th>A</th>\n",
              "      <th></th>\n",
              "      <th></th>\n",
              "      <th></th>\n",
              "    </tr>\n",
              "  </thead>\n",
              "  <tbody>\n",
              "    <tr>\n",
              "      <th>a</th>\n",
              "      <td>2</td>\n",
              "      <td>0</td>\n",
              "      <td>0</td>\n",
              "    </tr>\n",
              "    <tr>\n",
              "      <th>b</th>\n",
              "      <td>1</td>\n",
              "      <td>0</td>\n",
              "      <td>0</td>\n",
              "    </tr>\n",
              "    <tr>\n",
              "      <th>c</th>\n",
              "      <td>0</td>\n",
              "      <td>1</td>\n",
              "      <td>0</td>\n",
              "    </tr>\n",
              "  </tbody>\n",
              "</table>\n",
              "</div>"
            ],
            "text/plain": [
              "B  cat  dog  sheep\n",
              "A                 \n",
              "a    2    0      0\n",
              "b    1    0      0\n",
              "c    0    1      0"
            ]
          },
          "metadata": {
            "tags": []
          },
          "execution_count": 62
        }
      ]
    },
    {
      "cell_type": "markdown",
      "metadata": {
        "id": "3Tw6Z9m7AJ36"
      },
      "source": [
        "#### Ex2：钻石数据集\r\n",
        "现有一份关于钻石的数据集，其中 `carat, cut, clarity, price` 分别表示克拉重量、切割质量、纯净度和价格，样例如下：\r\n",
        "\r\n",
        "```python\r\n",
        "In [73]: df = pd.read_csv('data/diamonds.csv')\r\n",
        "\r\n",
        "In [74]: df.head(3)\r\n",
        "Out[74]: \r\n",
        "   carat      cut clarity  price\r\n",
        "0   0.23    Ideal     SI2    326\r\n",
        "1   0.21  Premium     SI1    326\r\n",
        "2   0.23     Good     VS1    327\r\n",
        "```\r\n",
        "\r\n",
        "1. 分别对 `df.cut` 在 `object` 类型和 `category` 类型下使用 `nunique` 函数，并比较它们的性能。\r\n",
        "\r\n",
        "2. 钻石的切割质量可以分为五个等级，由次到好分别是 `Fair, Good, Very Good, Premium, Ideal` ，纯净度有八个等级，由次到好分别是 `I1, SI2, SI1, VS2, VS1, VVS2, VVS1, IF` ，请对切割质量按照 由好到次 的顺序排序，相同切割质量的钻石，按照纯净度进行 由次到好 的排序。\r\n",
        "\r\n",
        "3. 分别采用两种不同的方法，把 `cut, clarity` 这两列按照 由好到次 的顺序，映射到从`0`到`n-1`的整数，其中`n`表示类别的个数。\r\n",
        "\r\n",
        "4. 对每克拉的价格按照分别按照分位数`（q=[0.2, 0.4, 0.6, 0.8]）与[1000, 3500, 5500, 18000]`割点进行分箱得到五个类别 `Very Low, Low, Mid, High, Very High` ，并把按这两种分箱方法得到的 `category` 序列依次添加到原表中。\r\n",
        "\r\n",
        "5. 第4问中按照整数分箱得到的序列中，是否出现了所有的类别？如果存在没有出现的类别请把该类别删除。\r\n",
        "\r\n",
        "6. 对第4问中按照分位数分箱得到的序列，求每个样本对应所在区间的左右端点值和长度。"
      ]
    },
    {
      "cell_type": "code",
      "metadata": {
        "id": "ftQtjc-vAJOd"
      },
      "source": [
        "# 1.\r\n",
        "df = pd.read_csv('data/diamonds.csv')\r\n",
        "\r\n",
        "s_obj, s_cat = df.cut, df.cut.astype('category')"
      ],
      "execution_count": 63,
      "outputs": []
    },
    {
      "cell_type": "code",
      "metadata": {
        "colab": {
          "base_uri": "https://localhost:8080/"
        },
        "id": "BOK9poT5Ag-M",
        "outputId": "5cf7348f-0c81-46d1-c30a-4e691a08cab9"
      },
      "source": [
        "%timeit -n 30 s_obj.nunique()"
      ],
      "execution_count": 64,
      "outputs": [
        {
          "output_type": "stream",
          "text": [
            "30 loops, best of 3: 2.93 ms per loop\n"
          ],
          "name": "stdout"
        }
      ]
    },
    {
      "cell_type": "code",
      "metadata": {
        "colab": {
          "base_uri": "https://localhost:8080/"
        },
        "id": "JYMw2Ud3Ai4L",
        "outputId": "5b78a939-2744-4cb2-e2d2-d93e51afae21"
      },
      "source": [
        "%timeit -n 30 s_cat.nunique()"
      ],
      "execution_count": 65,
      "outputs": [
        {
          "output_type": "stream",
          "text": [
            "30 loops, best of 3: 735 µs per loop\n"
          ],
          "name": "stdout"
        }
      ]
    },
    {
      "cell_type": "code",
      "metadata": {
        "id": "Gvpmp37aAkBq"
      },
      "source": [
        "#2.\r\n",
        "df.cut = df.cut.astype('category').cat.reorder_categories([\r\n",
        "    'Fair', 'Good', 'Very Good', 'Premium', 'Ideal'],ordered=True)\r\n"
      ],
      "execution_count": 66,
      "outputs": []
    },
    {
      "cell_type": "code",
      "metadata": {
        "id": "sU92OddOApJh"
      },
      "source": [
        "df.clarity = df.clarity.astype('category').cat.reorder_categories([\r\n",
        "      'I1', 'SI2', 'SI1', 'VS2', 'VS1', 'VVS2', 'VVS1', 'IF'],ordered=True)"
      ],
      "execution_count": 67,
      "outputs": []
    },
    {
      "cell_type": "code",
      "metadata": {
        "id": "vpCcOECYArUS"
      },
      "source": [
        "res = df.sort_values(['cut', 'clarity'], ascending=[False, True])"
      ],
      "execution_count": 68,
      "outputs": []
    },
    {
      "cell_type": "code",
      "metadata": {
        "colab": {
          "base_uri": "https://localhost:8080/",
          "height": 197
        },
        "id": "fpkL4tNiAsoN",
        "outputId": "3f6738b9-7e47-4e5d-d305-30b81ee6f815"
      },
      "source": [
        "res.head()"
      ],
      "execution_count": 69,
      "outputs": [
        {
          "output_type": "execute_result",
          "data": {
            "text/html": [
              "<div>\n",
              "<style scoped>\n",
              "    .dataframe tbody tr th:only-of-type {\n",
              "        vertical-align: middle;\n",
              "    }\n",
              "\n",
              "    .dataframe tbody tr th {\n",
              "        vertical-align: top;\n",
              "    }\n",
              "\n",
              "    .dataframe thead th {\n",
              "        text-align: right;\n",
              "    }\n",
              "</style>\n",
              "<table border=\"1\" class=\"dataframe\">\n",
              "  <thead>\n",
              "    <tr style=\"text-align: right;\">\n",
              "      <th></th>\n",
              "      <th>carat</th>\n",
              "      <th>cut</th>\n",
              "      <th>clarity</th>\n",
              "      <th>price</th>\n",
              "    </tr>\n",
              "  </thead>\n",
              "  <tbody>\n",
              "    <tr>\n",
              "      <th>315</th>\n",
              "      <td>0.96</td>\n",
              "      <td>Ideal</td>\n",
              "      <td>I1</td>\n",
              "      <td>2801</td>\n",
              "    </tr>\n",
              "    <tr>\n",
              "      <th>535</th>\n",
              "      <td>0.96</td>\n",
              "      <td>Ideal</td>\n",
              "      <td>I1</td>\n",
              "      <td>2826</td>\n",
              "    </tr>\n",
              "    <tr>\n",
              "      <th>551</th>\n",
              "      <td>0.97</td>\n",
              "      <td>Ideal</td>\n",
              "      <td>I1</td>\n",
              "      <td>2830</td>\n",
              "    </tr>\n",
              "    <tr>\n",
              "      <th>653</th>\n",
              "      <td>1.01</td>\n",
              "      <td>Ideal</td>\n",
              "      <td>I1</td>\n",
              "      <td>2844</td>\n",
              "    </tr>\n",
              "    <tr>\n",
              "      <th>718</th>\n",
              "      <td>0.97</td>\n",
              "      <td>Ideal</td>\n",
              "      <td>I1</td>\n",
              "      <td>2856</td>\n",
              "    </tr>\n",
              "  </tbody>\n",
              "</table>\n",
              "</div>"
            ],
            "text/plain": [
              "     carat    cut clarity  price\n",
              "315   0.96  Ideal      I1   2801\n",
              "535   0.96  Ideal      I1   2826\n",
              "551   0.97  Ideal      I1   2830\n",
              "653   1.01  Ideal      I1   2844\n",
              "718   0.97  Ideal      I1   2856"
            ]
          },
          "metadata": {
            "tags": []
          },
          "execution_count": 69
        }
      ]
    },
    {
      "cell_type": "code",
      "metadata": {
        "colab": {
          "base_uri": "https://localhost:8080/",
          "height": 137
        },
        "id": "7n4kaJG2At80",
        "outputId": "b2bd3e6c-61a8-449d-fe6d-00f478adea17"
      },
      "source": [
        "res.head(3)"
      ],
      "execution_count": 70,
      "outputs": [
        {
          "output_type": "execute_result",
          "data": {
            "text/html": [
              "<div>\n",
              "<style scoped>\n",
              "    .dataframe tbody tr th:only-of-type {\n",
              "        vertical-align: middle;\n",
              "    }\n",
              "\n",
              "    .dataframe tbody tr th {\n",
              "        vertical-align: top;\n",
              "    }\n",
              "\n",
              "    .dataframe thead th {\n",
              "        text-align: right;\n",
              "    }\n",
              "</style>\n",
              "<table border=\"1\" class=\"dataframe\">\n",
              "  <thead>\n",
              "    <tr style=\"text-align: right;\">\n",
              "      <th></th>\n",
              "      <th>carat</th>\n",
              "      <th>cut</th>\n",
              "      <th>clarity</th>\n",
              "      <th>price</th>\n",
              "    </tr>\n",
              "  </thead>\n",
              "  <tbody>\n",
              "    <tr>\n",
              "      <th>315</th>\n",
              "      <td>0.96</td>\n",
              "      <td>Ideal</td>\n",
              "      <td>I1</td>\n",
              "      <td>2801</td>\n",
              "    </tr>\n",
              "    <tr>\n",
              "      <th>535</th>\n",
              "      <td>0.96</td>\n",
              "      <td>Ideal</td>\n",
              "      <td>I1</td>\n",
              "      <td>2826</td>\n",
              "    </tr>\n",
              "    <tr>\n",
              "      <th>551</th>\n",
              "      <td>0.97</td>\n",
              "      <td>Ideal</td>\n",
              "      <td>I1</td>\n",
              "      <td>2830</td>\n",
              "    </tr>\n",
              "  </tbody>\n",
              "</table>\n",
              "</div>"
            ],
            "text/plain": [
              "     carat    cut clarity  price\n",
              "315   0.96  Ideal      I1   2801\n",
              "535   0.96  Ideal      I1   2826\n",
              "551   0.97  Ideal      I1   2830"
            ]
          },
          "metadata": {
            "tags": []
          },
          "execution_count": 70
        }
      ]
    },
    {
      "cell_type": "code",
      "metadata": {
        "colab": {
          "base_uri": "https://localhost:8080/",
          "height": 137
        },
        "id": "IDSZ0clJAu6L",
        "outputId": "889efdd4-1368-4da8-b9a6-80cd739db697"
      },
      "source": [
        "res.tail(3)"
      ],
      "execution_count": 71,
      "outputs": [
        {
          "output_type": "execute_result",
          "data": {
            "text/html": [
              "<div>\n",
              "<style scoped>\n",
              "    .dataframe tbody tr th:only-of-type {\n",
              "        vertical-align: middle;\n",
              "    }\n",
              "\n",
              "    .dataframe tbody tr th {\n",
              "        vertical-align: top;\n",
              "    }\n",
              "\n",
              "    .dataframe thead th {\n",
              "        text-align: right;\n",
              "    }\n",
              "</style>\n",
              "<table border=\"1\" class=\"dataframe\">\n",
              "  <thead>\n",
              "    <tr style=\"text-align: right;\">\n",
              "      <th></th>\n",
              "      <th>carat</th>\n",
              "      <th>cut</th>\n",
              "      <th>clarity</th>\n",
              "      <th>price</th>\n",
              "    </tr>\n",
              "  </thead>\n",
              "  <tbody>\n",
              "    <tr>\n",
              "      <th>47407</th>\n",
              "      <td>0.52</td>\n",
              "      <td>Fair</td>\n",
              "      <td>IF</td>\n",
              "      <td>1849</td>\n",
              "    </tr>\n",
              "    <tr>\n",
              "      <th>49683</th>\n",
              "      <td>0.52</td>\n",
              "      <td>Fair</td>\n",
              "      <td>IF</td>\n",
              "      <td>2144</td>\n",
              "    </tr>\n",
              "    <tr>\n",
              "      <th>50126</th>\n",
              "      <td>0.47</td>\n",
              "      <td>Fair</td>\n",
              "      <td>IF</td>\n",
              "      <td>2211</td>\n",
              "    </tr>\n",
              "  </tbody>\n",
              "</table>\n",
              "</div>"
            ],
            "text/plain": [
              "       carat   cut clarity  price\n",
              "47407   0.52  Fair      IF   1849\n",
              "49683   0.52  Fair      IF   2144\n",
              "50126   0.47  Fair      IF   2211"
            ]
          },
          "metadata": {
            "tags": []
          },
          "execution_count": 71
        }
      ]
    },
    {
      "cell_type": "code",
      "metadata": {
        "id": "JVdEz-q2BFiH"
      },
      "source": [
        "# 3.\r\n",
        "df.cut = df.cut.cat.reorder_categories(\r\n",
        "       df.cut.cat.categories[::-1])"
      ],
      "execution_count": 72,
      "outputs": []
    },
    {
      "cell_type": "code",
      "metadata": {
        "id": "7HCdRbPyBJEq"
      },
      "source": [
        "df.clarity = df.clarity.cat.reorder_categories(\r\n",
        "         df.clarity.cat.categories[::-1])"
      ],
      "execution_count": 73,
      "outputs": []
    },
    {
      "cell_type": "code",
      "metadata": {
        "id": "dZg24l0RBKgd"
      },
      "source": [
        "df.cut = df.cut.cat.codes"
      ],
      "execution_count": 74,
      "outputs": []
    },
    {
      "cell_type": "code",
      "metadata": {
        "colab": {
          "base_uri": "https://localhost:8080/",
          "height": 137
        },
        "id": "3_D6bnMNBWJp",
        "outputId": "2f6e4654-d04d-4302-8840-963e3d2895a9"
      },
      "source": [
        "df.head(3)"
      ],
      "execution_count": 76,
      "outputs": [
        {
          "output_type": "execute_result",
          "data": {
            "text/html": [
              "<div>\n",
              "<style scoped>\n",
              "    .dataframe tbody tr th:only-of-type {\n",
              "        vertical-align: middle;\n",
              "    }\n",
              "\n",
              "    .dataframe tbody tr th {\n",
              "        vertical-align: top;\n",
              "    }\n",
              "\n",
              "    .dataframe thead th {\n",
              "        text-align: right;\n",
              "    }\n",
              "</style>\n",
              "<table border=\"1\" class=\"dataframe\">\n",
              "  <thead>\n",
              "    <tr style=\"text-align: right;\">\n",
              "      <th></th>\n",
              "      <th>carat</th>\n",
              "      <th>cut</th>\n",
              "      <th>clarity</th>\n",
              "      <th>price</th>\n",
              "    </tr>\n",
              "  </thead>\n",
              "  <tbody>\n",
              "    <tr>\n",
              "      <th>0</th>\n",
              "      <td>0.23</td>\n",
              "      <td>0</td>\n",
              "      <td>SI2</td>\n",
              "      <td>326</td>\n",
              "    </tr>\n",
              "    <tr>\n",
              "      <th>1</th>\n",
              "      <td>0.21</td>\n",
              "      <td>1</td>\n",
              "      <td>SI1</td>\n",
              "      <td>326</td>\n",
              "    </tr>\n",
              "    <tr>\n",
              "      <th>2</th>\n",
              "      <td>0.23</td>\n",
              "      <td>3</td>\n",
              "      <td>VS1</td>\n",
              "      <td>327</td>\n",
              "    </tr>\n",
              "  </tbody>\n",
              "</table>\n",
              "</div>"
            ],
            "text/plain": [
              "   carat  cut clarity  price\n",
              "0   0.23    0     SI2    326\n",
              "1   0.21    1     SI1    326\n",
              "2   0.23    3     VS1    327"
            ]
          },
          "metadata": {
            "tags": []
          },
          "execution_count": 76
        }
      ]
    },
    {
      "cell_type": "code",
      "metadata": {
        "id": "lqzULRzWBXMO"
      },
      "source": [
        "# 4.\r\n",
        "q = [0, 0.2, 0.4, 0.6, 0.8, 1]\r\n",
        "point = [-np.infty, 1000, 3500, 5500, 18000, np.infty]\r\n",
        "avg = df.price / df.carat\r\n",
        "df['avg_cut'] = pd.cut(avg, bins=point, labels=[\r\n",
        "          'Very Low', 'Low', 'Mid', 'High', 'Very High'])\r\n",
        "df['avg_qcut'] = pd.qcut(avg, q=q, labels=[\r\n",
        "          'Very Low', 'Low', 'Mid', 'High', 'Very High'])"
      ],
      "execution_count": 77,
      "outputs": []
    },
    {
      "cell_type": "code",
      "metadata": {
        "colab": {
          "base_uri": "https://localhost:8080/",
          "height": 197
        },
        "id": "bbfejUm2Bt_u",
        "outputId": "058516e8-17cd-488a-a925-6c72df103dc8"
      },
      "source": [
        "df.head()"
      ],
      "execution_count": 78,
      "outputs": [
        {
          "output_type": "execute_result",
          "data": {
            "text/html": [
              "<div>\n",
              "<style scoped>\n",
              "    .dataframe tbody tr th:only-of-type {\n",
              "        vertical-align: middle;\n",
              "    }\n",
              "\n",
              "    .dataframe tbody tr th {\n",
              "        vertical-align: top;\n",
              "    }\n",
              "\n",
              "    .dataframe thead th {\n",
              "        text-align: right;\n",
              "    }\n",
              "</style>\n",
              "<table border=\"1\" class=\"dataframe\">\n",
              "  <thead>\n",
              "    <tr style=\"text-align: right;\">\n",
              "      <th></th>\n",
              "      <th>carat</th>\n",
              "      <th>cut</th>\n",
              "      <th>clarity</th>\n",
              "      <th>price</th>\n",
              "      <th>avg_cut</th>\n",
              "      <th>avg_qcut</th>\n",
              "    </tr>\n",
              "  </thead>\n",
              "  <tbody>\n",
              "    <tr>\n",
              "      <th>0</th>\n",
              "      <td>0.23</td>\n",
              "      <td>0</td>\n",
              "      <td>SI2</td>\n",
              "      <td>326</td>\n",
              "      <td>Low</td>\n",
              "      <td>Very Low</td>\n",
              "    </tr>\n",
              "    <tr>\n",
              "      <th>1</th>\n",
              "      <td>0.21</td>\n",
              "      <td>1</td>\n",
              "      <td>SI1</td>\n",
              "      <td>326</td>\n",
              "      <td>Low</td>\n",
              "      <td>Very Low</td>\n",
              "    </tr>\n",
              "    <tr>\n",
              "      <th>2</th>\n",
              "      <td>0.23</td>\n",
              "      <td>3</td>\n",
              "      <td>VS1</td>\n",
              "      <td>327</td>\n",
              "      <td>Low</td>\n",
              "      <td>Very Low</td>\n",
              "    </tr>\n",
              "    <tr>\n",
              "      <th>3</th>\n",
              "      <td>0.29</td>\n",
              "      <td>1</td>\n",
              "      <td>VS2</td>\n",
              "      <td>334</td>\n",
              "      <td>Low</td>\n",
              "      <td>Very Low</td>\n",
              "    </tr>\n",
              "    <tr>\n",
              "      <th>4</th>\n",
              "      <td>0.31</td>\n",
              "      <td>3</td>\n",
              "      <td>SI2</td>\n",
              "      <td>335</td>\n",
              "      <td>Low</td>\n",
              "      <td>Very Low</td>\n",
              "    </tr>\n",
              "  </tbody>\n",
              "</table>\n",
              "</div>"
            ],
            "text/plain": [
              "   carat  cut clarity  price avg_cut  avg_qcut\n",
              "0   0.23    0     SI2    326     Low  Very Low\n",
              "1   0.21    1     SI1    326     Low  Very Low\n",
              "2   0.23    3     VS1    327     Low  Very Low\n",
              "3   0.29    1     VS2    334     Low  Very Low\n",
              "4   0.31    3     SI2    335     Low  Very Low"
            ]
          },
          "metadata": {
            "tags": []
          },
          "execution_count": 78
        }
      ]
    },
    {
      "cell_type": "code",
      "metadata": {
        "colab": {
          "base_uri": "https://localhost:8080/"
        },
        "id": "c4Ts1rDWBvbi",
        "outputId": "685a078f-220a-4b22-8ce8-2b8541656873"
      },
      "source": [
        "# 5.\r\n",
        "df.avg_cut.unique()\r\n"
      ],
      "execution_count": 79,
      "outputs": [
        {
          "output_type": "execute_result",
          "data": {
            "text/plain": [
              "['Low', 'Mid', 'High']\n",
              "Categories (3, object): ['Low' < 'Mid' < 'High']"
            ]
          },
          "metadata": {
            "tags": []
          },
          "execution_count": 79
        }
      ]
    },
    {
      "cell_type": "code",
      "metadata": {
        "colab": {
          "base_uri": "https://localhost:8080/"
        },
        "id": "fDKLvC_1B47P",
        "outputId": "63c27698-7703-4b4a-86b0-c7a86d061bbb"
      },
      "source": [
        "df.avg_cut.cat.categories"
      ],
      "execution_count": 80,
      "outputs": [
        {
          "output_type": "execute_result",
          "data": {
            "text/plain": [
              "Index(['Very Low', 'Low', 'Mid', 'High', 'Very High'], dtype='object')"
            ]
          },
          "metadata": {
            "tags": []
          },
          "execution_count": 80
        }
      ]
    },
    {
      "cell_type": "code",
      "metadata": {
        "id": "59mtVYBJB58J"
      },
      "source": [
        "df.avg_cut = df.avg_cut.cat.remove_categories([\r\n",
        "           'Very Low', 'Very High'])"
      ],
      "execution_count": 81,
      "outputs": []
    },
    {
      "cell_type": "code",
      "metadata": {
        "colab": {
          "base_uri": "https://localhost:8080/"
        },
        "id": "srJstzYRB7eQ",
        "outputId": "3961074d-3d42-4c98-e4c0-73d7f3c2b51e"
      },
      "source": [
        "df.avg_cut.head(3)"
      ],
      "execution_count": 82,
      "outputs": [
        {
          "output_type": "execute_result",
          "data": {
            "text/plain": [
              "0    Low\n",
              "1    Low\n",
              "2    Low\n",
              "Name: avg_cut, dtype: category\n",
              "Categories (3, object): ['Low' < 'Mid' < 'High']"
            ]
          },
          "metadata": {
            "tags": []
          },
          "execution_count": 82
        }
      ]
    },
    {
      "cell_type": "code",
      "metadata": {
        "colab": {
          "base_uri": "https://localhost:8080/"
        },
        "id": "JGzl75gJB8Y4",
        "outputId": "401f5270-1c6b-4149-adb9-00330b0fd511"
      },
      "source": [
        "# 6.\r\n",
        "interval_avg = pd.IntervalIndex(pd.qcut(avg, q=q))\r\n",
        "interval_avg.right.to_series().reset_index(drop=True).head(3)"
      ],
      "execution_count": 83,
      "outputs": [
        {
          "output_type": "execute_result",
          "data": {
            "text/plain": [
              "0    2295.0\n",
              "1    2295.0\n",
              "2    2295.0\n",
              "dtype: float64"
            ]
          },
          "metadata": {
            "tags": []
          },
          "execution_count": 83
        }
      ]
    },
    {
      "cell_type": "code",
      "metadata": {
        "colab": {
          "base_uri": "https://localhost:8080/"
        },
        "id": "URtcU-gQB_TF",
        "outputId": "6e1884f1-c301-4061-a96f-2a8766cd3055"
      },
      "source": [
        "interval_avg.left.to_series().reset_index(drop=True).head(3)\r\n"
      ],
      "execution_count": 84,
      "outputs": [
        {
          "output_type": "execute_result",
          "data": {
            "text/plain": [
              "0    1051.162\n",
              "1    1051.162\n",
              "2    1051.162\n",
              "dtype: float64"
            ]
          },
          "metadata": {
            "tags": []
          },
          "execution_count": 84
        }
      ]
    },
    {
      "cell_type": "code",
      "metadata": {
        "colab": {
          "base_uri": "https://localhost:8080/"
        },
        "id": "qCs8oIDiCBQr",
        "outputId": "f23118ee-f0c9-4f04-ba73-a6577d4111fa"
      },
      "source": [
        "interval_avg.length.to_series().reset_index(drop=True).head(3)"
      ],
      "execution_count": 85,
      "outputs": [
        {
          "output_type": "execute_result",
          "data": {
            "text/plain": [
              "0    1243.838\n",
              "1    1243.838\n",
              "2    1243.838\n",
              "dtype: float64"
            ]
          },
          "metadata": {
            "tags": []
          },
          "execution_count": 85
        }
      ]
    },
    {
      "cell_type": "code",
      "metadata": {
        "id": "H_BHyEJOCBfL"
      },
      "source": [
        ""
      ],
      "execution_count": null,
      "outputs": []
    }
  ]
}