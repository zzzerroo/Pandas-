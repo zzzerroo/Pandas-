{
  "nbformat": 4,
  "nbformat_minor": 0,
  "metadata": {
    "colab": {
      "name": "Task08 .ipynb",
      "provenance": [],
      "collapsed_sections": []
    },
    "kernelspec": {
      "name": "python3",
      "display_name": "Python 3"
    }
  },
  "cells": [
    {
      "cell_type": "markdown",
      "metadata": {
        "id": "nMkGK5cE5TWc"
      },
      "source": [
        "## Task8文本数据\r\n",
        "### 一、str对象\r\n",
        "#### 1. str对象的设计意图\r\n",
        "\r\n",
        "`str`对象是定义在`Index`或`Series`上的属性，专门用于逐元素处理文本内容，其内部定义了大量方法，因此对一个序列进行文本处理，首先需要获取其`str`对象。\r\n",
        "\r\n"
      ]
    },
    {
      "cell_type": "code",
      "metadata": {
        "colab": {
          "base_uri": "https://localhost:8080/"
        },
        "id": "l-LlAkcM3lv1",
        "outputId": "d3044172-7636-4033-a760-289fd169c173"
      },
      "source": [
        "%cd drive/MyDrive/"
      ],
      "execution_count": 1,
      "outputs": [
        {
          "output_type": "stream",
          "text": [
            "/content/drive/MyDrive\n"
          ],
          "name": "stdout"
        }
      ]
    },
    {
      "cell_type": "code",
      "metadata": {
        "id": "770ztqxt6Y4C"
      },
      "source": [
        "import pandas as pd\r\n",
        "import numpy as np"
      ],
      "execution_count": 3,
      "outputs": []
    },
    {
      "cell_type": "code",
      "metadata": {
        "colab": {
          "base_uri": "https://localhost:8080/"
        },
        "id": "FFeezDlb6J9O",
        "outputId": "f205d775-48f4-4f2e-f742-92e5197d28dc"
      },
      "source": [
        "# 字母转为大写\r\n",
        "s = pd.Series(['abcd', 'efg', 'hi'])\r\n",
        "s.str.upper()"
      ],
      "execution_count": 4,
      "outputs": [
        {
          "output_type": "execute_result",
          "data": {
            "text/plain": [
              "0    ABCD\n",
              "1     EFG\n",
              "2      HI\n",
              "dtype: object"
            ]
          },
          "metadata": {
            "tags": []
          },
          "execution_count": 4
        }
      ]
    },
    {
      "cell_type": "markdown",
      "metadata": {
        "id": "e4_Mdv9W6iRo"
      },
      "source": [
        "#### 2. []索引器\r\n",
        "\r\n",
        "对于`str`对象而言，可理解为其对字符串进行了序列化的操作。"
      ]
    },
    {
      "cell_type": "code",
      "metadata": {
        "colab": {
          "base_uri": "https://localhost:8080/"
        },
        "id": "6dKwMNPG6Xir",
        "outputId": "f3933402-3a36-4fa3-e3c0-6b71a75ef75d"
      },
      "source": [
        "# 通过[]可以取出某个位置的元素\r\n",
        "s.str[:2]"
      ],
      "execution_count": 7,
      "outputs": [
        {
          "output_type": "execute_result",
          "data": {
            "text/plain": [
              "0    ab\n",
              "1    ef\n",
              "2    hi\n",
              "dtype: object"
            ]
          },
          "metadata": {
            "tags": []
          },
          "execution_count": 7
        }
      ]
    },
    {
      "cell_type": "markdown",
      "metadata": {
        "id": "jlUhTRJN69yy"
      },
      "source": [
        "#### 3. string类型\r\n",
        "\r\n",
        "绝大多数对于`object`和`string`类型的序列使用`str`对象方法产生的结果是一致的，但是有两点较大差异：\r\n",
        "* 对于某些对象的 `str` 序列化方法不同：应当尽量保证每一个序列中的值都是字符串的情况下才使用 `str` 属性，但这并不是必须的，其必要条件是序列中至少有一个可迭代（`Iterable`）对象，包括但不限于字符串、字典、列表。对于一个可迭代对象， `string` 类型的 `str` 对象和 `object` 类型的 `str` 对象返回结果可能是不同的。\r\n",
        "\r\n",
        "* `string` 类型是 `Nullable` 类型，但 `object` 不是。这意味着 `string` 类型的序列，如果调用的 `str` 方法返回值为整数 `Series` 和布尔`Series` 时，其分别对应的 `dtype` 是 `Int` 和 `boolean` 的 `Nullable` 类型，而 `object` 类型则会分别返回 `int/float` 和 `bool/object` ，取决于缺失值的存在与否。同时，字符串的比较操作，也具有相似的特性， `string` 返回 `Nullable` 类型，但 `object` 不会。"
      ]
    },
    {
      "cell_type": "code",
      "metadata": {
        "id": "tnuoMTP969nV"
      },
      "source": [
        "s = pd.Series([{1: 'temp_1', 2: 'temp_2'}, ['a', 'b'], 0.5, 'my_string'])"
      ],
      "execution_count": 8,
      "outputs": []
    },
    {
      "cell_type": "code",
      "metadata": {
        "colab": {
          "base_uri": "https://localhost:8080/"
        },
        "id": "Muqp0-rQ61BF",
        "outputId": "bb88c8a4-b31a-4e02-92b9-65655f76cbf7"
      },
      "source": [
        "s.str[1]"
      ],
      "execution_count": 9,
      "outputs": [
        {
          "output_type": "execute_result",
          "data": {
            "text/plain": [
              "0    temp_1\n",
              "1         b\n",
              "2       NaN\n",
              "3         y\n",
              "dtype: object"
            ]
          },
          "metadata": {
            "tags": []
          },
          "execution_count": 9
        }
      ]
    },
    {
      "cell_type": "code",
      "metadata": {
        "colab": {
          "base_uri": "https://localhost:8080/"
        },
        "id": "5T1IrynW79Bp",
        "outputId": "8d43ccbd-4406-46a0-9711-302613c7ca96"
      },
      "source": [
        "s.astype('string').str[1]"
      ],
      "execution_count": 10,
      "outputs": [
        {
          "output_type": "execute_result",
          "data": {
            "text/plain": [
              "0    1\n",
              "1    '\n",
              "2    .\n",
              "3    y\n",
              "dtype: string"
            ]
          },
          "metadata": {
            "tags": []
          },
          "execution_count": 10
        }
      ]
    },
    {
      "cell_type": "code",
      "metadata": {
        "id": "iMut7gd27_c3"
      },
      "source": [
        "s = pd.Series(['a'])"
      ],
      "execution_count": 11,
      "outputs": []
    },
    {
      "cell_type": "code",
      "metadata": {
        "colab": {
          "base_uri": "https://localhost:8080/"
        },
        "id": "Y8QQuKNd8L1h",
        "outputId": "b2db2794-7100-4262-a183-fdf4c758c79b"
      },
      "source": [
        "s.str.len()"
      ],
      "execution_count": 12,
      "outputs": [
        {
          "output_type": "execute_result",
          "data": {
            "text/plain": [
              "0    1\n",
              "dtype: int64"
            ]
          },
          "metadata": {
            "tags": []
          },
          "execution_count": 12
        }
      ]
    },
    {
      "cell_type": "code",
      "metadata": {
        "colab": {
          "base_uri": "https://localhost:8080/"
        },
        "id": "EkMQGU2G8MsP",
        "outputId": "c13423e2-d3aa-4a79-d317-1a77b535b285"
      },
      "source": [
        "s.astype('string').str.len()"
      ],
      "execution_count": 13,
      "outputs": [
        {
          "output_type": "execute_result",
          "data": {
            "text/plain": [
              "0    1\n",
              "dtype: Int64"
            ]
          },
          "metadata": {
            "tags": []
          },
          "execution_count": 13
        }
      ]
    },
    {
      "cell_type": "code",
      "metadata": {
        "colab": {
          "base_uri": "https://localhost:8080/"
        },
        "id": "KWZr3JIF8QIR",
        "outputId": "5eb61d1b-a0a8-44fb-acfc-5b3886f6a9b2"
      },
      "source": [
        "s == 'a'"
      ],
      "execution_count": 14,
      "outputs": [
        {
          "output_type": "execute_result",
          "data": {
            "text/plain": [
              "0    True\n",
              "dtype: bool"
            ]
          },
          "metadata": {
            "tags": []
          },
          "execution_count": 14
        }
      ]
    },
    {
      "cell_type": "code",
      "metadata": {
        "colab": {
          "base_uri": "https://localhost:8080/"
        },
        "id": "Vu8js5j68U_g",
        "outputId": "6c6a57af-b6ed-46b0-c11f-8472682ab851"
      },
      "source": [
        "s.astype('string') == 'a'"
      ],
      "execution_count": 15,
      "outputs": [
        {
          "output_type": "execute_result",
          "data": {
            "text/plain": [
              "0    True\n",
              "dtype: boolean"
            ]
          },
          "metadata": {
            "tags": []
          },
          "execution_count": 15
        }
      ]
    },
    {
      "cell_type": "code",
      "metadata": {
        "colab": {
          "base_uri": "https://localhost:8080/"
        },
        "id": "cPw1BwL18YUW",
        "outputId": "30156601-4d01-4f49-ca78-466bf50319c9"
      },
      "source": [
        "s = pd.Series(['a', np.nan]) # 带有缺失值\r\n",
        "s.str.len()"
      ],
      "execution_count": 16,
      "outputs": [
        {
          "output_type": "execute_result",
          "data": {
            "text/plain": [
              "0    1.0\n",
              "1    NaN\n",
              "dtype: float64"
            ]
          },
          "metadata": {
            "tags": []
          },
          "execution_count": 16
        }
      ]
    },
    {
      "cell_type": "code",
      "metadata": {
        "colab": {
          "base_uri": "https://localhost:8080/"
        },
        "id": "ak8HOCmh8cuy",
        "outputId": "60bfe5c9-2e84-4f4c-d93b-68e0a23e71f0"
      },
      "source": [
        "s.astype('string').str.len()"
      ],
      "execution_count": 17,
      "outputs": [
        {
          "output_type": "execute_result",
          "data": {
            "text/plain": [
              "0       1\n",
              "1    <NA>\n",
              "dtype: Int64"
            ]
          },
          "metadata": {
            "tags": []
          },
          "execution_count": 17
        }
      ]
    },
    {
      "cell_type": "code",
      "metadata": {
        "colab": {
          "base_uri": "https://localhost:8080/"
        },
        "id": "jvZbLWFe8eai",
        "outputId": "56e950ef-c8a1-44b8-d85d-e751ac96a496"
      },
      "source": [
        "s == 'a'"
      ],
      "execution_count": 18,
      "outputs": [
        {
          "output_type": "execute_result",
          "data": {
            "text/plain": [
              "0     True\n",
              "1    False\n",
              "dtype: bool"
            ]
          },
          "metadata": {
            "tags": []
          },
          "execution_count": 18
        }
      ]
    },
    {
      "cell_type": "code",
      "metadata": {
        "colab": {
          "base_uri": "https://localhost:8080/"
        },
        "id": "Pcefslue8f_9",
        "outputId": "343b2931-7749-4d63-a37e-19563404d0c2"
      },
      "source": [
        "s.astype('string') == 'a'"
      ],
      "execution_count": 19,
      "outputs": [
        {
          "output_type": "execute_result",
          "data": {
            "text/plain": [
              "0    True\n",
              "1    <NA>\n",
              "dtype: boolean"
            ]
          },
          "metadata": {
            "tags": []
          },
          "execution_count": 19
        }
      ]
    },
    {
      "cell_type": "markdown",
      "metadata": {
        "id": "OELuL9ip8z2L"
      },
      "source": [
        "> 最后需要注意的是，对于全体元素为数值类型的序列，即使其类型为 object 或者 category 也不允许直接使用 str 属性。如果需要把数字当成 string 类型处理，可以使用 astype 强制转换为 string 类型的 Series :"
      ]
    },
    {
      "cell_type": "code",
      "metadata": {
        "colab": {
          "base_uri": "https://localhost:8080/"
        },
        "id": "YvgOFv5s8hFa",
        "outputId": "1fcff6d6-c429-410b-948f-c00ea03092ce"
      },
      "source": [
        "s = pd.Series([12, 345, 6789])\r\n",
        "s.astype('string').str[1]"
      ],
      "execution_count": 20,
      "outputs": [
        {
          "output_type": "execute_result",
          "data": {
            "text/plain": [
              "0    2\n",
              "1    4\n",
              "2    7\n",
              "dtype: string"
            ]
          },
          "metadata": {
            "tags": []
          },
          "execution_count": 20
        }
      ]
    },
    {
      "cell_type": "markdown",
      "metadata": {
        "id": "LQEBhf_u88m1"
      },
      "source": [
        "### 二、正则表达式基础\r\n",
        "#### 1. 一般字符的匹配\r\n",
        "正则表达式是一种按照某种正则模式，从左到右匹配字符串中内容的一种工具。对于一般的字符而言，它可以找到其所在的位置。\r\n"
      ]
    },
    {
      "cell_type": "code",
      "metadata": {
        "id": "f3zFPIXN9omE"
      },
      "source": [
        "import re"
      ],
      "execution_count": 21,
      "outputs": []
    },
    {
      "cell_type": "code",
      "metadata": {
        "colab": {
          "base_uri": "https://localhost:8080/"
        },
        "id": "9pGt0AVb83su",
        "outputId": "be8fc119-3a4b-42e7-cdfe-341288ad9d30"
      },
      "source": [
        "# 在字符串中找出apple\r\n",
        "# 第一个参数是正则表达式，第二个参数是待匹配的字符串\r\n",
        "re.findall(r'Apple', 'Apple!This is an Apple!')"
      ],
      "execution_count": 23,
      "outputs": [
        {
          "output_type": "execute_result",
          "data": {
            "text/plain": [
              "['Apple', 'Apple']"
            ]
          },
          "metadata": {
            "tags": []
          },
          "execution_count": 23
        }
      ]
    },
    {
      "cell_type": "markdown",
      "metadata": {
        "id": "bWk1e1hE94AC"
      },
      "source": [
        "#### 2. 元字符基础\r\n",
        "\r\n",
        "\r\n",
        "* `.` ：匹配除换行符以外的任意字符\r\n",
        "\r\n",
        "* `[ ]`：字符类，匹配方括号中包含的任意字符。\r\n",
        "\r\n",
        "* `[^ ]`：否定字符类，匹配方括号中不包含的任意字符\r\n",
        "\r\n",
        "* `*`：匹配前面的子表达式零次或多次\r\n",
        "\r\n",
        "* `+`：匹配前面的子表达式一次或多次\r\n",
        "\r\n",
        "* `?`：匹配前面的子表达式零次或一次\r\n",
        "\r\n",
        "* `{n,m}`：花括号，匹配前面字符至少 n 次，但是不超过 m 次\r\n",
        "\r\n",
        "* `(xyz)`：字符组，按照确切的顺序匹配字符xyz。\r\n",
        "\r\n",
        "* `|`：分支结构，匹配符号之前的字符或后面的字符\r\n",
        "\r\n",
        "* `\\`：转义符，它可以还原元字符原来的含义\r\n",
        "\r\n",
        "* `^`：匹配行的开始\r\n",
        "\r\n",
        "* `$`：匹配行的结束"
      ]
    },
    {
      "cell_type": "code",
      "metadata": {
        "colab": {
          "base_uri": "https://localhost:8080/"
        },
        "id": "k1mudCxj9w78",
        "outputId": "ab877e6d-36df-4b30-8be6-f94c8fd11afa"
      },
      "source": [
        "# 匹配除换行符以外的任意字符\r\n",
        "re.findall(r'.', 'abc')"
      ],
      "execution_count": 24,
      "outputs": [
        {
          "output_type": "execute_result",
          "data": {
            "text/plain": [
              "['a', 'b', 'c']"
            ]
          },
          "metadata": {
            "tags": []
          },
          "execution_count": 24
        }
      ]
    },
    {
      "cell_type": "code",
      "metadata": {
        "colab": {
          "base_uri": "https://localhost:8080/"
        },
        "id": "IahhMjOx-kIc",
        "outputId": "01bd294e-f0c3-4101-d769-8259422ba90f"
      },
      "source": [
        "# 匹配方括号中包含的任意字符。\r\n",
        "re.findall(r'[ac]', 'abc')"
      ],
      "execution_count": 25,
      "outputs": [
        {
          "output_type": "execute_result",
          "data": {
            "text/plain": [
              "['a', 'c']"
            ]
          },
          "metadata": {
            "tags": []
          },
          "execution_count": 25
        }
      ]
    },
    {
      "cell_type": "code",
      "metadata": {
        "colab": {
          "base_uri": "https://localhost:8080/"
        },
        "id": "4ec_d7Rw-l0V",
        "outputId": "2cbeda73-00c0-4c90-eafa-c01ed89b9422"
      },
      "source": [
        "# 匹配方括号中不包含的任意字符\r\n",
        "re.findall(r'[^ac]', 'abc')"
      ],
      "execution_count": 26,
      "outputs": [
        {
          "output_type": "execute_result",
          "data": {
            "text/plain": [
              "['b']"
            ]
          },
          "metadata": {
            "tags": []
          },
          "execution_count": 26
        }
      ]
    },
    {
      "cell_type": "code",
      "metadata": {
        "colab": {
          "base_uri": "https://localhost:8080/"
        },
        "id": "p8zLS8aP-pEn",
        "outputId": "210f8234-edac-48ae-a23e-3d0283340225"
      },
      "source": [
        "\r\n",
        "re.findall(r'[ab]{2}', 'aaaabbbb') # {n}指匹配n次"
      ],
      "execution_count": 27,
      "outputs": [
        {
          "output_type": "execute_result",
          "data": {
            "text/plain": [
              "['aa', 'aa', 'bb', 'bb']"
            ]
          },
          "metadata": {
            "tags": []
          },
          "execution_count": 27
        }
      ]
    },
    {
      "cell_type": "code",
      "metadata": {
        "colab": {
          "base_uri": "https://localhost:8080/"
        },
        "id": "nf32SS4K-3as",
        "outputId": "d9584334-127a-41f5-beba-c2691e938515"
      },
      "source": [
        "# 匹配符号之前的字符或后面的字符\r\n",
        "re.findall(r'aaa|bbb', 'aaaabbbb')"
      ],
      "execution_count": 28,
      "outputs": [
        {
          "output_type": "execute_result",
          "data": {
            "text/plain": [
              "['aaa', 'bbb']"
            ]
          },
          "metadata": {
            "tags": []
          },
          "execution_count": 28
        }
      ]
    },
    {
      "cell_type": "code",
      "metadata": {
        "colab": {
          "base_uri": "https://localhost:8080/"
        },
        "id": "7IpCk_bi--Tw",
        "outputId": "d8e9fb92-fbd3-4429-e510-60a7f32fa9aa"
      },
      "source": [
        "re.findall(r'a\\\\?|a\\*', 'aa?a*a')"
      ],
      "execution_count": 29,
      "outputs": [
        {
          "output_type": "execute_result",
          "data": {
            "text/plain": [
              "['a', 'a', 'a', 'a']"
            ]
          },
          "metadata": {
            "tags": []
          },
          "execution_count": 29
        }
      ]
    },
    {
      "cell_type": "code",
      "metadata": {
        "colab": {
          "base_uri": "https://localhost:8080/"
        },
        "id": "EUx9eB2L_BEd",
        "outputId": "97dc7e3e-d2b4-44ba-b37f-32147aa3834a"
      },
      "source": [
        "re.findall(r'a?.', 'abaacadaae')\r\n",
        "\r\n"
      ],
      "execution_count": 30,
      "outputs": [
        {
          "output_type": "execute_result",
          "data": {
            "text/plain": [
              "['ab', 'aa', 'c', 'ad', 'aa', 'e']"
            ]
          },
          "metadata": {
            "tags": []
          },
          "execution_count": 30
        }
      ]
    },
    {
      "cell_type": "markdown",
      "metadata": {
        "id": "o3B0jy1m_VG4"
      },
      "source": [
        "#### 3. 简写字符集\r\n",
        "等价于一组字符的集合：\r\n",
        "\r\n",
        "* `\\w`：匹配所有字母、数字、下划线: `[a-zA-Z0-9_]`\r\n",
        "\r\n",
        "* `\\W`：匹配非字母和数字的字符: `[^\\w]`\r\n",
        "\r\n",
        "* `\\d`：匹配数字: `[0-9]`\r\n",
        "\r\n",
        "* `\\D`：匹配非数字: `[^\\d]`\r\n",
        "\r\n",
        "* `\\s`：匹配空格符: `[\\t\\n\\f\\r\\p{Z}]`\r\n",
        "\r\n",
        "* `\\S`：匹配非空格符: `[^\\s]`\r\n",
        "\r\n",
        "* `\\B`：匹配一组非空字符开头或结尾的位置，不代表具体字符"
      ]
    },
    {
      "cell_type": "code",
      "metadata": {
        "colab": {
          "base_uri": "https://localhost:8080/"
        },
        "id": "UKQmx5IJ_Ocs",
        "outputId": "ef9f217c-c560-4103-b041-ca1f4f7a7715"
      },
      "source": [
        "re.findall(r'.s', 'Apple! This Is an Apple!')"
      ],
      "execution_count": 31,
      "outputs": [
        {
          "output_type": "execute_result",
          "data": {
            "text/plain": [
              "['is', 'Is']"
            ]
          },
          "metadata": {
            "tags": []
          },
          "execution_count": 31
        }
      ]
    },
    {
      "cell_type": "code",
      "metadata": {
        "colab": {
          "base_uri": "https://localhost:8080/"
        },
        "id": "HiqgKyKU_rQQ",
        "outputId": "747ff438-741a-4c61-8985-ee5ed665c11c"
      },
      "source": [
        "re.findall(r'\\w{2}', '09 8? 7w c_ 9q p@')"
      ],
      "execution_count": 32,
      "outputs": [
        {
          "output_type": "execute_result",
          "data": {
            "text/plain": [
              "['09', '7w', 'c_', '9q']"
            ]
          },
          "metadata": {
            "tags": []
          },
          "execution_count": 32
        }
      ]
    },
    {
      "cell_type": "code",
      "metadata": {
        "colab": {
          "base_uri": "https://localhost:8080/"
        },
        "id": "g4pDLaHI_sNR",
        "outputId": "e851bdda-4c4f-4b20-a00a-6e74064b6454"
      },
      "source": [
        "re.findall(r'\\w\\W\\B', '09 8? 7w c_ 9q p@')"
      ],
      "execution_count": 33,
      "outputs": [
        {
          "output_type": "execute_result",
          "data": {
            "text/plain": [
              "['8?', 'p@']"
            ]
          },
          "metadata": {
            "tags": []
          },
          "execution_count": 33
        }
      ]
    },
    {
      "cell_type": "code",
      "metadata": {
        "colab": {
          "base_uri": "https://localhost:8080/"
        },
        "id": "vidPeO6r_s_n",
        "outputId": "3f635e67-8253-4503-a4a1-1501c14c67dc"
      },
      "source": [
        "re.findall(r'.\\s.', 'Constant dropping wears the stone.')"
      ],
      "execution_count": 34,
      "outputs": [
        {
          "output_type": "execute_result",
          "data": {
            "text/plain": [
              "['t d', 'g w', 's t', 'e s']"
            ]
          },
          "metadata": {
            "tags": []
          },
          "execution_count": 34
        }
      ]
    },
    {
      "cell_type": "code",
      "metadata": {
        "colab": {
          "base_uri": "https://localhost:8080/"
        },
        "id": "g2T1mUTG_t3Y",
        "outputId": "495df37c-7047-44f2-8e03-9226cc28a758"
      },
      "source": [
        "re.findall(r'上海市(.{2,3}区)(.{2,3}路)(\\d+号)',\r\n",
        "           '上海市黄浦区方浜中路249号 上海市宝山区密山路5号')"
      ],
      "execution_count": 35,
      "outputs": [
        {
          "output_type": "execute_result",
          "data": {
            "text/plain": [
              "[('黄浦区', '方浜中路', '249号'), ('宝山区', '密山路', '5号')]"
            ]
          },
          "metadata": {
            "tags": []
          },
          "execution_count": 35
        }
      ]
    },
    {
      "cell_type": "markdown",
      "metadata": {
        "id": "Z4MujweG_1vX"
      },
      "source": [
        "### 三、文本处理的五类操作\r\n",
        "#### 1. 拆分\r\n",
        "`str.split` 能够把字符串的列进行拆分，其中第一个参数为正则表达式，可选参数包括从左到右的最大拆分次数 `n` ，是否展开为多个列 `expand` 。"
      ]
    },
    {
      "cell_type": "code",
      "metadata": {
        "id": "wxE-a9bD_vP3"
      },
      "source": [
        "s = pd.Series(['上海市黄浦区方浜中路249号',\r\n",
        "           '上海市宝山区密山路5号'])"
      ],
      "execution_count": 36,
      "outputs": []
    },
    {
      "cell_type": "code",
      "metadata": {
        "colab": {
          "base_uri": "https://localhost:8080/"
        },
        "id": "sa8viUSL__XH",
        "outputId": "24fbc670-460d-4f26-a737-3e26d23a5813"
      },
      "source": [
        "s.str.split('[市区路]')"
      ],
      "execution_count": 37,
      "outputs": [
        {
          "output_type": "execute_result",
          "data": {
            "text/plain": [
              "0    [上海, 黄浦, 方浜中, 249号]\n",
              "1       [上海, 宝山, 密山, 5号]\n",
              "dtype: object"
            ]
          },
          "metadata": {
            "tags": []
          },
          "execution_count": 37
        }
      ]
    },
    {
      "cell_type": "code",
      "metadata": {
        "colab": {
          "base_uri": "https://localhost:8080/",
          "height": 107
        },
        "id": "gqCn6bOzAAVr",
        "outputId": "e8edc203-e7a6-41ac-c160-eff35d7a4b8f"
      },
      "source": [
        "s.str.split('[市区路]', n=2, expand=True)"
      ],
      "execution_count": 38,
      "outputs": [
        {
          "output_type": "execute_result",
          "data": {
            "text/html": [
              "<div>\n",
              "<style scoped>\n",
              "    .dataframe tbody tr th:only-of-type {\n",
              "        vertical-align: middle;\n",
              "    }\n",
              "\n",
              "    .dataframe tbody tr th {\n",
              "        vertical-align: top;\n",
              "    }\n",
              "\n",
              "    .dataframe thead th {\n",
              "        text-align: right;\n",
              "    }\n",
              "</style>\n",
              "<table border=\"1\" class=\"dataframe\">\n",
              "  <thead>\n",
              "    <tr style=\"text-align: right;\">\n",
              "      <th></th>\n",
              "      <th>0</th>\n",
              "      <th>1</th>\n",
              "      <th>2</th>\n",
              "    </tr>\n",
              "  </thead>\n",
              "  <tbody>\n",
              "    <tr>\n",
              "      <th>0</th>\n",
              "      <td>上海</td>\n",
              "      <td>黄浦</td>\n",
              "      <td>方浜中路249号</td>\n",
              "    </tr>\n",
              "    <tr>\n",
              "      <th>1</th>\n",
              "      <td>上海</td>\n",
              "      <td>宝山</td>\n",
              "      <td>密山路5号</td>\n",
              "    </tr>\n",
              "  </tbody>\n",
              "</table>\n",
              "</div>"
            ],
            "text/plain": [
              "    0   1         2\n",
              "0  上海  黄浦  方浜中路249号\n",
              "1  上海  宝山     密山路5号"
            ]
          },
          "metadata": {
            "tags": []
          },
          "execution_count": 38
        }
      ]
    },
    {
      "cell_type": "markdown",
      "metadata": {
        "id": "01fQ_5OQASa9"
      },
      "source": [
        "#### 2. 合并\r\n",
        " `str.join` 和 `str.cat` 。 `str.join` 表示用某个连接符把 `Series` 中的字符串列表连接起来，如果列表中出现了非字符串元素则返回缺失值。"
      ]
    },
    {
      "cell_type": "code",
      "metadata": {
        "id": "lL6ileEQAPki"
      },
      "source": [
        "s = pd.Series([['a','b'], [1, 'a'], [['a', 'b'], 'c']])"
      ],
      "execution_count": 40,
      "outputs": []
    },
    {
      "cell_type": "code",
      "metadata": {
        "colab": {
          "base_uri": "https://localhost:8080/"
        },
        "id": "GC9iqpw-AbwR",
        "outputId": "efea1616-4bd4-4183-e826-8c23579a4615"
      },
      "source": [
        "s.str.join('-')"
      ],
      "execution_count": 41,
      "outputs": [
        {
          "output_type": "execute_result",
          "data": {
            "text/plain": [
              "0    a-b\n",
              "1    NaN\n",
              "2    NaN\n",
              "dtype: object"
            ]
          },
          "metadata": {
            "tags": []
          },
          "execution_count": 41
        }
      ]
    },
    {
      "cell_type": "markdown",
      "metadata": {
        "id": "p4xkqGz6AgbS"
      },
      "source": [
        "`str.cat` 用于合并两个序列，主要参数为连接符 `sep` 、连接形式 `join` 以及缺失值替代符号 `na_rep` ，其中连接形式默认为以索引为键的左连接。"
      ]
    },
    {
      "cell_type": "code",
      "metadata": {
        "id": "Ihl5SbhuAcwI"
      },
      "source": [
        "s1 = pd.Series(['a','b'])"
      ],
      "execution_count": 42,
      "outputs": []
    },
    {
      "cell_type": "code",
      "metadata": {
        "id": "7rodKyP6Ajws"
      },
      "source": [
        "s2 = pd.Series(['cat','dog'])"
      ],
      "execution_count": 43,
      "outputs": []
    },
    {
      "cell_type": "code",
      "metadata": {
        "colab": {
          "base_uri": "https://localhost:8080/"
        },
        "id": "eM2V63YcAlAe",
        "outputId": "5eb9be62-9df7-4ddc-b301-0983a54af1b6"
      },
      "source": [
        "s1.str.cat(s2,sep='-')"
      ],
      "execution_count": 44,
      "outputs": [
        {
          "output_type": "execute_result",
          "data": {
            "text/plain": [
              "0    a-cat\n",
              "1    b-dog\n",
              "dtype: object"
            ]
          },
          "metadata": {
            "tags": []
          },
          "execution_count": 44
        }
      ]
    },
    {
      "cell_type": "code",
      "metadata": {
        "id": "Ggc3WRIuAmAM"
      },
      "source": [
        "s2.index = [1, 2]"
      ],
      "execution_count": 45,
      "outputs": []
    },
    {
      "cell_type": "code",
      "metadata": {
        "colab": {
          "base_uri": "https://localhost:8080/"
        },
        "id": "7nNsdNVCArof",
        "outputId": "00dd3045-b1dc-438d-da7d-8201161c03de"
      },
      "source": [
        "s2"
      ],
      "execution_count": 47,
      "outputs": [
        {
          "output_type": "execute_result",
          "data": {
            "text/plain": [
              "1    cat\n",
              "2    dog\n",
              "dtype: object"
            ]
          },
          "metadata": {
            "tags": []
          },
          "execution_count": 47
        }
      ]
    },
    {
      "cell_type": "code",
      "metadata": {
        "colab": {
          "base_uri": "https://localhost:8080/"
        },
        "id": "7bsLyP1JAtsg",
        "outputId": "4fc924ac-6b30-4fe2-869b-d6d54cdd0f3b"
      },
      "source": [
        "s1"
      ],
      "execution_count": 48,
      "outputs": [
        {
          "output_type": "execute_result",
          "data": {
            "text/plain": [
              "0    a\n",
              "1    b\n",
              "dtype: object"
            ]
          },
          "metadata": {
            "tags": []
          },
          "execution_count": 48
        }
      ]
    },
    {
      "cell_type": "code",
      "metadata": {
        "colab": {
          "base_uri": "https://localhost:8080/"
        },
        "id": "c7zVBYXUAngC",
        "outputId": "aa177ce6-bfe5-476c-e41d-b307f78262e0"
      },
      "source": [
        "s1.str.cat(s2, sep='-', na_rep='?', join='outer')"
      ],
      "execution_count": 46,
      "outputs": [
        {
          "output_type": "execute_result",
          "data": {
            "text/plain": [
              "0      a-?\n",
              "1    b-cat\n",
              "2    ?-dog\n",
              "dtype: object"
            ]
          },
          "metadata": {
            "tags": []
          },
          "execution_count": 46
        }
      ]
    },
    {
      "cell_type": "markdown",
      "metadata": {
        "id": "HkQ6qITNAxsj"
      },
      "source": [
        "#### 3. 匹配\r\n",
        "`str.contains` 返回了每个字符串是否包含正则模式的布尔序列。"
      ]
    },
    {
      "cell_type": "code",
      "metadata": {
        "id": "v8bMVpjoApNZ"
      },
      "source": [
        "s = pd.Series(['my cat', 'he is fat', 'railway station'])"
      ],
      "execution_count": 49,
      "outputs": []
    },
    {
      "cell_type": "code",
      "metadata": {
        "colab": {
          "base_uri": "https://localhost:8080/"
        },
        "id": "anma83yxA1-Y",
        "outputId": "6821980d-e0ae-413d-bc78-913fa31b7754"
      },
      "source": [
        "s.str.contains('\\s\\wat')"
      ],
      "execution_count": 50,
      "outputs": [
        {
          "output_type": "execute_result",
          "data": {
            "text/plain": [
              "0     True\n",
              "1     True\n",
              "2    False\n",
              "dtype: bool"
            ]
          },
          "metadata": {
            "tags": []
          },
          "execution_count": 50
        }
      ]
    },
    {
      "cell_type": "markdown",
      "metadata": {
        "id": "ykAZrUL5A9Kz"
      },
      "source": [
        "`str.startswith` 和 `str.endswith` 返回了每个字符串以给定模式为开始和结束的布尔序列，它们都不支持正则表达式。"
      ]
    },
    {
      "cell_type": "code",
      "metadata": {
        "colab": {
          "base_uri": "https://localhost:8080/"
        },
        "id": "XhEcl3GLA25G",
        "outputId": "53d7b6cc-fea3-4952-a17d-cb78f26e554c"
      },
      "source": [
        "s.str.startswith('my')"
      ],
      "execution_count": 52,
      "outputs": [
        {
          "output_type": "execute_result",
          "data": {
            "text/plain": [
              "0     True\n",
              "1    False\n",
              "2    False\n",
              "dtype: bool"
            ]
          },
          "metadata": {
            "tags": []
          },
          "execution_count": 52
        }
      ]
    },
    {
      "cell_type": "code",
      "metadata": {
        "colab": {
          "base_uri": "https://localhost:8080/"
        },
        "id": "Mn3iT2U9A_mM",
        "outputId": "6b12776b-0014-4d24-b118-587d42b60f70"
      },
      "source": [
        "s.str.endswith('t')"
      ],
      "execution_count": 53,
      "outputs": [
        {
          "output_type": "execute_result",
          "data": {
            "text/plain": [
              "0     True\n",
              "1     True\n",
              "2    False\n",
              "dtype: bool"
            ]
          },
          "metadata": {
            "tags": []
          },
          "execution_count": 53
        }
      ]
    },
    {
      "cell_type": "markdown",
      "metadata": {
        "id": "dQyBx4rLBGNF"
      },
      "source": [
        "如果需要用正则表达式来检测开始或结束字符串的模式，可以使用 `str.match` ，其返回了每个字符串起始处是否符合给定正则模式的布尔序列."
      ]
    },
    {
      "cell_type": "code",
      "metadata": {
        "colab": {
          "base_uri": "https://localhost:8080/"
        },
        "id": "IfUdgigCBB0A",
        "outputId": "084241b9-c8e9-40c1-9616-a79dc581cf5c"
      },
      "source": [
        "s.str.match('m|h')"
      ],
      "execution_count": 55,
      "outputs": [
        {
          "output_type": "execute_result",
          "data": {
            "text/plain": [
              "0     True\n",
              "1     True\n",
              "2    False\n",
              "dtype: bool"
            ]
          },
          "metadata": {
            "tags": []
          },
          "execution_count": 55
        }
      ]
    },
    {
      "cell_type": "code",
      "metadata": {
        "colab": {
          "base_uri": "https://localhost:8080/"
        },
        "id": "uSDBGKB-BIaR",
        "outputId": "70d3fd34-09e2-4533-f6a4-d884a18afe3b"
      },
      "source": [
        "s.str[::-1].str.match('ta[f|g]|n') # 反转后匹配"
      ],
      "execution_count": 56,
      "outputs": [
        {
          "output_type": "execute_result",
          "data": {
            "text/plain": [
              "0    False\n",
              "1     True\n",
              "2     True\n",
              "dtype: bool"
            ]
          },
          "metadata": {
            "tags": []
          },
          "execution_count": 56
        }
      ]
    },
    {
      "cell_type": "code",
      "metadata": {
        "colab": {
          "base_uri": "https://localhost:8080/"
        },
        "id": "xEL7bcvABLcC",
        "outputId": "266c1b8c-0416-48fb-d17d-699ccec882ab"
      },
      "source": [
        "s.str.contains('^[m|h]')"
      ],
      "execution_count": 57,
      "outputs": [
        {
          "output_type": "execute_result",
          "data": {
            "text/plain": [
              "0     True\n",
              "1     True\n",
              "2    False\n",
              "dtype: bool"
            ]
          },
          "metadata": {
            "tags": []
          },
          "execution_count": 57
        }
      ]
    },
    {
      "cell_type": "code",
      "metadata": {
        "colab": {
          "base_uri": "https://localhost:8080/"
        },
        "id": "jNMMcGyuBRNH",
        "outputId": "bbdc7457-2df3-4e98-e185-6ab0040ec873"
      },
      "source": [
        "s.str.contains('[f|g]at|n$')"
      ],
      "execution_count": 58,
      "outputs": [
        {
          "output_type": "execute_result",
          "data": {
            "text/plain": [
              "0    False\n",
              "1     True\n",
              "2     True\n",
              "dtype: bool"
            ]
          },
          "metadata": {
            "tags": []
          },
          "execution_count": 58
        }
      ]
    },
    {
      "cell_type": "markdown",
      "metadata": {
        "id": "wGwv-cGlBT8i"
      },
      "source": [
        "返回索引的匹配函数: `str.find` 与 `str.rfind` ，其分别返回从左到右和从右到左第一次匹配的位置的索引，未找到则返回-1。需要注意的是这两个函数不支持正则匹配，只能用于字符子串的匹配"
      ]
    },
    {
      "cell_type": "code",
      "metadata": {
        "id": "UWMDH5oqBSDl"
      },
      "source": [
        "s = pd.Series(['This is an apple. That is not an apple.'])"
      ],
      "execution_count": 59,
      "outputs": []
    },
    {
      "cell_type": "code",
      "metadata": {
        "colab": {
          "base_uri": "https://localhost:8080/"
        },
        "id": "VdHnReiHBZwx",
        "outputId": "7085586c-f232-4fae-b242-f5515d75fbf5"
      },
      "source": [
        "s.str.find('apple')"
      ],
      "execution_count": 60,
      "outputs": [
        {
          "output_type": "execute_result",
          "data": {
            "text/plain": [
              "0    11\n",
              "dtype: int64"
            ]
          },
          "metadata": {
            "tags": []
          },
          "execution_count": 60
        }
      ]
    },
    {
      "cell_type": "code",
      "metadata": {
        "colab": {
          "base_uri": "https://localhost:8080/"
        },
        "id": "ndfRWiiEBbdP",
        "outputId": "41c692f4-293f-4b33-a6d9-360eeff566c9"
      },
      "source": [
        "s.str.rfind('apple')"
      ],
      "execution_count": 61,
      "outputs": [
        {
          "output_type": "execute_result",
          "data": {
            "text/plain": [
              "0    33\n",
              "dtype: int64"
            ]
          },
          "metadata": {
            "tags": []
          },
          "execution_count": 61
        }
      ]
    },
    {
      "cell_type": "markdown",
      "metadata": {
        "id": "byndi3j2Be4T"
      },
      "source": [
        "#### 4. 替换\r\n",
        "`str.replace` 和 `replace` 并不是一个函数，在使用字符串替换时应当使用前者。"
      ]
    },
    {
      "cell_type": "code",
      "metadata": {
        "colab": {
          "base_uri": "https://localhost:8080/"
        },
        "id": "yWTS7vlsBc2x",
        "outputId": "9426bedd-7427-4f5e-c9ce-8ef1cd33e2ae"
      },
      "source": [
        "s = pd.Series(['a_1_b','c_?'])\r\n",
        "s.str.replace('\\d|\\?', 'new', regex=True)"
      ],
      "execution_count": 62,
      "outputs": [
        {
          "output_type": "execute_result",
          "data": {
            "text/plain": [
              "0    a_new_b\n",
              "1      c_new\n",
              "dtype: object"
            ]
          },
          "metadata": {
            "tags": []
          },
          "execution_count": 62
        }
      ]
    },
    {
      "cell_type": "markdown",
      "metadata": {
        "id": "ZaT_V6NkCOFU"
      },
      "source": [
        "当需要对不同部分进行有差别的替换时，可以利用 子组 的方法，并且此时可以通过传入自定义的替换函数来分别进行处理，注意 group(k) 代表匹配到的第 k 个子组（圆括号之间的内容）"
      ]
    },
    {
      "cell_type": "code",
      "metadata": {
        "id": "uz4fTYMUCMo5"
      },
      "source": [
        "s = pd.Series(['上海市黄浦区方浜中路249号',\r\n",
        "           '上海市宝山区密山路5号',\r\n",
        "           '北京市昌平区北农路2号'])"
      ],
      "execution_count": 63,
      "outputs": []
    },
    {
      "cell_type": "code",
      "metadata": {
        "id": "uYBg3eNSCRUZ"
      },
      "source": [
        "pat = '(\\w+市)(\\w+区)(\\w+路)(\\d+号)'\r\n",
        "\r\n",
        "city = {'上海市': 'Shanghai', '北京市': 'Beijing'}\r\n",
        "\r\n",
        "district = {'昌平区': 'CP District',\r\n",
        "     '黄浦区': 'HP District',\r\n",
        "     '宝山区': 'BS District'}\r\n",
        "\r\n",
        "road = {'方浜中路': 'Mid Fangbin Road',\r\n",
        "   '密山路': 'Mishan Road',\r\n",
        "   '北农路': 'Beinong Road'}"
      ],
      "execution_count": 64,
      "outputs": []
    },
    {
      "cell_type": "code",
      "metadata": {
        "id": "G6cSJFhFCZC_"
      },
      "source": [
        "def my_func(m):\r\n",
        "    str_city = city[m.group(1)]\r\n",
        "    str_district = district[m.group(2)]\r\n",
        "    str_road = road[m.group(3)]\r\n",
        "    str_no = 'No. ' + m.group(4)[:-1]\r\n",
        "    return ' '.join([str_city,\r\n",
        "        str_district,\r\n",
        "        str_road,\r\n",
        "        str_no])"
      ],
      "execution_count": 65,
      "outputs": []
    },
    {
      "cell_type": "code",
      "metadata": {
        "colab": {
          "base_uri": "https://localhost:8080/"
        },
        "id": "eYEr07_9CiGm",
        "outputId": "a8879d52-5865-4071-b534-4216eb4e8fcd"
      },
      "source": [
        "s.str.replace(pat, my_func, regex=True)"
      ],
      "execution_count": 67,
      "outputs": [
        {
          "output_type": "execute_result",
          "data": {
            "text/plain": [
              "0    Shanghai HP District Mid Fangbin Road No. 249\n",
              "1           Shanghai BS District Mishan Road No. 5\n",
              "2           Beijing CP District Beinong Road No. 2\n",
              "dtype: object"
            ]
          },
          "metadata": {
            "tags": []
          },
          "execution_count": 67
        }
      ]
    },
    {
      "cell_type": "code",
      "metadata": {
        "id": "NMzT0GupCjZ2"
      },
      "source": [
        "# 使用 命名子组 更加清晰地写出子组代表的含义\r\n",
        "pat = '(?P<市名>\\w+市)(?P<区名>\\w+区)(?P<路名>\\w+路)(?P<编号>\\d+号)'\r\n",
        "def my_func(m):\r\n",
        "    str_city = city[m.group('市名')]\r\n",
        "    str_district = district[m.group('区名')]\r\n",
        "    str_road = road[m.group('路名')]\r\n",
        "    str_no = 'No. ' + m.group('编号')[:-1]\r\n",
        "    return ' '.join([str_city,\r\n",
        "        str_district,\r\n",
        "        str_road,\r\n",
        "        str_no])"
      ],
      "execution_count": 68,
      "outputs": []
    },
    {
      "cell_type": "code",
      "metadata": {
        "colab": {
          "base_uri": "https://localhost:8080/"
        },
        "id": "aHAvp12dDFp2",
        "outputId": "e4685b13-de30-4bb0-8dfe-c73b169f4677"
      },
      "source": [
        "s.str.replace(pat, my_func, regex=True)"
      ],
      "execution_count": 69,
      "outputs": [
        {
          "output_type": "execute_result",
          "data": {
            "text/plain": [
              "0    Shanghai HP District Mid Fangbin Road No. 249\n",
              "1           Shanghai BS District Mishan Road No. 5\n",
              "2           Beijing CP District Beinong Road No. 2\n",
              "dtype: object"
            ]
          },
          "metadata": {
            "tags": []
          },
          "execution_count": 69
        }
      ]
    },
    {
      "cell_type": "markdown",
      "metadata": {
        "id": "h1eovDtWDHkL"
      },
      "source": [
        "#### 5. 提取\r\n",
        "\r\n",
        "提取既可以认为是一种返回具体元素（而不是布尔值或元素对应的索引位置）的匹配操作，也可以认为是一种特殊的拆分操作。"
      ]
    },
    {
      "cell_type": "code",
      "metadata": {
        "colab": {
          "base_uri": "https://localhost:8080/",
          "height": 137
        },
        "id": "WTP2EmuyDGm8",
        "outputId": "41f8773e-5a47-4951-fa83-f6c8db3d6893"
      },
      "source": [
        "pat = '(\\w+市)(\\w+区)(\\w+路)(\\d+号)'\r\n",
        "s.str.extract(pat)"
      ],
      "execution_count": 70,
      "outputs": [
        {
          "output_type": "execute_result",
          "data": {
            "text/html": [
              "<div>\n",
              "<style scoped>\n",
              "    .dataframe tbody tr th:only-of-type {\n",
              "        vertical-align: middle;\n",
              "    }\n",
              "\n",
              "    .dataframe tbody tr th {\n",
              "        vertical-align: top;\n",
              "    }\n",
              "\n",
              "    .dataframe thead th {\n",
              "        text-align: right;\n",
              "    }\n",
              "</style>\n",
              "<table border=\"1\" class=\"dataframe\">\n",
              "  <thead>\n",
              "    <tr style=\"text-align: right;\">\n",
              "      <th></th>\n",
              "      <th>0</th>\n",
              "      <th>1</th>\n",
              "      <th>2</th>\n",
              "      <th>3</th>\n",
              "    </tr>\n",
              "  </thead>\n",
              "  <tbody>\n",
              "    <tr>\n",
              "      <th>0</th>\n",
              "      <td>上海市</td>\n",
              "      <td>黄浦区</td>\n",
              "      <td>方浜中路</td>\n",
              "      <td>249号</td>\n",
              "    </tr>\n",
              "    <tr>\n",
              "      <th>1</th>\n",
              "      <td>上海市</td>\n",
              "      <td>宝山区</td>\n",
              "      <td>密山路</td>\n",
              "      <td>5号</td>\n",
              "    </tr>\n",
              "    <tr>\n",
              "      <th>2</th>\n",
              "      <td>北京市</td>\n",
              "      <td>昌平区</td>\n",
              "      <td>北农路</td>\n",
              "      <td>2号</td>\n",
              "    </tr>\n",
              "  </tbody>\n",
              "</table>\n",
              "</div>"
            ],
            "text/plain": [
              "     0    1     2     3\n",
              "0  上海市  黄浦区  方浜中路  249号\n",
              "1  上海市  宝山区   密山路    5号\n",
              "2  北京市  昌平区   北农路    2号"
            ]
          },
          "metadata": {
            "tags": []
          },
          "execution_count": 70
        }
      ]
    },
    {
      "cell_type": "markdown",
      "metadata": {
        "id": "jFwTIEiKDOIt"
      },
      "source": [
        "通过子组的命名，可以直接对新生成 DataFrame 的列命名："
      ]
    },
    {
      "cell_type": "code",
      "metadata": {
        "colab": {
          "base_uri": "https://localhost:8080/",
          "height": 137
        },
        "id": "6mdZk4f-DM8g",
        "outputId": "a8938aa1-c1f8-41f7-e431-6762a841075f"
      },
      "source": [
        "pat = '(?P<市名>\\w+市)(?P<区名>\\w+区)(?P<路名>\\w+路)(?P<编号>\\d+号)'\r\n",
        "s.str.extract(pat)"
      ],
      "execution_count": 71,
      "outputs": [
        {
          "output_type": "execute_result",
          "data": {
            "text/html": [
              "<div>\n",
              "<style scoped>\n",
              "    .dataframe tbody tr th:only-of-type {\n",
              "        vertical-align: middle;\n",
              "    }\n",
              "\n",
              "    .dataframe tbody tr th {\n",
              "        vertical-align: top;\n",
              "    }\n",
              "\n",
              "    .dataframe thead th {\n",
              "        text-align: right;\n",
              "    }\n",
              "</style>\n",
              "<table border=\"1\" class=\"dataframe\">\n",
              "  <thead>\n",
              "    <tr style=\"text-align: right;\">\n",
              "      <th></th>\n",
              "      <th>市名</th>\n",
              "      <th>区名</th>\n",
              "      <th>路名</th>\n",
              "      <th>编号</th>\n",
              "    </tr>\n",
              "  </thead>\n",
              "  <tbody>\n",
              "    <tr>\n",
              "      <th>0</th>\n",
              "      <td>上海市</td>\n",
              "      <td>黄浦区</td>\n",
              "      <td>方浜中路</td>\n",
              "      <td>249号</td>\n",
              "    </tr>\n",
              "    <tr>\n",
              "      <th>1</th>\n",
              "      <td>上海市</td>\n",
              "      <td>宝山区</td>\n",
              "      <td>密山路</td>\n",
              "      <td>5号</td>\n",
              "    </tr>\n",
              "    <tr>\n",
              "      <th>2</th>\n",
              "      <td>北京市</td>\n",
              "      <td>昌平区</td>\n",
              "      <td>北农路</td>\n",
              "      <td>2号</td>\n",
              "    </tr>\n",
              "  </tbody>\n",
              "</table>\n",
              "</div>"
            ],
            "text/plain": [
              "    市名   区名    路名    编号\n",
              "0  上海市  黄浦区  方浜中路  249号\n",
              "1  上海市  宝山区   密山路    5号\n",
              "2  北京市  昌平区   北农路    2号"
            ]
          },
          "metadata": {
            "tags": []
          },
          "execution_count": 71
        }
      ]
    },
    {
      "cell_type": "markdown",
      "metadata": {
        "id": "Ebo0GtJADRlV"
      },
      "source": [
        "str.extractall 不同于 str.extract 只匹配一次，它会把所有符合条件的模式全部匹配出来，如果存在多个结果，则以多级索引的方式存储。"
      ]
    },
    {
      "cell_type": "code",
      "metadata": {
        "colab": {
          "base_uri": "https://localhost:8080/",
          "height": 197
        },
        "id": "K4kN807CDQkd",
        "outputId": "11e3d202-81a1-4209-c4ac-23cd2da8fd87"
      },
      "source": [
        "s = pd.Series(['A135T15,A26S5','B674S2,B25T6'], index = ['my_A','my_B'])\r\n",
        "pat = '[A|B](\\d+)[T|S](\\d+)'\r\n",
        "s.str.extractall(pat)"
      ],
      "execution_count": 72,
      "outputs": [
        {
          "output_type": "execute_result",
          "data": {
            "text/html": [
              "<div>\n",
              "<style scoped>\n",
              "    .dataframe tbody tr th:only-of-type {\n",
              "        vertical-align: middle;\n",
              "    }\n",
              "\n",
              "    .dataframe tbody tr th {\n",
              "        vertical-align: top;\n",
              "    }\n",
              "\n",
              "    .dataframe thead th {\n",
              "        text-align: right;\n",
              "    }\n",
              "</style>\n",
              "<table border=\"1\" class=\"dataframe\">\n",
              "  <thead>\n",
              "    <tr style=\"text-align: right;\">\n",
              "      <th></th>\n",
              "      <th></th>\n",
              "      <th>0</th>\n",
              "      <th>1</th>\n",
              "    </tr>\n",
              "    <tr>\n",
              "      <th></th>\n",
              "      <th>match</th>\n",
              "      <th></th>\n",
              "      <th></th>\n",
              "    </tr>\n",
              "  </thead>\n",
              "  <tbody>\n",
              "    <tr>\n",
              "      <th rowspan=\"2\" valign=\"top\">my_A</th>\n",
              "      <th>0</th>\n",
              "      <td>135</td>\n",
              "      <td>15</td>\n",
              "    </tr>\n",
              "    <tr>\n",
              "      <th>1</th>\n",
              "      <td>26</td>\n",
              "      <td>5</td>\n",
              "    </tr>\n",
              "    <tr>\n",
              "      <th rowspan=\"2\" valign=\"top\">my_B</th>\n",
              "      <th>0</th>\n",
              "      <td>674</td>\n",
              "      <td>2</td>\n",
              "    </tr>\n",
              "    <tr>\n",
              "      <th>1</th>\n",
              "      <td>25</td>\n",
              "      <td>6</td>\n",
              "    </tr>\n",
              "  </tbody>\n",
              "</table>\n",
              "</div>"
            ],
            "text/plain": [
              "              0   1\n",
              "     match         \n",
              "my_A 0      135  15\n",
              "     1       26   5\n",
              "my_B 0      674   2\n",
              "     1       25   6"
            ]
          },
          "metadata": {
            "tags": []
          },
          "execution_count": 72
        }
      ]
    },
    {
      "cell_type": "code",
      "metadata": {
        "id": "6BVEn26XDV_2"
      },
      "source": [
        "pat_with_name = '[A|B](?P<name1>\\d+)[T|S](?P<name2>\\d+)'"
      ],
      "execution_count": 73,
      "outputs": []
    },
    {
      "cell_type": "code",
      "metadata": {
        "colab": {
          "base_uri": "https://localhost:8080/",
          "height": 197
        },
        "id": "ptNTEqciDXME",
        "outputId": "f769deb6-3548-4d65-be2e-0501f4c7552c"
      },
      "source": [
        "s.str.extractall(pat_with_name)"
      ],
      "execution_count": 74,
      "outputs": [
        {
          "output_type": "execute_result",
          "data": {
            "text/html": [
              "<div>\n",
              "<style scoped>\n",
              "    .dataframe tbody tr th:only-of-type {\n",
              "        vertical-align: middle;\n",
              "    }\n",
              "\n",
              "    .dataframe tbody tr th {\n",
              "        vertical-align: top;\n",
              "    }\n",
              "\n",
              "    .dataframe thead th {\n",
              "        text-align: right;\n",
              "    }\n",
              "</style>\n",
              "<table border=\"1\" class=\"dataframe\">\n",
              "  <thead>\n",
              "    <tr style=\"text-align: right;\">\n",
              "      <th></th>\n",
              "      <th></th>\n",
              "      <th>name1</th>\n",
              "      <th>name2</th>\n",
              "    </tr>\n",
              "    <tr>\n",
              "      <th></th>\n",
              "      <th>match</th>\n",
              "      <th></th>\n",
              "      <th></th>\n",
              "    </tr>\n",
              "  </thead>\n",
              "  <tbody>\n",
              "    <tr>\n",
              "      <th rowspan=\"2\" valign=\"top\">my_A</th>\n",
              "      <th>0</th>\n",
              "      <td>135</td>\n",
              "      <td>15</td>\n",
              "    </tr>\n",
              "    <tr>\n",
              "      <th>1</th>\n",
              "      <td>26</td>\n",
              "      <td>5</td>\n",
              "    </tr>\n",
              "    <tr>\n",
              "      <th rowspan=\"2\" valign=\"top\">my_B</th>\n",
              "      <th>0</th>\n",
              "      <td>674</td>\n",
              "      <td>2</td>\n",
              "    </tr>\n",
              "    <tr>\n",
              "      <th>1</th>\n",
              "      <td>25</td>\n",
              "      <td>6</td>\n",
              "    </tr>\n",
              "  </tbody>\n",
              "</table>\n",
              "</div>"
            ],
            "text/plain": [
              "           name1 name2\n",
              "     match            \n",
              "my_A 0       135    15\n",
              "     1        26     5\n",
              "my_B 0       674     2\n",
              "     1        25     6"
            ]
          },
          "metadata": {
            "tags": []
          },
          "execution_count": 74
        }
      ]
    },
    {
      "cell_type": "markdown",
      "metadata": {
        "id": "kpa9uFo5DZr-"
      },
      "source": [
        "str.findall 的功能类似于 str.extractall ，区别在于前者把结果存入列表中，而后者处理为多级索引，每个行只对应一组匹配，而不是把所有匹配组合构成列表。"
      ]
    },
    {
      "cell_type": "code",
      "metadata": {
        "colab": {
          "base_uri": "https://localhost:8080/"
        },
        "id": "1gcOkF8fDYVS",
        "outputId": "65974d35-5aa3-4b7b-8f7f-8fd2bfb9feb5"
      },
      "source": [
        "s.str.findall(pat)"
      ],
      "execution_count": 75,
      "outputs": [
        {
          "output_type": "execute_result",
          "data": {
            "text/plain": [
              "my_A    [(135, 15), (26, 5)]\n",
              "my_B     [(674, 2), (25, 6)]\n",
              "dtype: object"
            ]
          },
          "metadata": {
            "tags": []
          },
          "execution_count": 75
        }
      ]
    },
    {
      "cell_type": "markdown",
      "metadata": {
        "id": "1n9BMeKBDcOE"
      },
      "source": [
        "### 四、常用字符串函数\r\n",
        "#### 1. 字母型函数\r\n",
        "upper, lower, title, capitalize, swapcase 这五个函数主要用于字母的大小写转化"
      ]
    },
    {
      "cell_type": "code",
      "metadata": {
        "colab": {
          "base_uri": "https://localhost:8080/"
        },
        "id": "u2csa7UrDbZr",
        "outputId": "3e8c0e7a-27e2-4afa-81a9-fe241cb0896c"
      },
      "source": [
        "s = pd.Series(['lower', 'CAPITALS', 'this is a sentence', 'SwApCaSe'])\r\n",
        "s.str.upper()"
      ],
      "execution_count": 76,
      "outputs": [
        {
          "output_type": "execute_result",
          "data": {
            "text/plain": [
              "0                 LOWER\n",
              "1              CAPITALS\n",
              "2    THIS IS A SENTENCE\n",
              "3              SWAPCASE\n",
              "dtype: object"
            ]
          },
          "metadata": {
            "tags": []
          },
          "execution_count": 76
        }
      ]
    },
    {
      "cell_type": "code",
      "metadata": {
        "colab": {
          "base_uri": "https://localhost:8080/"
        },
        "id": "-HmYpC_iDkGr",
        "outputId": "c13379ad-c641-44ba-a32a-40780f9d1b6f"
      },
      "source": [
        "s.str.lower()"
      ],
      "execution_count": 77,
      "outputs": [
        {
          "output_type": "execute_result",
          "data": {
            "text/plain": [
              "0                 lower\n",
              "1              capitals\n",
              "2    this is a sentence\n",
              "3              swapcase\n",
              "dtype: object"
            ]
          },
          "metadata": {
            "tags": []
          },
          "execution_count": 77
        }
      ]
    },
    {
      "cell_type": "code",
      "metadata": {
        "colab": {
          "base_uri": "https://localhost:8080/"
        },
        "id": "cvRLpOeXDljR",
        "outputId": "16f9bc3d-3795-458a-c8a8-4b6704c70ad4"
      },
      "source": [
        "s.str.title()"
      ],
      "execution_count": 78,
      "outputs": [
        {
          "output_type": "execute_result",
          "data": {
            "text/plain": [
              "0                 Lower\n",
              "1              Capitals\n",
              "2    This Is A Sentence\n",
              "3              Swapcase\n",
              "dtype: object"
            ]
          },
          "metadata": {
            "tags": []
          },
          "execution_count": 78
        }
      ]
    },
    {
      "cell_type": "code",
      "metadata": {
        "colab": {
          "base_uri": "https://localhost:8080/"
        },
        "id": "p4hTvr3gDmif",
        "outputId": "dcd534b2-d2c3-44b2-8f20-a82c10cc2de5"
      },
      "source": [
        "s.str.capitalize()"
      ],
      "execution_count": 79,
      "outputs": [
        {
          "output_type": "execute_result",
          "data": {
            "text/plain": [
              "0                 Lower\n",
              "1              Capitals\n",
              "2    This is a sentence\n",
              "3              Swapcase\n",
              "dtype: object"
            ]
          },
          "metadata": {
            "tags": []
          },
          "execution_count": 79
        }
      ]
    },
    {
      "cell_type": "code",
      "metadata": {
        "colab": {
          "base_uri": "https://localhost:8080/"
        },
        "id": "ZvAWhJkhDngb",
        "outputId": "7220f9a9-dc14-4432-faec-f5d01c753564"
      },
      "source": [
        "s.str.swapcase()"
      ],
      "execution_count": 80,
      "outputs": [
        {
          "output_type": "execute_result",
          "data": {
            "text/plain": [
              "0                 LOWER\n",
              "1              capitals\n",
              "2    THIS IS A SENTENCE\n",
              "3              sWaPcAsE\n",
              "dtype: object"
            ]
          },
          "metadata": {
            "tags": []
          },
          "execution_count": 80
        }
      ]
    },
    {
      "cell_type": "markdown",
      "metadata": {
        "id": "5r8CcA1KEdu2"
      },
      "source": [
        "#### 2. 数值型函数\r\n",
        " pd.to_numeric 方法，它虽然不是 str 对象上的方法，但是能够对字符格式的数值进行快速转换和筛选。其主要参数包括 errors 和 downcast 分别代表了非数值的处理模式和转换类型。其中，对于不能转换为数值的有三种 errors 选项， raise, coerce, ignore 分别表示直接报错、设为缺失以及保持原来的字符串。"
      ]
    },
    {
      "cell_type": "code",
      "metadata": {
        "id": "9zitrsXkDov1"
      },
      "source": [
        "s = pd.Series(['1', '2.2', '2e', '??', '-2.1', '0'])"
      ],
      "execution_count": 81,
      "outputs": []
    },
    {
      "cell_type": "code",
      "metadata": {
        "colab": {
          "base_uri": "https://localhost:8080/"
        },
        "id": "hCzuNuSzEkKa",
        "outputId": "65a8120d-74f7-45c4-c2f4-0b7559eeadea"
      },
      "source": [
        "pd.to_numeric(s, errors='ignore')"
      ],
      "execution_count": 82,
      "outputs": [
        {
          "output_type": "execute_result",
          "data": {
            "text/plain": [
              "0       1\n",
              "1     2.2\n",
              "2      2e\n",
              "3      ??\n",
              "4    -2.1\n",
              "5       0\n",
              "dtype: object"
            ]
          },
          "metadata": {
            "tags": []
          },
          "execution_count": 82
        }
      ]
    },
    {
      "cell_type": "code",
      "metadata": {
        "colab": {
          "base_uri": "https://localhost:8080/"
        },
        "id": "IgCj67mrElPy",
        "outputId": "290942ae-a375-48fd-8d79-758a4be095bc"
      },
      "source": [
        "pd.to_numeric(s, errors='coerce')"
      ],
      "execution_count": 83,
      "outputs": [
        {
          "output_type": "execute_result",
          "data": {
            "text/plain": [
              "0    1.0\n",
              "1    2.2\n",
              "2    NaN\n",
              "3    NaN\n",
              "4   -2.1\n",
              "5    0.0\n",
              "dtype: float64"
            ]
          },
          "metadata": {
            "tags": []
          },
          "execution_count": 83
        }
      ]
    },
    {
      "cell_type": "markdown",
      "metadata": {
        "id": "4Bqx1ZR8EwQi"
      },
      "source": [
        "在数据清洗时，可以利用 coerce 的设定，快速查看非数值型的行："
      ]
    },
    {
      "cell_type": "code",
      "metadata": {
        "colab": {
          "base_uri": "https://localhost:8080/"
        },
        "id": "OxfKiF8BEmdM",
        "outputId": "d4150b97-a34c-4fac-c00c-83aa543d1916"
      },
      "source": [
        "s[pd.to_numeric(s, errors='coerce').isna()]"
      ],
      "execution_count": 84,
      "outputs": [
        {
          "output_type": "execute_result",
          "data": {
            "text/plain": [
              "2    2e\n",
              "3    ??\n",
              "dtype: object"
            ]
          },
          "metadata": {
            "tags": []
          },
          "execution_count": 84
        }
      ]
    },
    {
      "cell_type": "markdown",
      "metadata": {
        "id": "KkBYMddDEya8"
      },
      "source": [
        "#### 3. 统计型函数\r\n",
        "count 和 len 的作用分别是返回出现正则模式的次数和字符串的长度"
      ]
    },
    {
      "cell_type": "code",
      "metadata": {
        "id": "OEAdhqT0Ex0P"
      },
      "source": [
        "s = pd.Series(['cat rat fat at', 'get feed sheet heat'])"
      ],
      "execution_count": 85,
      "outputs": []
    },
    {
      "cell_type": "code",
      "metadata": {
        "colab": {
          "base_uri": "https://localhost:8080/"
        },
        "id": "bp4CDFEhE2gc",
        "outputId": "1a92673b-3841-4ba1-f5a9-988acee8aa86"
      },
      "source": [
        "s.str.count('[r|f]at|ee')"
      ],
      "execution_count": 86,
      "outputs": [
        {
          "output_type": "execute_result",
          "data": {
            "text/plain": [
              "0    2\n",
              "1    2\n",
              "dtype: int64"
            ]
          },
          "metadata": {
            "tags": []
          },
          "execution_count": 86
        }
      ]
    },
    {
      "cell_type": "code",
      "metadata": {
        "colab": {
          "base_uri": "https://localhost:8080/"
        },
        "id": "MLOf-PB-E3ck",
        "outputId": "481ec642-942e-4cc0-a561-990b862a557c"
      },
      "source": [
        "s.str.len()"
      ],
      "execution_count": 87,
      "outputs": [
        {
          "output_type": "execute_result",
          "data": {
            "text/plain": [
              "0    14\n",
              "1    19\n",
              "dtype: int64"
            ]
          },
          "metadata": {
            "tags": []
          },
          "execution_count": 87
        }
      ]
    },
    {
      "cell_type": "markdown",
      "metadata": {
        "id": "UDiR_ELaE5PE"
      },
      "source": [
        "#### 4. 格式型函数\r\n",
        "* 除空型\r\n",
        "* 填充型。\r\n",
        "\r\n",
        "其中，第一类函数一共有三种，它们分别是 strip, rstrip, lstrip ，分别代表去除两侧空格、右侧空格和左侧空格。这些函数在数据清洗时是有用的，特别是列名含有非法空格的时候。"
      ]
    },
    {
      "cell_type": "code",
      "metadata": {
        "id": "R1NYDEJ9E4T9"
      },
      "source": [
        "my_index = pd.Index([' col1', 'col2 ', ' col3 '])"
      ],
      "execution_count": 88,
      "outputs": []
    },
    {
      "cell_type": "code",
      "metadata": {
        "colab": {
          "base_uri": "https://localhost:8080/"
        },
        "id": "tY7WPgdNFCYD",
        "outputId": "24c125ec-d96c-431b-fd62-60855c63d07c"
      },
      "source": [
        "my_index.str.strip().str.len()"
      ],
      "execution_count": 89,
      "outputs": [
        {
          "output_type": "execute_result",
          "data": {
            "text/plain": [
              "Int64Index([4, 4, 4], dtype='int64')"
            ]
          },
          "metadata": {
            "tags": []
          },
          "execution_count": 89
        }
      ]
    },
    {
      "cell_type": "code",
      "metadata": {
        "colab": {
          "base_uri": "https://localhost:8080/"
        },
        "id": "SRT0DG-nFDve",
        "outputId": "2b38296e-a859-429f-e12d-17b3e15fef6b"
      },
      "source": [
        "my_index.str.rstrip().str.len()"
      ],
      "execution_count": 90,
      "outputs": [
        {
          "output_type": "execute_result",
          "data": {
            "text/plain": [
              "Int64Index([5, 4, 5], dtype='int64')"
            ]
          },
          "metadata": {
            "tags": []
          },
          "execution_count": 90
        }
      ]
    },
    {
      "cell_type": "code",
      "metadata": {
        "colab": {
          "base_uri": "https://localhost:8080/"
        },
        "id": "5fZ39M0JFEoh",
        "outputId": "8bbb2e1d-1317-4265-8fb1-06110175edb6"
      },
      "source": [
        "my_index.str.lstrip().str.len()"
      ],
      "execution_count": 91,
      "outputs": [
        {
          "output_type": "execute_result",
          "data": {
            "text/plain": [
              "Int64Index([4, 5, 5], dtype='int64')"
            ]
          },
          "metadata": {
            "tags": []
          },
          "execution_count": 91
        }
      ]
    },
    {
      "cell_type": "markdown",
      "metadata": {
        "id": "gWm4pCJ2FG_0"
      },
      "source": [
        "对于填充型函数而言， pad 是最灵活的，它可以选定字符串长度、填充的方向和填充内容。"
      ]
    },
    {
      "cell_type": "code",
      "metadata": {
        "id": "gszbFuTsFFo3"
      },
      "source": [
        "s = pd.Series(['a','b','c'])"
      ],
      "execution_count": 93,
      "outputs": []
    },
    {
      "cell_type": "code",
      "metadata": {
        "colab": {
          "base_uri": "https://localhost:8080/"
        },
        "id": "kjlVX_IuFIcE",
        "outputId": "c4245bd3-6c4f-4051-fe72-48c79c2b452e"
      },
      "source": [
        "s.str.pad(5,'left','*')"
      ],
      "execution_count": 94,
      "outputs": [
        {
          "output_type": "execute_result",
          "data": {
            "text/plain": [
              "0    ****a\n",
              "1    ****b\n",
              "2    ****c\n",
              "dtype: object"
            ]
          },
          "metadata": {
            "tags": []
          },
          "execution_count": 94
        }
      ]
    },
    {
      "cell_type": "code",
      "metadata": {
        "colab": {
          "base_uri": "https://localhost:8080/"
        },
        "id": "X7vKENxJFKQq",
        "outputId": "d22741d7-1d24-44be-cec1-ad12fcd3442b"
      },
      "source": [
        "s.str.pad(5,'right','*')"
      ],
      "execution_count": 96,
      "outputs": [
        {
          "output_type": "execute_result",
          "data": {
            "text/plain": [
              "0    a****\n",
              "1    b****\n",
              "2    c****\n",
              "dtype: object"
            ]
          },
          "metadata": {
            "tags": []
          },
          "execution_count": 96
        }
      ]
    },
    {
      "cell_type": "code",
      "metadata": {
        "colab": {
          "base_uri": "https://localhost:8080/"
        },
        "id": "mkUgSuddFLHC",
        "outputId": "e05c2d02-99fa-473e-ab2d-41ebd3912bc4"
      },
      "source": [
        "s.str.pad(5,'both','*')"
      ],
      "execution_count": 97,
      "outputs": [
        {
          "output_type": "execute_result",
          "data": {
            "text/plain": [
              "0    **a**\n",
              "1    **b**\n",
              "2    **c**\n",
              "dtype: object"
            ]
          },
          "metadata": {
            "tags": []
          },
          "execution_count": 97
        }
      ]
    },
    {
      "cell_type": "markdown",
      "metadata": {
        "id": "Zrhhafi_FPAD"
      },
      "source": [
        "上述的三种情况可以分别用 rjust, ljust, center 来等效完成，需要注意 ljust 是指右侧填充而不是左侧填充"
      ]
    },
    {
      "cell_type": "code",
      "metadata": {
        "colab": {
          "base_uri": "https://localhost:8080/"
        },
        "id": "oUcpccpfFNH0",
        "outputId": "8a2f8216-90c3-4483-840d-2b03aade54ff"
      },
      "source": [
        "s.str.rjust(5, '*')"
      ],
      "execution_count": 98,
      "outputs": [
        {
          "output_type": "execute_result",
          "data": {
            "text/plain": [
              "0    ****a\n",
              "1    ****b\n",
              "2    ****c\n",
              "dtype: object"
            ]
          },
          "metadata": {
            "tags": []
          },
          "execution_count": 98
        }
      ]
    },
    {
      "cell_type": "code",
      "metadata": {
        "colab": {
          "base_uri": "https://localhost:8080/"
        },
        "id": "OuNwDJgcFQfI",
        "outputId": "24f15495-a92e-492e-ebd2-b2655dd21883"
      },
      "source": [
        "s.str.ljust(5, '*')"
      ],
      "execution_count": 99,
      "outputs": [
        {
          "output_type": "execute_result",
          "data": {
            "text/plain": [
              "0    a****\n",
              "1    b****\n",
              "2    c****\n",
              "dtype: object"
            ]
          },
          "metadata": {
            "tags": []
          },
          "execution_count": 99
        }
      ]
    },
    {
      "cell_type": "code",
      "metadata": {
        "colab": {
          "base_uri": "https://localhost:8080/"
        },
        "id": "PMRs0-g8FRz7",
        "outputId": "a62a92d0-5c1c-4fd2-c04d-8e16c9e7492c"
      },
      "source": [
        "s.str.center(5, '*')"
      ],
      "execution_count": 100,
      "outputs": [
        {
          "output_type": "execute_result",
          "data": {
            "text/plain": [
              "0    **a**\n",
              "1    **b**\n",
              "2    **c**\n",
              "dtype: object"
            ]
          },
          "metadata": {
            "tags": []
          },
          "execution_count": 100
        }
      ]
    },
    {
      "cell_type": "markdown",
      "metadata": {
        "id": "Ji0EYXjEFVh5"
      },
      "source": [
        "在读取 excel 文件时，经常会出现数字前补0的需求，例如证券代码读入的时候会把”000007”作为数值7来处理， pandas 中除了可以使用上面的左侧填充函数进行操作之外，还可用 zfill 来实现"
      ]
    },
    {
      "cell_type": "code",
      "metadata": {
        "id": "L29NSPWvFSrD"
      },
      "source": [
        "s = pd.Series([7, 155, 303000]).astype('string')"
      ],
      "execution_count": 101,
      "outputs": []
    },
    {
      "cell_type": "code",
      "metadata": {
        "colab": {
          "base_uri": "https://localhost:8080/"
        },
        "id": "Kl3TdQEMFWr8",
        "outputId": "73aa0247-2e74-400d-d6a3-844e3f9f927d"
      },
      "source": [
        "s.str.pad(6,'left','0')"
      ],
      "execution_count": 102,
      "outputs": [
        {
          "output_type": "execute_result",
          "data": {
            "text/plain": [
              "0    000007\n",
              "1    000155\n",
              "2    303000\n",
              "dtype: string"
            ]
          },
          "metadata": {
            "tags": []
          },
          "execution_count": 102
        }
      ]
    },
    {
      "cell_type": "code",
      "metadata": {
        "colab": {
          "base_uri": "https://localhost:8080/"
        },
        "id": "Y3mFomQ2FXko",
        "outputId": "e1599cc6-f396-4fbb-9740-17f38c5992cb"
      },
      "source": [
        "s.str.rjust(6,'0')"
      ],
      "execution_count": 103,
      "outputs": [
        {
          "output_type": "execute_result",
          "data": {
            "text/plain": [
              "0    000007\n",
              "1    000155\n",
              "2    303000\n",
              "dtype: string"
            ]
          },
          "metadata": {
            "tags": []
          },
          "execution_count": 103
        }
      ]
    },
    {
      "cell_type": "code",
      "metadata": {
        "colab": {
          "base_uri": "https://localhost:8080/"
        },
        "id": "evjuEXM2FYaa",
        "outputId": "593dba2f-9e92-4438-cf64-a01a67b0363e"
      },
      "source": [
        "s.str.zfill(6)"
      ],
      "execution_count": 104,
      "outputs": [
        {
          "output_type": "execute_result",
          "data": {
            "text/plain": [
              "0    000007\n",
              "1    000155\n",
              "2    303000\n",
              "dtype: string"
            ]
          },
          "metadata": {
            "tags": []
          },
          "execution_count": 104
        }
      ]
    },
    {
      "cell_type": "markdown",
      "metadata": {
        "id": "tVeh1sxJFZ9p"
      },
      "source": [
        "### 五、练习\r\n",
        "#### Ex1：房屋信息数据集\r\n",
        "现有一份房屋信息数据集如下：\r\n",
        "```python\r\n",
        "In [114]: df = pd.read_excel('data/house_info.xls', usecols=[\r\n",
        "   .....:                 'floor','year','area','price'])\r\n",
        "   .....: \r\n",
        "\r\n",
        "In [115]: df.head(3)\r\n",
        "Out[115]: \r\n",
        "      floor    year    area price\r\n",
        "0   高层（共6层）  1986年建  58.23㎡  155万\r\n",
        "1  中层（共20层）  2020年建     88㎡  155万\r\n",
        "2  低层（共28层）  2010年建  89.33㎡  365万\r\n",
        "```\r\n",
        "1. 将 year 列改为整数年份存储。\r\n",
        "\r\n",
        "2. 将 floor 列替换为 Level, Highest 两列，其中的元素分别为 string 类型的层类别（高层、中层、低层）与整数类型的最高层数。\r\n",
        "\r\n",
        "3. 计算房屋每平米的均价 avg_price ，以 \\*** 元/平米 的格式存储到表中，其中 \\*** 为整数。"
      ]
    },
    {
      "cell_type": "code",
      "metadata": {
        "id": "9p6l4SSTFZbS"
      },
      "source": [
        "df = pd.read_excel('data/house_info.xls', usecols=[\r\n",
        "            'floor','year','area','price'])"
      ],
      "execution_count": 105,
      "outputs": []
    },
    {
      "cell_type": "code",
      "metadata": {
        "colab": {
          "base_uri": "https://localhost:8080/",
          "height": 197
        },
        "id": "Co9_r0zoFl8K",
        "outputId": "256dc421-8f53-439c-f665-ec5f0b424e8e"
      },
      "source": [
        "df.head()"
      ],
      "execution_count": 107,
      "outputs": [
        {
          "output_type": "execute_result",
          "data": {
            "text/html": [
              "<div>\n",
              "<style scoped>\n",
              "    .dataframe tbody tr th:only-of-type {\n",
              "        vertical-align: middle;\n",
              "    }\n",
              "\n",
              "    .dataframe tbody tr th {\n",
              "        vertical-align: top;\n",
              "    }\n",
              "\n",
              "    .dataframe thead th {\n",
              "        text-align: right;\n",
              "    }\n",
              "</style>\n",
              "<table border=\"1\" class=\"dataframe\">\n",
              "  <thead>\n",
              "    <tr style=\"text-align: right;\">\n",
              "      <th></th>\n",
              "      <th>floor</th>\n",
              "      <th>year</th>\n",
              "      <th>area</th>\n",
              "      <th>price</th>\n",
              "    </tr>\n",
              "  </thead>\n",
              "  <tbody>\n",
              "    <tr>\n",
              "      <th>0</th>\n",
              "      <td>高层（共6层）</td>\n",
              "      <td>1986年建</td>\n",
              "      <td>58.23㎡</td>\n",
              "      <td>155万</td>\n",
              "    </tr>\n",
              "    <tr>\n",
              "      <th>1</th>\n",
              "      <td>中层（共20层）</td>\n",
              "      <td>2020年建</td>\n",
              "      <td>88㎡</td>\n",
              "      <td>155万</td>\n",
              "    </tr>\n",
              "    <tr>\n",
              "      <th>2</th>\n",
              "      <td>低层（共28层）</td>\n",
              "      <td>2010年建</td>\n",
              "      <td>89.33㎡</td>\n",
              "      <td>365万</td>\n",
              "    </tr>\n",
              "    <tr>\n",
              "      <th>3</th>\n",
              "      <td>低层（共20层）</td>\n",
              "      <td>2014年建</td>\n",
              "      <td>82㎡</td>\n",
              "      <td>308万</td>\n",
              "    </tr>\n",
              "    <tr>\n",
              "      <th>4</th>\n",
              "      <td>高层（共1层）</td>\n",
              "      <td>2015年建</td>\n",
              "      <td>98㎡</td>\n",
              "      <td>117万</td>\n",
              "    </tr>\n",
              "  </tbody>\n",
              "</table>\n",
              "</div>"
            ],
            "text/plain": [
              "      floor    year    area price\n",
              "0   高层（共6层）  1986年建  58.23㎡  155万\n",
              "1  中层（共20层）  2020年建     88㎡  155万\n",
              "2  低层（共28层）  2010年建  89.33㎡  365万\n",
              "3  低层（共20层）  2014年建     82㎡  308万\n",
              "4   高层（共1层）  2015年建     98㎡  117万"
            ]
          },
          "metadata": {
            "tags": []
          },
          "execution_count": 107
        }
      ]
    },
    {
      "cell_type": "code",
      "metadata": {
        "colab": {
          "base_uri": "https://localhost:8080/",
          "height": 197
        },
        "id": "wzkWVwZ8FnR4",
        "outputId": "cf265988-cbd9-4c50-8d6e-bcfc42f2939d"
      },
      "source": [
        "# 1. 将 year 列改为整数年份存储\r\n",
        "df.year = pd.to_numeric(df.year.str[:-2]).astype('Int64')\r\n",
        "df.head()"
      ],
      "execution_count": 108,
      "outputs": [
        {
          "output_type": "execute_result",
          "data": {
            "text/html": [
              "<div>\n",
              "<style scoped>\n",
              "    .dataframe tbody tr th:only-of-type {\n",
              "        vertical-align: middle;\n",
              "    }\n",
              "\n",
              "    .dataframe tbody tr th {\n",
              "        vertical-align: top;\n",
              "    }\n",
              "\n",
              "    .dataframe thead th {\n",
              "        text-align: right;\n",
              "    }\n",
              "</style>\n",
              "<table border=\"1\" class=\"dataframe\">\n",
              "  <thead>\n",
              "    <tr style=\"text-align: right;\">\n",
              "      <th></th>\n",
              "      <th>floor</th>\n",
              "      <th>year</th>\n",
              "      <th>area</th>\n",
              "      <th>price</th>\n",
              "    </tr>\n",
              "  </thead>\n",
              "  <tbody>\n",
              "    <tr>\n",
              "      <th>0</th>\n",
              "      <td>高层（共6层）</td>\n",
              "      <td>1986</td>\n",
              "      <td>58.23㎡</td>\n",
              "      <td>155万</td>\n",
              "    </tr>\n",
              "    <tr>\n",
              "      <th>1</th>\n",
              "      <td>中层（共20层）</td>\n",
              "      <td>2020</td>\n",
              "      <td>88㎡</td>\n",
              "      <td>155万</td>\n",
              "    </tr>\n",
              "    <tr>\n",
              "      <th>2</th>\n",
              "      <td>低层（共28层）</td>\n",
              "      <td>2010</td>\n",
              "      <td>89.33㎡</td>\n",
              "      <td>365万</td>\n",
              "    </tr>\n",
              "    <tr>\n",
              "      <th>3</th>\n",
              "      <td>低层（共20层）</td>\n",
              "      <td>2014</td>\n",
              "      <td>82㎡</td>\n",
              "      <td>308万</td>\n",
              "    </tr>\n",
              "    <tr>\n",
              "      <th>4</th>\n",
              "      <td>高层（共1层）</td>\n",
              "      <td>2015</td>\n",
              "      <td>98㎡</td>\n",
              "      <td>117万</td>\n",
              "    </tr>\n",
              "  </tbody>\n",
              "</table>\n",
              "</div>"
            ],
            "text/plain": [
              "      floor  year    area price\n",
              "0   高层（共6层）  1986  58.23㎡  155万\n",
              "1  中层（共20层）  2020     88㎡  155万\n",
              "2  低层（共28层）  2010  89.33㎡  365万\n",
              "3  低层（共20层）  2014     82㎡  308万\n",
              "4   高层（共1层）  2015     98㎡  117万"
            ]
          },
          "metadata": {
            "tags": []
          },
          "execution_count": 108
        }
      ]
    },
    {
      "cell_type": "code",
      "metadata": {
        "colab": {
          "base_uri": "https://localhost:8080/",
          "height": 197
        },
        "id": "aI5fHDd5F2t0",
        "outputId": "26e98c1f-8d5a-40c4-d170-0d27b7a283e0"
      },
      "source": [
        "# 将 floor 列替换为 Level, Highest 两列，\r\n",
        "# 其中的元素分别为 string 类型的层类别（高层、中层、低层）与整数类型的最高层数。\r\n",
        "pat = '(\\w层)（共(\\d+)层）'\r\n",
        "\r\n",
        "new_cols = df.floor.str.extract(pat).rename(\r\n",
        "            columns={0:'Level', 1:'Highest'})\r\n",
        "\r\n",
        "df = pd.concat([df.drop(columns=['floor']), new_cols], 1)\r\n",
        "df.head()"
      ],
      "execution_count": 109,
      "outputs": [
        {
          "output_type": "execute_result",
          "data": {
            "text/html": [
              "<div>\n",
              "<style scoped>\n",
              "    .dataframe tbody tr th:only-of-type {\n",
              "        vertical-align: middle;\n",
              "    }\n",
              "\n",
              "    .dataframe tbody tr th {\n",
              "        vertical-align: top;\n",
              "    }\n",
              "\n",
              "    .dataframe thead th {\n",
              "        text-align: right;\n",
              "    }\n",
              "</style>\n",
              "<table border=\"1\" class=\"dataframe\">\n",
              "  <thead>\n",
              "    <tr style=\"text-align: right;\">\n",
              "      <th></th>\n",
              "      <th>year</th>\n",
              "      <th>area</th>\n",
              "      <th>price</th>\n",
              "      <th>Level</th>\n",
              "      <th>Highest</th>\n",
              "    </tr>\n",
              "  </thead>\n",
              "  <tbody>\n",
              "    <tr>\n",
              "      <th>0</th>\n",
              "      <td>1986</td>\n",
              "      <td>58.23㎡</td>\n",
              "      <td>155万</td>\n",
              "      <td>高层</td>\n",
              "      <td>6</td>\n",
              "    </tr>\n",
              "    <tr>\n",
              "      <th>1</th>\n",
              "      <td>2020</td>\n",
              "      <td>88㎡</td>\n",
              "      <td>155万</td>\n",
              "      <td>中层</td>\n",
              "      <td>20</td>\n",
              "    </tr>\n",
              "    <tr>\n",
              "      <th>2</th>\n",
              "      <td>2010</td>\n",
              "      <td>89.33㎡</td>\n",
              "      <td>365万</td>\n",
              "      <td>低层</td>\n",
              "      <td>28</td>\n",
              "    </tr>\n",
              "    <tr>\n",
              "      <th>3</th>\n",
              "      <td>2014</td>\n",
              "      <td>82㎡</td>\n",
              "      <td>308万</td>\n",
              "      <td>低层</td>\n",
              "      <td>20</td>\n",
              "    </tr>\n",
              "    <tr>\n",
              "      <th>4</th>\n",
              "      <td>2015</td>\n",
              "      <td>98㎡</td>\n",
              "      <td>117万</td>\n",
              "      <td>高层</td>\n",
              "      <td>1</td>\n",
              "    </tr>\n",
              "  </tbody>\n",
              "</table>\n",
              "</div>"
            ],
            "text/plain": [
              "   year    area price Level Highest\n",
              "0  1986  58.23㎡  155万    高层       6\n",
              "1  2020     88㎡  155万    中层      20\n",
              "2  2010  89.33㎡  365万    低层      28\n",
              "3  2014     82㎡  308万    低层      20\n",
              "4  2015     98㎡  117万    高层       1"
            ]
          },
          "metadata": {
            "tags": []
          },
          "execution_count": 109
        }
      ]
    },
    {
      "cell_type": "code",
      "metadata": {
        "colab": {
          "base_uri": "https://localhost:8080/",
          "height": 197
        },
        "id": "w8m8Mo1CGFv6",
        "outputId": "f946329e-d8d1-4296-ffbd-0272ace7e7d3"
      },
      "source": [
        "# 3. 计算房屋每平米的均价 avg_price ，\r\n",
        "# 以 \\***元/平米 的格式存储到表中，其中 \\*** 为整数。\r\n",
        "s_area = pd.to_numeric(df.area.str[:-1])\r\n",
        "s_price = pd.to_numeric(df.price.str[:-1])\r\n",
        "df['avg_price'] = ((s_price/s_area)*10000).astype(\r\n",
        "            'int').astype('string') + '元/平米'\r\n",
        "df.head()"
      ],
      "execution_count": 110,
      "outputs": [
        {
          "output_type": "execute_result",
          "data": {
            "text/html": [
              "<div>\n",
              "<style scoped>\n",
              "    .dataframe tbody tr th:only-of-type {\n",
              "        vertical-align: middle;\n",
              "    }\n",
              "\n",
              "    .dataframe tbody tr th {\n",
              "        vertical-align: top;\n",
              "    }\n",
              "\n",
              "    .dataframe thead th {\n",
              "        text-align: right;\n",
              "    }\n",
              "</style>\n",
              "<table border=\"1\" class=\"dataframe\">\n",
              "  <thead>\n",
              "    <tr style=\"text-align: right;\">\n",
              "      <th></th>\n",
              "      <th>year</th>\n",
              "      <th>area</th>\n",
              "      <th>price</th>\n",
              "      <th>Level</th>\n",
              "      <th>Highest</th>\n",
              "      <th>avg_price</th>\n",
              "    </tr>\n",
              "  </thead>\n",
              "  <tbody>\n",
              "    <tr>\n",
              "      <th>0</th>\n",
              "      <td>1986</td>\n",
              "      <td>58.23㎡</td>\n",
              "      <td>155万</td>\n",
              "      <td>高层</td>\n",
              "      <td>6</td>\n",
              "      <td>26618元/平米</td>\n",
              "    </tr>\n",
              "    <tr>\n",
              "      <th>1</th>\n",
              "      <td>2020</td>\n",
              "      <td>88㎡</td>\n",
              "      <td>155万</td>\n",
              "      <td>中层</td>\n",
              "      <td>20</td>\n",
              "      <td>17613元/平米</td>\n",
              "    </tr>\n",
              "    <tr>\n",
              "      <th>2</th>\n",
              "      <td>2010</td>\n",
              "      <td>89.33㎡</td>\n",
              "      <td>365万</td>\n",
              "      <td>低层</td>\n",
              "      <td>28</td>\n",
              "      <td>40859元/平米</td>\n",
              "    </tr>\n",
              "    <tr>\n",
              "      <th>3</th>\n",
              "      <td>2014</td>\n",
              "      <td>82㎡</td>\n",
              "      <td>308万</td>\n",
              "      <td>低层</td>\n",
              "      <td>20</td>\n",
              "      <td>37560元/平米</td>\n",
              "    </tr>\n",
              "    <tr>\n",
              "      <th>4</th>\n",
              "      <td>2015</td>\n",
              "      <td>98㎡</td>\n",
              "      <td>117万</td>\n",
              "      <td>高层</td>\n",
              "      <td>1</td>\n",
              "      <td>11938元/平米</td>\n",
              "    </tr>\n",
              "  </tbody>\n",
              "</table>\n",
              "</div>"
            ],
            "text/plain": [
              "   year    area price Level Highest  avg_price\n",
              "0  1986  58.23㎡  155万    高层       6  26618元/平米\n",
              "1  2020     88㎡  155万    中层      20  17613元/平米\n",
              "2  2010  89.33㎡  365万    低层      28  40859元/平米\n",
              "3  2014     82㎡  308万    低层      20  37560元/平米\n",
              "4  2015     98㎡  117万    高层       1  11938元/平米"
            ]
          },
          "metadata": {
            "tags": []
          },
          "execution_count": 110
        }
      ]
    },
    {
      "cell_type": "markdown",
      "metadata": {
        "id": "RRvcLm1VGWXW"
      },
      "source": [
        "#### Ex2：《权力的游戏》剧本数据集\r\n",
        "现有一份权力的游戏剧本数据集如下：\r\n",
        "```python\r\n",
        "In [116]: df = pd.read_csv('data/script.csv')\r\n",
        "\r\n",
        "In [117]: df.head(3)\r\n",
        "Out[117]: \r\n",
        "  Release Date    Season   Episode      Episode Title          Name                                           Sentence\r\n",
        "0   2011-04-17  Season 1  Episode 1  Winter is Coming  waymar royce  What do you expect? They're savages. One lot s...\r\n",
        "1   2011-04-17  Season 1  Episode 1  Winter is Coming          will  I've never seen wildlings do a thing like this...\r\n",
        "2   2011-04-17  Season 1  Episode 1  Winter is Coming  waymar royce                             How close did you get?\r\n",
        "```\r\n",
        "1. 计算每一个 Episode 的台词条数。\r\n",
        "\r\n",
        "2. 以空格为单词的分割符号，请求出单句台词平均单词量最多的前五个人。\r\n",
        "\r\n",
        "3. 若某人的台词中含有问号，那么下一个说台词的人即为回答者。若上一人台词中含有 n 个问号，则认为回答者回答了 n 个问题，请求出回答最多问题的前五个人。"
      ]
    },
    {
      "cell_type": "code",
      "metadata": {
        "colab": {
          "base_uri": "https://localhost:8080/"
        },
        "id": "Toy2RMMvGTti",
        "outputId": "e6d34507-83bb-4b23-84ca-f98920aa5974"
      },
      "source": [
        "# 计算每一个 Episode 的台词条数。\r\n",
        "df = pd.read_csv('data/script.csv')\r\n",
        "df.columns = df.columns.str.strip()\r\n",
        "df.groupby(['Season', 'Episode'])['Sentence'].count().head()"
      ],
      "execution_count": 111,
      "outputs": [
        {
          "output_type": "execute_result",
          "data": {
            "text/plain": [
              "Season    Episode   \n",
              "Season 1  Episode 1     327\n",
              "          Episode 10    266\n",
              "          Episode 2     283\n",
              "          Episode 3     353\n",
              "          Episode 4     404\n",
              "Name: Sentence, dtype: int64"
            ]
          },
          "metadata": {
            "tags": []
          },
          "execution_count": 111
        }
      ]
    },
    {
      "cell_type": "code",
      "metadata": {
        "colab": {
          "base_uri": "https://localhost:8080/"
        },
        "id": "GCffMbatGiPX",
        "outputId": "465b142a-676b-4bcc-80fb-56c91365e1ad"
      },
      "source": [
        "# 以空格为单词的分割符号，请求出单句台词平均单词量最多的前五个人。\r\n",
        "df.set_index('Name').Sentence.str.split().str.len(\r\n",
        "      ).groupby('Name').mean().sort_values(ascending=False).head()"
      ],
      "execution_count": 112,
      "outputs": [
        {
          "output_type": "execute_result",
          "data": {
            "text/plain": [
              "Name\n",
              "male singer          109.000000\n",
              "slave owner           77.000000\n",
              "manderly              62.000000\n",
              "lollys stokeworth     62.000000\n",
              "dothraki matron       56.666667\n",
              "Name: Sentence, dtype: float64"
            ]
          },
          "metadata": {
            "tags": []
          },
          "execution_count": 112
        }
      ]
    },
    {
      "cell_type": "code",
      "metadata": {
        "colab": {
          "base_uri": "https://localhost:8080/"
        },
        "id": "owJbevvBGl4c",
        "outputId": "53464a7d-edf0-4d8c-f3f7-12f3072cc4d6"
      },
      "source": [
        "# 若某人的台词中含有问号，那么下一个说台词的人即为回答者。\r\n",
        "#若上一人台词中含有 n 个问号，则认为回答者回答了 n 个问题，\r\n",
        "#请求出回答最多问题的前五个人。\r\n",
        "s = pd.Series(df.Sentence.values, index=df.Name.shift(-1))\r\n",
        "s.str.count('\\?').groupby('Name').sum().sort_values(ascending=False).head()"
      ],
      "execution_count": 113,
      "outputs": [
        {
          "output_type": "execute_result",
          "data": {
            "text/plain": [
              "Name\n",
              "tyrion lannister    527\n",
              "jon snow            374\n",
              "jaime lannister     283\n",
              "arya stark          265\n",
              "cersei lannister    246\n",
              "dtype: int64"
            ]
          },
          "metadata": {
            "tags": []
          },
          "execution_count": 113
        }
      ]
    },
    {
      "cell_type": "code",
      "metadata": {
        "id": "akAv04pBGscp"
      },
      "source": [
        ""
      ],
      "execution_count": null,
      "outputs": []
    }
  ]
}