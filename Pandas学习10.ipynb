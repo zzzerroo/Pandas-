{
  "nbformat": 4,
  "nbformat_minor": 0,
  "metadata": {
    "colab": {
      "name": "Task10.ipynb",
      "provenance": [],
      "collapsed_sections": []
    },
    "kernelspec": {
      "name": "python3",
      "display_name": "Python 3"
    }
  },
  "cells": [
    {
      "cell_type": "markdown",
      "metadata": {
        "id": "8OCqMsniMHRP"
      },
      "source": [
        "## 时序数据\r\n",
        "\r\n",
        "### 一、时序中的基本对象\r\n",
        "时间序列的概念在日常生活中十分常见，但对于一个具体的时序事件而言，可以从多个时间对象的角度来描述。例如2020年9月7日周一早上8点整需要到教室上课，这个课会在当天早上10点结束，其中包含了哪些时间概念？\r\n",
        "\r\n",
        "第一，会出现时间戳`（Date times）`的概念，即`'2020-9-7 08:00:00'`和`'2020-9-7 10:00:00'`这两个时间点分别代表了上课和下课的时刻，在`pandas`中称为`Timestamp`。同时，一系列的时间戳可以组成`DatetimeIndex`，而将它放到`Series`中后，`Series`的类型就变为了`datetime64[ns]`，如果有涉及时区则为`datetime64[ns, tz]`，其中`tz`是`timezone`的简写。\r\n",
        "\r\n",
        "第二，会出现时间差`（Time deltas）`的概念，即上课需要的时间，两个`Timestamp`做差就得到了时间差，`pandas`中利用`Timedelta`来表示。类似的，一系列的时间差就组成了`TimedeltaIndex`， 而将它放到`Series`中后，`Series`的类型就变为了`timedelta64[ns]`。\r\n",
        "\r\n",
        "第三，会出现时间段`（Time spans）`的概念，即在8点到10点这个区间都会持续地在上课，在`pandas`利用`Period`来表示。类似的，一系列的时间段就组成了`PeriodIndex`， 而将它放到`Series`中后，`Series`的类型就变为了`Period`。\r\n",
        "\r\n",
        "第四，会出现日期偏置`（Date offsets）`的概念，假设你只知道9月的第一个周一早上8点要去上课，但不知道具体的日期，那么就需要一个类型来处理此类需求。再例如，想要知道2020年9月7日后的第30个工作日是哪一天，那么时间差就解决不了你的问题，从而`pandas`中的`DateOffset`就出现了。同时，`pandas`中没有为一列时间偏置专门设计存储类型，理由也很简单，因为需求比较奇怪，一般来说我们只需要对一批时间特征做一个统一的特殊日期偏置。\r\n",
        "\r\n",
        "### 二、时间戳\r\n",
        "#### 1. `Timestamp`的构造与属性  \r\n",
        "\r\n",
        "单个时间戳的生成利用`pd.Timestamp`实现，一般而言的常见日期格式都能被成功转换：\r\n",
        "\r\n"
      ]
    },
    {
      "cell_type": "code",
      "metadata": {
        "id": "OmV58o-VKw_s"
      },
      "source": [
        "import pandas as pd\r\n",
        "import numpy as np"
      ],
      "execution_count": 81,
      "outputs": []
    },
    {
      "cell_type": "code",
      "metadata": {
        "colab": {
          "base_uri": "https://localhost:8080/"
        },
        "id": "H2PmZlMINTOA",
        "outputId": "b2fe4b19-bf1a-4574-a0a9-f9b0e9f0dfa8"
      },
      "source": [
        "%cd drive/MyDrive"
      ],
      "execution_count": 82,
      "outputs": [
        {
          "output_type": "stream",
          "text": [
            "[Errno 2] No such file or directory: 'drive/MyDrive'\n",
            "/content/drive/MyDrive\n"
          ],
          "name": "stdout"
        }
      ]
    },
    {
      "cell_type": "code",
      "metadata": {
        "colab": {
          "base_uri": "https://localhost:8080/"
        },
        "id": "ysUwMk6bNrgM",
        "outputId": "c26f8e6d-c8b9-4afc-e3d2-ea4adb8a9e93"
      },
      "source": [
        "ts = pd.Timestamp('2020/1/1')\r\n",
        "ts"
      ],
      "execution_count": null,
      "outputs": [
        {
          "output_type": "execute_result",
          "data": {
            "text/plain": [
              "Timestamp('2020-01-01 00:00:00')"
            ]
          },
          "metadata": {
            "tags": []
          },
          "execution_count": 5
        }
      ]
    },
    {
      "cell_type": "code",
      "metadata": {
        "colab": {
          "base_uri": "https://localhost:8080/"
        },
        "id": "NUEIDlGmNtYx",
        "outputId": "c00d0d18-d8cb-4817-f58a-9c3734b2f781"
      },
      "source": [
        "ts = pd.Timestamp('2020-1-1 08:10:30')\r\n",
        "ts"
      ],
      "execution_count": null,
      "outputs": [
        {
          "output_type": "execute_result",
          "data": {
            "text/plain": [
              "Timestamp('2020-01-01 08:10:30')"
            ]
          },
          "metadata": {
            "tags": []
          },
          "execution_count": 6
        }
      ]
    },
    {
      "cell_type": "markdown",
      "metadata": {
        "id": "UY-MJQgENyGz"
      },
      "source": [
        "\r\n",
        "通过`year, month, day, hour, min, second`可以获取具体的数值："
      ]
    },
    {
      "cell_type": "code",
      "metadata": {
        "colab": {
          "base_uri": "https://localhost:8080/"
        },
        "id": "VCLEs-i5NwRS",
        "outputId": "79683e94-36e6-49af-b8e4-1861c2214ec7"
      },
      "source": [
        "ts.year"
      ],
      "execution_count": null,
      "outputs": [
        {
          "output_type": "execute_result",
          "data": {
            "text/plain": [
              "2020"
            ]
          },
          "metadata": {
            "tags": []
          },
          "execution_count": 7
        }
      ]
    },
    {
      "cell_type": "code",
      "metadata": {
        "colab": {
          "base_uri": "https://localhost:8080/"
        },
        "id": "NYGONlhIN0u6",
        "outputId": "7937c90a-4ae1-4a4f-a891-e4b04312dc5b"
      },
      "source": [
        "ts.month"
      ],
      "execution_count": null,
      "outputs": [
        {
          "output_type": "execute_result",
          "data": {
            "text/plain": [
              "1"
            ]
          },
          "metadata": {
            "tags": []
          },
          "execution_count": 8
        }
      ]
    },
    {
      "cell_type": "code",
      "metadata": {
        "colab": {
          "base_uri": "https://localhost:8080/"
        },
        "id": "Aa8OyrdkN11m",
        "outputId": "7e5cf88f-bc6f-452c-af38-efafb1f474bc"
      },
      "source": [
        "ts.day"
      ],
      "execution_count": null,
      "outputs": [
        {
          "output_type": "execute_result",
          "data": {
            "text/plain": [
              "1"
            ]
          },
          "metadata": {
            "tags": []
          },
          "execution_count": 9
        }
      ]
    },
    {
      "cell_type": "code",
      "metadata": {
        "colab": {
          "base_uri": "https://localhost:8080/"
        },
        "id": "y9ykSv-AN3ZG",
        "outputId": "e124bcf1-3f1e-4cc4-d852-0d8be86409bc"
      },
      "source": [
        "ts.hour"
      ],
      "execution_count": null,
      "outputs": [
        {
          "output_type": "execute_result",
          "data": {
            "text/plain": [
              "8"
            ]
          },
          "metadata": {
            "tags": []
          },
          "execution_count": 10
        }
      ]
    },
    {
      "cell_type": "code",
      "metadata": {
        "colab": {
          "base_uri": "https://localhost:8080/"
        },
        "id": "VtbY7Fc1N4w2",
        "outputId": "534d9e5e-08c2-4f88-820f-18f81e9856d3"
      },
      "source": [
        "ts.minute"
      ],
      "execution_count": null,
      "outputs": [
        {
          "output_type": "execute_result",
          "data": {
            "text/plain": [
              "10"
            ]
          },
          "metadata": {
            "tags": []
          },
          "execution_count": 11
        }
      ]
    },
    {
      "cell_type": "code",
      "metadata": {
        "colab": {
          "base_uri": "https://localhost:8080/"
        },
        "id": "yySCuWn5N6Kf",
        "outputId": "ba6b4240-4106-4a48-bef0-88b79f1f2bb2"
      },
      "source": [
        "ts.second"
      ],
      "execution_count": null,
      "outputs": [
        {
          "output_type": "execute_result",
          "data": {
            "text/plain": [
              "30"
            ]
          },
          "metadata": {
            "tags": []
          },
          "execution_count": 12
        }
      ]
    },
    {
      "cell_type": "markdown",
      "metadata": {
        "id": "QpubZOnJN8Tc"
      },
      "source": [
        "在`pandas`中，时间戳的最小精度为纳秒`ns`，由于使用了64位存储，可以表示的时间范围大约可以如下计算：\r\n",
        "\r\n",
        "$$\\rm Time\\,Range = \\frac{2^{64}}{10^9\\times 60\\times 60\\times 24\\times 365} \\approx 585 (Years)$$\r\n",
        "\r\n",
        "通过`pd.Timestamp.max`和`pd.Timestamp.min`可以获取时间戳表示的范围，可以看到确实表示的区间年数大小正如上述计算结果："
      ]
    },
    {
      "cell_type": "code",
      "metadata": {
        "colab": {
          "base_uri": "https://localhost:8080/"
        },
        "id": "n_Ezd5H_N66p",
        "outputId": "5f997e98-8b77-45be-f880-09c8e7f2641f"
      },
      "source": [
        "pd.Timestamp.max"
      ],
      "execution_count": null,
      "outputs": [
        {
          "output_type": "execute_result",
          "data": {
            "text/plain": [
              "Timestamp('2262-04-11 23:47:16.854775807')"
            ]
          },
          "metadata": {
            "tags": []
          },
          "execution_count": 13
        }
      ]
    },
    {
      "cell_type": "code",
      "metadata": {
        "colab": {
          "base_uri": "https://localhost:8080/"
        },
        "id": "J7jLOLmfOE62",
        "outputId": "df9d18eb-5961-4217-8a80-2e86afd63276"
      },
      "source": [
        "pd.Timestamp.min"
      ],
      "execution_count": null,
      "outputs": [
        {
          "output_type": "execute_result",
          "data": {
            "text/plain": [
              "Timestamp('1677-09-21 00:12:43.145225')"
            ]
          },
          "metadata": {
            "tags": []
          },
          "execution_count": 14
        }
      ]
    },
    {
      "cell_type": "code",
      "metadata": {
        "colab": {
          "base_uri": "https://localhost:8080/"
        },
        "id": "it-bAoPHOFzp",
        "outputId": "d26de094-e45d-4902-d2db-1dfdcf4334f0"
      },
      "source": [
        "\r\n",
        "pd.Timestamp.max.year - pd.Timestamp.min.year"
      ],
      "execution_count": null,
      "outputs": [
        {
          "output_type": "execute_result",
          "data": {
            "text/plain": [
              "585"
            ]
          },
          "metadata": {
            "tags": []
          },
          "execution_count": 15
        }
      ]
    },
    {
      "cell_type": "markdown",
      "metadata": {
        "id": "-XFD0kpiOHr3"
      },
      "source": [
        "#### 2. `Datetime`序列的生成\r\n",
        "一组时间戳可以组成时间序列，可以用`to_datetime`和`date_range`来生成。其中，`to_datetime`能够把一列时间戳格式的对象转换成为`datetime64[ns]`类型的时间序列："
      ]
    },
    {
      "cell_type": "code",
      "metadata": {
        "colab": {
          "base_uri": "https://localhost:8080/"
        },
        "id": "_Vmp1_BEOGyg",
        "outputId": "2cfe4ab1-7e94-4f27-c161-c8faad92e937"
      },
      "source": [
        "pd.to_datetime(['2020-1-1', '2020-1-3', '2020-1-6'])\r\n",
        "df = pd.read_csv('data/learn_pandas.csv')\r\n",
        "s = pd.to_datetime(df.Test_Date)\r\n",
        "s.head()"
      ],
      "execution_count": null,
      "outputs": [
        {
          "output_type": "execute_result",
          "data": {
            "text/plain": [
              "0   2019-10-05\n",
              "1   2019-09-04\n",
              "2   2019-09-12\n",
              "3   2020-01-03\n",
              "4   2019-11-06\n",
              "Name: Test_Date, dtype: datetime64[ns]"
            ]
          },
          "metadata": {
            "tags": []
          },
          "execution_count": 16
        }
      ]
    },
    {
      "cell_type": "markdown",
      "metadata": {
        "id": "AHlRxuK9OQoO"
      },
      "source": [
        "\r\n",
        "在极少数情况，时间戳的格式不满足转换时，可以强制使用format进行匹配："
      ]
    },
    {
      "cell_type": "code",
      "metadata": {
        "colab": {
          "base_uri": "https://localhost:8080/"
        },
        "id": "kG7vlt6POPTQ",
        "outputId": "f4a9a168-cfec-40f0-9ccb-bc8421a2eb7f"
      },
      "source": [
        "temp = pd.to_datetime(['2020\\\\1\\\\1','2020\\\\1\\\\3'],format='%Y\\\\%m\\\\%d')\r\n",
        "temp"
      ],
      "execution_count": null,
      "outputs": [
        {
          "output_type": "execute_result",
          "data": {
            "text/plain": [
              "DatetimeIndex(['2020-01-01', '2020-01-03'], dtype='datetime64[ns]', freq=None)"
            ]
          },
          "metadata": {
            "tags": []
          },
          "execution_count": 17
        }
      ]
    },
    {
      "cell_type": "markdown",
      "metadata": {
        "id": "iBaj67fFOU1I"
      },
      "source": [
        "> 注意上面由于传入的是列表，而非`pandas`内部的`Series`，因此返回的是`DatetimeIndex`，如果想要转为`datetime64[ns]`的序列，需要显式用`Series`转化："
      ]
    },
    {
      "cell_type": "code",
      "metadata": {
        "colab": {
          "base_uri": "https://localhost:8080/"
        },
        "id": "3H0tPH68OTy3",
        "outputId": "c6847f3d-1487-4697-cc4f-8de417a89e6e"
      },
      "source": [
        "pd.Series(temp).head()"
      ],
      "execution_count": null,
      "outputs": [
        {
          "output_type": "execute_result",
          "data": {
            "text/plain": [
              "0   2020-01-01\n",
              "1   2020-01-03\n",
              "dtype: datetime64[ns]"
            ]
          },
          "metadata": {
            "tags": []
          },
          "execution_count": 18
        }
      ]
    },
    {
      "cell_type": "markdown",
      "metadata": {
        "id": "JLce--wLOc_C"
      },
      "source": [
        "另外，还存在一种把表的多列时间属性拼接转为时间序列的`to_datetime`操作，此时的列名必须和以下给定的时间关键词列名一致："
      ]
    },
    {
      "cell_type": "code",
      "metadata": {
        "colab": {
          "base_uri": "https://localhost:8080/"
        },
        "id": "1vysV_I6Obn0",
        "outputId": "c9ffce7c-a650-44db-d324-c90c700ba7ca"
      },
      "source": [
        "df_date_cols = pd.DataFrame({'year': [2020, 2020],\r\n",
        "                             'month': [1, 1],\r\n",
        "                             'day': [1, 2],\r\n",
        "                             'hour': [10, 20],\r\n",
        "                             'minute': [30, 50],\r\n",
        "                             'second': [20, 40]})\r\n",
        "pd.to_datetime(df_date_cols)\r\n",
        "\r\n"
      ],
      "execution_count": null,
      "outputs": [
        {
          "output_type": "execute_result",
          "data": {
            "text/plain": [
              "0   2020-01-01 10:30:20\n",
              "1   2020-01-02 20:50:40\n",
              "dtype: datetime64[ns]"
            ]
          },
          "metadata": {
            "tags": []
          },
          "execution_count": 19
        }
      ]
    },
    {
      "cell_type": "markdown",
      "metadata": {
        "id": "dZLxE8USOjUp"
      },
      "source": [
        "`date_range`是一种生成连续间隔时间的一种方法，其重要的参数为`start, end, freq, periods`，它们分别表示开始时间，结束时间，时间间隔，时间戳个数。其中，四个中的三个参数决定了，那么剩下的一个就随之确定了。这里要注意，开始或结束日期如果作为端点则它会被包含："
      ]
    },
    {
      "cell_type": "code",
      "metadata": {
        "colab": {
          "base_uri": "https://localhost:8080/"
        },
        "id": "d9KYr3bGOhzg",
        "outputId": "a0ddcaac-6964-4ac5-f2e7-9ceb6a1fbcb8"
      },
      "source": [
        "# 包含\r\n",
        "pd.date_range('2020-1-1','2020-1-21', freq='10D') "
      ],
      "execution_count": null,
      "outputs": [
        {
          "output_type": "execute_result",
          "data": {
            "text/plain": [
              "DatetimeIndex(['2020-01-01', '2020-01-11', '2020-01-21'], dtype='datetime64[ns]', freq='10D')"
            ]
          },
          "metadata": {
            "tags": []
          },
          "execution_count": 20
        }
      ]
    },
    {
      "cell_type": "code",
      "metadata": {
        "colab": {
          "base_uri": "https://localhost:8080/"
        },
        "id": "4rpj4v6OOoQf",
        "outputId": "6c34bf32-9300-485d-f69c-8d973b35fc5a"
      },
      "source": [
        "pd.date_range('2020-1-1','2020-2-28', freq='10D')"
      ],
      "execution_count": null,
      "outputs": [
        {
          "output_type": "execute_result",
          "data": {
            "text/plain": [
              "DatetimeIndex(['2020-01-01', '2020-01-11', '2020-01-21', '2020-01-31',\n",
              "               '2020-02-10', '2020-02-20'],\n",
              "              dtype='datetime64[ns]', freq='10D')"
            ]
          },
          "metadata": {
            "tags": []
          },
          "execution_count": 21
        }
      ]
    },
    {
      "cell_type": "code",
      "metadata": {
        "colab": {
          "base_uri": "https://localhost:8080/"
        },
        "id": "BIxYkRKvOp3K",
        "outputId": "c9219e42-0378-4183-94d6-048a43b9f130"
      },
      "source": [
        "# 由于结束日期无法取到，freq不为10天\r\n",
        "pd.date_range('2020-1-1', '2020-2-28', periods=6) "
      ],
      "execution_count": null,
      "outputs": [
        {
          "output_type": "execute_result",
          "data": {
            "text/plain": [
              "DatetimeIndex(['2020-01-01 00:00:00', '2020-01-12 14:24:00',\n",
              "               '2020-01-24 04:48:00', '2020-02-04 19:12:00',\n",
              "               '2020-02-16 09:36:00', '2020-02-28 00:00:00'],\n",
              "              dtype='datetime64[ns]', freq=None)"
            ]
          },
          "metadata": {
            "tags": []
          },
          "execution_count": 22
        }
      ]
    },
    {
      "cell_type": "markdown",
      "metadata": {
        "id": "PtnsAtU9Ot1u"
      },
      "source": [
        "一种改变序列采样频率的方法`asfreq`，它能够根据给定的`freq`对序列进行类似于`reindex`的操作："
      ]
    },
    {
      "cell_type": "code",
      "metadata": {
        "colab": {
          "base_uri": "https://localhost:8080/"
        },
        "id": "g0W_upZmOr7E",
        "outputId": "5d6b6b78-e56e-4271-e089-5a4c4c8d42e1"
      },
      "source": [
        "s = pd.Series(np.random.rand(5), index=pd.to_datetime(['2020-1-%d'%i for i in range(1,10,2)]))\r\n",
        "s.head()"
      ],
      "execution_count": null,
      "outputs": [
        {
          "output_type": "execute_result",
          "data": {
            "text/plain": [
              "2020-01-01    0.959502\n",
              "2020-01-03    0.887300\n",
              "2020-01-05    0.608163\n",
              "2020-01-07    0.288888\n",
              "2020-01-09    0.500194\n",
              "dtype: float64"
            ]
          },
          "metadata": {
            "tags": []
          },
          "execution_count": 23
        }
      ]
    },
    {
      "cell_type": "code",
      "metadata": {
        "colab": {
          "base_uri": "https://localhost:8080/"
        },
        "id": "3EMLk7k9OzG2",
        "outputId": "22779266-dd42-4691-9471-2ea549d2c4a2"
      },
      "source": [
        "s.asfreq('D').head()"
      ],
      "execution_count": null,
      "outputs": [
        {
          "output_type": "execute_result",
          "data": {
            "text/plain": [
              "2020-01-01    0.959502\n",
              "2020-01-02         NaN\n",
              "2020-01-03    0.887300\n",
              "2020-01-04         NaN\n",
              "2020-01-05    0.608163\n",
              "Freq: D, dtype: float64"
            ]
          },
          "metadata": {
            "tags": []
          },
          "execution_count": 24
        }
      ]
    },
    {
      "cell_type": "code",
      "metadata": {
        "colab": {
          "base_uri": "https://localhost:8080/"
        },
        "id": "Ttid9FWDO0sh",
        "outputId": "ebdda8de-f839-4a75-d629-2726d2c9b7a6"
      },
      "source": [
        "s.asfreq('12H').head()"
      ],
      "execution_count": null,
      "outputs": [
        {
          "output_type": "execute_result",
          "data": {
            "text/plain": [
              "2020-01-01 00:00:00    0.959502\n",
              "2020-01-01 12:00:00         NaN\n",
              "2020-01-02 00:00:00         NaN\n",
              "2020-01-02 12:00:00         NaN\n",
              "2020-01-03 00:00:00    0.887300\n",
              "Freq: 12H, dtype: float64"
            ]
          },
          "metadata": {
            "tags": []
          },
          "execution_count": 25
        }
      ]
    },
    {
      "cell_type": "markdown",
      "metadata": {
        "id": "EIGbtvxiO3Ne"
      },
      "source": [
        "#### 3. dt对象\r\n",
        "如同`category, string`的序列上定义了`cat, str`来完成分类数据和文本数据的操作，在时序类型的序列上定义了`dt`对象来完成许多时间序列的相关操作。这里对于`datetime64[ns]`类型而言，可以大致分为三类操作：取出时间相关的属性、判断时间戳是否满足条件、取整操作。\r\n",
        "\r\n",
        "第一类操作的常用属性包括：`date, time, year, month, day, hour, minute, second, microsecond, nanosecond, dayofweek, dayofyear, weekofyear, daysinmonth, quarter`，其中`daysinmonth, quarter`分别表示该月一共有几天和季度。"
      ]
    },
    {
      "cell_type": "code",
      "metadata": {
        "colab": {
          "base_uri": "https://localhost:8080/"
        },
        "id": "fCw2MMq_O1tS",
        "outputId": "560b91e4-60e8-43a3-bcff-dbb9a7d334c2"
      },
      "source": [
        "s = pd.Series(pd.date_range('2020-1-1','2020-1-3', freq='D'))\r\n",
        "s.dt.date"
      ],
      "execution_count": null,
      "outputs": [
        {
          "output_type": "execute_result",
          "data": {
            "text/plain": [
              "0    2020-01-01\n",
              "1    2020-01-02\n",
              "2    2020-01-03\n",
              "dtype: object"
            ]
          },
          "metadata": {
            "tags": []
          },
          "execution_count": 26
        }
      ]
    },
    {
      "cell_type": "code",
      "metadata": {
        "colab": {
          "base_uri": "https://localhost:8080/"
        },
        "id": "fs6JAYtcO_aX",
        "outputId": "97f2dcde-5f4e-4aa5-e91f-6b0b14246072"
      },
      "source": [
        "s.dt.time"
      ],
      "execution_count": null,
      "outputs": [
        {
          "output_type": "execute_result",
          "data": {
            "text/plain": [
              "0    00:00:00\n",
              "1    00:00:00\n",
              "2    00:00:00\n",
              "dtype: object"
            ]
          },
          "metadata": {
            "tags": []
          },
          "execution_count": 27
        }
      ]
    },
    {
      "cell_type": "code",
      "metadata": {
        "colab": {
          "base_uri": "https://localhost:8080/"
        },
        "id": "MXK3PkMcPBMK",
        "outputId": "2d44b14c-a8f6-4193-fa5b-694bba6dbac8"
      },
      "source": [
        "s.dt.day"
      ],
      "execution_count": null,
      "outputs": [
        {
          "output_type": "execute_result",
          "data": {
            "text/plain": [
              "0    1\n",
              "1    2\n",
              "2    3\n",
              "dtype: int64"
            ]
          },
          "metadata": {
            "tags": []
          },
          "execution_count": 28
        }
      ]
    },
    {
      "cell_type": "code",
      "metadata": {
        "colab": {
          "base_uri": "https://localhost:8080/"
        },
        "id": "4WRUBGqoPB9X",
        "outputId": "cd3508c5-fe7c-43a2-e06e-7d462b0029e2"
      },
      "source": [
        "s.dt.daysinmonth"
      ],
      "execution_count": null,
      "outputs": [
        {
          "output_type": "execute_result",
          "data": {
            "text/plain": [
              "0    31\n",
              "1    31\n",
              "2    31\n",
              "dtype: int64"
            ]
          },
          "metadata": {
            "tags": []
          },
          "execution_count": 29
        }
      ]
    },
    {
      "cell_type": "markdown",
      "metadata": {
        "id": "dmGSEKjCPE1s"
      },
      "source": [
        "在这些属性中，经常使用的是`dayofweek`，它返回了周中的星期情况，周一为0、周二为1，以此类推："
      ]
    },
    {
      "cell_type": "code",
      "metadata": {
        "colab": {
          "base_uri": "https://localhost:8080/"
        },
        "id": "er7kvLOVPDir",
        "outputId": "49791615-1596-4b59-a731-d67c9044bf8b"
      },
      "source": [
        "s.dt.dayofweek"
      ],
      "execution_count": null,
      "outputs": [
        {
          "output_type": "execute_result",
          "data": {
            "text/plain": [
              "0    2\n",
              "1    3\n",
              "2    4\n",
              "dtype: int64"
            ]
          },
          "metadata": {
            "tags": []
          },
          "execution_count": 30
        }
      ]
    },
    {
      "cell_type": "markdown",
      "metadata": {
        "id": "4UBXB608PH4s"
      },
      "source": [
        "此外，可以通过`month_name, day_name`返回英文的月名和星期名，注意它们是方法而不是属性："
      ]
    },
    {
      "cell_type": "code",
      "metadata": {
        "colab": {
          "base_uri": "https://localhost:8080/"
        },
        "id": "8aU-Sus3PGhJ",
        "outputId": "cfe6b9df-2710-42f2-de41-f08ce26c7745"
      },
      "source": [
        "s.dt.month_name()"
      ],
      "execution_count": null,
      "outputs": [
        {
          "output_type": "execute_result",
          "data": {
            "text/plain": [
              "0    January\n",
              "1    January\n",
              "2    January\n",
              "dtype: object"
            ]
          },
          "metadata": {
            "tags": []
          },
          "execution_count": 31
        }
      ]
    },
    {
      "cell_type": "code",
      "metadata": {
        "colab": {
          "base_uri": "https://localhost:8080/"
        },
        "id": "B2w2W1M_PKJG",
        "outputId": "095a4dce-8fa2-44c8-f62d-e46083f81659"
      },
      "source": [
        "s.dt.day_name()"
      ],
      "execution_count": null,
      "outputs": [
        {
          "output_type": "execute_result",
          "data": {
            "text/plain": [
              "0    Wednesday\n",
              "1     Thursday\n",
              "2       Friday\n",
              "dtype: object"
            ]
          },
          "metadata": {
            "tags": []
          },
          "execution_count": 32
        }
      ]
    },
    {
      "cell_type": "markdown",
      "metadata": {
        "id": "dL9mI5jLPMVq"
      },
      "source": [
        "第二类判断操作主要用于测试是否为月/季/年的第一天或者最后一天："
      ]
    },
    {
      "cell_type": "code",
      "metadata": {
        "colab": {
          "base_uri": "https://localhost:8080/"
        },
        "id": "VOKEGImqPLHq",
        "outputId": "795a856c-3430-46cb-d7eb-651df615a9d8"
      },
      "source": [
        "# 还可选 is_quarter/month_start\r\n",
        "s.dt.is_year_start "
      ],
      "execution_count": null,
      "outputs": [
        {
          "output_type": "execute_result",
          "data": {
            "text/plain": [
              "0     True\n",
              "1    False\n",
              "2    False\n",
              "dtype: bool"
            ]
          },
          "metadata": {
            "tags": []
          },
          "execution_count": 33
        }
      ]
    },
    {
      "cell_type": "code",
      "metadata": {
        "colab": {
          "base_uri": "https://localhost:8080/"
        },
        "id": "GHHZksjxPOtU",
        "outputId": "259666fd-40d0-4ed9-bb2c-f01b125f7964"
      },
      "source": [
        "# 还可选 is_quarter/month_end\r\n",
        "s.dt.is_year_end "
      ],
      "execution_count": null,
      "outputs": [
        {
          "output_type": "execute_result",
          "data": {
            "text/plain": [
              "0    False\n",
              "1    False\n",
              "2    False\n",
              "dtype: bool"
            ]
          },
          "metadata": {
            "tags": []
          },
          "execution_count": 34
        }
      ]
    },
    {
      "cell_type": "markdown",
      "metadata": {
        "id": "z4a2g9m2PRq1"
      },
      "source": [
        "\r\n",
        "第三类的取整操作包含`round, ceil, floor`，它们的公共参数为`freq`，常用的包括`H, min, S`（小时、分钟、秒）"
      ]
    },
    {
      "cell_type": "code",
      "metadata": {
        "colab": {
          "base_uri": "https://localhost:8080/"
        },
        "id": "mrGCLmyLPQig",
        "outputId": "211af2b7-a2ce-4d91-c8d7-225ad2610949"
      },
      "source": [
        "s = pd.Series(pd.date_range('2020-1-1 20:35:00', '2020-1-1 22:35:00', freq='45min'))\r\n",
        "s"
      ],
      "execution_count": null,
      "outputs": [
        {
          "output_type": "execute_result",
          "data": {
            "text/plain": [
              "0   2020-01-01 20:35:00\n",
              "1   2020-01-01 21:20:00\n",
              "2   2020-01-01 22:05:00\n",
              "dtype: datetime64[ns]"
            ]
          },
          "metadata": {
            "tags": []
          },
          "execution_count": 35
        }
      ]
    },
    {
      "cell_type": "code",
      "metadata": {
        "colab": {
          "base_uri": "https://localhost:8080/"
        },
        "id": "Upnq4kl4PVTb",
        "outputId": "bea0c401-04fc-4fa7-b246-d8c46eac2b1f"
      },
      "source": [
        "s.dt.round('1H')"
      ],
      "execution_count": null,
      "outputs": [
        {
          "output_type": "execute_result",
          "data": {
            "text/plain": [
              "0   2020-01-01 21:00:00\n",
              "1   2020-01-01 21:00:00\n",
              "2   2020-01-01 22:00:00\n",
              "dtype: datetime64[ns]"
            ]
          },
          "metadata": {
            "tags": []
          },
          "execution_count": 36
        }
      ]
    },
    {
      "cell_type": "code",
      "metadata": {
        "colab": {
          "base_uri": "https://localhost:8080/"
        },
        "id": "PFhzqKIbPWr4",
        "outputId": "c73f75fe-76ba-4572-c1f5-6f68a436e097"
      },
      "source": [
        "\r\n",
        "s.dt.ceil('1H')"
      ],
      "execution_count": null,
      "outputs": [
        {
          "output_type": "execute_result",
          "data": {
            "text/plain": [
              "0   2020-01-01 21:00:00\n",
              "1   2020-01-01 22:00:00\n",
              "2   2020-01-01 23:00:00\n",
              "dtype: datetime64[ns]"
            ]
          },
          "metadata": {
            "tags": []
          },
          "execution_count": 37
        }
      ]
    },
    {
      "cell_type": "code",
      "metadata": {
        "colab": {
          "base_uri": "https://localhost:8080/"
        },
        "id": "JASstIibPXrp",
        "outputId": "dc78b186-118e-44c3-f064-49420947f399"
      },
      "source": [
        "s.dt.floor('1H')"
      ],
      "execution_count": null,
      "outputs": [
        {
          "output_type": "execute_result",
          "data": {
            "text/plain": [
              "0   2020-01-01 20:00:00\n",
              "1   2020-01-01 21:00:00\n",
              "2   2020-01-01 22:00:00\n",
              "dtype: datetime64[ns]"
            ]
          },
          "metadata": {
            "tags": []
          },
          "execution_count": 38
        }
      ]
    },
    {
      "cell_type": "markdown",
      "metadata": {
        "id": "vt2FbZPhPZvs"
      },
      "source": [
        "#### 4. 时间戳的切片与索引\r\n",
        "一般而言，时间戳序列作为索引使用。如果想要选出某个子时间戳序列，第一类方法是利用`dt`对象和布尔条件联合使用，另一种方式是利用切片，后者常用于连续时间戳。"
      ]
    },
    {
      "cell_type": "code",
      "metadata": {
        "colab": {
          "base_uri": "https://localhost:8080/"
        },
        "id": "w_SvuBhAPYjA",
        "outputId": "dcb05966-8e0e-4247-ae01-19c0eba05765"
      },
      "source": [
        "s = pd.Series(np.random.randint(2,size=366), index=pd.date_range('2020-01-01','2020-12-31'))\r\n",
        "idx = pd.Series(s.index).dt\r\n",
        "s.head()"
      ],
      "execution_count": null,
      "outputs": [
        {
          "output_type": "execute_result",
          "data": {
            "text/plain": [
              "2020-01-01    0\n",
              "2020-01-02    0\n",
              "2020-01-03    1\n",
              "2020-01-04    0\n",
              "2020-01-05    1\n",
              "Freq: D, dtype: int64"
            ]
          },
          "metadata": {
            "tags": []
          },
          "execution_count": 39
        }
      ]
    },
    {
      "cell_type": "code",
      "metadata": {
        "colab": {
          "base_uri": "https://localhost:8080/"
        },
        "id": "ny9GuqhOPdXg",
        "outputId": "15939846-8842-4112-e586-1b107d1f2d6e"
      },
      "source": [
        "# Example1：每月的第一天或者最后一天\r\n",
        "\r\n",
        "s[(idx.is_month_start|idx.is_month_end).values].head()"
      ],
      "execution_count": null,
      "outputs": [
        {
          "output_type": "execute_result",
          "data": {
            "text/plain": [
              "2020-01-01    0\n",
              "2020-01-31    0\n",
              "2020-02-01    1\n",
              "2020-02-29    1\n",
              "2020-03-01    1\n",
              "dtype: int64"
            ]
          },
          "metadata": {
            "tags": []
          },
          "execution_count": 40
        }
      ]
    },
    {
      "cell_type": "code",
      "metadata": {
        "colab": {
          "base_uri": "https://localhost:8080/"
        },
        "id": "v9jPAwSDPhGl",
        "outputId": "6cf8104b-62b0-45aa-f0fc-e6fc32f1a847"
      },
      "source": [
        "# Example2：双休日\r\n",
        "\r\n",
        "s[idx.dayofweek.isin([5,6]).values].head()"
      ],
      "execution_count": null,
      "outputs": [
        {
          "output_type": "execute_result",
          "data": {
            "text/plain": [
              "2020-01-04    0\n",
              "2020-01-05    1\n",
              "2020-01-11    1\n",
              "2020-01-12    0\n",
              "2020-01-18    0\n",
              "dtype: int64"
            ]
          },
          "metadata": {
            "tags": []
          },
          "execution_count": 41
        }
      ]
    },
    {
      "cell_type": "code",
      "metadata": {
        "colab": {
          "base_uri": "https://localhost:8080/"
        },
        "id": "-9CMWIwLPjdv",
        "outputId": "137d2058-8242-48ef-e529-9f859cc72271"
      },
      "source": [
        "#Example3：取出单日值\r\n",
        "\r\n",
        "s['2020-01-01']"
      ],
      "execution_count": null,
      "outputs": [
        {
          "output_type": "execute_result",
          "data": {
            "text/plain": [
              "0"
            ]
          },
          "metadata": {
            "tags": []
          },
          "execution_count": 42
        }
      ]
    },
    {
      "cell_type": "code",
      "metadata": {
        "colab": {
          "base_uri": "https://localhost:8080/"
        },
        "id": "z05ipCEgPm6R",
        "outputId": "1e2d7b33-9054-44ef-b0fa-b64baccf39f2"
      },
      "source": [
        "# Example4：取出七月\r\n",
        "\r\n",
        "s['2020-07'].head()"
      ],
      "execution_count": null,
      "outputs": [
        {
          "output_type": "execute_result",
          "data": {
            "text/plain": [
              "2020-07-01    1\n",
              "2020-07-02    1\n",
              "2020-07-03    1\n",
              "2020-07-04    1\n",
              "2020-07-05    0\n",
              "Freq: D, dtype: int64"
            ]
          },
          "metadata": {
            "tags": []
          },
          "execution_count": 43
        }
      ]
    },
    {
      "cell_type": "code",
      "metadata": {
        "colab": {
          "base_uri": "https://localhost:8080/"
        },
        "id": "axnplsHEPpMx",
        "outputId": "f885b983-08f2-46cb-a222-e138e11d6c5d"
      },
      "source": [
        "\r\n",
        "# Example5：取出5月初至7月15日\r\n",
        "\r\n",
        "s['2020-05':'2020-7-15'].head()"
      ],
      "execution_count": null,
      "outputs": [
        {
          "output_type": "execute_result",
          "data": {
            "text/plain": [
              "2020-05-01    0\n",
              "2020-05-02    0\n",
              "2020-05-03    1\n",
              "2020-05-04    1\n",
              "2020-05-05    0\n",
              "Freq: D, dtype: int64"
            ]
          },
          "metadata": {
            "tags": []
          },
          "execution_count": 44
        }
      ]
    },
    {
      "cell_type": "code",
      "metadata": {
        "colab": {
          "base_uri": "https://localhost:8080/"
        },
        "id": "AaJojmi5PrHj",
        "outputId": "19e9f7f4-0f28-4643-bfaf-81054fbf9820"
      },
      "source": [
        "s['2020-05':'2020-7-15'].tail()"
      ],
      "execution_count": null,
      "outputs": [
        {
          "output_type": "execute_result",
          "data": {
            "text/plain": [
              "2020-07-11    1\n",
              "2020-07-12    0\n",
              "2020-07-13    1\n",
              "2020-07-14    0\n",
              "2020-07-15    1\n",
              "Freq: D, dtype: int64"
            ]
          },
          "metadata": {
            "tags": []
          },
          "execution_count": 45
        }
      ]
    },
    {
      "cell_type": "markdown",
      "metadata": {
        "id": "VcbRBwjhPtQQ"
      },
      "source": [
        "### 三、时间差\r\n",
        "#### 1. Timedelta的生成\r\n",
        "正如在第一节中所说，时间差可以理解为两个时间戳的差，这里也可以通过`pd.Timedelta`来构造："
      ]
    },
    {
      "cell_type": "code",
      "metadata": {
        "colab": {
          "base_uri": "https://localhost:8080/"
        },
        "id": "PTn12mvEPsEr",
        "outputId": "e7faadaa-8243-407e-f570-1d06da2c6f58"
      },
      "source": [
        "pd.Timestamp('20200102 08:00:00')-pd.Timestamp('20200101 07:35:00')"
      ],
      "execution_count": null,
      "outputs": [
        {
          "output_type": "execute_result",
          "data": {
            "text/plain": [
              "Timedelta('1 days 00:25:00')"
            ]
          },
          "metadata": {
            "tags": []
          },
          "execution_count": 46
        }
      ]
    },
    {
      "cell_type": "code",
      "metadata": {
        "colab": {
          "base_uri": "https://localhost:8080/"
        },
        "id": "PpDARsNZPzys",
        "outputId": "1e1a0b95-a097-4814-a3e4-d5a9fe8c38b0"
      },
      "source": [
        "# 需要注意加s\r\n",
        "pd.Timedelta(days=1, minutes=25) "
      ],
      "execution_count": null,
      "outputs": [
        {
          "output_type": "execute_result",
          "data": {
            "text/plain": [
              "Timedelta('1 days 00:25:00')"
            ]
          },
          "metadata": {
            "tags": []
          },
          "execution_count": 47
        }
      ]
    },
    {
      "cell_type": "code",
      "metadata": {
        "colab": {
          "base_uri": "https://localhost:8080/"
        },
        "id": "L_b4ANboP1WK",
        "outputId": "eaae1519-ecd9-4387-a4eb-e3418f7f94d3"
      },
      "source": [
        "# 字符串生成\r\n",
        "pd.Timedelta('1 days 25 minutes') "
      ],
      "execution_count": null,
      "outputs": [
        {
          "output_type": "execute_result",
          "data": {
            "text/plain": [
              "Timedelta('1 days 00:25:00')"
            ]
          },
          "metadata": {
            "tags": []
          },
          "execution_count": 48
        }
      ]
    },
    {
      "cell_type": "markdown",
      "metadata": {
        "id": "CItwVBe7P4Mb"
      },
      "source": [
        "生成时间差序列的主要方式是`pd.to_timedelta`，其类型为`timedelta64[ns]`："
      ]
    },
    {
      "cell_type": "code",
      "metadata": {
        "colab": {
          "base_uri": "https://localhost:8080/"
        },
        "id": "e-MQ6BVEP3OK",
        "outputId": "ab0e2965-f48e-4105-883b-4fec0919a3ec"
      },
      "source": [
        "s = pd.to_timedelta(df.Time_Record)\r\n",
        "s.head()"
      ],
      "execution_count": null,
      "outputs": [
        {
          "output_type": "execute_result",
          "data": {
            "text/plain": [
              "0   0 days 00:04:34\n",
              "1   0 days 00:04:20\n",
              "2   0 days 00:05:22\n",
              "3   0 days 00:04:08\n",
              "4   0 days 00:05:22\n",
              "Name: Time_Record, dtype: timedelta64[ns]"
            ]
          },
          "metadata": {
            "tags": []
          },
          "execution_count": 49
        }
      ]
    },
    {
      "cell_type": "markdown",
      "metadata": {
        "id": "sV-ywc_wP85C"
      },
      "source": [
        "与`date_range`一样，时间差序列也可以用`timedelta_range`来生成，它们两者具有一致的参数："
      ]
    },
    {
      "cell_type": "code",
      "metadata": {
        "colab": {
          "base_uri": "https://localhost:8080/"
        },
        "id": "mmsS0tVJP7_b",
        "outputId": "a614c739-84e7-40fe-b956-83963d8ea48d"
      },
      "source": [
        "pd.timedelta_range('0s', '1000s', freq='6min')"
      ],
      "execution_count": null,
      "outputs": [
        {
          "output_type": "execute_result",
          "data": {
            "text/plain": [
              "TimedeltaIndex(['0 days 00:00:00', '0 days 00:06:00', '0 days 00:12:00'], dtype='timedelta64[ns]', freq='6T')"
            ]
          },
          "metadata": {
            "tags": []
          },
          "execution_count": 50
        }
      ]
    },
    {
      "cell_type": "code",
      "metadata": {
        "colab": {
          "base_uri": "https://localhost:8080/"
        },
        "id": "--GYwP7GP_20",
        "outputId": "fa2fe9bf-c782-47b2-b9c9-91fcfdc11adf"
      },
      "source": [
        "pd.timedelta_range('0s', '1000s', periods=3)"
      ],
      "execution_count": null,
      "outputs": [
        {
          "output_type": "execute_result",
          "data": {
            "text/plain": [
              "TimedeltaIndex(['0 days 00:00:00', '0 days 00:08:20', '0 days 00:16:40'], dtype='timedelta64[ns]', freq=None)"
            ]
          },
          "metadata": {
            "tags": []
          },
          "execution_count": 51
        }
      ]
    },
    {
      "cell_type": "markdown",
      "metadata": {
        "id": "8mPo2TBVQCU6"
      },
      "source": [
        "对于`Timedelta`序列，同样也定义了`dt`对象，上面主要定义了的属性包括`days, seconds, mircroseconds, nanoseconds`，它们分别返回了对应的时间差特征。需要注意的是，这里的`seconds`不是指单纯的秒，而是对天数取余后剩余的秒数："
      ]
    },
    {
      "cell_type": "code",
      "metadata": {
        "colab": {
          "base_uri": "https://localhost:8080/"
        },
        "id": "X4hsZPJnQBcP",
        "outputId": "197d203c-5c64-4b0f-f81c-253689aefd63"
      },
      "source": [
        "s.dt.seconds.head()"
      ],
      "execution_count": null,
      "outputs": [
        {
          "output_type": "execute_result",
          "data": {
            "text/plain": [
              "0    274\n",
              "1    260\n",
              "2    322\n",
              "3    248\n",
              "4    322\n",
              "Name: Time_Record, dtype: int64"
            ]
          },
          "metadata": {
            "tags": []
          },
          "execution_count": 52
        }
      ]
    },
    {
      "cell_type": "markdown",
      "metadata": {
        "id": "IfWcvDu6QGcl"
      },
      "source": [
        "\r\n",
        "如果不想对天数取余而直接对应秒数，可以使用`total_seconds`"
      ]
    },
    {
      "cell_type": "code",
      "metadata": {
        "colab": {
          "base_uri": "https://localhost:8080/"
        },
        "id": "j7WrIEvlQFl1",
        "outputId": "4ba8b5b7-38ca-48d5-edb6-b7333c64882f"
      },
      "source": [
        "s.dt.total_seconds().head()"
      ],
      "execution_count": null,
      "outputs": [
        {
          "output_type": "execute_result",
          "data": {
            "text/plain": [
              "0    274.0\n",
              "1    260.0\n",
              "2    322.0\n",
              "3    248.0\n",
              "4    322.0\n",
              "Name: Time_Record, dtype: float64"
            ]
          },
          "metadata": {
            "tags": []
          },
          "execution_count": 53
        }
      ]
    },
    {
      "cell_type": "markdown",
      "metadata": {
        "id": "tWOUG9bFQJaE"
      },
      "source": [
        "与时间戳序列类似，取整函数也是可以在dt对象上使用的："
      ]
    },
    {
      "cell_type": "code",
      "metadata": {
        "colab": {
          "base_uri": "https://localhost:8080/"
        },
        "id": "Jp3NEPDwQIQ0",
        "outputId": "4f3510e9-1573-4d6d-f108-0678e15f9464"
      },
      "source": [
        "pd.to_timedelta(df.Time_Record).dt.round('min').head()"
      ],
      "execution_count": null,
      "outputs": [
        {
          "output_type": "execute_result",
          "data": {
            "text/plain": [
              "0   0 days 00:05:00\n",
              "1   0 days 00:04:00\n",
              "2   0 days 00:05:00\n",
              "3   0 days 00:04:00\n",
              "4   0 days 00:05:00\n",
              "Name: Time_Record, dtype: timedelta64[ns]"
            ]
          },
          "metadata": {
            "tags": []
          },
          "execution_count": 54
        }
      ]
    },
    {
      "cell_type": "markdown",
      "metadata": {
        "id": "j6aYhZdJQLm3"
      },
      "source": [
        "\r\n",
        "#### 2. `Timedelta`的运算\r\n",
        "时间差支持的常用运算有三类：与标量的乘法运算、与时间戳的加减法运算、与时间差的加减法与除法运算："
      ]
    },
    {
      "cell_type": "code",
      "metadata": {
        "colab": {
          "base_uri": "https://localhost:8080/"
        },
        "id": "teeDi_PbQKi0",
        "outputId": "e0b741b8-fac6-4f2e-f249-110eb74deb9a"
      },
      "source": [
        "\r\n",
        "td1 = pd.Timedelta(days=1)\r\n",
        "td2 = pd.Timedelta(days=3)\r\n",
        "ts = pd.Timestamp('20200101')\r\n",
        "td1 * 2"
      ],
      "execution_count": null,
      "outputs": [
        {
          "output_type": "execute_result",
          "data": {
            "text/plain": [
              "Timedelta('2 days 00:00:00')"
            ]
          },
          "metadata": {
            "tags": []
          },
          "execution_count": 55
        }
      ]
    },
    {
      "cell_type": "code",
      "metadata": {
        "colab": {
          "base_uri": "https://localhost:8080/"
        },
        "id": "OojlQvMOQOYX",
        "outputId": "8fae111d-fa5c-4f10-da8b-5ed5e6befd04"
      },
      "source": [
        "td2 - td1"
      ],
      "execution_count": null,
      "outputs": [
        {
          "output_type": "execute_result",
          "data": {
            "text/plain": [
              "Timedelta('2 days 00:00:00')"
            ]
          },
          "metadata": {
            "tags": []
          },
          "execution_count": 57
        }
      ]
    },
    {
      "cell_type": "code",
      "metadata": {
        "colab": {
          "base_uri": "https://localhost:8080/"
        },
        "id": "7ipHzQ5yQPZB",
        "outputId": "9446fe04-9e86-4cb4-b91c-e4f28383eae0"
      },
      "source": [
        "ts + td1"
      ],
      "execution_count": null,
      "outputs": [
        {
          "output_type": "execute_result",
          "data": {
            "text/plain": [
              "Timestamp('2020-01-02 00:00:00')"
            ]
          },
          "metadata": {
            "tags": []
          },
          "execution_count": 58
        }
      ]
    },
    {
      "cell_type": "code",
      "metadata": {
        "colab": {
          "base_uri": "https://localhost:8080/"
        },
        "id": "u194i4MzQRVS",
        "outputId": "cb104b9f-cbfe-4925-f45d-2c603ad1c66d"
      },
      "source": [
        "ts - td1"
      ],
      "execution_count": null,
      "outputs": [
        {
          "output_type": "execute_result",
          "data": {
            "text/plain": [
              "Timestamp('2019-12-31 00:00:00')"
            ]
          },
          "metadata": {
            "tags": []
          },
          "execution_count": 59
        }
      ]
    },
    {
      "cell_type": "markdown",
      "metadata": {
        "id": "R6A7W2h_QTlR"
      },
      "source": [
        "这些运算都可以移植到时间差的序列上："
      ]
    },
    {
      "cell_type": "code",
      "metadata": {
        "colab": {
          "base_uri": "https://localhost:8080/"
        },
        "id": "wtWwz1gsQSKz",
        "outputId": "83f5285a-14fe-485d-9389-e750d9867679"
      },
      "source": [
        "td1 = pd.timedelta_range(start='1 days', periods=5)\r\n",
        "td2 = pd.timedelta_range(start='12 hours', freq='2H', periods=5)\r\n",
        "ts = pd.date_range('20200101', '20200105')\r\n",
        "td1 * 5"
      ],
      "execution_count": null,
      "outputs": [
        {
          "output_type": "execute_result",
          "data": {
            "text/plain": [
              "TimedeltaIndex(['5 days', '10 days', '15 days', '20 days', '25 days'], dtype='timedelta64[ns]', freq='5D')"
            ]
          },
          "metadata": {
            "tags": []
          },
          "execution_count": 60
        }
      ]
    },
    {
      "cell_type": "code",
      "metadata": {
        "colab": {
          "base_uri": "https://localhost:8080/"
        },
        "id": "sMHJCW9jQU4W",
        "outputId": "002c620f-3881-467c-d5a7-829c313b88ec"
      },
      "source": [
        "# 逐个相乘\r\n",
        "td1 * pd.Series(list(range(5))) "
      ],
      "execution_count": null,
      "outputs": [
        {
          "output_type": "execute_result",
          "data": {
            "text/plain": [
              "0    0 days\n",
              "1    2 days\n",
              "2    6 days\n",
              "3   12 days\n",
              "4   20 days\n",
              "dtype: timedelta64[ns]"
            ]
          },
          "metadata": {
            "tags": []
          },
          "execution_count": 61
        }
      ]
    },
    {
      "cell_type": "code",
      "metadata": {
        "colab": {
          "base_uri": "https://localhost:8080/"
        },
        "id": "DAFSmhaDQWq5",
        "outputId": "22e599fd-280d-467f-89f3-b7ad6d8e85a4"
      },
      "source": [
        "td1 - td2"
      ],
      "execution_count": null,
      "outputs": [
        {
          "output_type": "execute_result",
          "data": {
            "text/plain": [
              "TimedeltaIndex(['0 days 12:00:00', '1 days 10:00:00', '2 days 08:00:00',\n",
              "                '3 days 06:00:00', '4 days 04:00:00'],\n",
              "               dtype='timedelta64[ns]', freq=None)"
            ]
          },
          "metadata": {
            "tags": []
          },
          "execution_count": 62
        }
      ]
    },
    {
      "cell_type": "code",
      "metadata": {
        "colab": {
          "base_uri": "https://localhost:8080/"
        },
        "id": "ZGBAgnlMQXqV",
        "outputId": "135aca54-b2c6-47c2-f491-e0395af888f5"
      },
      "source": [
        "td1 + pd.Timestamp('20200101')"
      ],
      "execution_count": null,
      "outputs": [
        {
          "output_type": "execute_result",
          "data": {
            "text/plain": [
              "DatetimeIndex(['2020-01-02', '2020-01-03', '2020-01-04', '2020-01-05',\n",
              "               '2020-01-06'],\n",
              "              dtype='datetime64[ns]', freq='D')"
            ]
          },
          "metadata": {
            "tags": []
          },
          "execution_count": 63
        }
      ]
    },
    {
      "cell_type": "code",
      "metadata": {
        "colab": {
          "base_uri": "https://localhost:8080/"
        },
        "id": "1OQksKxSQYxD",
        "outputId": "3f291aaa-69d1-4ec4-be34-dc2a94f8d492"
      },
      "source": [
        "# 逐个相加\r\n",
        "td1 + ts "
      ],
      "execution_count": null,
      "outputs": [
        {
          "output_type": "execute_result",
          "data": {
            "text/plain": [
              "DatetimeIndex(['2020-01-02', '2020-01-04', '2020-01-06', '2020-01-08',\n",
              "               '2020-01-10'],\n",
              "              dtype='datetime64[ns]', freq=None)"
            ]
          },
          "metadata": {
            "tags": []
          },
          "execution_count": 64
        }
      ]
    },
    {
      "cell_type": "markdown",
      "metadata": {
        "id": "JTy2VG29Qd61"
      },
      "source": [
        "### 四、日期偏置\r\n",
        "#### 1. `Offset`对象\r\n",
        "日期偏置是一种和日历相关的特殊时间差，例如回到第一节中的两个问题：如何求2020年9月第一个周一的日期，以及如何求2020年9月7日后的第30个工作日是哪一天。"
      ]
    },
    {
      "cell_type": "code",
      "metadata": {
        "colab": {
          "base_uri": "https://localhost:8080/"
        },
        "id": "BdDEOdy1QbjO",
        "outputId": "a5c0154c-831e-4a20-bf34-2e09895563a3"
      },
      "source": [
        "pd.Timestamp('20200831') + pd.offsets.WeekOfMonth(week=0,weekday=0)"
      ],
      "execution_count": null,
      "outputs": [
        {
          "output_type": "execute_result",
          "data": {
            "text/plain": [
              "Timestamp('2020-09-07 00:00:00')"
            ]
          },
          "metadata": {
            "tags": []
          },
          "execution_count": 65
        }
      ]
    },
    {
      "cell_type": "code",
      "metadata": {
        "colab": {
          "base_uri": "https://localhost:8080/"
        },
        "id": "ONUFDtBvQhW8",
        "outputId": "b262a313-ff8f-4aef-8d39-ce63c6d8209d"
      },
      "source": [
        "pd.Timestamp('20200907') + pd.offsets.BDay(30)"
      ],
      "execution_count": null,
      "outputs": [
        {
          "output_type": "execute_result",
          "data": {
            "text/plain": [
              "Timestamp('2020-10-19 00:00:00')"
            ]
          },
          "metadata": {
            "tags": []
          },
          "execution_count": 66
        }
      ]
    },
    {
      "cell_type": "markdown",
      "metadata": {
        "id": "MxG7BA9sQjiL"
      },
      "source": [
        "`Offset`对象在`pd.offsets`中被定义。当使用+时获取离其最近的下一个日期，当使用-时获取离其最近的上一个日期："
      ]
    },
    {
      "cell_type": "code",
      "metadata": {
        "colab": {
          "base_uri": "https://localhost:8080/"
        },
        "id": "xAhLoPoqQic_",
        "outputId": "e485b48e-1d28-4073-d239-0a86bed2f03d"
      },
      "source": [
        "\r\n",
        "pd.Timestamp('20200831') - pd.offsets.WeekOfMonth(week=0,weekday=0)"
      ],
      "execution_count": null,
      "outputs": [
        {
          "output_type": "execute_result",
          "data": {
            "text/plain": [
              "Timestamp('2020-08-03 00:00:00')"
            ]
          },
          "metadata": {
            "tags": []
          },
          "execution_count": 67
        }
      ]
    },
    {
      "cell_type": "code",
      "metadata": {
        "colab": {
          "base_uri": "https://localhost:8080/"
        },
        "id": "hN_lfJ_SQmu6",
        "outputId": "d2fac700-fc32-4597-c5a3-eba7a5f49fa5"
      },
      "source": [
        "\r\n",
        "pd.Timestamp('20200907') - pd.offsets.BDay(30)"
      ],
      "execution_count": null,
      "outputs": [
        {
          "output_type": "execute_result",
          "data": {
            "text/plain": [
              "Timestamp('2020-07-27 00:00:00')"
            ]
          },
          "metadata": {
            "tags": []
          },
          "execution_count": 68
        }
      ]
    },
    {
      "cell_type": "code",
      "metadata": {
        "colab": {
          "base_uri": "https://localhost:8080/"
        },
        "id": "ZYUYm8toQnmB",
        "outputId": "2f41bec1-d621-4e9f-cab0-b62b81d48784"
      },
      "source": [
        "pd.Timestamp('20200907') + pd.offsets.MonthEnd()"
      ],
      "execution_count": null,
      "outputs": [
        {
          "output_type": "execute_result",
          "data": {
            "text/plain": [
              "Timestamp('2020-09-30 00:00:00')"
            ]
          },
          "metadata": {
            "tags": []
          },
          "execution_count": 69
        }
      ]
    },
    {
      "cell_type": "markdown",
      "metadata": {
        "id": "3iY04_OWQt-U"
      },
      "source": [
        "一个特殊的`Offset`对象`CDay`，其中的`holidays, weekmask`参数能够分别对自定义的日期和星期进行过滤，前者传入了需要过滤的日期列表，后者传入的是三个字母的星期缩写构成的星期字符串，其作用是只保留字符串中出现的星期："
      ]
    },
    {
      "cell_type": "code",
      "metadata": {
        "colab": {
          "base_uri": "https://localhost:8080/"
        },
        "id": "HxEJsM4YQo2O",
        "outputId": "ff9c9b4d-8a2b-45bb-9a3f-fe346c3d791b"
      },
      "source": [
        "my_filter = pd.offsets.CDay(n=1,weekmask='Wed Fri',holidays=['20200109'])\r\n",
        "dr = pd.date_range('20200108', '20200111')\r\n",
        "dr.to_series().dt.dayofweek"
      ],
      "execution_count": null,
      "outputs": [
        {
          "output_type": "execute_result",
          "data": {
            "text/plain": [
              "2020-01-08    2\n",
              "2020-01-09    3\n",
              "2020-01-10    4\n",
              "2020-01-11    5\n",
              "Freq: D, dtype: int64"
            ]
          },
          "metadata": {
            "tags": []
          },
          "execution_count": 70
        }
      ]
    },
    {
      "cell_type": "code",
      "metadata": {
        "colab": {
          "base_uri": "https://localhost:8080/"
        },
        "id": "YKowckMhQw-c",
        "outputId": "21617207-c973-4838-c6b4-8d58e83d5571"
      },
      "source": [
        "[i + my_filter for i in dr]"
      ],
      "execution_count": null,
      "outputs": [
        {
          "output_type": "execute_result",
          "data": {
            "text/plain": [
              "[Timestamp('2020-01-10 00:00:00'),\n",
              " Timestamp('2020-01-10 00:00:00'),\n",
              " Timestamp('2020-01-15 00:00:00'),\n",
              " Timestamp('2020-01-15 00:00:00')]"
            ]
          },
          "metadata": {
            "tags": []
          },
          "execution_count": 71
        }
      ]
    },
    {
      "cell_type": "markdown",
      "metadata": {
        "id": "yI71cAZwQ0nb"
      },
      "source": [
        "n表示增加一天CDay，dr中的第一天为20200108，但由于下一天20200109被排除了，并且20200110是合法的周五，因此转为20200110，其他后面的日期处理类似。\r\n",
        "\r\n",
        "> 不要使用部分Offset\r\n",
        "在当前版本下由于一些 bug ，不要使用 Day 级别以下的 Offset 对象，比如 Hour, Second 等，请使用对应的 Timedelta 对象来代替。\r\n",
        "\r\n",
        "#### 2. 偏置字符串\r\n",
        "前面提到了关于`date_range`的`freq`取值可用`Offset`对象，同时在`pandas`中几乎每一个`Offset`对象绑定了日期偏置字符串`（frequencies strings/offset aliases）`，可以指定`Offset`对应的字符串来替代使用。"
      ]
    },
    {
      "cell_type": "code",
      "metadata": {
        "colab": {
          "base_uri": "https://localhost:8080/"
        },
        "id": "hoDrqmxdQ0cz",
        "outputId": "803da5e9-9ba6-4991-fc0c-14e118dcc463"
      },
      "source": [
        "# 月初\r\n",
        "pd.date_range('20200101','20200331', freq='MS') \r\n"
      ],
      "execution_count": null,
      "outputs": [
        {
          "output_type": "execute_result",
          "data": {
            "text/plain": [
              "DatetimeIndex(['2020-01-01', '2020-02-01', '2020-03-01'], dtype='datetime64[ns]', freq='MS')"
            ]
          },
          "metadata": {
            "tags": []
          },
          "execution_count": 72
        }
      ]
    },
    {
      "cell_type": "code",
      "metadata": {
        "colab": {
          "base_uri": "https://localhost:8080/"
        },
        "id": "vL1DnYuKQyEG",
        "outputId": "1d94b672-94b0-4ebe-9eca-24ee666d4dcc"
      },
      "source": [
        "\r\n",
        "# 月末\r\n",
        "pd.date_range('20200101','20200331', freq='M') "
      ],
      "execution_count": null,
      "outputs": [
        {
          "output_type": "execute_result",
          "data": {
            "text/plain": [
              "DatetimeIndex(['2020-01-31', '2020-02-29', '2020-03-31'], dtype='datetime64[ns]', freq='M')"
            ]
          },
          "metadata": {
            "tags": []
          },
          "execution_count": 73
        }
      ]
    },
    {
      "cell_type": "code",
      "metadata": {
        "colab": {
          "base_uri": "https://localhost:8080/"
        },
        "id": "9jAcPOTuRDRO",
        "outputId": "bf1c1d20-aae4-4098-82df-a3a6066e7943"
      },
      "source": [
        "\r\n",
        "# 工作日\r\n",
        "pd.date_range('20200101','20200110', freq='B') "
      ],
      "execution_count": null,
      "outputs": [
        {
          "output_type": "execute_result",
          "data": {
            "text/plain": [
              "DatetimeIndex(['2020-01-01', '2020-01-02', '2020-01-03', '2020-01-06',\n",
              "               '2020-01-07', '2020-01-08', '2020-01-09', '2020-01-10'],\n",
              "              dtype='datetime64[ns]', freq='B')"
            ]
          },
          "metadata": {
            "tags": []
          },
          "execution_count": 74
        }
      ]
    },
    {
      "cell_type": "code",
      "metadata": {
        "colab": {
          "base_uri": "https://localhost:8080/"
        },
        "id": "6e4aEqyoRE_3",
        "outputId": "c46635a2-9a37-4732-a6b7-3fab3afc616f"
      },
      "source": [
        "# 周一\r\n",
        "pd.date_range('20200101','20200201', freq='W-MON') "
      ],
      "execution_count": null,
      "outputs": [
        {
          "output_type": "execute_result",
          "data": {
            "text/plain": [
              "DatetimeIndex(['2020-01-06', '2020-01-13', '2020-01-20', '2020-01-27'], dtype='datetime64[ns]', freq='W-MON')"
            ]
          },
          "metadata": {
            "tags": []
          },
          "execution_count": 75
        }
      ]
    },
    {
      "cell_type": "code",
      "metadata": {
        "colab": {
          "base_uri": "https://localhost:8080/"
        },
        "id": "Nr_r8ioIRGp8",
        "outputId": "8e57d2ab-a283-4a25-d6fb-d79ff83e136f"
      },
      "source": [
        "# 每月第一个周一\r\n",
        "pd.date_range('20200101','20200201', freq='WOM-1MON') "
      ],
      "execution_count": null,
      "outputs": [
        {
          "output_type": "execute_result",
          "data": {
            "text/plain": [
              "DatetimeIndex(['2020-01-06'], dtype='datetime64[ns]', freq='WOM-1MON')"
            ]
          },
          "metadata": {
            "tags": []
          },
          "execution_count": 76
        }
      ]
    },
    {
      "cell_type": "code",
      "metadata": {
        "colab": {
          "base_uri": "https://localhost:8080/"
        },
        "id": "wYrnyivWRI8V",
        "outputId": "6664c67f-d029-42d5-b499-46415a4bd55e"
      },
      "source": [
        "pd.date_range('20200101','20200331', freq=pd.offsets.MonthBegin())"
      ],
      "execution_count": null,
      "outputs": [
        {
          "output_type": "execute_result",
          "data": {
            "text/plain": [
              "DatetimeIndex(['2020-01-01', '2020-02-01', '2020-03-01'], dtype='datetime64[ns]', freq='MS')"
            ]
          },
          "metadata": {
            "tags": []
          },
          "execution_count": 77
        }
      ]
    },
    {
      "cell_type": "code",
      "metadata": {
        "colab": {
          "base_uri": "https://localhost:8080/"
        },
        "id": "oe_0rvoFRKEK",
        "outputId": "76ef348e-ea39-40e3-e42c-fe138e7aa04f"
      },
      "source": [
        "pd.date_range('20200101','20200110', freq=pd.offsets.BDay())"
      ],
      "execution_count": null,
      "outputs": [
        {
          "output_type": "execute_result",
          "data": {
            "text/plain": [
              "DatetimeIndex(['2020-01-01', '2020-01-02', '2020-01-03', '2020-01-06',\n",
              "               '2020-01-07', '2020-01-08', '2020-01-09', '2020-01-10'],\n",
              "              dtype='datetime64[ns]', freq='B')"
            ]
          },
          "metadata": {
            "tags": []
          },
          "execution_count": 78
        }
      ]
    },
    {
      "cell_type": "code",
      "metadata": {
        "colab": {
          "base_uri": "https://localhost:8080/"
        },
        "id": "HxBH2qquRMLC",
        "outputId": "cc58db5f-935a-4342-a256-0db801424767"
      },
      "source": [
        "pd.date_range('20200101','20200201', freq=pd.offsets.CDay(weekmask='Mon'))"
      ],
      "execution_count": null,
      "outputs": [
        {
          "output_type": "execute_result",
          "data": {
            "text/plain": [
              "DatetimeIndex(['2020-01-06', '2020-01-13', '2020-01-20', '2020-01-27'], dtype='datetime64[ns]', freq='C')"
            ]
          },
          "metadata": {
            "tags": []
          },
          "execution_count": 79
        }
      ]
    },
    {
      "cell_type": "code",
      "metadata": {
        "id": "BwAliS4oRNeg",
        "colab": {
          "base_uri": "https://localhost:8080/"
        },
        "outputId": "f7e90796-445d-49d0-f0d6-34e40173e904"
      },
      "source": [
        "pd.date_range('20200101','20200201', freq=pd.offsets.WeekOfMonth(week=0,weekday=0))"
      ],
      "execution_count": 80,
      "outputs": [
        {
          "output_type": "execute_result",
          "data": {
            "text/plain": [
              "DatetimeIndex(['2020-01-06'], dtype='datetime64[ns]', freq='WOM-1MON')"
            ]
          },
          "metadata": {
            "tags": []
          },
          "execution_count": 80
        }
      ]
    },
    {
      "cell_type": "markdown",
      "metadata": {
        "id": "vqbOQB_hSXca"
      },
      "source": [
        "> 关于时区问题的说明\r\n",
        "各类时间对象的开发，除了使用`python`内置的`datetime`模块，`pandas`还利用了`dateutil`模块，很大一部分是为了处理时区问题。总所周知，我国是没有夏令时调整时间一说的，但有些国家会有这种做法，导致了相对而言一天里可能会有`23/24/25`个小时，也就是`relativedelta`，这使得`Offset`对象和`Timedelta`对象有了对同一问题处理产生不同结果的现象，其中的规则也较为复杂，官方文档的写法存在部分描述错误，并且难以对描述做出统一修正，因为牵涉到了`Offset`相关的很多组件。\r\n",
        "\r\n",
        "\r\n",
        "### 五、时序中的滑窗与分组\r\n",
        "#### 1. 滑动窗口\r\n",
        "所谓时序的滑窗函数，即把滑动窗口用`freq`关键词代替，下面给出一个具体的应用案例：在股票市场中有一个指标为`BOLL`指标，它由中轨线、上轨线、下轨线这三根线构成，具体的计算方法分别是N日均值线、N日均值加两倍N日标准差线、N日均值减两倍N日标准差线。利用`rolling`对象计算N=30的`BOLL`指标可以如下写出："
      ]
    },
    {
      "cell_type": "code",
      "metadata": {
        "id": "FiZGyVMRROgf",
        "colab": {
          "base_uri": "https://localhost:8080/"
        },
        "outputId": "5cc4f4bf-b9e2-4f37-e147-f4af64ec6acf"
      },
      "source": [
        "\r\n",
        "import matplotlib.pyplot as plt\r\n",
        "idx = pd.date_range('20200101', '20201231', freq='B')\r\n",
        "np.random.seed(2020)\r\n",
        "data = np.random.randint(-1,2,len(idx)).cumsum() # 随机游动构造模拟序列\r\n",
        "s = pd.Series(data,index=idx)\r\n",
        "s.head()"
      ],
      "execution_count": 83,
      "outputs": [
        {
          "output_type": "execute_result",
          "data": {
            "text/plain": [
              "2020-01-01   -1\n",
              "2020-01-02   -2\n",
              "2020-01-03   -1\n",
              "2020-01-06   -1\n",
              "2020-01-07   -2\n",
              "Freq: B, dtype: int64"
            ]
          },
          "metadata": {
            "tags": []
          },
          "execution_count": 83
        }
      ]
    },
    {
      "cell_type": "code",
      "metadata": {
        "colab": {
          "base_uri": "https://localhost:8080/",
          "height": 297
        },
        "id": "E2tG7NYwSn5k",
        "outputId": "65dcb9da-67df-4825-ab2e-c531126fb77a"
      },
      "source": [
        "r = s.rolling('30D')\r\n",
        "plt.plot(s)\r\n",
        "plt.title('BOLL LINES')\r\n",
        "plt.plot(r.mean())\r\n",
        "plt.plot(r.mean()+r.std()*2)\r\n",
        "plt.plot(r.mean()-r.std()*2)"
      ],
      "execution_count": 84,
      "outputs": [
        {
          "output_type": "execute_result",
          "data": {
            "text/plain": [
              "[<matplotlib.lines.Line2D at 0x7f673f2103c8>]"
            ]
          },
          "metadata": {
            "tags": []
          },
          "execution_count": 84
        },
        {
          "output_type": "display_data",
          "data": {
            "image/png": "[encoded data removed]",
            "text/plain": [
              "<Figure size 432x288 with 1 Axes>"
            ]
          },
          "metadata": {
            "tags": [],
            "needs_background": "light"
          }
        }
      ]
    },
    {
      "cell_type": "markdown",
      "metadata": {
        "id": "Ky17BoNjStJK"
      },
      "source": [
        "\r\n",
        "对于`shift`函数而言，作用在`datetime64`为索引的序列上时，可以指定`freq`单位进行滑动："
      ]
    },
    {
      "cell_type": "code",
      "metadata": {
        "colab": {
          "base_uri": "https://localhost:8080/"
        },
        "id": "AqjeJ3V0Splx",
        "outputId": "6901f2ce-ba62-4334-ba2d-388be8df5f75"
      },
      "source": [
        "s.shift(freq='50D').head()"
      ],
      "execution_count": 85,
      "outputs": [
        {
          "output_type": "execute_result",
          "data": {
            "text/plain": [
              "2020-02-20   -1\n",
              "2020-02-21   -2\n",
              "2020-02-22   -1\n",
              "2020-02-25   -1\n",
              "2020-02-26   -2\n",
              "dtype: int64"
            ]
          },
          "metadata": {
            "tags": []
          },
          "execution_count": 85
        }
      ]
    },
    {
      "cell_type": "markdown",
      "metadata": {
        "id": "yFmttBBfSxZ-"
      },
      "source": [
        "\r\n",
        "另外，`datetime64[ns]`的序列进行`diff`后就能够得到`timedelta64[ns]`的序列，这能够使用户方便地观察有序时间序列的间隔："
      ]
    },
    {
      "cell_type": "code",
      "metadata": {
        "colab": {
          "base_uri": "https://localhost:8080/"
        },
        "id": "ys-yrXPpSwGp",
        "outputId": "97fb14a8-e94d-41a8-9bae-1bc87ab5531c"
      },
      "source": [
        "my_series = pd.Series(s.index)\r\n",
        "my_series.head()"
      ],
      "execution_count": 86,
      "outputs": [
        {
          "output_type": "execute_result",
          "data": {
            "text/plain": [
              "0   2020-01-01\n",
              "1   2020-01-02\n",
              "2   2020-01-03\n",
              "3   2020-01-06\n",
              "4   2020-01-07\n",
              "dtype: datetime64[ns]"
            ]
          },
          "metadata": {
            "tags": []
          },
          "execution_count": 86
        }
      ]
    },
    {
      "cell_type": "code",
      "metadata": {
        "colab": {
          "base_uri": "https://localhost:8080/"
        },
        "id": "7ySt-rA-S128",
        "outputId": "bb96daf5-dc1a-425e-91e7-bf96b9b08c9a"
      },
      "source": [
        "my_series.diff(1).head()"
      ],
      "execution_count": 87,
      "outputs": [
        {
          "output_type": "execute_result",
          "data": {
            "text/plain": [
              "0      NaT\n",
              "1   1 days\n",
              "2   1 days\n",
              "3   3 days\n",
              "4   1 days\n",
              "dtype: timedelta64[ns]"
            ]
          },
          "metadata": {
            "tags": []
          },
          "execution_count": 87
        }
      ]
    },
    {
      "cell_type": "markdown",
      "metadata": {
        "id": "NmjTnrBBS4Nk"
      },
      "source": [
        "#### 2. 重采样\r\n",
        "重采样对象`resample`和第四章中分组对象`groupby`的用法类似，前者是针对时间序列的分组计算而设计的分组对象。"
      ]
    },
    {
      "cell_type": "code",
      "metadata": {
        "colab": {
          "base_uri": "https://localhost:8080/"
        },
        "id": "ZNtia7sUS22M",
        "outputId": "12b40676-c216-4131-86aa-e92c93aea46c"
      },
      "source": [
        "# 对上面的序列计算每10天的均值：\r\n",
        "s.resample('10D').mean().head()"
      ],
      "execution_count": 88,
      "outputs": [
        {
          "output_type": "execute_result",
          "data": {
            "text/plain": [
              "2020-01-01   -2.000000\n",
              "2020-01-11   -3.166667\n",
              "2020-01-21   -3.625000\n",
              "2020-01-31   -4.000000\n",
              "2020-02-10   -0.375000\n",
              "Freq: 10D, dtype: float64"
            ]
          },
          "metadata": {
            "tags": []
          },
          "execution_count": 88
        }
      ]
    },
    {
      "cell_type": "code",
      "metadata": {
        "colab": {
          "base_uri": "https://localhost:8080/"
        },
        "id": "s_Oov2PyS-v6",
        "outputId": "d0329833-c718-46d5-d457-dca1d0aad5ba"
      },
      "source": [
        "# 如果没有内置定义的处理函数，可以通过apply方法自定义：\r\n",
        "\r\n",
        "s.resample('10D').apply(lambda x:x.max()-x.min()).head() # 极差"
      ],
      "execution_count": 89,
      "outputs": [
        {
          "output_type": "execute_result",
          "data": {
            "text/plain": [
              "2020-01-01    3\n",
              "2020-01-11    4\n",
              "2020-01-21    4\n",
              "2020-01-31    2\n",
              "2020-02-10    4\n",
              "Freq: 10D, dtype: int64"
            ]
          },
          "metadata": {
            "tags": []
          },
          "execution_count": 89
        }
      ]
    },
    {
      "cell_type": "markdown",
      "metadata": {
        "id": "howHCVk4TCPo"
      },
      "source": [
        "\r\n",
        "在`resample`中要特别注意组边界值的处理情况，默认情况下起始值的计算方法是从最小值时间戳对应日期的午夜`00:00:00`开始增加`freq`，直到不超过该最小时间戳的最大时间戳，由此对应的时间戳为起始值，然后每次累加`freq`参数作为分割结点进行分组，区间情况为左闭右开。"
      ]
    },
    {
      "cell_type": "code",
      "metadata": {
        "colab": {
          "base_uri": "https://localhost:8080/"
        },
        "id": "xiq8TBYxTA2a",
        "outputId": "c5f05009-4b38-46bd-f1cc-81583012e846"
      },
      "source": [
        "idx = pd.date_range('20200101 8:26:35', '20200101 9:31:58', freq='77s')\r\n",
        "data = np.random.randint(-1,2,len(idx)).cumsum()\r\n",
        "s = pd.Series(data,index=idx)\r\n",
        "s.head()"
      ],
      "execution_count": 90,
      "outputs": [
        {
          "output_type": "execute_result",
          "data": {
            "text/plain": [
              "2020-01-01 08:26:35   -1\n",
              "2020-01-01 08:27:52   -1\n",
              "2020-01-01 08:29:09   -2\n",
              "2020-01-01 08:30:26   -3\n",
              "2020-01-01 08:31:43   -4\n",
              "Freq: 77S, dtype: int64"
            ]
          },
          "metadata": {
            "tags": []
          },
          "execution_count": 90
        }
      ]
    },
    {
      "cell_type": "markdown",
      "metadata": {
        "id": "4fRdhwrMTITD"
      },
      "source": [
        "\r\n",
        "下面对应的第一个组起始值为`08:24:00`，其是从当天0点增加72个`freq=7 min`得到的，如果再增加一个`freq`则超出了序列的最小时间戳`08:26:35`："
      ]
    },
    {
      "cell_type": "code",
      "metadata": {
        "colab": {
          "base_uri": "https://localhost:8080/"
        },
        "id": "sUjjwtFrTGGs",
        "outputId": "d0dc25bc-182b-4418-dff8-0b6b7d66b15b"
      },
      "source": [
        "s.resample('7min').mean().head()"
      ],
      "execution_count": 91,
      "outputs": [
        {
          "output_type": "execute_result",
          "data": {
            "text/plain": [
              "2020-01-01 08:24:00   -1.750000\n",
              "2020-01-01 08:31:00   -2.600000\n",
              "2020-01-01 08:38:00   -2.166667\n",
              "2020-01-01 08:45:00    0.200000\n",
              "2020-01-01 08:52:00    2.833333\n",
              "Freq: 7T, dtype: float64"
            ]
          },
          "metadata": {
            "tags": []
          },
          "execution_count": 91
        }
      ]
    },
    {
      "cell_type": "code",
      "metadata": {
        "colab": {
          "base_uri": "https://localhost:8080/"
        },
        "id": "QWBaQ2fZTMAt",
        "outputId": "c8345a00-0e24-4d95-da5a-39df8f97a9d1"
      },
      "source": [
        "# 可以指定origin参数为start\r\n",
        "s.resample('7min', origin='start').mean().head()"
      ],
      "execution_count": 92,
      "outputs": [
        {
          "output_type": "execute_result",
          "data": {
            "text/plain": [
              "2020-01-01 08:26:35   -2.333333\n",
              "2020-01-01 08:33:35   -2.400000\n",
              "2020-01-01 08:40:35   -1.333333\n",
              "2020-01-01 08:47:35    1.200000\n",
              "2020-01-01 08:54:35    3.166667\n",
              "Freq: 7T, dtype: float64"
            ]
          },
          "metadata": {
            "tags": []
          },
          "execution_count": 92
        }
      ]
    },
    {
      "cell_type": "markdown",
      "metadata": {
        "id": "4X3Pi4jeTRSs"
      },
      "source": [
        "在返回值中，要注意索引一般是取组的第一个时间戳，但`M, A, Q, BM, BA, BQ, W`这七个是取对应区间的最后一个时间戳："
      ]
    },
    {
      "cell_type": "code",
      "metadata": {
        "colab": {
          "base_uri": "https://localhost:8080/"
        },
        "id": "-Ku0hwy3TPvM",
        "outputId": "612659d4-b793-4e5b-b1d6-e1451f282567"
      },
      "source": [
        "s = pd.Series(np.random.randint(2,size=366), index=pd.date_range('2020-01-01', '2020-12-31'))\r\n",
        "s.resample('M').mean().head()"
      ],
      "execution_count": 93,
      "outputs": [
        {
          "output_type": "execute_result",
          "data": {
            "text/plain": [
              "2020-01-31    0.451613\n",
              "2020-02-29    0.448276\n",
              "2020-03-31    0.516129\n",
              "2020-04-30    0.566667\n",
              "2020-05-31    0.451613\n",
              "Freq: M, dtype: float64"
            ]
          },
          "metadata": {
            "tags": []
          },
          "execution_count": 93
        }
      ]
    },
    {
      "cell_type": "code",
      "metadata": {
        "colab": {
          "base_uri": "https://localhost:8080/"
        },
        "id": "Dcoy-0aRTUpH",
        "outputId": "88b9c108-255c-492c-fd89-376a4ec66610"
      },
      "source": [
        "# 结果一样，但索引不同\r\n",
        "s.resample('MS').mean().head() "
      ],
      "execution_count": 94,
      "outputs": [
        {
          "output_type": "execute_result",
          "data": {
            "text/plain": [
              "2020-01-01    0.451613\n",
              "2020-02-01    0.448276\n",
              "2020-03-01    0.516129\n",
              "2020-04-01    0.566667\n",
              "2020-05-01    0.451613\n",
              "Freq: MS, dtype: float64"
            ]
          },
          "metadata": {
            "tags": []
          },
          "execution_count": 94
        }
      ]
    },
    {
      "cell_type": "markdown",
      "metadata": {
        "id": "sbfJWtGiTamS"
      },
      "source": [
        "### 六、练习\r\n",
        "#### Ex1 ： 太阳辐射数据及\r\n",
        "现有一份关于太阳辐射的数据集：\r\n",
        "```python\r\n",
        "\r\n",
        "df = pd.read_csv('../data/solar.csv', usecols=['Data','Time','Radiation','Temperature'])\r\n",
        "df.head(3)\r\n",
        "```\r\n",
        "\r\n",
        "\r\n",
        "1、 将Datetime, Time合并为一个时间列Datetime，同时把它作为索引后排序。\r\n",
        "\r\n",
        "2、 每条记录时间的间隔显然并不一致，请解决如下问题：\r\n",
        "* 找出间隔时间的前三个最大值所对应的三组时间戳。\r\n",
        "* 是否存在一个大致的范围，使得绝大多数的间隔时间都落在这个区间中？如果存在，请对此范围内的样本间隔秒数画出柱状图，设置bins=50。\r\n",
        "\r\n",
        "3、 求如下指标对应的Series：\r\n",
        "* 温度与辐射量的6小时滑动相关系数\r\n",
        "* 以三点、九点、十五点、二十一点为分割，该观测所在时间区间的温度均值序列\r\n",
        "* 每个观测6小时前的辐射量（一般而言不会恰好取到，此时取最近时间戳对应的辐射量） "
      ]
    },
    {
      "cell_type": "code",
      "metadata": {
        "colab": {
          "base_uri": "https://localhost:8080/",
          "height": 137
        },
        "id": "NWCqnFbeTW9h",
        "outputId": "ee56db3b-df33-4b1d-b298-2b2296d66de1"
      },
      "source": [
        "#1、\r\n",
        "df = pd.read_csv('data/solar.csv', usecols=['Data','Time','Radiation','Temperature'])\r\n",
        "df.head(3)"
      ],
      "execution_count": 106,
      "outputs": [
        {
          "output_type": "execute_result",
          "data": {
            "text/html": [
              "<div>\n",
              "<style scoped>\n",
              "    .dataframe tbody tr th:only-of-type {\n",
              "        vertical-align: middle;\n",
              "    }\n",
              "\n",
              "    .dataframe tbody tr th {\n",
              "        vertical-align: top;\n",
              "    }\n",
              "\n",
              "    .dataframe thead th {\n",
              "        text-align: right;\n",
              "    }\n",
              "</style>\n",
              "<table border=\"1\" class=\"dataframe\">\n",
              "  <thead>\n",
              "    <tr style=\"text-align: right;\">\n",
              "      <th></th>\n",
              "      <th>Data</th>\n",
              "      <th>Time</th>\n",
              "      <th>Radiation</th>\n",
              "      <th>Temperature</th>\n",
              "    </tr>\n",
              "  </thead>\n",
              "  <tbody>\n",
              "    <tr>\n",
              "      <th>0</th>\n",
              "      <td>9/29/2016 12:00:00 AM</td>\n",
              "      <td>23:55:26</td>\n",
              "      <td>1.21</td>\n",
              "      <td>48</td>\n",
              "    </tr>\n",
              "    <tr>\n",
              "      <th>1</th>\n",
              "      <td>9/29/2016 12:00:00 AM</td>\n",
              "      <td>23:50:23</td>\n",
              "      <td>1.21</td>\n",
              "      <td>48</td>\n",
              "    </tr>\n",
              "    <tr>\n",
              "      <th>2</th>\n",
              "      <td>9/29/2016 12:00:00 AM</td>\n",
              "      <td>23:45:26</td>\n",
              "      <td>1.23</td>\n",
              "      <td>48</td>\n",
              "    </tr>\n",
              "  </tbody>\n",
              "</table>\n",
              "</div>"
            ],
            "text/plain": [
              "                    Data      Time  Radiation  Temperature\n",
              "0  9/29/2016 12:00:00 AM  23:55:26       1.21           48\n",
              "1  9/29/2016 12:00:00 AM  23:50:23       1.21           48\n",
              "2  9/29/2016 12:00:00 AM  23:45:26       1.23           48"
            ]
          },
          "metadata": {
            "tags": []
          },
          "execution_count": 106
        }
      ]
    },
    {
      "cell_type": "code",
      "metadata": {
        "id": "jfZ0NJLFTw0v"
      },
      "source": [
        "solar_date = df.Data.str.extract('([/|\\w]+\\s).+')[0]"
      ],
      "execution_count": 107,
      "outputs": []
    },
    {
      "cell_type": "code",
      "metadata": {
        "id": "F8kWIVUNUB1j"
      },
      "source": [
        "df['Data'] = pd.to_datetime(solar_date + df.Time)"
      ],
      "execution_count": 108,
      "outputs": []
    },
    {
      "cell_type": "code",
      "metadata": {
        "id": "o89Ctfk1UDxW"
      },
      "source": [
        "df = df.drop(columns='Time').rename(columns={'Data':'Datetime'}\r\n",
        "        ).set_index('Datetime').sort_index()"
      ],
      "execution_count": 109,
      "outputs": []
    },
    {
      "cell_type": "code",
      "metadata": {
        "colab": {
          "base_uri": "https://localhost:8080/",
          "height": 167
        },
        "id": "44jA3-TsUHDx",
        "outputId": "6666d4b4-c30e-457f-e91d-af7a040b15c8"
      },
      "source": [
        "df.head(3)"
      ],
      "execution_count": 110,
      "outputs": [
        {
          "output_type": "execute_result",
          "data": {
            "text/html": [
              "<div>\n",
              "<style scoped>\n",
              "    .dataframe tbody tr th:only-of-type {\n",
              "        vertical-align: middle;\n",
              "    }\n",
              "\n",
              "    .dataframe tbody tr th {\n",
              "        vertical-align: top;\n",
              "    }\n",
              "\n",
              "    .dataframe thead th {\n",
              "        text-align: right;\n",
              "    }\n",
              "</style>\n",
              "<table border=\"1\" class=\"dataframe\">\n",
              "  <thead>\n",
              "    <tr style=\"text-align: right;\">\n",
              "      <th></th>\n",
              "      <th>Radiation</th>\n",
              "      <th>Temperature</th>\n",
              "    </tr>\n",
              "    <tr>\n",
              "      <th>Datetime</th>\n",
              "      <th></th>\n",
              "      <th></th>\n",
              "    </tr>\n",
              "  </thead>\n",
              "  <tbody>\n",
              "    <tr>\n",
              "      <th>2016-09-01 00:00:08</th>\n",
              "      <td>2.58</td>\n",
              "      <td>51</td>\n",
              "    </tr>\n",
              "    <tr>\n",
              "      <th>2016-09-01 00:05:10</th>\n",
              "      <td>2.83</td>\n",
              "      <td>51</td>\n",
              "    </tr>\n",
              "    <tr>\n",
              "      <th>2016-09-01 00:20:06</th>\n",
              "      <td>2.16</td>\n",
              "      <td>51</td>\n",
              "    </tr>\n",
              "  </tbody>\n",
              "</table>\n",
              "</div>"
            ],
            "text/plain": [
              "                     Radiation  Temperature\n",
              "Datetime                                   \n",
              "2016-09-01 00:00:08       2.58           51\n",
              "2016-09-01 00:05:10       2.83           51\n",
              "2016-09-01 00:20:06       2.16           51"
            ]
          },
          "metadata": {
            "tags": []
          },
          "execution_count": 110
        }
      ]
    },
    {
      "cell_type": "code",
      "metadata": {
        "colab": {
          "base_uri": "https://localhost:8080/"
        },
        "id": "iaSEBN9mUotO",
        "outputId": "41033873-774f-43e2-c9ab-1a95565a6ff1"
      },
      "source": [
        "# 2、\r\n",
        "s = df.index.to_series().reset_index(drop=True).diff().dt.total_seconds()\r\n",
        "max_3 = s.nlargest(3).index\r\n",
        "df.index[max_3.union(max_3-1)]"
      ],
      "execution_count": 111,
      "outputs": [
        {
          "output_type": "execute_result",
          "data": {
            "text/plain": [
              "DatetimeIndex(['2016-09-29 23:55:26', '2016-10-01 00:00:19',\n",
              "               '2016-11-29 19:05:02', '2016-12-01 00:00:02',\n",
              "               '2016-12-05 20:45:53', '2016-12-08 11:10:42'],\n",
              "              dtype='datetime64[ns]', name='Datetime', freq=None)"
            ]
          },
          "metadata": {
            "tags": []
          },
          "execution_count": 111
        }
      ]
    },
    {
      "cell_type": "code",
      "metadata": {
        "colab": {
          "base_uri": "https://localhost:8080/",
          "height": 548
        },
        "id": "qJKjJlAUUyXl",
        "outputId": "0ee7eccc-8043-41ce-f5e2-e3a738e42c7f"
      },
      "source": [
        "res = s.mask((s>s.quantile(0.99))|(s<s.quantile(0.01)))\r\n",
        "plt.hist(res, bins=50)"
      ],
      "execution_count": 112,
      "outputs": [
        {
          "output_type": "execute_result",
          "data": {
            "text/plain": [
              "(array([9.700e+01, 9.200e+01, 1.130e+02, 2.330e+02, 4.080e+02, 2.390e+02,\n",
              "        1.660e+02, 2.180e+02, 4.140e+02, 5.970e+02, 1.094e+03, 2.112e+03,\n",
              "        2.675e+03, 4.317e+03, 6.326e+03, 4.262e+03, 2.634e+03, 2.085e+03,\n",
              "        1.077e+03, 6.330e+02, 4.190e+02, 2.690e+02, 1.570e+02, 2.340e+02,\n",
              "        3.530e+02, 3.410e+02, 8.600e+01, 4.800e+01, 4.300e+01, 6.200e+01,\n",
              "        3.500e+01, 4.000e+01, 3.100e+01, 1.800e+01, 1.900e+01, 1.500e+01,\n",
              "        1.300e+01, 9.000e+00, 1.200e+01, 8.000e+00, 7.000e+00, 4.000e+00,\n",
              "        3.000e+00, 1.300e+01, 1.300e+01, 2.000e+00, 0.000e+00, 1.000e+00,\n",
              "        1.000e+00, 4.000e+00]),\n",
              " array([285.  , 286.04, 287.08, 288.12, 289.16, 290.2 , 291.24, 292.28,\n",
              "        293.32, 294.36, 295.4 , 296.44, 297.48, 298.52, 299.56, 300.6 ,\n",
              "        301.64, 302.68, 303.72, 304.76, 305.8 , 306.84, 307.88, 308.92,\n",
              "        309.96, 311.  , 312.04, 313.08, 314.12, 315.16, 316.2 , 317.24,\n",
              "        318.28, 319.32, 320.36, 321.4 , 322.44, 323.48, 324.52, 325.56,\n",
              "        326.6 , 327.64, 328.68, 329.72, 330.76, 331.8 , 332.84, 333.88,\n",
              "        334.92, 335.96, 337.  ]),\n",
              " <a list of 50 Patch objects>)"
            ]
          },
          "metadata": {
            "tags": []
          },
          "execution_count": 112
        },
        {
          "output_type": "display_data",
          "data": {
            "image/png": "[encoded data removed]",
            "text/plain": [
              "<Figure size 432x288 with 1 Axes>"
            ]
          },
          "metadata": {
            "tags": [],
            "needs_background": "light"
          }
        }
      ]
    },
    {
      "cell_type": "code",
      "metadata": {
        "colab": {
          "base_uri": "https://localhost:8080/"
        },
        "id": "D6GIzRuxVAkD",
        "outputId": "89a5a0c7-cf65-4be1-a82b-35c38ab54d35"
      },
      "source": [
        "# 3、\r\n",
        "res = df.Radiation.rolling('6H').corr(df.Temperature)\r\n",
        "res.tail(3)"
      ],
      "execution_count": 113,
      "outputs": [
        {
          "output_type": "execute_result",
          "data": {
            "text/plain": [
              "Datetime\n",
              "2016-12-31 23:45:04    0.328574\n",
              "2016-12-31 23:50:03    0.261883\n",
              "2016-12-31 23:55:01    0.262406\n",
              "dtype: float64"
            ]
          },
          "metadata": {
            "tags": []
          },
          "execution_count": 113
        }
      ]
    },
    {
      "cell_type": "code",
      "metadata": {
        "colab": {
          "base_uri": "https://localhost:8080/"
        },
        "id": "gNPTg-WSVFOO",
        "outputId": "1c9c59fa-b294-4278-af73-08e783159c69"
      },
      "source": [
        "res = df.Temperature.resample('6H', origin='03:00:00').mean()\r\n",
        "res.head()"
      ],
      "execution_count": 114,
      "outputs": [
        {
          "output_type": "execute_result",
          "data": {
            "text/plain": [
              "Datetime\n",
              "2016-08-31 21:00:00    51.218750\n",
              "2016-09-01 03:00:00    50.033333\n",
              "2016-09-01 09:00:00    59.379310\n",
              "2016-09-01 15:00:00    57.984375\n",
              "2016-09-01 21:00:00    51.393939\n",
              "Freq: 6H, Name: Temperature, dtype: float64"
            ]
          },
          "metadata": {
            "tags": []
          },
          "execution_count": 114
        }
      ]
    },
    {
      "cell_type": "code",
      "metadata": {
        "colab": {
          "base_uri": "https://localhost:8080/"
        },
        "id": "dZJbXQy-VIWv",
        "outputId": "34ded1af-d34b-4857-9ce8-5cb5e10a6061"
      },
      "source": [
        "my_dt = df.index.shift(freq='-6H')\r\n",
        "int_loc = [df.index.get_loc(i, method='nearest') for i in my_dt]\r\n",
        "res = df.Radiation.iloc[int_loc]\r\n",
        "res.tail(3)"
      ],
      "execution_count": 115,
      "outputs": [
        {
          "output_type": "execute_result",
          "data": {
            "text/plain": [
              "Datetime\n",
              "2016-12-31 17:45:02    9.33\n",
              "2016-12-31 17:50:01    8.49\n",
              "2016-12-31 17:55:02    5.84\n",
              "Name: Radiation, dtype: float64"
            ]
          },
          "metadata": {
            "tags": []
          },
          "execution_count": 115
        }
      ]
    },
    {
      "cell_type": "markdown",
      "metadata": {
        "id": "upgMc9BiUK18"
      },
      "source": [
        "#### Ex2：水果销量数据集\r\n",
        "现有一份2019年每日水果销量记录表：\r\n",
        "\r\n",
        "```python\r\n",
        "df = pd.read_csv('../data/fruit.csv')\r\n",
        "df.head(3)\r\n",
        "```\r\n",
        "\r\n",
        "1、 统计如下指标：\r\n",
        "* 每月上半月（15号及之前）与下半月葡萄销量的比值\r\n",
        "* 每月最后一天的生梨销量总和\r\n",
        "* 每月最后一天工作日的生梨销量总和\r\n",
        "* 每月最后五天的苹果销量均值\r\n",
        "\r\n",
        "2、 按月计算周一至周日各品种水果的平均记录条数，行索引外层为水果名称，内层为月份，列索引为星期。\r\n",
        "\r\n",
        "3、 按天计算向前10个工作日窗口的苹果销量均值序列，非工作日的值用上一个工作日的结果填充。"
      ]
    },
    {
      "cell_type": "code",
      "metadata": {
        "colab": {
          "base_uri": "https://localhost:8080/",
          "height": 197
        },
        "id": "270T6-XGUIWU",
        "outputId": "aefbf593-f854-4651-cc65-893606e99f95"
      },
      "source": [
        "df = pd.read_csv('data/fruit.csv')\r\n",
        "df.head()"
      ],
      "execution_count": 118,
      "outputs": [
        {
          "output_type": "execute_result",
          "data": {
            "text/html": [
              "<div>\n",
              "<style scoped>\n",
              "    .dataframe tbody tr th:only-of-type {\n",
              "        vertical-align: middle;\n",
              "    }\n",
              "\n",
              "    .dataframe tbody tr th {\n",
              "        vertical-align: top;\n",
              "    }\n",
              "\n",
              "    .dataframe thead th {\n",
              "        text-align: right;\n",
              "    }\n",
              "</style>\n",
              "<table border=\"1\" class=\"dataframe\">\n",
              "  <thead>\n",
              "    <tr style=\"text-align: right;\">\n",
              "      <th></th>\n",
              "      <th>Date</th>\n",
              "      <th>Fruit</th>\n",
              "      <th>Sale</th>\n",
              "    </tr>\n",
              "  </thead>\n",
              "  <tbody>\n",
              "    <tr>\n",
              "      <th>0</th>\n",
              "      <td>2019-04-18</td>\n",
              "      <td>Peach</td>\n",
              "      <td>15</td>\n",
              "    </tr>\n",
              "    <tr>\n",
              "      <th>1</th>\n",
              "      <td>2019-12-29</td>\n",
              "      <td>Peach</td>\n",
              "      <td>15</td>\n",
              "    </tr>\n",
              "    <tr>\n",
              "      <th>2</th>\n",
              "      <td>2019-06-05</td>\n",
              "      <td>Peach</td>\n",
              "      <td>19</td>\n",
              "    </tr>\n",
              "    <tr>\n",
              "      <th>3</th>\n",
              "      <td>2019-10-28</td>\n",
              "      <td>Pear</td>\n",
              "      <td>19</td>\n",
              "    </tr>\n",
              "    <tr>\n",
              "      <th>4</th>\n",
              "      <td>2019-06-11</td>\n",
              "      <td>Peach</td>\n",
              "      <td>5</td>\n",
              "    </tr>\n",
              "  </tbody>\n",
              "</table>\n",
              "</div>"
            ],
            "text/plain": [
              "         Date  Fruit  Sale\n",
              "0  2019-04-18  Peach    15\n",
              "1  2019-12-29  Peach    15\n",
              "2  2019-06-05  Peach    19\n",
              "3  2019-10-28   Pear    19\n",
              "4  2019-06-11  Peach     5"
            ]
          },
          "metadata": {
            "tags": []
          },
          "execution_count": 118
        }
      ]
    },
    {
      "cell_type": "code",
      "metadata": {
        "colab": {
          "base_uri": "https://localhost:8080/"
        },
        "id": "X7LU_NngUbQW",
        "outputId": "395d50b7-a419-4734-a74a-4b05905e1816"
      },
      "source": [
        "# 1、\r\n",
        "df.Date = pd.to_datetime(df.Date)\r\n",
        "df_grape = df.query(\"Fruit == 'Grape'\")\r\n",
        "res = df_grape.groupby([np.where(df_grape.Date.dt.day<=15,\r\n",
        "    'First', 'Second'),df_grape.Date.dt.month]\r\n",
        "    )['Sale'].mean().to_frame().unstack(0\r\n",
        "    ).droplevel(0,axis=1)\r\n",
        "res = (res.First/res.Second).rename_axis('Month')\r\n",
        "res.head()"
      ],
      "execution_count": 119,
      "outputs": [
        {
          "output_type": "execute_result",
          "data": {
            "text/plain": [
              "Month\n",
              "1    1.174998\n",
              "2    0.968890\n",
              "3    0.951351\n",
              "4    1.020797\n",
              "5    0.931061\n",
              "dtype: float64"
            ]
          },
          "metadata": {
            "tags": []
          },
          "execution_count": 119
        }
      ]
    },
    {
      "cell_type": "code",
      "metadata": {
        "colab": {
          "base_uri": "https://localhost:8080/"
        },
        "id": "ZQIPUYWqUcre",
        "outputId": "1916a626-8c54-4434-9ac0-2e92d5eacee0"
      },
      "source": [
        "df[df.Date.dt.is_month_end].query(\"Fruit == 'Pear'\"\r\n",
        "    ).groupby('Date').Sale.sum().head()"
      ],
      "execution_count": 120,
      "outputs": [
        {
          "output_type": "execute_result",
          "data": {
            "text/plain": [
              "Date\n",
              "2019-01-31    847\n",
              "2019-02-28    774\n",
              "2019-03-31    761\n",
              "2019-04-30    648\n",
              "2019-05-31    616\n",
              "Name: Sale, dtype: int64"
            ]
          },
          "metadata": {
            "tags": []
          },
          "execution_count": 120
        }
      ]
    },
    {
      "cell_type": "code",
      "metadata": {
        "colab": {
          "base_uri": "https://localhost:8080/"
        },
        "id": "9nV-ttj_VhCP",
        "outputId": "1d7449d4-03ec-43b4-cd95-07ea87b9c2d7"
      },
      "source": [
        "df[df.Date.isin(pd.date_range('20190101', '20191231',\r\n",
        "    freq='BM'))].query(\"Fruit == 'Pear'\"\r\n",
        "    ).groupby('Date').Sale.mean().head()"
      ],
      "execution_count": 121,
      "outputs": [
        {
          "output_type": "execute_result",
          "data": {
            "text/plain": [
              "Date\n",
              "2019-01-31    60.500000\n",
              "2019-02-28    59.538462\n",
              "2019-03-29    56.666667\n",
              "2019-04-30    64.800000\n",
              "2019-05-31    61.600000\n",
              "Name: Sale, dtype: float64"
            ]
          },
          "metadata": {
            "tags": []
          },
          "execution_count": 121
        }
      ]
    },
    {
      "cell_type": "code",
      "metadata": {
        "colab": {
          "base_uri": "https://localhost:8080/"
        },
        "id": "gY3uVGIoVj8h",
        "outputId": "84074114-513c-4e9a-e47d-01fa7ec662bf"
      },
      "source": [
        "target_dt = df.drop_duplicates().groupby(df.Date.drop_duplicates(\r\n",
        "    ).dt.month)['Date'].nlargest(5).reset_index(drop=True)\r\n",
        "res = df.set_index('Date').loc[target_dt].reset_index(\r\n",
        "    ).query(\"Fruit == 'Apple'\")\r\n",
        "res = res.groupby(res.Date.dt.month)['Sale'].mean(\r\n",
        "    ).rename_axis('Month')\r\n",
        "res.head()"
      ],
      "execution_count": 123,
      "outputs": [
        {
          "output_type": "execute_result",
          "data": {
            "text/plain": [
              "Month\n",
              "1    65.313725\n",
              "2    54.061538\n",
              "3    59.325581\n",
              "4    65.795455\n",
              "5    57.465116\n",
              "Name: Sale, dtype: float64"
            ]
          },
          "metadata": {
            "tags": []
          },
          "execution_count": 123
        }
      ]
    },
    {
      "cell_type": "code",
      "metadata": {
        "id": "lvumFa-MVnQg"
      },
      "source": [
        "# 2、\r\n",
        "month_order = ['January','February','March','April',\r\n",
        "    'May','June','July','August','September',\r\n",
        "    'October','November','December']\r\n",
        "\r\n",
        "week_order = ['Mon','Tue','Wed','Thu','Fri','Sat','Sum']\r\n",
        "group1 = df.Date.dt.month_name().astype('category').cat.reorder_categories(\r\n",
        "    month_order, ordered=True)\r\n",
        "group2 = df.Fruit\r\n",
        "group3 = df.Date.dt.dayofweek.replace(dict(zip(range(7),week_order))\r\n",
        "    ).astype('category').cat.reorder_categories(\r\n",
        "    week_order, ordered=True)\r\n",
        "\r\n",
        "res = df.groupby([group1, group2,group3])['Sale'].count().to_frame(\r\n",
        "    ).unstack(0).droplevel(0,axis=1)"
      ],
      "execution_count": 124,
      "outputs": []
    },
    {
      "cell_type": "code",
      "metadata": {
        "colab": {
          "base_uri": "https://localhost:8080/",
          "height": 247
        },
        "id": "p_IKCdO_V9Cz",
        "outputId": "b94f7a0d-e785-47f7-df12-279ddea6ae7a"
      },
      "source": [
        "res.head()"
      ],
      "execution_count": 125,
      "outputs": [
        {
          "output_type": "execute_result",
          "data": {
            "text/html": [
              "<div>\n",
              "<style scoped>\n",
              "    .dataframe tbody tr th:only-of-type {\n",
              "        vertical-align: middle;\n",
              "    }\n",
              "\n",
              "    .dataframe tbody tr th {\n",
              "        vertical-align: top;\n",
              "    }\n",
              "\n",
              "    .dataframe thead th {\n",
              "        text-align: right;\n",
              "    }\n",
              "</style>\n",
              "<table border=\"1\" class=\"dataframe\">\n",
              "  <thead>\n",
              "    <tr style=\"text-align: right;\">\n",
              "      <th></th>\n",
              "      <th>Date</th>\n",
              "      <th>January</th>\n",
              "      <th>February</th>\n",
              "      <th>March</th>\n",
              "      <th>April</th>\n",
              "      <th>May</th>\n",
              "      <th>June</th>\n",
              "      <th>July</th>\n",
              "      <th>August</th>\n",
              "      <th>September</th>\n",
              "      <th>October</th>\n",
              "      <th>November</th>\n",
              "      <th>December</th>\n",
              "    </tr>\n",
              "    <tr>\n",
              "      <th>Fruit</th>\n",
              "      <th>Date</th>\n",
              "      <th></th>\n",
              "      <th></th>\n",
              "      <th></th>\n",
              "      <th></th>\n",
              "      <th></th>\n",
              "      <th></th>\n",
              "      <th></th>\n",
              "      <th></th>\n",
              "      <th></th>\n",
              "      <th></th>\n",
              "      <th></th>\n",
              "      <th></th>\n",
              "    </tr>\n",
              "  </thead>\n",
              "  <tbody>\n",
              "    <tr>\n",
              "      <th rowspan=\"5\" valign=\"top\">Apple</th>\n",
              "      <th>Mon</th>\n",
              "      <td>46</td>\n",
              "      <td>43</td>\n",
              "      <td>43</td>\n",
              "      <td>47</td>\n",
              "      <td>43</td>\n",
              "      <td>40</td>\n",
              "      <td>41</td>\n",
              "      <td>38</td>\n",
              "      <td>59</td>\n",
              "      <td>42</td>\n",
              "      <td>39</td>\n",
              "      <td>45</td>\n",
              "    </tr>\n",
              "    <tr>\n",
              "      <th>Tue</th>\n",
              "      <td>50</td>\n",
              "      <td>40</td>\n",
              "      <td>44</td>\n",
              "      <td>52</td>\n",
              "      <td>46</td>\n",
              "      <td>39</td>\n",
              "      <td>50</td>\n",
              "      <td>42</td>\n",
              "      <td>40</td>\n",
              "      <td>57</td>\n",
              "      <td>47</td>\n",
              "      <td>47</td>\n",
              "    </tr>\n",
              "    <tr>\n",
              "      <th>Wed</th>\n",
              "      <td>50</td>\n",
              "      <td>47</td>\n",
              "      <td>37</td>\n",
              "      <td>43</td>\n",
              "      <td>39</td>\n",
              "      <td>39</td>\n",
              "      <td>58</td>\n",
              "      <td>43</td>\n",
              "      <td>35</td>\n",
              "      <td>46</td>\n",
              "      <td>47</td>\n",
              "      <td>38</td>\n",
              "    </tr>\n",
              "    <tr>\n",
              "      <th>Thu</th>\n",
              "      <td>45</td>\n",
              "      <td>35</td>\n",
              "      <td>31</td>\n",
              "      <td>47</td>\n",
              "      <td>58</td>\n",
              "      <td>33</td>\n",
              "      <td>52</td>\n",
              "      <td>44</td>\n",
              "      <td>36</td>\n",
              "      <td>63</td>\n",
              "      <td>37</td>\n",
              "      <td>40</td>\n",
              "    </tr>\n",
              "    <tr>\n",
              "      <th>Fri</th>\n",
              "      <td>32</td>\n",
              "      <td>33</td>\n",
              "      <td>52</td>\n",
              "      <td>31</td>\n",
              "      <td>46</td>\n",
              "      <td>38</td>\n",
              "      <td>37</td>\n",
              "      <td>48</td>\n",
              "      <td>34</td>\n",
              "      <td>37</td>\n",
              "      <td>46</td>\n",
              "      <td>41</td>\n",
              "    </tr>\n",
              "  </tbody>\n",
              "</table>\n",
              "</div>"
            ],
            "text/plain": [
              "Date        January  February  March  ...  October  November  December\n",
              "Fruit Date                            ...                             \n",
              "Apple Mon        46        43     43  ...       42        39        45\n",
              "      Tue        50        40     44  ...       57        47        47\n",
              "      Wed        50        47     37  ...       46        47        38\n",
              "      Thu        45        35     31  ...       63        37        40\n",
              "      Fri        32        33     52  ...       37        46        41\n",
              "\n",
              "[5 rows x 12 columns]"
            ]
          },
          "metadata": {
            "tags": []
          },
          "execution_count": 125
        }
      ]
    },
    {
      "cell_type": "code",
      "metadata": {
        "colab": {
          "base_uri": "https://localhost:8080/"
        },
        "id": "XfzJfR3jV-wS",
        "outputId": "8f4914ab-30b8-4df9-e1dd-032b7150197f"
      },
      "source": [
        "#3、\r\n",
        "df_apple = df[(df.Fruit=='Apple')&(\r\n",
        "    ~df.Date.dt.dayofweek.isin([5,6]))]\r\n",
        "\r\n",
        "s = pd.Series(df_apple.Sale.values,\r\n",
        "    index=df_apple.Date).groupby('Date').sum()\r\n",
        "res = s.rolling('10D').mean().reindex(\r\n",
        "    pd.date_range('20190101','20191231')).fillna(method='ffill')\r\n",
        "res.head()"
      ],
      "execution_count": 126,
      "outputs": [
        {
          "output_type": "execute_result",
          "data": {
            "text/plain": [
              "2019-01-01    189.000000\n",
              "2019-01-02    335.500000\n",
              "2019-01-03    520.333333\n",
              "2019-01-04    527.750000\n",
              "2019-01-05    527.750000\n",
              "Freq: D, dtype: float64"
            ]
          },
          "metadata": {
            "tags": []
          },
          "execution_count": 126
        }
      ]
    },
    {
      "cell_type": "code",
      "metadata": {
        "id": "7RplmlAMWGOX"
      },
      "source": [
        ""
      ],
      "execution_count": null,
      "outputs": []
    }
  ]
}