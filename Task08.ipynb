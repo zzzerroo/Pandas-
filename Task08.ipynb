{
  "nbformat": 4,
  "nbformat_minor": 0,
  "metadata": {
    "colab": {
      "name": "Task08.ipynb",
      "provenance": [],
      "collapsed_sections": []
    },
    "kernelspec": {
      "name": "python3",
      "display_name": "Python 3"
    }
  },
  "cells": [
    {
      "cell_type": "markdown",
      "metadata": {
        "id": "1AAuOoUQTaVJ"
      },
      "source": [
        "## 缺失数据\r\n",
        "### 一、缺失值的统计和删除\r\n",
        "#### 1. 缺失信息的统计\r\n",
        "\r\n",
        "缺失数据可以使用`isna`或`isnull`（两个函数没有区别）来查看每个单元格是否缺失，结合`mean`可以计算出每列缺失值的比例："
      ]
    },
    {
      "cell_type": "code",
      "metadata": {
        "colab": {
          "base_uri": "https://localhost:8080/"
        },
        "id": "5JU5IgV5TL76",
        "outputId": "00fb0510-cf97-4a2f-f154-9e27b5d4685f"
      },
      "source": [
        "%cd drive/MyDrive/\r\n",
        "!ls\r\n"
      ],
      "execution_count": 1,
      "outputs": [
        {
          "output_type": "stream",
          "text": [
            "/content/drive/MyDrive\n",
            "'Colab Notebooks'   data\n"
          ],
          "name": "stdout"
        }
      ]
    },
    {
      "cell_type": "code",
      "metadata": {
        "id": "_-hAyCQVUjP0"
      },
      "source": [
        "import pandas as pd\r\n",
        "import numpy as np"
      ],
      "execution_count": 2,
      "outputs": []
    },
    {
      "cell_type": "code",
      "metadata": {
        "colab": {
          "base_uri": "https://localhost:8080/",
          "height": 202
        },
        "id": "e6fFsD-_UnK6",
        "outputId": "81eb3e83-6813-4047-8e96-000c670c95af"
      },
      "source": [
        "df = pd.read_csv('data/learn_pandas.csv',\r\n",
        "          usecols = ['Grade', 'Name', 'Gender', 'Height',\r\n",
        "                         'Weight', 'Transfer'])\r\n",
        "df.isna().head()"
      ],
      "execution_count": 3,
      "outputs": [
        {
          "output_type": "execute_result",
          "data": {
            "text/html": [
              "<div>\n",
              "<style scoped>\n",
              "    .dataframe tbody tr th:only-of-type {\n",
              "        vertical-align: middle;\n",
              "    }\n",
              "\n",
              "    .dataframe tbody tr th {\n",
              "        vertical-align: top;\n",
              "    }\n",
              "\n",
              "    .dataframe thead th {\n",
              "        text-align: right;\n",
              "    }\n",
              "</style>\n",
              "<table border=\"1\" class=\"dataframe\">\n",
              "  <thead>\n",
              "    <tr style=\"text-align: right;\">\n",
              "      <th></th>\n",
              "      <th>Grade</th>\n",
              "      <th>Name</th>\n",
              "      <th>Gender</th>\n",
              "      <th>Height</th>\n",
              "      <th>Weight</th>\n",
              "      <th>Transfer</th>\n",
              "    </tr>\n",
              "  </thead>\n",
              "  <tbody>\n",
              "    <tr>\n",
              "      <th>0</th>\n",
              "      <td>False</td>\n",
              "      <td>False</td>\n",
              "      <td>False</td>\n",
              "      <td>False</td>\n",
              "      <td>False</td>\n",
              "      <td>False</td>\n",
              "    </tr>\n",
              "    <tr>\n",
              "      <th>1</th>\n",
              "      <td>False</td>\n",
              "      <td>False</td>\n",
              "      <td>False</td>\n",
              "      <td>False</td>\n",
              "      <td>False</td>\n",
              "      <td>False</td>\n",
              "    </tr>\n",
              "    <tr>\n",
              "      <th>2</th>\n",
              "      <td>False</td>\n",
              "      <td>False</td>\n",
              "      <td>False</td>\n",
              "      <td>False</td>\n",
              "      <td>False</td>\n",
              "      <td>False</td>\n",
              "    </tr>\n",
              "    <tr>\n",
              "      <th>3</th>\n",
              "      <td>False</td>\n",
              "      <td>False</td>\n",
              "      <td>False</td>\n",
              "      <td>True</td>\n",
              "      <td>False</td>\n",
              "      <td>False</td>\n",
              "    </tr>\n",
              "    <tr>\n",
              "      <th>4</th>\n",
              "      <td>False</td>\n",
              "      <td>False</td>\n",
              "      <td>False</td>\n",
              "      <td>False</td>\n",
              "      <td>False</td>\n",
              "      <td>False</td>\n",
              "    </tr>\n",
              "  </tbody>\n",
              "</table>\n",
              "</div>"
            ],
            "text/plain": [
              "   Grade   Name  Gender  Height  Weight  Transfer\n",
              "0  False  False   False   False   False     False\n",
              "1  False  False   False   False   False     False\n",
              "2  False  False   False   False   False     False\n",
              "3  False  False   False    True   False     False\n",
              "4  False  False   False   False   False     False"
            ]
          },
          "metadata": {
            "tags": []
          },
          "execution_count": 3
        }
      ]
    },
    {
      "cell_type": "code",
      "metadata": {
        "colab": {
          "base_uri": "https://localhost:8080/",
          "height": 202
        },
        "id": "ywu758AAVSjP",
        "outputId": "b9e23ba0-de0c-4304-8a2a-015f847c0f79"
      },
      "source": [
        "df.head()"
      ],
      "execution_count": 5,
      "outputs": [
        {
          "output_type": "execute_result",
          "data": {
            "text/html": [
              "<div>\n",
              "<style scoped>\n",
              "    .dataframe tbody tr th:only-of-type {\n",
              "        vertical-align: middle;\n",
              "    }\n",
              "\n",
              "    .dataframe tbody tr th {\n",
              "        vertical-align: top;\n",
              "    }\n",
              "\n",
              "    .dataframe thead th {\n",
              "        text-align: right;\n",
              "    }\n",
              "</style>\n",
              "<table border=\"1\" class=\"dataframe\">\n",
              "  <thead>\n",
              "    <tr style=\"text-align: right;\">\n",
              "      <th></th>\n",
              "      <th>Grade</th>\n",
              "      <th>Name</th>\n",
              "      <th>Gender</th>\n",
              "      <th>Height</th>\n",
              "      <th>Weight</th>\n",
              "      <th>Transfer</th>\n",
              "    </tr>\n",
              "  </thead>\n",
              "  <tbody>\n",
              "    <tr>\n",
              "      <th>0</th>\n",
              "      <td>Freshman</td>\n",
              "      <td>Gaopeng Yang</td>\n",
              "      <td>Female</td>\n",
              "      <td>158.9</td>\n",
              "      <td>46.0</td>\n",
              "      <td>N</td>\n",
              "    </tr>\n",
              "    <tr>\n",
              "      <th>1</th>\n",
              "      <td>Freshman</td>\n",
              "      <td>Changqiang You</td>\n",
              "      <td>Male</td>\n",
              "      <td>166.5</td>\n",
              "      <td>70.0</td>\n",
              "      <td>N</td>\n",
              "    </tr>\n",
              "    <tr>\n",
              "      <th>2</th>\n",
              "      <td>Senior</td>\n",
              "      <td>Mei Sun</td>\n",
              "      <td>Male</td>\n",
              "      <td>188.9</td>\n",
              "      <td>89.0</td>\n",
              "      <td>N</td>\n",
              "    </tr>\n",
              "    <tr>\n",
              "      <th>3</th>\n",
              "      <td>Sophomore</td>\n",
              "      <td>Xiaojuan Sun</td>\n",
              "      <td>Female</td>\n",
              "      <td>NaN</td>\n",
              "      <td>41.0</td>\n",
              "      <td>N</td>\n",
              "    </tr>\n",
              "    <tr>\n",
              "      <th>4</th>\n",
              "      <td>Sophomore</td>\n",
              "      <td>Gaojuan You</td>\n",
              "      <td>Male</td>\n",
              "      <td>174.0</td>\n",
              "      <td>74.0</td>\n",
              "      <td>N</td>\n",
              "    </tr>\n",
              "  </tbody>\n",
              "</table>\n",
              "</div>"
            ],
            "text/plain": [
              "       Grade            Name  Gender  Height  Weight Transfer\n",
              "0   Freshman    Gaopeng Yang  Female   158.9    46.0        N\n",
              "1   Freshman  Changqiang You    Male   166.5    70.0        N\n",
              "2     Senior         Mei Sun    Male   188.9    89.0        N\n",
              "3  Sophomore    Xiaojuan Sun  Female     NaN    41.0        N\n",
              "4  Sophomore     Gaojuan You    Male   174.0    74.0        N"
            ]
          },
          "metadata": {
            "tags": []
          },
          "execution_count": 5
        }
      ]
    },
    {
      "cell_type": "code",
      "metadata": {
        "colab": {
          "base_uri": "https://localhost:8080/"
        },
        "id": "-Y3jlHG0Ux_n",
        "outputId": "0a2af075-a22e-4421-9d75-57c03cea64d0"
      },
      "source": [
        "# 查看缺失的比例\r\n",
        "df.isna().mean()"
      ],
      "execution_count": 4,
      "outputs": [
        {
          "output_type": "execute_result",
          "data": {
            "text/plain": [
              "Grade       0.000\n",
              "Name        0.000\n",
              "Gender      0.000\n",
              "Height      0.085\n",
              "Weight      0.055\n",
              "Transfer    0.060\n",
              "dtype: float64"
            ]
          },
          "metadata": {
            "tags": []
          },
          "execution_count": 4
        }
      ]
    },
    {
      "cell_type": "markdown",
      "metadata": {
        "id": "XkQNfdSnVthY"
      },
      "source": [
        "如果想要查看某一列缺失或者非缺失的行，可以利用`Series`上的`isna`或者`notna`进行布尔索引。"
      ]
    },
    {
      "cell_type": "code",
      "metadata": {
        "colab": {
          "base_uri": "https://localhost:8080/",
          "height": 202
        },
        "id": "YlXMpZWjVNmo",
        "outputId": "f6bfbfd7-a6f8-430f-a9b8-4f3ff6c4ce9e"
      },
      "source": [
        "df[df.Height.isna()].head()"
      ],
      "execution_count": 6,
      "outputs": [
        {
          "output_type": "execute_result",
          "data": {
            "text/html": [
              "<div>\n",
              "<style scoped>\n",
              "    .dataframe tbody tr th:only-of-type {\n",
              "        vertical-align: middle;\n",
              "    }\n",
              "\n",
              "    .dataframe tbody tr th {\n",
              "        vertical-align: top;\n",
              "    }\n",
              "\n",
              "    .dataframe thead th {\n",
              "        text-align: right;\n",
              "    }\n",
              "</style>\n",
              "<table border=\"1\" class=\"dataframe\">\n",
              "  <thead>\n",
              "    <tr style=\"text-align: right;\">\n",
              "      <th></th>\n",
              "      <th>Grade</th>\n",
              "      <th>Name</th>\n",
              "      <th>Gender</th>\n",
              "      <th>Height</th>\n",
              "      <th>Weight</th>\n",
              "      <th>Transfer</th>\n",
              "    </tr>\n",
              "  </thead>\n",
              "  <tbody>\n",
              "    <tr>\n",
              "      <th>3</th>\n",
              "      <td>Sophomore</td>\n",
              "      <td>Xiaojuan Sun</td>\n",
              "      <td>Female</td>\n",
              "      <td>NaN</td>\n",
              "      <td>41.0</td>\n",
              "      <td>N</td>\n",
              "    </tr>\n",
              "    <tr>\n",
              "      <th>12</th>\n",
              "      <td>Senior</td>\n",
              "      <td>Peng You</td>\n",
              "      <td>Female</td>\n",
              "      <td>NaN</td>\n",
              "      <td>48.0</td>\n",
              "      <td>NaN</td>\n",
              "    </tr>\n",
              "    <tr>\n",
              "      <th>26</th>\n",
              "      <td>Junior</td>\n",
              "      <td>Yanli You</td>\n",
              "      <td>Female</td>\n",
              "      <td>NaN</td>\n",
              "      <td>48.0</td>\n",
              "      <td>N</td>\n",
              "    </tr>\n",
              "    <tr>\n",
              "      <th>36</th>\n",
              "      <td>Freshman</td>\n",
              "      <td>Xiaojuan Qin</td>\n",
              "      <td>Male</td>\n",
              "      <td>NaN</td>\n",
              "      <td>79.0</td>\n",
              "      <td>Y</td>\n",
              "    </tr>\n",
              "    <tr>\n",
              "      <th>60</th>\n",
              "      <td>Freshman</td>\n",
              "      <td>Yanpeng Lv</td>\n",
              "      <td>Male</td>\n",
              "      <td>NaN</td>\n",
              "      <td>65.0</td>\n",
              "      <td>N</td>\n",
              "    </tr>\n",
              "  </tbody>\n",
              "</table>\n",
              "</div>"
            ],
            "text/plain": [
              "        Grade          Name  Gender  Height  Weight Transfer\n",
              "3   Sophomore  Xiaojuan Sun  Female     NaN    41.0        N\n",
              "12     Senior      Peng You  Female     NaN    48.0      NaN\n",
              "26     Junior     Yanli You  Female     NaN    48.0        N\n",
              "36   Freshman  Xiaojuan Qin    Male     NaN    79.0        Y\n",
              "60   Freshman    Yanpeng Lv    Male     NaN    65.0        N"
            ]
          },
          "metadata": {
            "tags": []
          },
          "execution_count": 6
        }
      ]
    },
    {
      "cell_type": "markdown",
      "metadata": {
        "id": "xEynqzoeWeaf"
      },
      "source": [
        "同时对几个列，检索出全部为缺失或者至少有一个缺失或者没有缺失的行，可以使用`isna,notna`和`any,all`的组合。"
      ]
    },
    {
      "cell_type": "code",
      "metadata": {
        "colab": {
          "base_uri": "https://localhost:8080/",
          "height": 79
        },
        "id": "xaVKE5TIWbSr",
        "outputId": "e09aceec-fade-4f28-d0af-f577deea1ae6"
      },
      "source": [
        "# 对身高、体重和转系情况这3列分别进行这三种情况的检索\r\n",
        "sub_set = df[['Height', 'Weight', 'Transfer']]\r\n",
        "\r\n",
        "# 全部缺失\r\n",
        "df[sub_set.isna().all(1)]  "
      ],
      "execution_count": 8,
      "outputs": [
        {
          "output_type": "execute_result",
          "data": {
            "text/html": [
              "<div>\n",
              "<style scoped>\n",
              "    .dataframe tbody tr th:only-of-type {\n",
              "        vertical-align: middle;\n",
              "    }\n",
              "\n",
              "    .dataframe tbody tr th {\n",
              "        vertical-align: top;\n",
              "    }\n",
              "\n",
              "    .dataframe thead th {\n",
              "        text-align: right;\n",
              "    }\n",
              "</style>\n",
              "<table border=\"1\" class=\"dataframe\">\n",
              "  <thead>\n",
              "    <tr style=\"text-align: right;\">\n",
              "      <th></th>\n",
              "      <th>Grade</th>\n",
              "      <th>Name</th>\n",
              "      <th>Gender</th>\n",
              "      <th>Height</th>\n",
              "      <th>Weight</th>\n",
              "      <th>Transfer</th>\n",
              "    </tr>\n",
              "  </thead>\n",
              "  <tbody>\n",
              "    <tr>\n",
              "      <th>102</th>\n",
              "      <td>Junior</td>\n",
              "      <td>Chengli Zhao</td>\n",
              "      <td>Male</td>\n",
              "      <td>NaN</td>\n",
              "      <td>NaN</td>\n",
              "      <td>NaN</td>\n",
              "    </tr>\n",
              "  </tbody>\n",
              "</table>\n",
              "</div>"
            ],
            "text/plain": [
              "      Grade          Name Gender  Height  Weight Transfer\n",
              "102  Junior  Chengli Zhao   Male     NaN     NaN      NaN"
            ]
          },
          "metadata": {
            "tags": []
          },
          "execution_count": 8
        }
      ]
    },
    {
      "cell_type": "code",
      "metadata": {
        "colab": {
          "base_uri": "https://localhost:8080/",
          "height": 202
        },
        "id": "ZidENeNBWxQU",
        "outputId": "978cb31c-565d-482b-c222-aab24891c00d"
      },
      "source": [
        "# 至少有一个缺失\r\n",
        "df[sub_set.isna().any(1)].head()"
      ],
      "execution_count": 9,
      "outputs": [
        {
          "output_type": "execute_result",
          "data": {
            "text/html": [
              "<div>\n",
              "<style scoped>\n",
              "    .dataframe tbody tr th:only-of-type {\n",
              "        vertical-align: middle;\n",
              "    }\n",
              "\n",
              "    .dataframe tbody tr th {\n",
              "        vertical-align: top;\n",
              "    }\n",
              "\n",
              "    .dataframe thead th {\n",
              "        text-align: right;\n",
              "    }\n",
              "</style>\n",
              "<table border=\"1\" class=\"dataframe\">\n",
              "  <thead>\n",
              "    <tr style=\"text-align: right;\">\n",
              "      <th></th>\n",
              "      <th>Grade</th>\n",
              "      <th>Name</th>\n",
              "      <th>Gender</th>\n",
              "      <th>Height</th>\n",
              "      <th>Weight</th>\n",
              "      <th>Transfer</th>\n",
              "    </tr>\n",
              "  </thead>\n",
              "  <tbody>\n",
              "    <tr>\n",
              "      <th>3</th>\n",
              "      <td>Sophomore</td>\n",
              "      <td>Xiaojuan Sun</td>\n",
              "      <td>Female</td>\n",
              "      <td>NaN</td>\n",
              "      <td>41.0</td>\n",
              "      <td>N</td>\n",
              "    </tr>\n",
              "    <tr>\n",
              "      <th>9</th>\n",
              "      <td>Junior</td>\n",
              "      <td>Juan Xu</td>\n",
              "      <td>Female</td>\n",
              "      <td>164.8</td>\n",
              "      <td>NaN</td>\n",
              "      <td>N</td>\n",
              "    </tr>\n",
              "    <tr>\n",
              "      <th>12</th>\n",
              "      <td>Senior</td>\n",
              "      <td>Peng You</td>\n",
              "      <td>Female</td>\n",
              "      <td>NaN</td>\n",
              "      <td>48.0</td>\n",
              "      <td>NaN</td>\n",
              "    </tr>\n",
              "    <tr>\n",
              "      <th>21</th>\n",
              "      <td>Senior</td>\n",
              "      <td>Xiaopeng Shen</td>\n",
              "      <td>Male</td>\n",
              "      <td>166.0</td>\n",
              "      <td>62.0</td>\n",
              "      <td>NaN</td>\n",
              "    </tr>\n",
              "    <tr>\n",
              "      <th>26</th>\n",
              "      <td>Junior</td>\n",
              "      <td>Yanli You</td>\n",
              "      <td>Female</td>\n",
              "      <td>NaN</td>\n",
              "      <td>48.0</td>\n",
              "      <td>N</td>\n",
              "    </tr>\n",
              "  </tbody>\n",
              "</table>\n",
              "</div>"
            ],
            "text/plain": [
              "        Grade           Name  Gender  Height  Weight Transfer\n",
              "3   Sophomore   Xiaojuan Sun  Female     NaN    41.0        N\n",
              "9      Junior        Juan Xu  Female   164.8     NaN        N\n",
              "12     Senior       Peng You  Female     NaN    48.0      NaN\n",
              "21     Senior  Xiaopeng Shen    Male   166.0    62.0      NaN\n",
              "26     Junior      Yanli You  Female     NaN    48.0        N"
            ]
          },
          "metadata": {
            "tags": []
          },
          "execution_count": 9
        }
      ]
    },
    {
      "cell_type": "code",
      "metadata": {
        "colab": {
          "base_uri": "https://localhost:8080/",
          "height": 202
        },
        "id": "mtEj5BJLXG7f",
        "outputId": "ea06ad1e-db9e-4dec-ea9d-4a5bd296abf8"
      },
      "source": [
        "# 没有缺失\r\n",
        "df[sub_set.notna().all(1)].head()"
      ],
      "execution_count": 10,
      "outputs": [
        {
          "output_type": "execute_result",
          "data": {
            "text/html": [
              "<div>\n",
              "<style scoped>\n",
              "    .dataframe tbody tr th:only-of-type {\n",
              "        vertical-align: middle;\n",
              "    }\n",
              "\n",
              "    .dataframe tbody tr th {\n",
              "        vertical-align: top;\n",
              "    }\n",
              "\n",
              "    .dataframe thead th {\n",
              "        text-align: right;\n",
              "    }\n",
              "</style>\n",
              "<table border=\"1\" class=\"dataframe\">\n",
              "  <thead>\n",
              "    <tr style=\"text-align: right;\">\n",
              "      <th></th>\n",
              "      <th>Grade</th>\n",
              "      <th>Name</th>\n",
              "      <th>Gender</th>\n",
              "      <th>Height</th>\n",
              "      <th>Weight</th>\n",
              "      <th>Transfer</th>\n",
              "    </tr>\n",
              "  </thead>\n",
              "  <tbody>\n",
              "    <tr>\n",
              "      <th>0</th>\n",
              "      <td>Freshman</td>\n",
              "      <td>Gaopeng Yang</td>\n",
              "      <td>Female</td>\n",
              "      <td>158.9</td>\n",
              "      <td>46.0</td>\n",
              "      <td>N</td>\n",
              "    </tr>\n",
              "    <tr>\n",
              "      <th>1</th>\n",
              "      <td>Freshman</td>\n",
              "      <td>Changqiang You</td>\n",
              "      <td>Male</td>\n",
              "      <td>166.5</td>\n",
              "      <td>70.0</td>\n",
              "      <td>N</td>\n",
              "    </tr>\n",
              "    <tr>\n",
              "      <th>2</th>\n",
              "      <td>Senior</td>\n",
              "      <td>Mei Sun</td>\n",
              "      <td>Male</td>\n",
              "      <td>188.9</td>\n",
              "      <td>89.0</td>\n",
              "      <td>N</td>\n",
              "    </tr>\n",
              "    <tr>\n",
              "      <th>4</th>\n",
              "      <td>Sophomore</td>\n",
              "      <td>Gaojuan You</td>\n",
              "      <td>Male</td>\n",
              "      <td>174.0</td>\n",
              "      <td>74.0</td>\n",
              "      <td>N</td>\n",
              "    </tr>\n",
              "    <tr>\n",
              "      <th>5</th>\n",
              "      <td>Freshman</td>\n",
              "      <td>Xiaoli Qian</td>\n",
              "      <td>Female</td>\n",
              "      <td>158.0</td>\n",
              "      <td>51.0</td>\n",
              "      <td>N</td>\n",
              "    </tr>\n",
              "  </tbody>\n",
              "</table>\n",
              "</div>"
            ],
            "text/plain": [
              "       Grade            Name  Gender  Height  Weight Transfer\n",
              "0   Freshman    Gaopeng Yang  Female   158.9    46.0        N\n",
              "1   Freshman  Changqiang You    Male   166.5    70.0        N\n",
              "2     Senior         Mei Sun    Male   188.9    89.0        N\n",
              "4  Sophomore     Gaojuan You    Male   174.0    74.0        N\n",
              "5   Freshman     Xiaoli Qian  Female   158.0    51.0        N"
            ]
          },
          "metadata": {
            "tags": []
          },
          "execution_count": 10
        }
      ]
    },
    {
      "cell_type": "markdown",
      "metadata": {
        "id": "SDzISOwbXO5F"
      },
      "source": [
        "#### 2. 缺失信息的删除\r\n",
        "\r\n",
        "数据处理中经常需要根据缺失值的大小、比例或其他特征来进行样本或列特征的删除，可以使用`dropna`函数来进行操作。\r\n",
        "\r\n",
        "`dropna`的主要参数：\r\n",
        "* 轴方向`axis`（默认为0，即删除行）、\r\n",
        "* 删除方式`how`、（`how`,`any`）\r\n",
        "* 删除的非缺失值个数阈值`thresh`（**非缺失值**没有达到这个数量的相应维度会被删除）\r\n",
        "* 备选的删除子集`subset`"
      ]
    },
    {
      "cell_type": "code",
      "metadata": {
        "colab": {
          "base_uri": "https://localhost:8080/",
          "height": 202
        },
        "id": "80Ht1tRlXM_t",
        "outputId": "5b82bb0d-5597-4758-f856-d4e3dd47856d"
      },
      "source": [
        "# 删除身高体重至少有一个缺失的行\r\n",
        "\r\n",
        "res = df.dropna(how='any', subset=['Height','Weight'])\r\n",
        "res.head()\r\n"
      ],
      "execution_count": 11,
      "outputs": [
        {
          "output_type": "execute_result",
          "data": {
            "text/html": [
              "<div>\n",
              "<style scoped>\n",
              "    .dataframe tbody tr th:only-of-type {\n",
              "        vertical-align: middle;\n",
              "    }\n",
              "\n",
              "    .dataframe tbody tr th {\n",
              "        vertical-align: top;\n",
              "    }\n",
              "\n",
              "    .dataframe thead th {\n",
              "        text-align: right;\n",
              "    }\n",
              "</style>\n",
              "<table border=\"1\" class=\"dataframe\">\n",
              "  <thead>\n",
              "    <tr style=\"text-align: right;\">\n",
              "      <th></th>\n",
              "      <th>Grade</th>\n",
              "      <th>Name</th>\n",
              "      <th>Gender</th>\n",
              "      <th>Height</th>\n",
              "      <th>Weight</th>\n",
              "      <th>Transfer</th>\n",
              "    </tr>\n",
              "  </thead>\n",
              "  <tbody>\n",
              "    <tr>\n",
              "      <th>0</th>\n",
              "      <td>Freshman</td>\n",
              "      <td>Gaopeng Yang</td>\n",
              "      <td>Female</td>\n",
              "      <td>158.9</td>\n",
              "      <td>46.0</td>\n",
              "      <td>N</td>\n",
              "    </tr>\n",
              "    <tr>\n",
              "      <th>1</th>\n",
              "      <td>Freshman</td>\n",
              "      <td>Changqiang You</td>\n",
              "      <td>Male</td>\n",
              "      <td>166.5</td>\n",
              "      <td>70.0</td>\n",
              "      <td>N</td>\n",
              "    </tr>\n",
              "    <tr>\n",
              "      <th>2</th>\n",
              "      <td>Senior</td>\n",
              "      <td>Mei Sun</td>\n",
              "      <td>Male</td>\n",
              "      <td>188.9</td>\n",
              "      <td>89.0</td>\n",
              "      <td>N</td>\n",
              "    </tr>\n",
              "    <tr>\n",
              "      <th>4</th>\n",
              "      <td>Sophomore</td>\n",
              "      <td>Gaojuan You</td>\n",
              "      <td>Male</td>\n",
              "      <td>174.0</td>\n",
              "      <td>74.0</td>\n",
              "      <td>N</td>\n",
              "    </tr>\n",
              "    <tr>\n",
              "      <th>5</th>\n",
              "      <td>Freshman</td>\n",
              "      <td>Xiaoli Qian</td>\n",
              "      <td>Female</td>\n",
              "      <td>158.0</td>\n",
              "      <td>51.0</td>\n",
              "      <td>N</td>\n",
              "    </tr>\n",
              "  </tbody>\n",
              "</table>\n",
              "</div>"
            ],
            "text/plain": [
              "       Grade            Name  Gender  Height  Weight Transfer\n",
              "0   Freshman    Gaopeng Yang  Female   158.9    46.0        N\n",
              "1   Freshman  Changqiang You    Male   166.5    70.0        N\n",
              "2     Senior         Mei Sun    Male   188.9    89.0        N\n",
              "4  Sophomore     Gaojuan You    Male   174.0    74.0        N\n",
              "5   Freshman     Xiaoli Qian  Female   158.0    51.0        N"
            ]
          },
          "metadata": {
            "tags": []
          },
          "execution_count": 11
        }
      ]
    },
    {
      "cell_type": "code",
      "metadata": {
        "colab": {
          "base_uri": "https://localhost:8080/",
          "height": 202
        },
        "id": "btjD7mvQYnRI",
        "outputId": "85baee92-a298-411b-9c42-5d3694ede3f0"
      },
      "source": [
        "# 删除超过15个缺失值的列\r\n",
        "\r\n",
        "res = df.dropna(1, thresh=df.shape[0]-15)\r\n",
        "res.head()"
      ],
      "execution_count": 12,
      "outputs": [
        {
          "output_type": "execute_result",
          "data": {
            "text/html": [
              "<div>\n",
              "<style scoped>\n",
              "    .dataframe tbody tr th:only-of-type {\n",
              "        vertical-align: middle;\n",
              "    }\n",
              "\n",
              "    .dataframe tbody tr th {\n",
              "        vertical-align: top;\n",
              "    }\n",
              "\n",
              "    .dataframe thead th {\n",
              "        text-align: right;\n",
              "    }\n",
              "</style>\n",
              "<table border=\"1\" class=\"dataframe\">\n",
              "  <thead>\n",
              "    <tr style=\"text-align: right;\">\n",
              "      <th></th>\n",
              "      <th>Grade</th>\n",
              "      <th>Name</th>\n",
              "      <th>Gender</th>\n",
              "      <th>Weight</th>\n",
              "      <th>Transfer</th>\n",
              "    </tr>\n",
              "  </thead>\n",
              "  <tbody>\n",
              "    <tr>\n",
              "      <th>0</th>\n",
              "      <td>Freshman</td>\n",
              "      <td>Gaopeng Yang</td>\n",
              "      <td>Female</td>\n",
              "      <td>46.0</td>\n",
              "      <td>N</td>\n",
              "    </tr>\n",
              "    <tr>\n",
              "      <th>1</th>\n",
              "      <td>Freshman</td>\n",
              "      <td>Changqiang You</td>\n",
              "      <td>Male</td>\n",
              "      <td>70.0</td>\n",
              "      <td>N</td>\n",
              "    </tr>\n",
              "    <tr>\n",
              "      <th>2</th>\n",
              "      <td>Senior</td>\n",
              "      <td>Mei Sun</td>\n",
              "      <td>Male</td>\n",
              "      <td>89.0</td>\n",
              "      <td>N</td>\n",
              "    </tr>\n",
              "    <tr>\n",
              "      <th>3</th>\n",
              "      <td>Sophomore</td>\n",
              "      <td>Xiaojuan Sun</td>\n",
              "      <td>Female</td>\n",
              "      <td>41.0</td>\n",
              "      <td>N</td>\n",
              "    </tr>\n",
              "    <tr>\n",
              "      <th>4</th>\n",
              "      <td>Sophomore</td>\n",
              "      <td>Gaojuan You</td>\n",
              "      <td>Male</td>\n",
              "      <td>74.0</td>\n",
              "      <td>N</td>\n",
              "    </tr>\n",
              "  </tbody>\n",
              "</table>\n",
              "</div>"
            ],
            "text/plain": [
              "       Grade            Name  Gender  Weight Transfer\n",
              "0   Freshman    Gaopeng Yang  Female    46.0        N\n",
              "1   Freshman  Changqiang You    Male    70.0        N\n",
              "2     Senior         Mei Sun    Male    89.0        N\n",
              "3  Sophomore    Xiaojuan Sun  Female    41.0        N\n",
              "4  Sophomore     Gaojuan You    Male    74.0        N"
            ]
          },
          "metadata": {
            "tags": []
          },
          "execution_count": 12
        }
      ]
    },
    {
      "cell_type": "code",
      "metadata": {
        "colab": {
          "base_uri": "https://localhost:8080/"
        },
        "id": "hjmImZsJY1pb",
        "outputId": "fdc72486-bfc2-4fa7-d771-ed448cdda6a9"
      },
      "source": [
        "# 也可以使用布尔索引来完成相关操作\r\n",
        "res = df.loc[df[['Height', 'Weight']].notna().all(1)]\r\n",
        "\r\n",
        "res.shape\r\n"
      ],
      "execution_count": 13,
      "outputs": [
        {
          "output_type": "execute_result",
          "data": {
            "text/plain": [
              "(174, 6)"
            ]
          },
          "metadata": {
            "tags": []
          },
          "execution_count": 13
        }
      ]
    },
    {
      "cell_type": "code",
      "metadata": {
        "colab": {
          "base_uri": "https://localhost:8080/",
          "height": 202
        },
        "id": "JeSnFUrMZOTy",
        "outputId": "175e062b-0b23-4021-9f99-60f84625c6bd"
      },
      "source": [
        "res = df.loc[:, ~(df.isna().sum()>15)]\r\n",
        "\r\n",
        "res.head()"
      ],
      "execution_count": 14,
      "outputs": [
        {
          "output_type": "execute_result",
          "data": {
            "text/html": [
              "<div>\n",
              "<style scoped>\n",
              "    .dataframe tbody tr th:only-of-type {\n",
              "        vertical-align: middle;\n",
              "    }\n",
              "\n",
              "    .dataframe tbody tr th {\n",
              "        vertical-align: top;\n",
              "    }\n",
              "\n",
              "    .dataframe thead th {\n",
              "        text-align: right;\n",
              "    }\n",
              "</style>\n",
              "<table border=\"1\" class=\"dataframe\">\n",
              "  <thead>\n",
              "    <tr style=\"text-align: right;\">\n",
              "      <th></th>\n",
              "      <th>Grade</th>\n",
              "      <th>Name</th>\n",
              "      <th>Gender</th>\n",
              "      <th>Weight</th>\n",
              "      <th>Transfer</th>\n",
              "    </tr>\n",
              "  </thead>\n",
              "  <tbody>\n",
              "    <tr>\n",
              "      <th>0</th>\n",
              "      <td>Freshman</td>\n",
              "      <td>Gaopeng Yang</td>\n",
              "      <td>Female</td>\n",
              "      <td>46.0</td>\n",
              "      <td>N</td>\n",
              "    </tr>\n",
              "    <tr>\n",
              "      <th>1</th>\n",
              "      <td>Freshman</td>\n",
              "      <td>Changqiang You</td>\n",
              "      <td>Male</td>\n",
              "      <td>70.0</td>\n",
              "      <td>N</td>\n",
              "    </tr>\n",
              "    <tr>\n",
              "      <th>2</th>\n",
              "      <td>Senior</td>\n",
              "      <td>Mei Sun</td>\n",
              "      <td>Male</td>\n",
              "      <td>89.0</td>\n",
              "      <td>N</td>\n",
              "    </tr>\n",
              "    <tr>\n",
              "      <th>3</th>\n",
              "      <td>Sophomore</td>\n",
              "      <td>Xiaojuan Sun</td>\n",
              "      <td>Female</td>\n",
              "      <td>41.0</td>\n",
              "      <td>N</td>\n",
              "    </tr>\n",
              "    <tr>\n",
              "      <th>4</th>\n",
              "      <td>Sophomore</td>\n",
              "      <td>Gaojuan You</td>\n",
              "      <td>Male</td>\n",
              "      <td>74.0</td>\n",
              "      <td>N</td>\n",
              "    </tr>\n",
              "  </tbody>\n",
              "</table>\n",
              "</div>"
            ],
            "text/plain": [
              "       Grade            Name  Gender  Weight Transfer\n",
              "0   Freshman    Gaopeng Yang  Female    46.0        N\n",
              "1   Freshman  Changqiang You    Male    70.0        N\n",
              "2     Senior         Mei Sun    Male    89.0        N\n",
              "3  Sophomore    Xiaojuan Sun  Female    41.0        N\n",
              "4  Sophomore     Gaojuan You    Male    74.0        N"
            ]
          },
          "metadata": {
            "tags": []
          },
          "execution_count": 14
        }
      ]
    },
    {
      "cell_type": "markdown",
      "metadata": {
        "id": "Ilq1FKN6ZQQ1"
      },
      "source": [
        "### 二、缺失值的填充和插值\r\n",
        "#### 1. 利用`fillna`进行填充\r\n",
        "在`fillna`中有三个参数是常用的：`value,method,limit`。其中，`value`为填充值，可以实标量，也可以是索引到元素的字典映射；`method`为填充方法，有用前面的元素填充`ffill`和用后面的元素填充`bfill`两种类型，`limit`参数表示连续缺失值的最大填充次数。"
      ]
    },
    {
      "cell_type": "code",
      "metadata": {
        "id": "RHkEsoXCZOwR"
      },
      "source": [
        "s = pd.Series([np.nan, 1, np.nan, np.nan, 2, np.nan],\r\n",
        "                list('aaabcd'))"
      ],
      "execution_count": 15,
      "outputs": []
    },
    {
      "cell_type": "code",
      "metadata": {
        "colab": {
          "base_uri": "https://localhost:8080/"
        },
        "id": "k2WUyjc9abbl",
        "outputId": "4478f39a-ddc9-4c3f-bda6-c8ee2a21f1e8"
      },
      "source": [
        "s"
      ],
      "execution_count": 16,
      "outputs": [
        {
          "output_type": "execute_result",
          "data": {
            "text/plain": [
              "a    NaN\n",
              "a    1.0\n",
              "a    NaN\n",
              "b    NaN\n",
              "c    2.0\n",
              "d    NaN\n",
              "dtype: float64"
            ]
          },
          "metadata": {
            "tags": []
          },
          "execution_count": 16
        }
      ]
    },
    {
      "cell_type": "code",
      "metadata": {
        "colab": {
          "base_uri": "https://localhost:8080/"
        },
        "id": "uiMXKUjDacnL",
        "outputId": "03a319c8-9e8e-4876-ace8-630e76bda11f"
      },
      "source": [
        "# 连续出现的缺失，最多填充一次\r\n",
        "s.fillna(method='ffill')"
      ],
      "execution_count": 19,
      "outputs": [
        {
          "output_type": "execute_result",
          "data": {
            "text/plain": [
              "a    NaN\n",
              "a    1.0\n",
              "a    1.0\n",
              "b    1.0\n",
              "c    2.0\n",
              "d    2.0\n",
              "dtype: float64"
            ]
          },
          "metadata": {
            "tags": []
          },
          "execution_count": 19
        }
      ]
    },
    {
      "cell_type": "code",
      "metadata": {
        "colab": {
          "base_uri": "https://localhost:8080/"
        },
        "id": "_WbTJ0EvayYM",
        "outputId": "f56bda03-0454-4c2a-c7fd-605bcafe594e"
      },
      "source": [
        "s.fillna(s.mean())"
      ],
      "execution_count": 18,
      "outputs": [
        {
          "output_type": "execute_result",
          "data": {
            "text/plain": [
              "a    1.5\n",
              "a    1.0\n",
              "a    1.5\n",
              "b    1.5\n",
              "c    2.0\n",
              "d    1.5\n",
              "dtype: float64"
            ]
          },
          "metadata": {
            "tags": []
          },
          "execution_count": 18
        }
      ]
    },
    {
      "cell_type": "code",
      "metadata": {
        "colab": {
          "base_uri": "https://localhost:8080/"
        },
        "id": "yjT9qz59a0X8",
        "outputId": "de475232-1677-455a-9b31-dc47ee58384a"
      },
      "source": [
        "# 通过索引映射填充的值\r\n",
        "s.fillna({'a':100, 'd':200})"
      ],
      "execution_count": 20,
      "outputs": [
        {
          "output_type": "execute_result",
          "data": {
            "text/plain": [
              "a    100.0\n",
              "a      1.0\n",
              "a    100.0\n",
              "b      NaN\n",
              "c      2.0\n",
              "d    200.0\n",
              "dtype: float64"
            ]
          },
          "metadata": {
            "tags": []
          },
          "execution_count": 20
        }
      ]
    },
    {
      "cell_type": "code",
      "metadata": {
        "colab": {
          "base_uri": "https://localhost:8080/"
        },
        "id": "ga6NIjr8bDFt",
        "outputId": "0d6ac080-f9cb-4fd6-ed27-a4e0815f796f"
      },
      "source": [
        "# 可先分组后再进行操作\r\n",
        "# 根据年级进行身高的均值填充\r\n",
        "df.groupby('Grade')['Height'].transform(\r\n",
        "              lambda x: x.fillna(x.mean())).head()"
      ],
      "execution_count": 21,
      "outputs": [
        {
          "output_type": "execute_result",
          "data": {
            "text/plain": [
              "0    158.900000\n",
              "1    166.500000\n",
              "2    188.900000\n",
              "3    163.075862\n",
              "4    174.000000\n",
              "Name: Height, dtype: float64"
            ]
          },
          "metadata": {
            "tags": []
          },
          "execution_count": 21
        }
      ]
    },
    {
      "cell_type": "markdown",
      "metadata": {
        "id": "DYuSGpyXbOvw"
      },
      "source": [
        "#### 2. 插值函数\r\n",
        "对于`interpolate`而言，除了插值方法（默认为 `linear` 线性插值）之外，有与 `fillna` 类似的两个常用参数，一个是控制方向的 `limit_direction` ，另一个是控制最大连续缺失值插值个数的 `limit` 。其中，限制插值的方向默认为 `forward` ，这与 `fillna` 的 `method` 中的 `ffill` 是类似的，若想要后向限制插值或者双向限制插值可以指定为 `backward` 或 `both`。 "
      ]
    },
    {
      "cell_type": "code",
      "metadata": {
        "colab": {
          "base_uri": "https://localhost:8080/"
        },
        "id": "j1ON9-e9bNPb",
        "outputId": "ed44ee3e-0f96-420f-91c3-3acb0852b6a0"
      },
      "source": [
        "s = pd.Series([np.nan, np.nan, 1,\r\n",
        "        np.nan, np.nan, np.nan,\r\n",
        "        2, np.nan, np.nan])\r\n",
        "\r\n",
        "s.values"
      ],
      "execution_count": 22,
      "outputs": [
        {
          "output_type": "execute_result",
          "data": {
            "text/plain": [
              "array([nan, nan,  1., nan, nan, nan,  2., nan, nan])"
            ]
          },
          "metadata": {
            "tags": []
          },
          "execution_count": 22
        }
      ]
    },
    {
      "cell_type": "code",
      "metadata": {
        "colab": {
          "base_uri": "https://localhost:8080/"
        },
        "id": "hqUW80N_bpeq",
        "outputId": "fc17487f-e2f8-40cc-924e-efed8674f966"
      },
      "source": [
        "# 在默认线性插值法下分别进行backward和双向限制插值\r\n",
        "# 同时限制最大连续条数为1\r\n",
        "res = s.interpolate(limit_direction='backward', limit=1)\r\n",
        "res.values"
      ],
      "execution_count": 23,
      "outputs": [
        {
          "output_type": "execute_result",
          "data": {
            "text/plain": [
              "array([ nan, 1.  , 1.  ,  nan,  nan, 1.75, 2.  ,  nan,  nan])"
            ]
          },
          "metadata": {
            "tags": []
          },
          "execution_count": 23
        }
      ]
    },
    {
      "cell_type": "code",
      "metadata": {
        "colab": {
          "base_uri": "https://localhost:8080/"
        },
        "id": "ZDlJFNiUb403",
        "outputId": "ab933527-d0b9-4ee4-95bc-54bbbbea8caf"
      },
      "source": [
        "res = s.interpolate(Limit_direction='both', limit=1)\r\n",
        "res.values"
      ],
      "execution_count": 24,
      "outputs": [
        {
          "output_type": "execute_result",
          "data": {
            "text/plain": [
              "array([ nan,  nan, 1.  , 1.25,  nan,  nan, 2.  , 2.  ,  nan])"
            ]
          },
          "metadata": {
            "tags": []
          },
          "execution_count": 24
        }
      ]
    },
    {
      "cell_type": "code",
      "metadata": {
        "colab": {
          "base_uri": "https://localhost:8080/"
        },
        "id": "3vtsoEscb_U3",
        "outputId": "ef036673-6790-4d9d-b932-f44f484f316d"
      },
      "source": [
        "res = s.interpolate(limit_direction='both', limit=1)\r\n",
        "res.values"
      ],
      "execution_count": 25,
      "outputs": [
        {
          "output_type": "execute_result",
          "data": {
            "text/plain": [
              "array([ nan, 1.  , 1.  , 1.25,  nan, 1.75, 2.  , 2.  ,  nan])"
            ]
          },
          "metadata": {
            "tags": []
          },
          "execution_count": 25
        }
      ]
    },
    {
      "cell_type": "code",
      "metadata": {
        "colab": {
          "base_uri": "https://localhost:8080/"
        },
        "id": "v2uAtLnMcD73",
        "outputId": "08cc3adc-79fe-4f0b-8ca3-ad344ba30d3a"
      },
      "source": [
        "# 最近邻插补，即缺失值的元素和离他最近的非缺失值元素一样\r\n",
        "s.interpolate('nearest').values"
      ],
      "execution_count": 26,
      "outputs": [
        {
          "output_type": "execute_result",
          "data": {
            "text/plain": [
              "array([nan, nan,  1.,  1.,  1.,  2.,  2., nan, nan])"
            ]
          },
          "metadata": {
            "tags": []
          },
          "execution_count": 26
        }
      ]
    },
    {
      "cell_type": "code",
      "metadata": {
        "colab": {
          "base_uri": "https://localhost:8080/"
        },
        "id": "TfNYf9AJcOM7",
        "outputId": "8a8e504c-3852-4cfa-e5d0-67507ed81255"
      },
      "source": [
        "# 索引插值，即根据索引大小进行线性插值\r\n",
        "# 构造不等间距的索引\r\n",
        "s = pd.Series([0,np.nan,10],index=[0,1,10])\r\n",
        "s"
      ],
      "execution_count": 27,
      "outputs": [
        {
          "output_type": "execute_result",
          "data": {
            "text/plain": [
              "0      0.0\n",
              "1      NaN\n",
              "10    10.0\n",
              "dtype: float64"
            ]
          },
          "metadata": {
            "tags": []
          },
          "execution_count": 27
        }
      ]
    },
    {
      "cell_type": "code",
      "metadata": {
        "colab": {
          "base_uri": "https://localhost:8080/"
        },
        "id": "cnQL6y7pcYm5",
        "outputId": "4f6f7861-0144-4e0e-f160-eff4f7c2eba5"
      },
      "source": [
        "# 默认的线性插值，等价于计算中点的值\r\n",
        "s.interpolate()"
      ],
      "execution_count": 28,
      "outputs": [
        {
          "output_type": "execute_result",
          "data": {
            "text/plain": [
              "0      0.0\n",
              "1      5.0\n",
              "10    10.0\n",
              "dtype: float64"
            ]
          },
          "metadata": {
            "tags": []
          },
          "execution_count": 28
        }
      ]
    },
    {
      "cell_type": "code",
      "metadata": {
        "colab": {
          "base_uri": "https://localhost:8080/"
        },
        "id": "qOQbdaFAcenM",
        "outputId": "c0aeb2d6-9eb8-4974-9756-2c2094d1a561"
      },
      "source": [
        "# 和索引有关的线性插值，计算相应索引大小对应的值\r\n",
        "s.interpolate(method='index')"
      ],
      "execution_count": 29,
      "outputs": [
        {
          "output_type": "execute_result",
          "data": {
            "text/plain": [
              "0      0.0\n",
              "1      1.0\n",
              "10    10.0\n",
              "dtype: float64"
            ]
          },
          "metadata": {
            "tags": []
          },
          "execution_count": 29
        }
      ]
    },
    {
      "cell_type": "markdown",
      "metadata": {
        "id": "17fsmx8VcpaA"
      },
      "source": [
        "### 三、`Nullable`类型\r\n",
        "#### 1. 缺失记号及其缺陷\r\n",
        "在`numpy`中利用`np.nan`来表示缺失值，该元素除了不和其他任何元素相等之外，和自身的比较结果也返回`False`"
      ]
    },
    {
      "cell_type": "code",
      "metadata": {
        "colab": {
          "base_uri": "https://localhost:8080/"
        },
        "id": "KXcrJNo2cnku",
        "outputId": "993fc370-0cc4-4f15-a194-eb019c7ad0e9"
      },
      "source": [
        "np.nan == np.nan"
      ],
      "execution_count": 30,
      "outputs": [
        {
          "output_type": "execute_result",
          "data": {
            "text/plain": [
              "False"
            ]
          },
          "metadata": {
            "tags": []
          },
          "execution_count": 30
        }
      ]
    },
    {
      "cell_type": "code",
      "metadata": {
        "colab": {
          "base_uri": "https://localhost:8080/"
        },
        "id": "zLA4o4XIc73s",
        "outputId": "8fd9f73a-d6a6-41ca-88b0-4f352009323b"
      },
      "source": [
        "np.nan == None"
      ],
      "execution_count": 31,
      "outputs": [
        {
          "output_type": "execute_result",
          "data": {
            "text/plain": [
              "False"
            ]
          },
          "metadata": {
            "tags": []
          },
          "execution_count": 31
        }
      ]
    },
    {
      "cell_type": "code",
      "metadata": {
        "colab": {
          "base_uri": "https://localhost:8080/"
        },
        "id": "lWIJiw6wc9ZD",
        "outputId": "7f6fcb86-5d11-4f2e-d37a-70fa254f2894"
      },
      "source": [
        "np.nan == False"
      ],
      "execution_count": 34,
      "outputs": [
        {
          "output_type": "execute_result",
          "data": {
            "text/plain": [
              "False"
            ]
          },
          "metadata": {
            "tags": []
          },
          "execution_count": 34
        }
      ]
    },
    {
      "cell_type": "markdown",
      "metadata": {
        "id": "obPe2XRrdDXN"
      },
      "source": [
        "虽然在对缺失序列或表格的元素进行比较操作的时候， `np.nan` 的对应位置会返回 `False` ，但是在使用 `equals` 函数进行两张表或两个序列的相同性检验时，会自动跳过两侧表都是缺失值的位置，直接返回 `True `"
      ]
    },
    {
      "cell_type": "code",
      "metadata": {
        "id": "k3QlM78Rc-qV"
      },
      "source": [
        "s1 = pd.Series([1, np.nan])\r\n",
        "s2 = pd.Series([1, 2])\r\n",
        "s3 = pd.Series([1, np.nan])"
      ],
      "execution_count": 36,
      "outputs": []
    },
    {
      "cell_type": "code",
      "metadata": {
        "colab": {
          "base_uri": "https://localhost:8080/"
        },
        "id": "ly3k0JdZdQN3",
        "outputId": "8c88b68f-9de2-4ca6-a4fe-dd58edf087ad"
      },
      "source": [
        "s1"
      ],
      "execution_count": 37,
      "outputs": [
        {
          "output_type": "execute_result",
          "data": {
            "text/plain": [
              "0    1.0\n",
              "1    NaN\n",
              "dtype: float64"
            ]
          },
          "metadata": {
            "tags": []
          },
          "execution_count": 37
        }
      ]
    },
    {
      "cell_type": "code",
      "metadata": {
        "colab": {
          "base_uri": "https://localhost:8080/"
        },
        "id": "SAMZ637qdTps",
        "outputId": "52caf819-fe5d-42d2-b2cc-0a39d29603ab"
      },
      "source": [
        "s2"
      ],
      "execution_count": 38,
      "outputs": [
        {
          "output_type": "execute_result",
          "data": {
            "text/plain": [
              "0    1\n",
              "1    2\n",
              "dtype: int64"
            ]
          },
          "metadata": {
            "tags": []
          },
          "execution_count": 38
        }
      ]
    },
    {
      "cell_type": "code",
      "metadata": {
        "colab": {
          "base_uri": "https://localhost:8080/"
        },
        "id": "WzOVf4widUUp",
        "outputId": "d85c2197-294a-46d5-e7ab-1a0d9ce3fb98"
      },
      "source": [
        "s3"
      ],
      "execution_count": 39,
      "outputs": [
        {
          "output_type": "execute_result",
          "data": {
            "text/plain": [
              "0    1.0\n",
              "1    NaN\n",
              "dtype: float64"
            ]
          },
          "metadata": {
            "tags": []
          },
          "execution_count": 39
        }
      ]
    },
    {
      "cell_type": "code",
      "metadata": {
        "colab": {
          "base_uri": "https://localhost:8080/"
        },
        "id": "upXMA-bbdUqj",
        "outputId": "e38926dd-83c5-460c-f732-af1efd9135ec"
      },
      "source": [
        "s1 == 1"
      ],
      "execution_count": 40,
      "outputs": [
        {
          "output_type": "execute_result",
          "data": {
            "text/plain": [
              "0     True\n",
              "1    False\n",
              "dtype: bool"
            ]
          },
          "metadata": {
            "tags": []
          },
          "execution_count": 40
        }
      ]
    },
    {
      "cell_type": "code",
      "metadata": {
        "colab": {
          "base_uri": "https://localhost:8080/"
        },
        "id": "pNGuA_33dWdN",
        "outputId": "b8f42616-b45e-40ee-c8de-03b41f1ed69a"
      },
      "source": [
        "s1.equals(s2)"
      ],
      "execution_count": 41,
      "outputs": [
        {
          "output_type": "execute_result",
          "data": {
            "text/plain": [
              "False"
            ]
          },
          "metadata": {
            "tags": []
          },
          "execution_count": 41
        }
      ]
    },
    {
      "cell_type": "code",
      "metadata": {
        "colab": {
          "base_uri": "https://localhost:8080/"
        },
        "id": "EBCqVv8rdZI9",
        "outputId": "cf0fd5db-8fb1-40f0-d0b7-b0e79a511699"
      },
      "source": [
        "s1.equals(s3)"
      ],
      "execution_count": 42,
      "outputs": [
        {
          "output_type": "execute_result",
          "data": {
            "text/plain": [
              "True"
            ]
          },
          "metadata": {
            "tags": []
          },
          "execution_count": 42
        }
      ]
    },
    {
      "cell_type": "markdown",
      "metadata": {
        "id": "cqgq76ZRdcqc"
      },
      "source": [
        "在时间序列的对象中，`pandas`利用`pd.NaT`来指代缺失值，作用和`np.nan`是一致的："
      ]
    },
    {
      "cell_type": "code",
      "metadata": {
        "colab": {
          "base_uri": "https://localhost:8080/"
        },
        "id": "0xPyQtL4da-y",
        "outputId": "3aaa5c04-bb91-468b-93db-4401c5d8ffae"
      },
      "source": [
        "pd.to_timedelta(['30s', np.nan]) # Timedelta中的NaT"
      ],
      "execution_count": 43,
      "outputs": [
        {
          "output_type": "execute_result",
          "data": {
            "text/plain": [
              "TimedeltaIndex(['0 days 00:00:30', NaT], dtype='timedelta64[ns]', freq=None)"
            ]
          },
          "metadata": {
            "tags": []
          },
          "execution_count": 43
        }
      ]
    },
    {
      "cell_type": "code",
      "metadata": {
        "colab": {
          "base_uri": "https://localhost:8080/"
        },
        "id": "gc8zkNN0dnN0",
        "outputId": "63448abb-1d13-4dc7-89e0-e0c3b1f33154"
      },
      "source": [
        "pd.to_datetime(['20200101', np.nan]) # Datetime中的NaT"
      ],
      "execution_count": 44,
      "outputs": [
        {
          "output_type": "execute_result",
          "data": {
            "text/plain": [
              "DatetimeIndex(['2020-01-01', 'NaT'], dtype='datetime64[ns]', freq=None)"
            ]
          },
          "metadata": {
            "tags": []
          },
          "execution_count": 44
        }
      ]
    },
    {
      "cell_type": "markdown",
      "metadata": {
        "id": "ja4lkEGRds-S"
      },
      "source": [
        "> 那么为什么要引入 `pd.NaT` 来表示时间对象中的缺失呢？仍然以 `np.nan` 的形式存放会有什么问题？在 `pandas` 中可以看到 `object` 类型的对象，而 `object` 是一种混杂对象类型，如果出现了多个类型的元素同时存储在 `Series` 中，它的类型就会变成 `object` 。"
      ]
    },
    {
      "cell_type": "code",
      "metadata": {
        "colab": {
          "base_uri": "https://localhost:8080/"
        },
        "id": "7G--ULbKdqlC",
        "outputId": "113b93a4-1a1a-4b88-9819-a2c7946e1730"
      },
      "source": [
        "pd.Series([1, 'two'])"
      ],
      "execution_count": 45,
      "outputs": [
        {
          "output_type": "execute_result",
          "data": {
            "text/plain": [
              "0      1\n",
              "1    two\n",
              "dtype: object"
            ]
          },
          "metadata": {
            "tags": []
          },
          "execution_count": 45
        }
      ]
    },
    {
      "cell_type": "markdown",
      "metadata": {
        "id": "ZFI21RJQd3Th"
      },
      "source": [
        "`NaT`问题的根源来自于`np.nan`的本身是一种浮点类型，而如果浮点和时间类型混合存储，如果不设计新的内置缺失类型来处理，就会变成含糊不清的`object`类型。"
      ]
    },
    {
      "cell_type": "code",
      "metadata": {
        "colab": {
          "base_uri": "https://localhost:8080/"
        },
        "id": "7tD8uiaJd13h",
        "outputId": "b1f32415-77a7-4509-9cfb-8987ba52ece8"
      },
      "source": [
        "type(np.nan)"
      ],
      "execution_count": 46,
      "outputs": [
        {
          "output_type": "execute_result",
          "data": {
            "text/plain": [
              "float"
            ]
          },
          "metadata": {
            "tags": []
          },
          "execution_count": 46
        }
      ]
    },
    {
      "cell_type": "markdown",
      "metadata": {
        "id": "yt48uVoweI_k"
      },
      "source": [
        "由于`np.nan`的浮点性质，如果在一个整数的 `Series` 中出现缺失，那么其类型会转变为 `float64` ；而如果在一个布尔类型的序列中出现缺失，那么其类型就会转为 `object` 而不是 `bool`。 "
      ]
    },
    {
      "cell_type": "code",
      "metadata": {
        "colab": {
          "base_uri": "https://localhost:8080/"
        },
        "id": "ISzq0sZdeH_B",
        "outputId": "ad20b6e5-d8b6-4cf6-af45-1e3a7d4d5e33"
      },
      "source": [
        "pd.Series([1, np.nan]).dtype\r\n"
      ],
      "execution_count": 49,
      "outputs": [
        {
          "output_type": "execute_result",
          "data": {
            "text/plain": [
              "dtype('float64')"
            ]
          },
          "metadata": {
            "tags": []
          },
          "execution_count": 49
        }
      ]
    },
    {
      "cell_type": "code",
      "metadata": {
        "colab": {
          "base_uri": "https://localhost:8080/"
        },
        "id": "-yD1wdvhekMQ",
        "outputId": "5c81863b-479f-4392-c3c0-b8490f044ffa"
      },
      "source": [
        "pd.Series([True, False, np.nan]).dtype"
      ],
      "execution_count": 48,
      "outputs": [
        {
          "output_type": "execute_result",
          "data": {
            "text/plain": [
              "dtype('O')"
            ]
          },
          "metadata": {
            "tags": []
          },
          "execution_count": 48
        }
      ]
    },
    {
      "cell_type": "markdown",
      "metadata": {
        "id": "F4lCC8GBe1bG"
      },
      "source": [
        "#### 2. `Nullable`类型的性质\r\n",
        "从字面意义上看 Nullable 就是可空的，言下之意就是序列类型不受缺失值的影响。"
      ]
    },
    {
      "cell_type": "code",
      "metadata": {
        "colab": {
          "base_uri": "https://localhost:8080/"
        },
        "id": "3NQ1oNSUelnJ",
        "outputId": "dc782c4e-4d57-4152-d1d4-814a7bee65fb"
      },
      "source": [
        "pd.Series([np.nan, 1], dtype = 'Int64')"
      ],
      "execution_count": 50,
      "outputs": [
        {
          "output_type": "execute_result",
          "data": {
            "text/plain": [
              "0    <NA>\n",
              "1       1\n",
              "dtype: Int64"
            ]
          },
          "metadata": {
            "tags": []
          },
          "execution_count": 50
        }
      ]
    },
    {
      "cell_type": "code",
      "metadata": {
        "colab": {
          "base_uri": "https://localhost:8080/"
        },
        "id": "VGnzLw4oe92o",
        "outputId": "9ff73991-f224-4542-be8c-4c917286f9c5"
      },
      "source": [
        "pd.Series([np.nan, True], dtype = 'boolean')"
      ],
      "execution_count": 51,
      "outputs": [
        {
          "output_type": "execute_result",
          "data": {
            "text/plain": [
              "0    <NA>\n",
              "1    True\n",
              "dtype: boolean"
            ]
          },
          "metadata": {
            "tags": []
          },
          "execution_count": 51
        }
      ]
    },
    {
      "cell_type": "code",
      "metadata": {
        "colab": {
          "base_uri": "https://localhost:8080/"
        },
        "id": "qsDMNy7_e_a9",
        "outputId": "5fa905dd-3150-47f6-c022-51c9166d36d2"
      },
      "source": [
        "pd.Series([np.nan, 'my_str'], dtype = 'string')"
      ],
      "execution_count": 53,
      "outputs": [
        {
          "output_type": "execute_result",
          "data": {
            "text/plain": [
              "0      <NA>\n",
              "1    my_str\n",
              "dtype: string"
            ]
          },
          "metadata": {
            "tags": []
          },
          "execution_count": 53
        }
      ]
    },
    {
      "cell_type": "markdown",
      "metadata": {
        "id": "9azzYtMGfDWU"
      },
      "source": [
        "在`Int`的序列中，返回的结果会尽可能地成为`Nullable`的类型"
      ]
    },
    {
      "cell_type": "code",
      "metadata": {
        "colab": {
          "base_uri": "https://localhost:8080/"
        },
        "id": "lhlIHIrVfA9g",
        "outputId": "847410cd-8f6b-4710-bd40-46fc2455c585"
      },
      "source": [
        "pd.Series([np.nan, 0], dtype = 'Int64') + 1"
      ],
      "execution_count": 54,
      "outputs": [
        {
          "output_type": "execute_result",
          "data": {
            "text/plain": [
              "0    <NA>\n",
              "1       1\n",
              "dtype: Int64"
            ]
          },
          "metadata": {
            "tags": []
          },
          "execution_count": 54
        }
      ]
    },
    {
      "cell_type": "code",
      "metadata": {
        "colab": {
          "base_uri": "https://localhost:8080/"
        },
        "id": "bHrLGzPpfMnk",
        "outputId": "dcab33da-1db5-48e7-dd17-4fed5ac8df07"
      },
      "source": [
        "pd.Series([np.nan, 0], dtype = 'Int64') == 0"
      ],
      "execution_count": 55,
      "outputs": [
        {
          "output_type": "execute_result",
          "data": {
            "text/plain": [
              "0    <NA>\n",
              "1    True\n",
              "dtype: boolean"
            ]
          },
          "metadata": {
            "tags": []
          },
          "execution_count": 55
        }
      ]
    },
    {
      "cell_type": "code",
      "metadata": {
        "colab": {
          "base_uri": "https://localhost:8080/"
        },
        "id": "6R2huQljfNuy",
        "outputId": "a8f4e415-583f-40ef-d19e-c7faeb19b92a"
      },
      "source": [
        "pd.Series([np.nan, 0], dtype = 'Int64') * 0.5 # 只能是浮点"
      ],
      "execution_count": 56,
      "outputs": [
        {
          "output_type": "execute_result",
          "data": {
            "text/plain": [
              "0    NaN\n",
              "1    0.0\n",
              "dtype: float64"
            ]
          },
          "metadata": {
            "tags": []
          },
          "execution_count": 56
        }
      ]
    },
    {
      "cell_type": "markdown",
      "metadata": {
        "id": "mbf2KnaIfQUx"
      },
      "source": [
        "对于`boolean`类型的序列而言，其和`bool`序列的行为主要有两点区别：\r\n",
        "* 带有缺失的布尔列表无法进行索引器中的选择，而`boolean`会把缺失值看作`False`。\r\n",
        "* 在进行逻辑运算时，`bool`类型在缺失处返回的永远是`False`，而`boolean`会根据逻辑运算是否能够确定唯一结果来返回相应的值。\r\n",
        "\r\n",
        ">  `True | pd.NA` 中无论缺失值为什么值，必然返回 `True` ； `False | pd.NA` 中的结果会根据缺失值取值的不同而变化，此时返回 `pd.NA` ； `False & pd.NA` 中无论缺失值为什么值，必然返回 `False` 。\r\n"
      ]
    },
    {
      "cell_type": "code",
      "metadata": {
        "colab": {
          "base_uri": "https://localhost:8080/"
        },
        "id": "37oNuAm6fPgr",
        "outputId": "cc2ad035-b906-4826-c56b-7984a023f9a2"
      },
      "source": [
        "s = pd.Series(['a', 'b'])\r\n",
        "\r\n",
        "s_bool = pd.Series([True, np.nan])\r\n",
        "\r\n",
        "s_boolean = pd.Series([True, np.nan]).astype('boolean')\r\n",
        "\r\n",
        "\r\n",
        "s[s_boolean]"
      ],
      "execution_count": 57,
      "outputs": [
        {
          "output_type": "execute_result",
          "data": {
            "text/plain": [
              "0    a\n",
              "dtype: object"
            ]
          },
          "metadata": {
            "tags": []
          },
          "execution_count": 57
        }
      ]
    },
    {
      "cell_type": "code",
      "metadata": {
        "colab": {
          "base_uri": "https://localhost:8080/"
        },
        "id": "xujqBsODfk1T",
        "outputId": "6cf7d8b9-1dfb-4d67-f6f3-be850627e54f"
      },
      "source": [
        "s_boolean & True"
      ],
      "execution_count": 58,
      "outputs": [
        {
          "output_type": "execute_result",
          "data": {
            "text/plain": [
              "0    True\n",
              "1    <NA>\n",
              "dtype: boolean"
            ]
          },
          "metadata": {
            "tags": []
          },
          "execution_count": 58
        }
      ]
    },
    {
      "cell_type": "code",
      "metadata": {
        "colab": {
          "base_uri": "https://localhost:8080/"
        },
        "id": "Kh1hihpigWx0",
        "outputId": "ab54bde9-7180-4cfe-dfa6-1b99493a2f88"
      },
      "source": [
        "s_boolean | True"
      ],
      "execution_count": 59,
      "outputs": [
        {
          "output_type": "execute_result",
          "data": {
            "text/plain": [
              "0    True\n",
              "1    True\n",
              "dtype: boolean"
            ]
          },
          "metadata": {
            "tags": []
          },
          "execution_count": 59
        }
      ]
    },
    {
      "cell_type": "code",
      "metadata": {
        "colab": {
          "base_uri": "https://localhost:8080/"
        },
        "id": "OW1K5wgOgYtS",
        "outputId": "1834b1b3-2c53-4d86-9f8a-f11046f7d67e"
      },
      "source": [
        "~s_boolean"
      ],
      "execution_count": 60,
      "outputs": [
        {
          "output_type": "execute_result",
          "data": {
            "text/plain": [
              "0    False\n",
              "1     <NA>\n",
              "dtype: boolean"
            ]
          },
          "metadata": {
            "tags": []
          },
          "execution_count": 60
        }
      ]
    },
    {
      "cell_type": "markdown",
      "metadata": {
        "id": "HZSy6yXEghDB"
      },
      "source": [
        "一般在实际数据处理时，可以在数据集读入后，先通过 convert_dtypes 转为 Nullable 类型:"
      ]
    },
    {
      "cell_type": "code",
      "metadata": {
        "colab": {
          "base_uri": "https://localhost:8080/"
        },
        "id": "hZw1JxhugcCs",
        "outputId": "78af01d8-c551-42b9-eda3-8ec9124a7ad7"
      },
      "source": [
        "df = pd.read_csv('data/learn_pandas.csv')\r\n",
        "\r\n",
        "df = df.convert_dtypes()\r\n",
        "\r\n",
        "df.dtypes"
      ],
      "execution_count": 61,
      "outputs": [
        {
          "output_type": "execute_result",
          "data": {
            "text/plain": [
              "School          string\n",
              "Grade           string\n",
              "Name            string\n",
              "Gender          string\n",
              "Height         float64\n",
              "Weight           Int64\n",
              "Transfer        string\n",
              "Test_Number      Int64\n",
              "Test_Date       string\n",
              "Time_Record     string\n",
              "dtype: object"
            ]
          },
          "metadata": {
            "tags": []
          },
          "execution_count": 61
        }
      ]
    },
    {
      "cell_type": "markdown",
      "metadata": {
        "id": "FpgIAjxSglPK"
      },
      "source": [
        "#### 3. 缺失数据的计算和分组\r\n",
        "当调用函数`sum,prob`使用加法和乘法的时候，缺失数据等价于被分别视作0和1，级不改变原来的计算结果："
      ]
    },
    {
      "cell_type": "code",
      "metadata": {
        "colab": {
          "base_uri": "https://localhost:8080/"
        },
        "id": "KCHt3yKTgkYF",
        "outputId": "31fdb006-accc-4d6b-9f4e-336941392073"
      },
      "source": [
        "s = pd.Series([2,3,np.nan,4,5])\r\n",
        "s.sum()\r\n"
      ],
      "execution_count": 62,
      "outputs": [
        {
          "output_type": "execute_result",
          "data": {
            "text/plain": [
              "14.0"
            ]
          },
          "metadata": {
            "tags": []
          },
          "execution_count": 62
        }
      ]
    },
    {
      "cell_type": "code",
      "metadata": {
        "colab": {
          "base_uri": "https://localhost:8080/"
        },
        "id": "qEszGW27g2cR",
        "outputId": "93aa1eb3-4af4-4a83-c8cb-7679fac0c7b7"
      },
      "source": [
        "s.prod()"
      ],
      "execution_count": 63,
      "outputs": [
        {
          "output_type": "execute_result",
          "data": {
            "text/plain": [
              "120.0"
            ]
          },
          "metadata": {
            "tags": []
          },
          "execution_count": 63
        }
      ]
    },
    {
      "cell_type": "code",
      "metadata": {
        "colab": {
          "base_uri": "https://localhost:8080/"
        },
        "id": "dbUan2SDg2z0",
        "outputId": "7a5d05e0-8b3b-431b-8a9c-d925ad5e25e1"
      },
      "source": [
        "# 当使用累计函数时，会自动跳过缺失值所处的位置\r\n",
        "s.cumsum()"
      ],
      "execution_count": 64,
      "outputs": [
        {
          "output_type": "execute_result",
          "data": {
            "text/plain": [
              "0     2.0\n",
              "1     5.0\n",
              "2     NaN\n",
              "3     9.0\n",
              "4    14.0\n",
              "dtype: float64"
            ]
          },
          "metadata": {
            "tags": []
          },
          "execution_count": 64
        }
      ]
    },
    {
      "cell_type": "markdown",
      "metadata": {
        "id": "skUW-6pvhFn3"
      },
      "source": [
        "当进行单个标量运算的时候，除了 `np.nan ** 0` 和 `1 ** np.nan` 这两种情况为确定的值之外，所有运算结果全为缺失（ `pd.NA` 的行为与此一致 ），并且 `np.nan` 在比较操作时一定返回 `False` ，而 `pd.NA` 返回 `pd.NA `。\r\n",
        "\r\n",
        " `diff, pct_change` 这两个函数虽然功能相似，但是对于缺失的处理不同，前者凡是参与缺失计算的部分全部设为了缺失值，而后者缺失值位置会被设为 0% 的变化率"
      ]
    },
    {
      "cell_type": "code",
      "metadata": {
        "colab": {
          "base_uri": "https://localhost:8080/"
        },
        "id": "YbeiZIxpg-7T",
        "outputId": "352e9d04-0b21-4a6b-9104-be28cb6d3989"
      },
      "source": [
        "s.diff()"
      ],
      "execution_count": 65,
      "outputs": [
        {
          "output_type": "execute_result",
          "data": {
            "text/plain": [
              "0    NaN\n",
              "1    1.0\n",
              "2    NaN\n",
              "3    NaN\n",
              "4    1.0\n",
              "dtype: float64"
            ]
          },
          "metadata": {
            "tags": []
          },
          "execution_count": 65
        }
      ]
    },
    {
      "cell_type": "code",
      "metadata": {
        "colab": {
          "base_uri": "https://localhost:8080/"
        },
        "id": "dlK3nivjhXjn",
        "outputId": "1eaa6605-5602-4922-894e-ecd78a0ad80c"
      },
      "source": [
        "s.pct_change()"
      ],
      "execution_count": 66,
      "outputs": [
        {
          "output_type": "execute_result",
          "data": {
            "text/plain": [
              "0         NaN\n",
              "1    0.500000\n",
              "2    0.000000\n",
              "3    0.333333\n",
              "4    0.250000\n",
              "dtype: float64"
            ]
          },
          "metadata": {
            "tags": []
          },
          "execution_count": 66
        }
      ]
    },
    {
      "cell_type": "markdown",
      "metadata": {
        "id": "b1l9MlDxhbs1"
      },
      "source": [
        "对于一些函数而言，缺失可以作为一个类别处理."
      ]
    },
    {
      "cell_type": "code",
      "metadata": {
        "colab": {
          "base_uri": "https://localhost:8080/",
          "height": 202
        },
        "id": "uznqwKTWhZbw",
        "outputId": "e9bf5335-a965-490b-b4de-e2e2e25c7bc2"
      },
      "source": [
        "# 在groupby，get_dummies中可以设置相应的参数来进行增加缺失类别\r\n",
        "df_nan = pd.DataFrame({'category':['a','a','b',np.nan,np.nan],\r\n",
        "                      'value':[1,3,5,7,9]})\r\n",
        "df_nan"
      ],
      "execution_count": 67,
      "outputs": [
        {
          "output_type": "execute_result",
          "data": {
            "text/html": [
              "<div>\n",
              "<style scoped>\n",
              "    .dataframe tbody tr th:only-of-type {\n",
              "        vertical-align: middle;\n",
              "    }\n",
              "\n",
              "    .dataframe tbody tr th {\n",
              "        vertical-align: top;\n",
              "    }\n",
              "\n",
              "    .dataframe thead th {\n",
              "        text-align: right;\n",
              "    }\n",
              "</style>\n",
              "<table border=\"1\" class=\"dataframe\">\n",
              "  <thead>\n",
              "    <tr style=\"text-align: right;\">\n",
              "      <th></th>\n",
              "      <th>category</th>\n",
              "      <th>value</th>\n",
              "    </tr>\n",
              "  </thead>\n",
              "  <tbody>\n",
              "    <tr>\n",
              "      <th>0</th>\n",
              "      <td>a</td>\n",
              "      <td>1</td>\n",
              "    </tr>\n",
              "    <tr>\n",
              "      <th>1</th>\n",
              "      <td>a</td>\n",
              "      <td>3</td>\n",
              "    </tr>\n",
              "    <tr>\n",
              "      <th>2</th>\n",
              "      <td>b</td>\n",
              "      <td>5</td>\n",
              "    </tr>\n",
              "    <tr>\n",
              "      <th>3</th>\n",
              "      <td>NaN</td>\n",
              "      <td>7</td>\n",
              "    </tr>\n",
              "    <tr>\n",
              "      <th>4</th>\n",
              "      <td>NaN</td>\n",
              "      <td>9</td>\n",
              "    </tr>\n",
              "  </tbody>\n",
              "</table>\n",
              "</div>"
            ],
            "text/plain": [
              "  category  value\n",
              "0        a      1\n",
              "1        a      3\n",
              "2        b      5\n",
              "3      NaN      7\n",
              "4      NaN      9"
            ]
          },
          "metadata": {
            "tags": []
          },
          "execution_count": 67
        }
      ]
    },
    {
      "cell_type": "code",
      "metadata": {
        "colab": {
          "base_uri": "https://localhost:8080/"
        },
        "id": "lqQGG58KhoLV",
        "outputId": "024279bc-accb-4033-f4a5-7f092ad8113b"
      },
      "source": [
        "df_nan.groupby('category',\r\n",
        "              dropna=False)['value'].mean()"
      ],
      "execution_count": 68,
      "outputs": [
        {
          "output_type": "execute_result",
          "data": {
            "text/plain": [
              "category\n",
              "a      2\n",
              "b      5\n",
              "NaN    8\n",
              "Name: value, dtype: int64"
            ]
          },
          "metadata": {
            "tags": []
          },
          "execution_count": 68
        }
      ]
    },
    {
      "cell_type": "code",
      "metadata": {
        "colab": {
          "base_uri": "https://localhost:8080/",
          "height": 202
        },
        "id": "wZZBum6vhsQH",
        "outputId": "3ec2e970-f7d3-4e18-8be6-3a34e96e921c"
      },
      "source": [
        "pd.get_dummies(df_nan.category, dummy_na=True)"
      ],
      "execution_count": 69,
      "outputs": [
        {
          "output_type": "execute_result",
          "data": {
            "text/html": [
              "<div>\n",
              "<style scoped>\n",
              "    .dataframe tbody tr th:only-of-type {\n",
              "        vertical-align: middle;\n",
              "    }\n",
              "\n",
              "    .dataframe tbody tr th {\n",
              "        vertical-align: top;\n",
              "    }\n",
              "\n",
              "    .dataframe thead th {\n",
              "        text-align: right;\n",
              "    }\n",
              "</style>\n",
              "<table border=\"1\" class=\"dataframe\">\n",
              "  <thead>\n",
              "    <tr style=\"text-align: right;\">\n",
              "      <th></th>\n",
              "      <th>a</th>\n",
              "      <th>b</th>\n",
              "      <th>NaN</th>\n",
              "    </tr>\n",
              "  </thead>\n",
              "  <tbody>\n",
              "    <tr>\n",
              "      <th>0</th>\n",
              "      <td>1</td>\n",
              "      <td>0</td>\n",
              "      <td>0</td>\n",
              "    </tr>\n",
              "    <tr>\n",
              "      <th>1</th>\n",
              "      <td>1</td>\n",
              "      <td>0</td>\n",
              "      <td>0</td>\n",
              "    </tr>\n",
              "    <tr>\n",
              "      <th>2</th>\n",
              "      <td>0</td>\n",
              "      <td>1</td>\n",
              "      <td>0</td>\n",
              "    </tr>\n",
              "    <tr>\n",
              "      <th>3</th>\n",
              "      <td>0</td>\n",
              "      <td>0</td>\n",
              "      <td>1</td>\n",
              "    </tr>\n",
              "    <tr>\n",
              "      <th>4</th>\n",
              "      <td>0</td>\n",
              "      <td>0</td>\n",
              "      <td>1</td>\n",
              "    </tr>\n",
              "  </tbody>\n",
              "</table>\n",
              "</div>"
            ],
            "text/plain": [
              "   a  b  NaN\n",
              "0  1  0    0\n",
              "1  1  0    0\n",
              "2  0  1    0\n",
              "3  0  0    1\n",
              "4  0  0    1"
            ]
          },
          "metadata": {
            "tags": []
          },
          "execution_count": 69
        }
      ]
    },
    {
      "cell_type": "markdown",
      "metadata": {
        "id": "tE_-BODKhxkK"
      },
      "source": [
        "#### Ex1：缺失值与类别的相关性检验\r\n",
        "在数据处理中，含有过多缺失值的列往往会被删除，除非缺失情况与标签强相关。下面有一份关于二分类问题的数据集，其中 X_1, X_2 为特征变量， y 为二分类标签。"
      ]
    },
    {
      "cell_type": "code",
      "metadata": {
        "colab": {
          "base_uri": "https://localhost:8080/",
          "height": 202
        },
        "id": "-tMBt4srhuNf",
        "outputId": "3092f63f-bc13-43f8-d1c2-0a103ee35f61"
      },
      "source": [
        "df = pd.read_csv('data/missing_chi.csv')\r\n",
        "\r\n",
        "df.head()"
      ],
      "execution_count": 70,
      "outputs": [
        {
          "output_type": "execute_result",
          "data": {
            "text/html": [
              "<div>\n",
              "<style scoped>\n",
              "    .dataframe tbody tr th:only-of-type {\n",
              "        vertical-align: middle;\n",
              "    }\n",
              "\n",
              "    .dataframe tbody tr th {\n",
              "        vertical-align: top;\n",
              "    }\n",
              "\n",
              "    .dataframe thead th {\n",
              "        text-align: right;\n",
              "    }\n",
              "</style>\n",
              "<table border=\"1\" class=\"dataframe\">\n",
              "  <thead>\n",
              "    <tr style=\"text-align: right;\">\n",
              "      <th></th>\n",
              "      <th>X_1</th>\n",
              "      <th>X_2</th>\n",
              "      <th>y</th>\n",
              "    </tr>\n",
              "  </thead>\n",
              "  <tbody>\n",
              "    <tr>\n",
              "      <th>0</th>\n",
              "      <td>NaN</td>\n",
              "      <td>NaN</td>\n",
              "      <td>0</td>\n",
              "    </tr>\n",
              "    <tr>\n",
              "      <th>1</th>\n",
              "      <td>NaN</td>\n",
              "      <td>NaN</td>\n",
              "      <td>0</td>\n",
              "    </tr>\n",
              "    <tr>\n",
              "      <th>2</th>\n",
              "      <td>NaN</td>\n",
              "      <td>NaN</td>\n",
              "      <td>0</td>\n",
              "    </tr>\n",
              "    <tr>\n",
              "      <th>3</th>\n",
              "      <td>43.0</td>\n",
              "      <td>NaN</td>\n",
              "      <td>0</td>\n",
              "    </tr>\n",
              "    <tr>\n",
              "      <th>4</th>\n",
              "      <td>NaN</td>\n",
              "      <td>NaN</td>\n",
              "      <td>0</td>\n",
              "    </tr>\n",
              "  </tbody>\n",
              "</table>\n",
              "</div>"
            ],
            "text/plain": [
              "    X_1  X_2  y\n",
              "0   NaN  NaN  0\n",
              "1   NaN  NaN  0\n",
              "2   NaN  NaN  0\n",
              "3  43.0  NaN  0\n",
              "4   NaN  NaN  0"
            ]
          },
          "metadata": {
            "tags": []
          },
          "execution_count": 70
        }
      ]
    },
    {
      "cell_type": "code",
      "metadata": {
        "colab": {
          "base_uri": "https://localhost:8080/"
        },
        "id": "t-0566IYh00e",
        "outputId": "c787eb75-38a0-4c84-8010-80b23f514904"
      },
      "source": [
        "df.isna().mean()\r\n"
      ],
      "execution_count": 71,
      "outputs": [
        {
          "output_type": "execute_result",
          "data": {
            "text/plain": [
              "X_1    0.855\n",
              "X_2    0.894\n",
              "y      0.000\n",
              "dtype: float64"
            ]
          },
          "metadata": {
            "tags": []
          },
          "execution_count": 71
        }
      ]
    },
    {
      "cell_type": "code",
      "metadata": {
        "colab": {
          "base_uri": "https://localhost:8080/"
        },
        "id": "UiFjH4VSh5Fv",
        "outputId": "dc247a34-f301-4960-a755-d1bd49fcab5a"
      },
      "source": [
        "df.y.value_counts(normalize=True)"
      ],
      "execution_count": 72,
      "outputs": [
        {
          "output_type": "execute_result",
          "data": {
            "text/plain": [
              "0    0.918\n",
              "1    0.082\n",
              "Name: y, dtype: float64"
            ]
          },
          "metadata": {
            "tags": []
          },
          "execution_count": 72
        }
      ]
    },
    {
      "cell_type": "code",
      "metadata": {
        "id": "5H1xxN19h6-s"
      },
      "source": [
        "cat_1 = df.X_1.fillna('NaN').mask(df.X_1.notna()).fillna(\"NotNaN\")\r\n",
        "\r\n",
        "cat_2 = df.X_2.fillna('NaN').mask(df.X_2.notna()).fillna(\"NotNaN\")\r\n",
        "\r\n",
        "df_1 = pd.crosstab(cat_1, df.y, margins=True)\r\n",
        "\r\n",
        "df_2 = pd.crosstab(cat_2, df.y, margins=True)"
      ],
      "execution_count": 73,
      "outputs": []
    },
    {
      "cell_type": "code",
      "metadata": {
        "id": "bGaWReWGiN49"
      },
      "source": [
        "def compute_S(df):\r\n",
        "  S = []\r\n",
        "  for i in range(2):\r\n",
        "      for j in range(2):\r\n",
        "          E = df.iat[i, j]\r\n",
        "          F = df.iat[i, 2]*df.iat[2, j]/df.iat[2,2]\r\n",
        "          S.append((E-F)**2/F)\r\n",
        "  return sum(S)"
      ],
      "execution_count": 75,
      "outputs": []
    },
    {
      "cell_type": "code",
      "metadata": {
        "id": "fiw2Z4ctiULZ"
      },
      "source": [
        "res1 = compute_S(df_1)"
      ],
      "execution_count": 76,
      "outputs": []
    },
    {
      "cell_type": "code",
      "metadata": {
        "id": "d6MmErz8iZYi"
      },
      "source": [
        "res2 = compute_S(df_2)"
      ],
      "execution_count": 77,
      "outputs": []
    },
    {
      "cell_type": "code",
      "metadata": {
        "colab": {
          "base_uri": "https://localhost:8080/"
        },
        "id": "agPOU_5riboD",
        "outputId": "9004462a-2b7f-4dc9-c4b9-f8be6c61fb77"
      },
      "source": [
        "from scipy.stats import chi2\r\n",
        "\r\n",
        "chi2.sf(res, 1)"
      ],
      "execution_count": 78,
      "outputs": [
        {
          "output_type": "execute_result",
          "data": {
            "text/plain": [
              "array([       nan, 0.31731051, 0.31731051, 0.26355248,        nan,\n",
              "       0.18587673, 0.15729921, 0.15729921,        nan])"
            ]
          },
          "metadata": {
            "tags": []
          },
          "execution_count": 78
        }
      ]
    },
    {
      "cell_type": "code",
      "metadata": {
        "id": "mQwP-Gocif4s",
        "outputId": "b6689ed7-eb32-49fc-e774-0f459a830424",
        "colab": {
          "base_uri": "https://localhost:8080/"
        }
      },
      "source": [
        "chi2.sf(res2, 1)"
      ],
      "execution_count": 79,
      "outputs": [
        {
          "output_type": "execute_result",
          "data": {
            "text/plain": [
              "7.459641265637543e-166"
            ]
          },
          "metadata": {
            "tags": []
          },
          "execution_count": 79
        }
      ]
    },
    {
      "cell_type": "code",
      "metadata": {
        "id": "LxT0WPD5ih0h"
      },
      "source": [
        ""
      ],
      "execution_count": null,
      "outputs": []
    }
  ]
}