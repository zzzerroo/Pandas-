{
  "nbformat": 4,
  "nbformat_minor": 0,
  "metadata": {
    "colab": {
      "name": "综合练习.ipynb",
      "provenance": [],
      "collapsed_sections": []
    },
    "kernelspec": {
      "name": "python3",
      "display_name": "Python 3"
    }
  },
  "cells": [
    {
      "cell_type": "markdown",
      "metadata": {
        "id": "RElKJTQJ1ZkE"
      },
      "source": [
        "#### 任务一：\r\n",
        "\r\n",
        "【任务一】企业收入的多样性\r\n",
        "\r\n",
        "【题目描述】一个企业的产业收入多样性可以仿照信息熵的概念来定义收入熵指标：\r\n",
        "\r\n",
        "$$\\rm I=-\\sum_{i}p(x_i)\\log(p(x_i))$$\r\n",
        "\r\n",
        " 是企业该年某产业收入额占该年所有产业总收入的比重。在company.csv中存有需要计算的企业和年份，在company_data.csv中存有企业、各类收入额和收入年份的信息。现请利用后一张表中的数据，在前一张表中增加一列表示该公司该年份的收入熵指标 \r\n",
        "I。"
      ]
    },
    {
      "cell_type": "code",
      "metadata": {
        "colab": {
          "base_uri": "https://localhost:8080/"
        },
        "id": "nYaawTYr0oIT",
        "outputId": "d28cb6de-8af9-4f5e-887e-7eff5cae511e"
      },
      "source": [
        "%cd drive/MyDrive/data"
      ],
      "execution_count": 117,
      "outputs": [
        {
          "output_type": "stream",
          "text": [
            "[Errno 2] No such file or directory: 'drive/MyDrive/data'\n",
            "/content/drive/My Drive/data\n"
          ],
          "name": "stdout"
        }
      ]
    },
    {
      "cell_type": "code",
      "metadata": {
        "colab": {
          "base_uri": "https://localhost:8080/"
        },
        "id": "eUJH6a8P3MMI",
        "outputId": "b9485706-f1c4-4cd1-90a4-5403d9070096"
      },
      "source": [
        "%cd data"
      ],
      "execution_count": 118,
      "outputs": [
        {
          "output_type": "stream",
          "text": [
            "[Errno 2] No such file or directory: 'data'\n",
            "/content/drive/My Drive/data\n"
          ],
          "name": "stdout"
        }
      ]
    },
    {
      "cell_type": "code",
      "metadata": {
        "colab": {
          "base_uri": "https://localhost:8080/"
        },
        "id": "QMw_eP5l3reV",
        "outputId": "77618460-8889-45f5-a983-77231a5c4365"
      },
      "source": [
        "!ls"
      ],
      "execution_count": 119,
      "outputs": [
        {
          "output_type": "stream",
          "text": [
            " airport.csv\t    fruit.csv\t\t       my_txt_saved.txt\n",
            " audit.csv\t    house_info.xls\t       pokemon.csv\n",
            " car.csv\t    learn_pandas.csv\t       script.csv\n",
            " chocolate.csv\t    missing_chi.csv\t       solar.csv\n",
            " color.xlsx\t    my_csv.csv\t\t       us_report\n",
            " company.csv\t    my_csv_saved.csv\t       winCodeSign-2.5.0.7z\n",
            " Company.csv\t    my_excel_saved.xlsx       '可视化 (1).JPG'\n",
            " Company_data.csv   my_excel.xlsx\t       可视化.JPG\n",
            " diamonds.csv\t    my_table_special_sep.txt   相控阵.png\n",
            " drugs.csv\t    my_table.txt\t       系统.png\n"
          ],
          "name": "stdout"
        }
      ]
    },
    {
      "cell_type": "code",
      "metadata": {
        "id": "94bF4ZHQ3TYR"
      },
      "source": [
        "import pandas as pd\r\n",
        "\r\n",
        "df1 = pd.read_csv('Company.csv')\r\n",
        "df2 = pd.read_csv('Company_data.csv')"
      ],
      "execution_count": 142,
      "outputs": []
    },
    {
      "cell_type": "code",
      "metadata": {
        "colab": {
          "base_uri": "https://localhost:8080/",
          "height": 197
        },
        "id": "mdqmz66I5kmS",
        "outputId": "e97544dc-1884-4db7-ad26-13817f9edfa2"
      },
      "source": [
        "df1.head()"
      ],
      "execution_count": 121,
      "outputs": [
        {
          "output_type": "execute_result",
          "data": {
            "text/html": [
              "<div>\n",
              "<style scoped>\n",
              "    .dataframe tbody tr th:only-of-type {\n",
              "        vertical-align: middle;\n",
              "    }\n",
              "\n",
              "    .dataframe tbody tr th {\n",
              "        vertical-align: top;\n",
              "    }\n",
              "\n",
              "    .dataframe thead th {\n",
              "        text-align: right;\n",
              "    }\n",
              "</style>\n",
              "<table border=\"1\" class=\"dataframe\">\n",
              "  <thead>\n",
              "    <tr style=\"text-align: right;\">\n",
              "      <th></th>\n",
              "      <th>证券代码</th>\n",
              "      <th>日期</th>\n",
              "    </tr>\n",
              "  </thead>\n",
              "  <tbody>\n",
              "    <tr>\n",
              "      <th>0</th>\n",
              "      <td>#000007</td>\n",
              "      <td>2014</td>\n",
              "    </tr>\n",
              "    <tr>\n",
              "      <th>1</th>\n",
              "      <td>#000403</td>\n",
              "      <td>2015</td>\n",
              "    </tr>\n",
              "    <tr>\n",
              "      <th>2</th>\n",
              "      <td>#000408</td>\n",
              "      <td>2016</td>\n",
              "    </tr>\n",
              "    <tr>\n",
              "      <th>3</th>\n",
              "      <td>#000408</td>\n",
              "      <td>2017</td>\n",
              "    </tr>\n",
              "    <tr>\n",
              "      <th>4</th>\n",
              "      <td>#000426</td>\n",
              "      <td>2015</td>\n",
              "    </tr>\n",
              "  </tbody>\n",
              "</table>\n",
              "</div>"
            ],
            "text/plain": [
              "      证券代码    日期\n",
              "0  #000007  2014\n",
              "1  #000403  2015\n",
              "2  #000408  2016\n",
              "3  #000408  2017\n",
              "4  #000426  2015"
            ]
          },
          "metadata": {
            "tags": []
          },
          "execution_count": 121
        }
      ]
    },
    {
      "cell_type": "code",
      "metadata": {
        "colab": {
          "base_uri": "https://localhost:8080/",
          "height": 197
        },
        "id": "0KuNk3q45nf5",
        "outputId": "20fd4298-b4c3-4737-c426-93752677a8ac"
      },
      "source": [
        "df2.head()"
      ],
      "execution_count": 122,
      "outputs": [
        {
          "output_type": "execute_result",
          "data": {
            "text/html": [
              "<div>\n",
              "<style scoped>\n",
              "    .dataframe tbody tr th:only-of-type {\n",
              "        vertical-align: middle;\n",
              "    }\n",
              "\n",
              "    .dataframe tbody tr th {\n",
              "        vertical-align: top;\n",
              "    }\n",
              "\n",
              "    .dataframe thead th {\n",
              "        text-align: right;\n",
              "    }\n",
              "</style>\n",
              "<table border=\"1\" class=\"dataframe\">\n",
              "  <thead>\n",
              "    <tr style=\"text-align: right;\">\n",
              "      <th></th>\n",
              "      <th>证券代码</th>\n",
              "      <th>日期</th>\n",
              "      <th>收入类型</th>\n",
              "      <th>收入额</th>\n",
              "    </tr>\n",
              "  </thead>\n",
              "  <tbody>\n",
              "    <tr>\n",
              "      <th>0</th>\n",
              "      <td>1</td>\n",
              "      <td>2008/12/31</td>\n",
              "      <td>1</td>\n",
              "      <td>1.084218e+10</td>\n",
              "    </tr>\n",
              "    <tr>\n",
              "      <th>1</th>\n",
              "      <td>1</td>\n",
              "      <td>2008/12/31</td>\n",
              "      <td>2</td>\n",
              "      <td>1.259789e+10</td>\n",
              "    </tr>\n",
              "    <tr>\n",
              "      <th>2</th>\n",
              "      <td>1</td>\n",
              "      <td>2008/12/31</td>\n",
              "      <td>3</td>\n",
              "      <td>1.451312e+10</td>\n",
              "    </tr>\n",
              "    <tr>\n",
              "      <th>3</th>\n",
              "      <td>1</td>\n",
              "      <td>2008/12/31</td>\n",
              "      <td>4</td>\n",
              "      <td>1.063843e+09</td>\n",
              "    </tr>\n",
              "    <tr>\n",
              "      <th>4</th>\n",
              "      <td>1</td>\n",
              "      <td>2008/12/31</td>\n",
              "      <td>5</td>\n",
              "      <td>8.513880e+08</td>\n",
              "    </tr>\n",
              "  </tbody>\n",
              "</table>\n",
              "</div>"
            ],
            "text/plain": [
              "   证券代码          日期  收入类型           收入额\n",
              "0     1  2008/12/31     1  1.084218e+10\n",
              "1     1  2008/12/31     2  1.259789e+10\n",
              "2     1  2008/12/31     3  1.451312e+10\n",
              "3     1  2008/12/31     4  1.063843e+09\n",
              "4     1  2008/12/31     5  8.513880e+08"
            ]
          },
          "metadata": {
            "tags": []
          },
          "execution_count": 122
        }
      ]
    },
    {
      "cell_type": "code",
      "metadata": {
        "id": "ulRo9kzR6KxY",
        "colab": {
          "base_uri": "https://localhost:8080/",
          "height": 197
        },
        "outputId": "e25b161b-e8fa-4458-ee8c-86b67c546ddf"
      },
      "source": [
        "# 将df1的证券代码格式化为数字\r\n",
        "df1['证券代码'] = df1['证券代码'].str[1:].astype('int64')\r\n",
        "df1.head()"
      ],
      "execution_count": 143,
      "outputs": [
        {
          "output_type": "execute_result",
          "data": {
            "text/html": [
              "<div>\n",
              "<style scoped>\n",
              "    .dataframe tbody tr th:only-of-type {\n",
              "        vertical-align: middle;\n",
              "    }\n",
              "\n",
              "    .dataframe tbody tr th {\n",
              "        vertical-align: top;\n",
              "    }\n",
              "\n",
              "    .dataframe thead th {\n",
              "        text-align: right;\n",
              "    }\n",
              "</style>\n",
              "<table border=\"1\" class=\"dataframe\">\n",
              "  <thead>\n",
              "    <tr style=\"text-align: right;\">\n",
              "      <th></th>\n",
              "      <th>证券代码</th>\n",
              "      <th>日期</th>\n",
              "    </tr>\n",
              "  </thead>\n",
              "  <tbody>\n",
              "    <tr>\n",
              "      <th>0</th>\n",
              "      <td>7</td>\n",
              "      <td>2014</td>\n",
              "    </tr>\n",
              "    <tr>\n",
              "      <th>1</th>\n",
              "      <td>403</td>\n",
              "      <td>2015</td>\n",
              "    </tr>\n",
              "    <tr>\n",
              "      <th>2</th>\n",
              "      <td>408</td>\n",
              "      <td>2016</td>\n",
              "    </tr>\n",
              "    <tr>\n",
              "      <th>3</th>\n",
              "      <td>408</td>\n",
              "      <td>2017</td>\n",
              "    </tr>\n",
              "    <tr>\n",
              "      <th>4</th>\n",
              "      <td>426</td>\n",
              "      <td>2015</td>\n",
              "    </tr>\n",
              "  </tbody>\n",
              "</table>\n",
              "</div>"
            ],
            "text/plain": [
              "   证券代码    日期\n",
              "0     7  2014\n",
              "1   403  2015\n",
              "2   408  2016\n",
              "3   408  2017\n",
              "4   426  2015"
            ]
          },
          "metadata": {
            "tags": []
          },
          "execution_count": 143
        }
      ]
    },
    {
      "cell_type": "code",
      "metadata": {
        "id": "9e318Bz48s46"
      },
      "source": [
        "# 将df2的日期转换为年\r\n",
        "df2['日期'] = df2['日期'].map(lambda x:x.split('/')[0])\r\n"
      ],
      "execution_count": 144,
      "outputs": []
    },
    {
      "cell_type": "code",
      "metadata": {
        "id": "elAtMPF49iDc"
      },
      "source": [
        "df2['日期'] = df2['日期'].astype('int64')\r\n",
        "df1['日期'] = df1['日期'].astype('int64')"
      ],
      "execution_count": 145,
      "outputs": []
    },
    {
      "cell_type": "code",
      "metadata": {
        "colab": {
          "base_uri": "https://localhost:8080/"
        },
        "id": "IbCU0mmr_H6y",
        "outputId": "9ef111c5-a893-4bd3-bac3-cb00cfeca035"
      },
      "source": [
        "df2['日期']"
      ],
      "execution_count": 126,
      "outputs": [
        {
          "output_type": "execute_result",
          "data": {
            "text/plain": [
              "0         2008\n",
              "1         2008\n",
              "2         2008\n",
              "3         2008\n",
              "4         2008\n",
              "          ... \n",
              "964017    2016\n",
              "964018    2016\n",
              "964019    2016\n",
              "964020    2016\n",
              "964021    2016\n",
              "Name: 日期, Length: 964022, dtype: int64"
            ]
          },
          "metadata": {
            "tags": []
          },
          "execution_count": 126
        }
      ]
    },
    {
      "cell_type": "code",
      "metadata": {
        "colab": {
          "base_uri": "https://localhost:8080/",
          "height": 197
        },
        "id": "nr7VsRW86hzx",
        "outputId": "489574e0-a3a5-43fb-ee4c-30ed8de7516f"
      },
      "source": [
        "df2.head()"
      ],
      "execution_count": 127,
      "outputs": [
        {
          "output_type": "execute_result",
          "data": {
            "text/html": [
              "<div>\n",
              "<style scoped>\n",
              "    .dataframe tbody tr th:only-of-type {\n",
              "        vertical-align: middle;\n",
              "    }\n",
              "\n",
              "    .dataframe tbody tr th {\n",
              "        vertical-align: top;\n",
              "    }\n",
              "\n",
              "    .dataframe thead th {\n",
              "        text-align: right;\n",
              "    }\n",
              "</style>\n",
              "<table border=\"1\" class=\"dataframe\">\n",
              "  <thead>\n",
              "    <tr style=\"text-align: right;\">\n",
              "      <th></th>\n",
              "      <th>证券代码</th>\n",
              "      <th>日期</th>\n",
              "      <th>收入类型</th>\n",
              "      <th>收入额</th>\n",
              "    </tr>\n",
              "  </thead>\n",
              "  <tbody>\n",
              "    <tr>\n",
              "      <th>0</th>\n",
              "      <td>#000001</td>\n",
              "      <td>2008</td>\n",
              "      <td>1</td>\n",
              "      <td>1.084218e+10</td>\n",
              "    </tr>\n",
              "    <tr>\n",
              "      <th>1</th>\n",
              "      <td>#000001</td>\n",
              "      <td>2008</td>\n",
              "      <td>2</td>\n",
              "      <td>1.259789e+10</td>\n",
              "    </tr>\n",
              "    <tr>\n",
              "      <th>2</th>\n",
              "      <td>#000001</td>\n",
              "      <td>2008</td>\n",
              "      <td>3</td>\n",
              "      <td>1.451312e+10</td>\n",
              "    </tr>\n",
              "    <tr>\n",
              "      <th>3</th>\n",
              "      <td>#000001</td>\n",
              "      <td>2008</td>\n",
              "      <td>4</td>\n",
              "      <td>1.063843e+09</td>\n",
              "    </tr>\n",
              "    <tr>\n",
              "      <th>4</th>\n",
              "      <td>#000001</td>\n",
              "      <td>2008</td>\n",
              "      <td>5</td>\n",
              "      <td>8.513880e+08</td>\n",
              "    </tr>\n",
              "  </tbody>\n",
              "</table>\n",
              "</div>"
            ],
            "text/plain": [
              "      证券代码    日期  收入类型           收入额\n",
              "0  #000001  2008     1  1.084218e+10\n",
              "1  #000001  2008     2  1.259789e+10\n",
              "2  #000001  2008     3  1.451312e+10\n",
              "3  #000001  2008     4  1.063843e+09\n",
              "4  #000001  2008     5  8.513880e+08"
            ]
          },
          "metadata": {
            "tags": []
          },
          "execution_count": 127
        }
      ]
    },
    {
      "cell_type": "code",
      "metadata": {
        "colab": {
          "base_uri": "https://localhost:8080/"
        },
        "id": "vybuaHNc-psH",
        "outputId": "5ec66580-a366-4980-b138-1610af4e9461"
      },
      "source": [
        "df2['日期']"
      ],
      "execution_count": 130,
      "outputs": [
        {
          "output_type": "execute_result",
          "data": {
            "text/plain": [
              "0         2008\n",
              "1         2008\n",
              "2         2008\n",
              "3         2008\n",
              "4         2008\n",
              "          ... \n",
              "964017    2016\n",
              "964018    2016\n",
              "964019    2016\n",
              "964020    2016\n",
              "964021    2016\n",
              "Name: 日期, Length: 964022, dtype: int64"
            ]
          },
          "metadata": {
            "tags": []
          },
          "execution_count": 130
        }
      ]
    },
    {
      "cell_type": "code",
      "metadata": {
        "colab": {
          "base_uri": "https://localhost:8080/",
          "height": 197
        },
        "id": "-C0hrQWQ7_mL",
        "outputId": "30b095e5-2add-42f6-ad4c-0ad8c2e00d4b"
      },
      "source": [
        "df1.head()"
      ],
      "execution_count": 146,
      "outputs": [
        {
          "output_type": "execute_result",
          "data": {
            "text/html": [
              "<div>\n",
              "<style scoped>\n",
              "    .dataframe tbody tr th:only-of-type {\n",
              "        vertical-align: middle;\n",
              "    }\n",
              "\n",
              "    .dataframe tbody tr th {\n",
              "        vertical-align: top;\n",
              "    }\n",
              "\n",
              "    .dataframe thead th {\n",
              "        text-align: right;\n",
              "    }\n",
              "</style>\n",
              "<table border=\"1\" class=\"dataframe\">\n",
              "  <thead>\n",
              "    <tr style=\"text-align: right;\">\n",
              "      <th></th>\n",
              "      <th>证券代码</th>\n",
              "      <th>日期</th>\n",
              "    </tr>\n",
              "  </thead>\n",
              "  <tbody>\n",
              "    <tr>\n",
              "      <th>0</th>\n",
              "      <td>7</td>\n",
              "      <td>2014</td>\n",
              "    </tr>\n",
              "    <tr>\n",
              "      <th>1</th>\n",
              "      <td>403</td>\n",
              "      <td>2015</td>\n",
              "    </tr>\n",
              "    <tr>\n",
              "      <th>2</th>\n",
              "      <td>408</td>\n",
              "      <td>2016</td>\n",
              "    </tr>\n",
              "    <tr>\n",
              "      <th>3</th>\n",
              "      <td>408</td>\n",
              "      <td>2017</td>\n",
              "    </tr>\n",
              "    <tr>\n",
              "      <th>4</th>\n",
              "      <td>426</td>\n",
              "      <td>2015</td>\n",
              "    </tr>\n",
              "  </tbody>\n",
              "</table>\n",
              "</div>"
            ],
            "text/plain": [
              "   证券代码    日期\n",
              "0     7  2014\n",
              "1   403  2015\n",
              "2   408  2016\n",
              "3   408  2017\n",
              "4   426  2015"
            ]
          },
          "metadata": {
            "tags": []
          },
          "execution_count": 146
        }
      ]
    },
    {
      "cell_type": "code",
      "metadata": {
        "id": "MhGrfMpf4tvr"
      },
      "source": [
        "import numpy as np\r\n",
        "\r\n",
        "def compute_shang(x):\r\n",
        "    # 计算收入熵\r\n",
        "    if x.any():\r\n",
        "        p = x/x.sum()\r\n",
        "        return -(p*np.log2(p)).sum()\r\n",
        "    return np.nan"
      ],
      "execution_count": 147,
      "outputs": []
    },
    {
      "cell_type": "code",
      "metadata": {
        "colab": {
          "base_uri": "https://localhost:8080/",
          "height": 284
        },
        "id": "2gTbebHg3lJo",
        "outputId": "beb7e399-43dc-4d37-9693-6b4239dccbfe"
      },
      "source": [
        "res = df1.merge(df2, on=['证券代码','日期'], how='left').groupby(['证券代码','日期'])['收入额'].apply(compute_shang).reset_index()\r\n",
        "res.head()"
      ],
      "execution_count": 148,
      "outputs": [
        {
          "output_type": "stream",
          "text": [
            "/usr/local/lib/python3.6/dist-packages/pandas/core/series.py:726: RuntimeWarning: divide by zero encountered in log2\n",
            "  result = getattr(ufunc, method)(*inputs, **kwargs)\n",
            "/usr/local/lib/python3.6/dist-packages/pandas/core/series.py:726: RuntimeWarning: invalid value encountered in log2\n",
            "  result = getattr(ufunc, method)(*inputs, **kwargs)\n"
          ],
          "name": "stderr"
        },
        {
          "output_type": "execute_result",
          "data": {
            "text/html": [
              "<div>\n",
              "<style scoped>\n",
              "    .dataframe tbody tr th:only-of-type {\n",
              "        vertical-align: middle;\n",
              "    }\n",
              "\n",
              "    .dataframe tbody tr th {\n",
              "        vertical-align: top;\n",
              "    }\n",
              "\n",
              "    .dataframe thead th {\n",
              "        text-align: right;\n",
              "    }\n",
              "</style>\n",
              "<table border=\"1\" class=\"dataframe\">\n",
              "  <thead>\n",
              "    <tr style=\"text-align: right;\">\n",
              "      <th></th>\n",
              "      <th>证券代码</th>\n",
              "      <th>日期</th>\n",
              "      <th>收入额</th>\n",
              "    </tr>\n",
              "  </thead>\n",
              "  <tbody>\n",
              "    <tr>\n",
              "      <th>0</th>\n",
              "      <td>7</td>\n",
              "      <td>2014</td>\n",
              "      <td>4.429740</td>\n",
              "    </tr>\n",
              "    <tr>\n",
              "      <th>1</th>\n",
              "      <td>403</td>\n",
              "      <td>2015</td>\n",
              "      <td>4.025963</td>\n",
              "    </tr>\n",
              "    <tr>\n",
              "      <th>2</th>\n",
              "      <td>408</td>\n",
              "      <td>2016</td>\n",
              "      <td>4.066295</td>\n",
              "    </tr>\n",
              "    <tr>\n",
              "      <th>3</th>\n",
              "      <td>408</td>\n",
              "      <td>2017</td>\n",
              "      <td>NaN</td>\n",
              "    </tr>\n",
              "    <tr>\n",
              "      <th>4</th>\n",
              "      <td>426</td>\n",
              "      <td>2015</td>\n",
              "      <td>4.449655</td>\n",
              "    </tr>\n",
              "  </tbody>\n",
              "</table>\n",
              "</div>"
            ],
            "text/plain": [
              "   证券代码    日期       收入额\n",
              "0     7  2014  4.429740\n",
              "1   403  2015  4.025963\n",
              "2   408  2016  4.066295\n",
              "3   408  2017       NaN\n",
              "4   426  2015  4.449655"
            ]
          },
          "metadata": {
            "tags": []
          },
          "execution_count": 148
        }
      ]
    },
    {
      "cell_type": "code",
      "metadata": {
        "colab": {
          "base_uri": "https://localhost:8080/",
          "height": 197
        },
        "id": "H8NPxntr9CNC",
        "outputId": "57ff5dba-ce5a-4d72-96c4-44b1bacbdb7d"
      },
      "source": [
        "df1['收入熵指标I'] = res['收入额']\r\n",
        "df1.head()"
      ],
      "execution_count": 149,
      "outputs": [
        {
          "output_type": "execute_result",
          "data": {
            "text/html": [
              "<div>\n",
              "<style scoped>\n",
              "    .dataframe tbody tr th:only-of-type {\n",
              "        vertical-align: middle;\n",
              "    }\n",
              "\n",
              "    .dataframe tbody tr th {\n",
              "        vertical-align: top;\n",
              "    }\n",
              "\n",
              "    .dataframe thead th {\n",
              "        text-align: right;\n",
              "    }\n",
              "</style>\n",
              "<table border=\"1\" class=\"dataframe\">\n",
              "  <thead>\n",
              "    <tr style=\"text-align: right;\">\n",
              "      <th></th>\n",
              "      <th>证券代码</th>\n",
              "      <th>日期</th>\n",
              "      <th>收入熵指标I</th>\n",
              "    </tr>\n",
              "  </thead>\n",
              "  <tbody>\n",
              "    <tr>\n",
              "      <th>0</th>\n",
              "      <td>7</td>\n",
              "      <td>2014</td>\n",
              "      <td>4.429740</td>\n",
              "    </tr>\n",
              "    <tr>\n",
              "      <th>1</th>\n",
              "      <td>403</td>\n",
              "      <td>2015</td>\n",
              "      <td>4.025963</td>\n",
              "    </tr>\n",
              "    <tr>\n",
              "      <th>2</th>\n",
              "      <td>408</td>\n",
              "      <td>2016</td>\n",
              "      <td>4.066295</td>\n",
              "    </tr>\n",
              "    <tr>\n",
              "      <th>3</th>\n",
              "      <td>408</td>\n",
              "      <td>2017</td>\n",
              "      <td>NaN</td>\n",
              "    </tr>\n",
              "    <tr>\n",
              "      <th>4</th>\n",
              "      <td>426</td>\n",
              "      <td>2015</td>\n",
              "      <td>4.449655</td>\n",
              "    </tr>\n",
              "  </tbody>\n",
              "</table>\n",
              "</div>"
            ],
            "text/plain": [
              "   证券代码    日期    收入熵指标I\n",
              "0     7  2014  4.429740\n",
              "1   403  2015  4.025963\n",
              "2   408  2016  4.066295\n",
              "3   408  2017       NaN\n",
              "4   426  2015  4.449655"
            ]
          },
          "metadata": {
            "tags": []
          },
          "execution_count": 149
        }
      ]
    },
    {
      "cell_type": "code",
      "metadata": {
        "id": "NBEDhdvrESLb"
      },
      "source": [
        ""
      ],
      "execution_count": null,
      "outputs": []
    },
    {
      "cell_type": "markdown",
      "metadata": {
        "id": "za6HsaxFFcc7"
      },
      "source": [
        "#### 任务二\r\n",
        "【任务二】组队学习信息表的变换\r\n",
        "\r\n",
        "【题目描述】请把组队学习的队伍信息表变换为如下形态，其中“是否队长”一列取1表示队长，否则为0\r\n",
        "\r\n",
        "```\r\n",
        "\t是否队长\t队伍名称\t    昵称    \t编号\r\n",
        "0\t1\t    你说的都对队\t山枫叶纷飞\t5\r\n",
        "1\t0\t    你说的都对队\t蔡\t        6\r\n",
        "2\t0\t    你说的都对队\t安慕希\t    7\r\n",
        "3\t0\t    你说的都对队\t信仰\t    8\r\n",
        "4\t0\t    你说的都对队\tbiubiu🙈🙈\t20\r\n",
        "...\t...\t    ...\t        ...\t        ...\r\n",
        "141\t0\t    七星联盟\t    Daisy\t    63\r\n",
        "142\t0\t    七星联盟    \tOne Better\t131\r\n",
        "143\t0\t    七星联盟    \train\t    112\r\n",
        "144\t1\t    应如是\t    思无邪\t    54\r\n",
        "145\t0\t    应如是\t    Justzer0\t58\r\n",
        "```"
      ]
    },
    {
      "cell_type": "code",
      "metadata": {
        "id": "B0iMudLIFjkL"
      },
      "source": [
        "\r\n",
        "df = pd.read_excel('组队信息汇总表（Pandas）.xlsx')\r\n",
        "# 去掉无用的列\r\n",
        "df.drop(columns='所在群', inplace=True)"
      ],
      "execution_count": 152,
      "outputs": []
    },
    {
      "cell_type": "code",
      "metadata": {
        "colab": {
          "base_uri": "https://localhost:8080/",
          "height": 517
        },
        "id": "EPNQvVUOGdaR",
        "outputId": "85d12a80-8fab-4b34-ac29-6d96c7127291"
      },
      "source": [
        "df.head()"
      ],
      "execution_count": 153,
      "outputs": [
        {
          "output_type": "execute_result",
          "data": {
            "text/html": [
              "<div>\n",
              "<style scoped>\n",
              "    .dataframe tbody tr th:only-of-type {\n",
              "        vertical-align: middle;\n",
              "    }\n",
              "\n",
              "    .dataframe tbody tr th {\n",
              "        vertical-align: top;\n",
              "    }\n",
              "\n",
              "    .dataframe thead th {\n",
              "        text-align: right;\n",
              "    }\n",
              "</style>\n",
              "<table border=\"1\" class=\"dataframe\">\n",
              "  <thead>\n",
              "    <tr style=\"text-align: right;\">\n",
              "      <th></th>\n",
              "      <th>队伍名称</th>\n",
              "      <th>队长编号</th>\n",
              "      <th>队长_群昵称</th>\n",
              "      <th>队员1 编号</th>\n",
              "      <th>队员_群昵称</th>\n",
              "      <th>队员2 编号</th>\n",
              "      <th>队员_群昵称.1</th>\n",
              "      <th>队员3 编号</th>\n",
              "      <th>队员_群昵称.2</th>\n",
              "      <th>队员4 编号</th>\n",
              "      <th>队员_群昵称.3</th>\n",
              "      <th>队员5 编号</th>\n",
              "      <th>队员_群昵称.4</th>\n",
              "      <th>队员6 编号</th>\n",
              "      <th>队员_群昵称.5</th>\n",
              "      <th>队员7 编号</th>\n",
              "      <th>队员_群昵称.6</th>\n",
              "      <th>队员8 编号</th>\n",
              "      <th>队员_群昵称.7</th>\n",
              "      <th>队员9 编号</th>\n",
              "      <th>队员_群昵称.8</th>\n",
              "      <th>队员10编号</th>\n",
              "      <th>队员_群昵称.9</th>\n",
              "    </tr>\n",
              "  </thead>\n",
              "  <tbody>\n",
              "    <tr>\n",
              "      <th>0</th>\n",
              "      <td>你说的都对队</td>\n",
              "      <td>5</td>\n",
              "      <td>山枫叶纷飞</td>\n",
              "      <td>6</td>\n",
              "      <td>蔡</td>\n",
              "      <td>7.0</td>\n",
              "      <td>安慕希</td>\n",
              "      <td>8.0</td>\n",
              "      <td>信仰</td>\n",
              "      <td>20.0</td>\n",
              "      <td>biubiu🙈🙈</td>\n",
              "      <td>NaN</td>\n",
              "      <td>NaN</td>\n",
              "      <td>NaN</td>\n",
              "      <td>NaN</td>\n",
              "      <td>NaN</td>\n",
              "      <td>NaN</td>\n",
              "      <td>NaN</td>\n",
              "      <td>NaN</td>\n",
              "      <td>NaN</td>\n",
              "      <td>NaN</td>\n",
              "      <td>NaN</td>\n",
              "      <td>NaN</td>\n",
              "    </tr>\n",
              "    <tr>\n",
              "      <th>1</th>\n",
              "      <td>熊猫人</td>\n",
              "      <td>175</td>\n",
              "      <td>鱼呲呲</td>\n",
              "      <td>44</td>\n",
              "      <td>Heaven</td>\n",
              "      <td>37.0</td>\n",
              "      <td>吕青</td>\n",
              "      <td>50.0</td>\n",
              "      <td>余柳成荫</td>\n",
              "      <td>82.0</td>\n",
              "      <td>Kuroe</td>\n",
              "      <td>60.0</td>\n",
              "      <td>啊翟翟</td>\n",
              "      <td>25.0</td>\n",
              "      <td>Never say never</td>\n",
              "      <td>55.0</td>\n",
              "      <td>K</td>\n",
              "      <td>120.0</td>\n",
              "      <td>Y.</td>\n",
              "      <td>28.0</td>\n",
              "      <td>X.Y.Q</td>\n",
              "      <td>151.0</td>\n",
              "      <td>swrong</td>\n",
              "    </tr>\n",
              "    <tr>\n",
              "      <th>2</th>\n",
              "      <td>中国移不动</td>\n",
              "      <td>107</td>\n",
              "      <td>Y's</td>\n",
              "      <td>124</td>\n",
              "      <td>🥕</td>\n",
              "      <td>75.0</td>\n",
              "      <td>Vito</td>\n",
              "      <td>146.0</td>\n",
              "      <td>张小五</td>\n",
              "      <td>186.0</td>\n",
              "      <td>Rain Forest</td>\n",
              "      <td>94.0</td>\n",
              "      <td>蓝齐儿</td>\n",
              "      <td>NaN</td>\n",
              "      <td>NaN</td>\n",
              "      <td>NaN</td>\n",
              "      <td>NaN</td>\n",
              "      <td>NaN</td>\n",
              "      <td>NaN</td>\n",
              "      <td>NaN</td>\n",
              "      <td>NaN</td>\n",
              "      <td>NaN</td>\n",
              "      <td>NaN</td>\n",
              "    </tr>\n",
              "    <tr>\n",
              "      <th>3</th>\n",
              "      <td>panda</td>\n",
              "      <td>11</td>\n",
              "      <td>太下真君</td>\n",
              "      <td>35</td>\n",
              "      <td>柚子</td>\n",
              "      <td>108.0</td>\n",
              "      <td>My</td>\n",
              "      <td>42.0</td>\n",
              "      <td>星星点灯</td>\n",
              "      <td>45.0</td>\n",
              "      <td>小茉莉~</td>\n",
              "      <td>121.0</td>\n",
              "      <td>什影</td>\n",
              "      <td>157.0</td>\n",
              "      <td>Zys</td>\n",
              "      <td>158.0</td>\n",
              "      <td>不器</td>\n",
              "      <td>102.0</td>\n",
              "      <td>嘉平佑染</td>\n",
              "      <td>NaN</td>\n",
              "      <td>NaN</td>\n",
              "      <td>NaN</td>\n",
              "      <td>NaN</td>\n",
              "    </tr>\n",
              "    <tr>\n",
              "      <th>4</th>\n",
              "      <td>一路向北</td>\n",
              "      <td>13</td>\n",
              "      <td>黄元帅</td>\n",
              "      <td>15</td>\n",
              "      <td>化</td>\n",
              "      <td>16.0</td>\n",
              "      <td>未期</td>\n",
              "      <td>18.0</td>\n",
              "      <td>太陽光下</td>\n",
              "      <td>19.0</td>\n",
              "      <td>李小葵</td>\n",
              "      <td>22.0</td>\n",
              "      <td>Tracey_chen</td>\n",
              "      <td>23.0</td>\n",
              "      <td>🚀</td>\n",
              "      <td>169.0</td>\n",
              "      <td>听风</td>\n",
              "      <td>189.0</td>\n",
              "      <td>Cappuccino</td>\n",
              "      <td>NaN</td>\n",
              "      <td>NaN</td>\n",
              "      <td>NaN</td>\n",
              "      <td>NaN</td>\n",
              "    </tr>\n",
              "  </tbody>\n",
              "</table>\n",
              "</div>"
            ],
            "text/plain": [
              "     队伍名称  队长编号  队长_群昵称  队员1 编号  ... 队员9 编号  队员_群昵称.8 队员10编号  队员_群昵称.9\n",
              "0  你说的都对队     5  山枫叶纷飞        6  ...    NaN       NaN    NaN       NaN\n",
              "1     熊猫人   175     鱼呲呲      44  ...   28.0     X.Y.Q  151.0    swrong\n",
              "2   中国移不动   107     Y's     124  ...    NaN       NaN    NaN       NaN\n",
              "3   panda    11    太下真君      35  ...    NaN       NaN    NaN       NaN\n",
              "4    一路向北    13     黄元帅      15  ...    NaN       NaN    NaN       NaN\n",
              "\n",
              "[5 rows x 23 columns]"
            ]
          },
          "metadata": {
            "tags": []
          },
          "execution_count": 153
        }
      ]
    },
    {
      "cell_type": "code",
      "metadata": {
        "id": "4R05v_TkIKgj"
      },
      "source": [
        "# 更改列名，方便转换\r\n",
        "col_1 = np.array(['队伍名称','编号_队长1','昵称_队长1'])\r\n",
        "col_2 = np.array([[f'编号_队员{i}', f'昵称_队员{i}']for i in range(1,11)]).flatten()\r\n",
        "df.columns = np.r_[col_1,col_2]"
      ],
      "execution_count": 158,
      "outputs": []
    },
    {
      "cell_type": "code",
      "metadata": {
        "colab": {
          "base_uri": "https://localhost:8080/",
          "height": 551
        },
        "id": "skeX-NR5IbSI",
        "outputId": "7d2cb5d2-a282-4166-add1-f86b35c1cdb6"
      },
      "source": [
        "df.head()"
      ],
      "execution_count": 159,
      "outputs": [
        {
          "output_type": "execute_result",
          "data": {
            "text/html": [
              "<div>\n",
              "<style scoped>\n",
              "    .dataframe tbody tr th:only-of-type {\n",
              "        vertical-align: middle;\n",
              "    }\n",
              "\n",
              "    .dataframe tbody tr th {\n",
              "        vertical-align: top;\n",
              "    }\n",
              "\n",
              "    .dataframe thead th {\n",
              "        text-align: right;\n",
              "    }\n",
              "</style>\n",
              "<table border=\"1\" class=\"dataframe\">\n",
              "  <thead>\n",
              "    <tr style=\"text-align: right;\">\n",
              "      <th></th>\n",
              "      <th>队伍名称</th>\n",
              "      <th>编号_队长1</th>\n",
              "      <th>昵称_队长1</th>\n",
              "      <th>编号_队员1</th>\n",
              "      <th>昵称_队员1</th>\n",
              "      <th>编号_队员2</th>\n",
              "      <th>昵称_队员2</th>\n",
              "      <th>编号_队员3</th>\n",
              "      <th>昵称_队员3</th>\n",
              "      <th>编号_队员4</th>\n",
              "      <th>昵称_队员4</th>\n",
              "      <th>编号_队员5</th>\n",
              "      <th>昵称_队员5</th>\n",
              "      <th>编号_队员6</th>\n",
              "      <th>昵称_队员6</th>\n",
              "      <th>编号_队员7</th>\n",
              "      <th>昵称_队员7</th>\n",
              "      <th>编号_队员8</th>\n",
              "      <th>昵称_队员8</th>\n",
              "      <th>编号_队员9</th>\n",
              "      <th>昵称_队员9</th>\n",
              "      <th>编号_队员10</th>\n",
              "      <th>昵称_队员10</th>\n",
              "    </tr>\n",
              "  </thead>\n",
              "  <tbody>\n",
              "    <tr>\n",
              "      <th>0</th>\n",
              "      <td>你说的都对队</td>\n",
              "      <td>5</td>\n",
              "      <td>山枫叶纷飞</td>\n",
              "      <td>6</td>\n",
              "      <td>蔡</td>\n",
              "      <td>7.0</td>\n",
              "      <td>安慕希</td>\n",
              "      <td>8.0</td>\n",
              "      <td>信仰</td>\n",
              "      <td>20.0</td>\n",
              "      <td>biubiu🙈🙈</td>\n",
              "      <td>NaN</td>\n",
              "      <td>NaN</td>\n",
              "      <td>NaN</td>\n",
              "      <td>NaN</td>\n",
              "      <td>NaN</td>\n",
              "      <td>NaN</td>\n",
              "      <td>NaN</td>\n",
              "      <td>NaN</td>\n",
              "      <td>NaN</td>\n",
              "      <td>NaN</td>\n",
              "      <td>NaN</td>\n",
              "      <td>NaN</td>\n",
              "    </tr>\n",
              "    <tr>\n",
              "      <th>1</th>\n",
              "      <td>熊猫人</td>\n",
              "      <td>175</td>\n",
              "      <td>鱼呲呲</td>\n",
              "      <td>44</td>\n",
              "      <td>Heaven</td>\n",
              "      <td>37.0</td>\n",
              "      <td>吕青</td>\n",
              "      <td>50.0</td>\n",
              "      <td>余柳成荫</td>\n",
              "      <td>82.0</td>\n",
              "      <td>Kuroe</td>\n",
              "      <td>60.0</td>\n",
              "      <td>啊翟翟</td>\n",
              "      <td>25.0</td>\n",
              "      <td>Never say never</td>\n",
              "      <td>55.0</td>\n",
              "      <td>K</td>\n",
              "      <td>120.0</td>\n",
              "      <td>Y.</td>\n",
              "      <td>28.0</td>\n",
              "      <td>X.Y.Q</td>\n",
              "      <td>151.0</td>\n",
              "      <td>swrong</td>\n",
              "    </tr>\n",
              "    <tr>\n",
              "      <th>2</th>\n",
              "      <td>中国移不动</td>\n",
              "      <td>107</td>\n",
              "      <td>Y's</td>\n",
              "      <td>124</td>\n",
              "      <td>🥕</td>\n",
              "      <td>75.0</td>\n",
              "      <td>Vito</td>\n",
              "      <td>146.0</td>\n",
              "      <td>张小五</td>\n",
              "      <td>186.0</td>\n",
              "      <td>Rain Forest</td>\n",
              "      <td>94.0</td>\n",
              "      <td>蓝齐儿</td>\n",
              "      <td>NaN</td>\n",
              "      <td>NaN</td>\n",
              "      <td>NaN</td>\n",
              "      <td>NaN</td>\n",
              "      <td>NaN</td>\n",
              "      <td>NaN</td>\n",
              "      <td>NaN</td>\n",
              "      <td>NaN</td>\n",
              "      <td>NaN</td>\n",
              "      <td>NaN</td>\n",
              "    </tr>\n",
              "    <tr>\n",
              "      <th>3</th>\n",
              "      <td>panda</td>\n",
              "      <td>11</td>\n",
              "      <td>太下真君</td>\n",
              "      <td>35</td>\n",
              "      <td>柚子</td>\n",
              "      <td>108.0</td>\n",
              "      <td>My</td>\n",
              "      <td>42.0</td>\n",
              "      <td>星星点灯</td>\n",
              "      <td>45.0</td>\n",
              "      <td>小茉莉~</td>\n",
              "      <td>121.0</td>\n",
              "      <td>什影</td>\n",
              "      <td>157.0</td>\n",
              "      <td>Zys</td>\n",
              "      <td>158.0</td>\n",
              "      <td>不器</td>\n",
              "      <td>102.0</td>\n",
              "      <td>嘉平佑染</td>\n",
              "      <td>NaN</td>\n",
              "      <td>NaN</td>\n",
              "      <td>NaN</td>\n",
              "      <td>NaN</td>\n",
              "    </tr>\n",
              "    <tr>\n",
              "      <th>4</th>\n",
              "      <td>一路向北</td>\n",
              "      <td>13</td>\n",
              "      <td>黄元帅</td>\n",
              "      <td>15</td>\n",
              "      <td>化</td>\n",
              "      <td>16.0</td>\n",
              "      <td>未期</td>\n",
              "      <td>18.0</td>\n",
              "      <td>太陽光下</td>\n",
              "      <td>19.0</td>\n",
              "      <td>李小葵</td>\n",
              "      <td>22.0</td>\n",
              "      <td>Tracey_chen</td>\n",
              "      <td>23.0</td>\n",
              "      <td>🚀</td>\n",
              "      <td>169.0</td>\n",
              "      <td>听风</td>\n",
              "      <td>189.0</td>\n",
              "      <td>Cappuccino</td>\n",
              "      <td>NaN</td>\n",
              "      <td>NaN</td>\n",
              "      <td>NaN</td>\n",
              "      <td>NaN</td>\n",
              "    </tr>\n",
              "  </tbody>\n",
              "</table>\n",
              "</div>"
            ],
            "text/plain": [
              "     队伍名称  编号_队长1  昵称_队长1  编号_队员1  ... 编号_队员9  昵称_队员9 编号_队员10  昵称_队员10\n",
              "0  你说的都对队       5  山枫叶纷飞        6  ...    NaN     NaN     NaN      NaN\n",
              "1     熊猫人     175     鱼呲呲      44  ...   28.0   X.Y.Q   151.0   swrong\n",
              "2   中国移不动     107     Y's     124  ...    NaN     NaN     NaN      NaN\n",
              "3   panda      11    太下真君      35  ...    NaN     NaN     NaN      NaN\n",
              "4    一路向北      13     黄元帅      15  ...    NaN     NaN     NaN      NaN\n",
              "\n",
              "[5 rows x 23 columns]"
            ]
          },
          "metadata": {
            "tags": []
          },
          "execution_count": 159
        }
      ]
    },
    {
      "cell_type": "code",
      "metadata": {
        "id": "91tKZ9GgGfSz"
      },
      "source": [
        "res = pd.wide_to_long(df.reset_index(),\r\n",
        "            stubnames = ['昵称','编号'],\r\n",
        "            i = ['index','队伍名称'],\r\n",
        "            j = '是否队长',\r\n",
        "            sep = '_',\r\n",
        "            suffix = '.+').dropna().reset_index().drop(columns='index')\r\n"
      ],
      "execution_count": 160,
      "outputs": []
    },
    {
      "cell_type": "code",
      "metadata": {
        "colab": {
          "base_uri": "https://localhost:8080/",
          "height": 407
        },
        "id": "FuhGaGy4HjwS",
        "outputId": "99dda65c-4c48-4515-d889-5c69d962d719"
      },
      "source": [
        "res"
      ],
      "execution_count": 161,
      "outputs": [
        {
          "output_type": "execute_result",
          "data": {
            "text/html": [
              "<div>\n",
              "<style scoped>\n",
              "    .dataframe tbody tr th:only-of-type {\n",
              "        vertical-align: middle;\n",
              "    }\n",
              "\n",
              "    .dataframe tbody tr th {\n",
              "        vertical-align: top;\n",
              "    }\n",
              "\n",
              "    .dataframe thead th {\n",
              "        text-align: right;\n",
              "    }\n",
              "</style>\n",
              "<table border=\"1\" class=\"dataframe\">\n",
              "  <thead>\n",
              "    <tr style=\"text-align: right;\">\n",
              "      <th></th>\n",
              "      <th>队伍名称</th>\n",
              "      <th>是否队长</th>\n",
              "      <th>昵称</th>\n",
              "      <th>编号</th>\n",
              "    </tr>\n",
              "  </thead>\n",
              "  <tbody>\n",
              "    <tr>\n",
              "      <th>0</th>\n",
              "      <td>你说的都对队</td>\n",
              "      <td>队长1</td>\n",
              "      <td>山枫叶纷飞</td>\n",
              "      <td>5.0</td>\n",
              "    </tr>\n",
              "    <tr>\n",
              "      <th>1</th>\n",
              "      <td>你说的都对队</td>\n",
              "      <td>队员1</td>\n",
              "      <td>蔡</td>\n",
              "      <td>6.0</td>\n",
              "    </tr>\n",
              "    <tr>\n",
              "      <th>2</th>\n",
              "      <td>你说的都对队</td>\n",
              "      <td>队员2</td>\n",
              "      <td>安慕希</td>\n",
              "      <td>7.0</td>\n",
              "    </tr>\n",
              "    <tr>\n",
              "      <th>3</th>\n",
              "      <td>你说的都对队</td>\n",
              "      <td>队员3</td>\n",
              "      <td>信仰</td>\n",
              "      <td>8.0</td>\n",
              "    </tr>\n",
              "    <tr>\n",
              "      <th>4</th>\n",
              "      <td>你说的都对队</td>\n",
              "      <td>队员4</td>\n",
              "      <td>biubiu🙈🙈</td>\n",
              "      <td>20.0</td>\n",
              "    </tr>\n",
              "    <tr>\n",
              "      <th>...</th>\n",
              "      <td>...</td>\n",
              "      <td>...</td>\n",
              "      <td>...</td>\n",
              "      <td>...</td>\n",
              "    </tr>\n",
              "    <tr>\n",
              "      <th>141</th>\n",
              "      <td>七星联盟</td>\n",
              "      <td>队员4</td>\n",
              "      <td>Daisy</td>\n",
              "      <td>63.0</td>\n",
              "    </tr>\n",
              "    <tr>\n",
              "      <th>142</th>\n",
              "      <td>七星联盟</td>\n",
              "      <td>队员5</td>\n",
              "      <td>One Better</td>\n",
              "      <td>131.0</td>\n",
              "    </tr>\n",
              "    <tr>\n",
              "      <th>143</th>\n",
              "      <td>七星联盟</td>\n",
              "      <td>队员6</td>\n",
              "      <td>rain</td>\n",
              "      <td>112.0</td>\n",
              "    </tr>\n",
              "    <tr>\n",
              "      <th>144</th>\n",
              "      <td>应如是</td>\n",
              "      <td>队长1</td>\n",
              "      <td>思无邪</td>\n",
              "      <td>54.0</td>\n",
              "    </tr>\n",
              "    <tr>\n",
              "      <th>145</th>\n",
              "      <td>应如是</td>\n",
              "      <td>队员1</td>\n",
              "      <td>Justzer0</td>\n",
              "      <td>58.0</td>\n",
              "    </tr>\n",
              "  </tbody>\n",
              "</table>\n",
              "<p>146 rows × 4 columns</p>\n",
              "</div>"
            ],
            "text/plain": [
              "       队伍名称 是否队长          昵称     编号\n",
              "0    你说的都对队  队长1      山枫叶纷飞     5.0\n",
              "1    你说的都对队  队员1          蔡     6.0\n",
              "2    你说的都对队  队员2        安慕希     7.0\n",
              "3    你说的都对队  队员3          信仰    8.0\n",
              "4    你说的都对队  队员4    biubiu🙈🙈   20.0\n",
              "..      ...  ...         ...    ...\n",
              "141    七星联盟  队员4       Daisy   63.0\n",
              "142    七星联盟  队员5  One Better  131.0\n",
              "143    七星联盟  队员6        rain  112.0\n",
              "144     应如是  队长1         思无邪   54.0\n",
              "145     应如是  队员1    Justzer0   58.0\n",
              "\n",
              "[146 rows x 4 columns]"
            ]
          },
          "metadata": {
            "tags": []
          },
          "execution_count": 161
        }
      ]
    },
    {
      "cell_type": "code",
      "metadata": {
        "id": "3i-AChWOHlAC"
      },
      "source": [
        "# res['tem'] = res['是否队长'].apply(lambda x:x)\r\n",
        "res['tem'] = res.apply(lambda x: 1 if x['是否队长']==\"队长1\" else 0, axis=1)"
      ],
      "execution_count": 165,
      "outputs": []
    },
    {
      "cell_type": "code",
      "metadata": {
        "colab": {
          "base_uri": "https://localhost:8080/",
          "height": 407
        },
        "id": "PUlbCbkYJEvM",
        "outputId": "071b1333-427c-425d-b963-dcdc1f6a2dae"
      },
      "source": [
        "res['是否队长'] = res['tem']\r\n",
        "res.drop(columns='tem', inplace=True)\r\n",
        "res\r\n"
      ],
      "execution_count": 167,
      "outputs": [
        {
          "output_type": "execute_result",
          "data": {
            "text/html": [
              "<div>\n",
              "<style scoped>\n",
              "    .dataframe tbody tr th:only-of-type {\n",
              "        vertical-align: middle;\n",
              "    }\n",
              "\n",
              "    .dataframe tbody tr th {\n",
              "        vertical-align: top;\n",
              "    }\n",
              "\n",
              "    .dataframe thead th {\n",
              "        text-align: right;\n",
              "    }\n",
              "</style>\n",
              "<table border=\"1\" class=\"dataframe\">\n",
              "  <thead>\n",
              "    <tr style=\"text-align: right;\">\n",
              "      <th></th>\n",
              "      <th>队伍名称</th>\n",
              "      <th>是否队长</th>\n",
              "      <th>昵称</th>\n",
              "      <th>编号</th>\n",
              "    </tr>\n",
              "  </thead>\n",
              "  <tbody>\n",
              "    <tr>\n",
              "      <th>0</th>\n",
              "      <td>你说的都对队</td>\n",
              "      <td>1</td>\n",
              "      <td>山枫叶纷飞</td>\n",
              "      <td>5.0</td>\n",
              "    </tr>\n",
              "    <tr>\n",
              "      <th>1</th>\n",
              "      <td>你说的都对队</td>\n",
              "      <td>0</td>\n",
              "      <td>蔡</td>\n",
              "      <td>6.0</td>\n",
              "    </tr>\n",
              "    <tr>\n",
              "      <th>2</th>\n",
              "      <td>你说的都对队</td>\n",
              "      <td>0</td>\n",
              "      <td>安慕希</td>\n",
              "      <td>7.0</td>\n",
              "    </tr>\n",
              "    <tr>\n",
              "      <th>3</th>\n",
              "      <td>你说的都对队</td>\n",
              "      <td>0</td>\n",
              "      <td>信仰</td>\n",
              "      <td>8.0</td>\n",
              "    </tr>\n",
              "    <tr>\n",
              "      <th>4</th>\n",
              "      <td>你说的都对队</td>\n",
              "      <td>0</td>\n",
              "      <td>biubiu🙈🙈</td>\n",
              "      <td>20.0</td>\n",
              "    </tr>\n",
              "    <tr>\n",
              "      <th>...</th>\n",
              "      <td>...</td>\n",
              "      <td>...</td>\n",
              "      <td>...</td>\n",
              "      <td>...</td>\n",
              "    </tr>\n",
              "    <tr>\n",
              "      <th>141</th>\n",
              "      <td>七星联盟</td>\n",
              "      <td>0</td>\n",
              "      <td>Daisy</td>\n",
              "      <td>63.0</td>\n",
              "    </tr>\n",
              "    <tr>\n",
              "      <th>142</th>\n",
              "      <td>七星联盟</td>\n",
              "      <td>0</td>\n",
              "      <td>One Better</td>\n",
              "      <td>131.0</td>\n",
              "    </tr>\n",
              "    <tr>\n",
              "      <th>143</th>\n",
              "      <td>七星联盟</td>\n",
              "      <td>0</td>\n",
              "      <td>rain</td>\n",
              "      <td>112.0</td>\n",
              "    </tr>\n",
              "    <tr>\n",
              "      <th>144</th>\n",
              "      <td>应如是</td>\n",
              "      <td>1</td>\n",
              "      <td>思无邪</td>\n",
              "      <td>54.0</td>\n",
              "    </tr>\n",
              "    <tr>\n",
              "      <th>145</th>\n",
              "      <td>应如是</td>\n",
              "      <td>0</td>\n",
              "      <td>Justzer0</td>\n",
              "      <td>58.0</td>\n",
              "    </tr>\n",
              "  </tbody>\n",
              "</table>\n",
              "<p>146 rows × 4 columns</p>\n",
              "</div>"
            ],
            "text/plain": [
              "       队伍名称  是否队长          昵称     编号\n",
              "0    你说的都对队     1      山枫叶纷飞     5.0\n",
              "1    你说的都对队     0          蔡     6.0\n",
              "2    你说的都对队     0        安慕希     7.0\n",
              "3    你说的都对队     0          信仰    8.0\n",
              "4    你说的都对队     0    biubiu🙈🙈   20.0\n",
              "..      ...   ...         ...    ...\n",
              "141    七星联盟     0       Daisy   63.0\n",
              "142    七星联盟     0  One Better  131.0\n",
              "143    七星联盟     0        rain  112.0\n",
              "144     应如是     1         思无邪   54.0\n",
              "145     应如是     0    Justzer0   58.0\n",
              "\n",
              "[146 rows x 4 columns]"
            ]
          },
          "metadata": {
            "tags": []
          },
          "execution_count": 167
        }
      ]
    },
    {
      "cell_type": "code",
      "metadata": {
        "id": "f_tHaIBkKX64"
      },
      "source": [
        ""
      ],
      "execution_count": null,
      "outputs": []
    },
    {
      "cell_type": "markdown",
      "metadata": {
        "id": "I5a04UOZKwXx"
      },
      "source": [
        "#### 任务三 \r\n",
        "美国大选投票情况\r\n",
        "\r\n",
        "【题目描述】两张数据表中分别给出了美国各县（county）的人口数以及大选的投票情况，请解决以下问题：\r\n",
        "\r\n",
        "有多少县满足总投票数超过县人口数的一半\r\n",
        "把州（state）作为行索引，把投票候选人作为列名，列名的顺序按照候选人在全美的总票数由高到低排序，行列对应的元素为该候选人在该州获得的总票数\r\n",
        "```\r\n",
        "# 此处是一个样例，实际的州或人名用原表的英语代替\r\n",
        "            拜登   川普\r\n",
        "威斯康星州   2      1\r\n",
        "德克萨斯州   3      4\r\n",
        "```\r\n",
        "每一个州下设若干县，定义拜登在该县的得票率减去川普在该县的得票率为该县的BT指标，若某个州所有县BT指标的中位数大于0，则称该州为Biden State，请找出所有的Biden State"
      ]
    },
    {
      "cell_type": "code",
      "metadata": {
        "id": "4M8qztrhK31c"
      },
      "source": [
        "df_can = pd.read_csv('president_county_candidate.csv')\r\n",
        "df_popu = pd.read_csv('county_population.csv')"
      ],
      "execution_count": 177,
      "outputs": []
    },
    {
      "cell_type": "code",
      "metadata": {
        "colab": {
          "base_uri": "https://localhost:8080/",
          "height": 197
        },
        "id": "xDqY36DaL9Sv",
        "outputId": "d263ba4b-f75b-4a32-d8ad-bdf49ac4fa2e"
      },
      "source": [
        "df_can.head()"
      ],
      "execution_count": 170,
      "outputs": [
        {
          "output_type": "execute_result",
          "data": {
            "text/html": [
              "<div>\n",
              "<style scoped>\n",
              "    .dataframe tbody tr th:only-of-type {\n",
              "        vertical-align: middle;\n",
              "    }\n",
              "\n",
              "    .dataframe tbody tr th {\n",
              "        vertical-align: top;\n",
              "    }\n",
              "\n",
              "    .dataframe thead th {\n",
              "        text-align: right;\n",
              "    }\n",
              "</style>\n",
              "<table border=\"1\" class=\"dataframe\">\n",
              "  <thead>\n",
              "    <tr style=\"text-align: right;\">\n",
              "      <th></th>\n",
              "      <th>state</th>\n",
              "      <th>county</th>\n",
              "      <th>candidate</th>\n",
              "      <th>party</th>\n",
              "      <th>total_votes</th>\n",
              "      <th>won</th>\n",
              "    </tr>\n",
              "  </thead>\n",
              "  <tbody>\n",
              "    <tr>\n",
              "      <th>0</th>\n",
              "      <td>Delaware</td>\n",
              "      <td>Kent County</td>\n",
              "      <td>Joe Biden</td>\n",
              "      <td>DEM</td>\n",
              "      <td>44552</td>\n",
              "      <td>True</td>\n",
              "    </tr>\n",
              "    <tr>\n",
              "      <th>1</th>\n",
              "      <td>Delaware</td>\n",
              "      <td>Kent County</td>\n",
              "      <td>Donald Trump</td>\n",
              "      <td>REP</td>\n",
              "      <td>41009</td>\n",
              "      <td>False</td>\n",
              "    </tr>\n",
              "    <tr>\n",
              "      <th>2</th>\n",
              "      <td>Delaware</td>\n",
              "      <td>Kent County</td>\n",
              "      <td>Jo Jorgensen</td>\n",
              "      <td>LIB</td>\n",
              "      <td>1044</td>\n",
              "      <td>False</td>\n",
              "    </tr>\n",
              "    <tr>\n",
              "      <th>3</th>\n",
              "      <td>Delaware</td>\n",
              "      <td>Kent County</td>\n",
              "      <td>Howie Hawkins</td>\n",
              "      <td>GRN</td>\n",
              "      <td>420</td>\n",
              "      <td>False</td>\n",
              "    </tr>\n",
              "    <tr>\n",
              "      <th>4</th>\n",
              "      <td>Delaware</td>\n",
              "      <td>New Castle County</td>\n",
              "      <td>Joe Biden</td>\n",
              "      <td>DEM</td>\n",
              "      <td>195034</td>\n",
              "      <td>True</td>\n",
              "    </tr>\n",
              "  </tbody>\n",
              "</table>\n",
              "</div>"
            ],
            "text/plain": [
              "      state             county      candidate party  total_votes    won\n",
              "0  Delaware        Kent County      Joe Biden   DEM        44552   True\n",
              "1  Delaware        Kent County   Donald Trump   REP        41009  False\n",
              "2  Delaware        Kent County   Jo Jorgensen   LIB         1044  False\n",
              "3  Delaware        Kent County  Howie Hawkins   GRN          420  False\n",
              "4  Delaware  New Castle County      Joe Biden   DEM       195034   True"
            ]
          },
          "metadata": {
            "tags": []
          },
          "execution_count": 170
        }
      ]
    },
    {
      "cell_type": "code",
      "metadata": {
        "colab": {
          "base_uri": "https://localhost:8080/",
          "height": 197
        },
        "id": "lP16TUZ7L_6I",
        "outputId": "10c7bf2c-636e-4956-c2f8-f4fd3a3d26b9"
      },
      "source": [
        "df_popu.head()"
      ],
      "execution_count": 171,
      "outputs": [
        {
          "output_type": "execute_result",
          "data": {
            "text/html": [
              "<div>\n",
              "<style scoped>\n",
              "    .dataframe tbody tr th:only-of-type {\n",
              "        vertical-align: middle;\n",
              "    }\n",
              "\n",
              "    .dataframe tbody tr th {\n",
              "        vertical-align: top;\n",
              "    }\n",
              "\n",
              "    .dataframe thead th {\n",
              "        text-align: right;\n",
              "    }\n",
              "</style>\n",
              "<table border=\"1\" class=\"dataframe\">\n",
              "  <thead>\n",
              "    <tr style=\"text-align: right;\">\n",
              "      <th></th>\n",
              "      <th>US County</th>\n",
              "      <th>Population</th>\n",
              "    </tr>\n",
              "  </thead>\n",
              "  <tbody>\n",
              "    <tr>\n",
              "      <th>0</th>\n",
              "      <td>.Autauga County, Alabama</td>\n",
              "      <td>55869</td>\n",
              "    </tr>\n",
              "    <tr>\n",
              "      <th>1</th>\n",
              "      <td>.Baldwin County, Alabama</td>\n",
              "      <td>223234</td>\n",
              "    </tr>\n",
              "    <tr>\n",
              "      <th>2</th>\n",
              "      <td>.Barbour County, Alabama</td>\n",
              "      <td>24686</td>\n",
              "    </tr>\n",
              "    <tr>\n",
              "      <th>3</th>\n",
              "      <td>.Bibb County, Alabama</td>\n",
              "      <td>22394</td>\n",
              "    </tr>\n",
              "    <tr>\n",
              "      <th>4</th>\n",
              "      <td>.Blount County, Alabama</td>\n",
              "      <td>57826</td>\n",
              "    </tr>\n",
              "  </tbody>\n",
              "</table>\n",
              "</div>"
            ],
            "text/plain": [
              "                  US County  Population\n",
              "0  .Autauga County, Alabama       55869\n",
              "1  .Baldwin County, Alabama      223234\n",
              "2  .Barbour County, Alabama       24686\n",
              "3     .Bibb County, Alabama       22394\n",
              "4   .Blount County, Alabama       57826"
            ]
          },
          "metadata": {
            "tags": []
          },
          "execution_count": 171
        }
      ]
    },
    {
      "cell_type": "code",
      "metadata": {
        "colab": {
          "base_uri": "https://localhost:8080/"
        },
        "id": "cHnoXo7XMDdJ",
        "outputId": "b77badca-5de8-4341-f9e3-1a58f9cc7d86"
      },
      "source": [
        "# 1. 有多少县满足总投票数超过县人口数的一半\r\n",
        "\r\n",
        "# 将US country中数据按照逗号分隔开\r\n",
        "df_popu[['county','state']]=df_popu['US County'].str.split(', ',expand=True)\r\n",
        "# 去掉额外的符号\r\n",
        "df_popu['county'] = df_popu['county'].str.replace('.','')\r\n",
        "total_votes = df_can.groupby(['county','state'])['total_votes'].sum().to_frame()\r\n",
        "total_votes = total_votes.reset_index()\r\n",
        "res = total_votes.merge(df_popu,on=['county','state'],how='left')\r\n",
        "res = res.fillna(0)\r\n",
        "res[res['total_votes']>(res['Population']/2)].count()"
      ],
      "execution_count": 176,
      "outputs": [
        {
          "output_type": "execute_result",
          "data": {
            "text/plain": [
              "county         3033\n",
              "state          3033\n",
              "total_votes    3033\n",
              "US County      3033\n",
              "Population     3033\n",
              "dtype: int64"
            ]
          },
          "metadata": {
            "tags": []
          },
          "execution_count": 176
        }
      ]
    },
    {
      "cell_type": "code",
      "metadata": {
        "colab": {
          "base_uri": "https://localhost:8080/",
          "height": 197
        },
        "id": "xpoknfnkOCky",
        "outputId": "345406c7-9947-4591-fe29-c6c07939c1ae"
      },
      "source": [
        "df_can.head()"
      ],
      "execution_count": 180,
      "outputs": [
        {
          "output_type": "execute_result",
          "data": {
            "text/html": [
              "<div>\n",
              "<style scoped>\n",
              "    .dataframe tbody tr th:only-of-type {\n",
              "        vertical-align: middle;\n",
              "    }\n",
              "\n",
              "    .dataframe tbody tr th {\n",
              "        vertical-align: top;\n",
              "    }\n",
              "\n",
              "    .dataframe thead th {\n",
              "        text-align: right;\n",
              "    }\n",
              "</style>\n",
              "<table border=\"1\" class=\"dataframe\">\n",
              "  <thead>\n",
              "    <tr style=\"text-align: right;\">\n",
              "      <th></th>\n",
              "      <th>state</th>\n",
              "      <th>county</th>\n",
              "      <th>candidate</th>\n",
              "      <th>party</th>\n",
              "      <th>total_votes</th>\n",
              "      <th>won</th>\n",
              "    </tr>\n",
              "  </thead>\n",
              "  <tbody>\n",
              "    <tr>\n",
              "      <th>0</th>\n",
              "      <td>Delaware</td>\n",
              "      <td>Kent County</td>\n",
              "      <td>Joe Biden</td>\n",
              "      <td>DEM</td>\n",
              "      <td>44552</td>\n",
              "      <td>True</td>\n",
              "    </tr>\n",
              "    <tr>\n",
              "      <th>1</th>\n",
              "      <td>Delaware</td>\n",
              "      <td>Kent County</td>\n",
              "      <td>Donald Trump</td>\n",
              "      <td>REP</td>\n",
              "      <td>41009</td>\n",
              "      <td>False</td>\n",
              "    </tr>\n",
              "    <tr>\n",
              "      <th>2</th>\n",
              "      <td>Delaware</td>\n",
              "      <td>Kent County</td>\n",
              "      <td>Jo Jorgensen</td>\n",
              "      <td>LIB</td>\n",
              "      <td>1044</td>\n",
              "      <td>False</td>\n",
              "    </tr>\n",
              "    <tr>\n",
              "      <th>3</th>\n",
              "      <td>Delaware</td>\n",
              "      <td>Kent County</td>\n",
              "      <td>Howie Hawkins</td>\n",
              "      <td>GRN</td>\n",
              "      <td>420</td>\n",
              "      <td>False</td>\n",
              "    </tr>\n",
              "    <tr>\n",
              "      <th>4</th>\n",
              "      <td>Delaware</td>\n",
              "      <td>New Castle County</td>\n",
              "      <td>Joe Biden</td>\n",
              "      <td>DEM</td>\n",
              "      <td>195034</td>\n",
              "      <td>True</td>\n",
              "    </tr>\n",
              "  </tbody>\n",
              "</table>\n",
              "</div>"
            ],
            "text/plain": [
              "      state             county      candidate party  total_votes    won\n",
              "0  Delaware        Kent County      Joe Biden   DEM        44552   True\n",
              "1  Delaware        Kent County   Donald Trump   REP        41009  False\n",
              "2  Delaware        Kent County   Jo Jorgensen   LIB         1044  False\n",
              "3  Delaware        Kent County  Howie Hawkins   GRN          420  False\n",
              "4  Delaware  New Castle County      Joe Biden   DEM       195034   True"
            ]
          },
          "metadata": {
            "tags": []
          },
          "execution_count": 180
        }
      ]
    },
    {
      "cell_type": "code",
      "metadata": {
        "colab": {
          "base_uri": "https://localhost:8080/",
          "height": 281
        },
        "id": "tKprxbkbMuXg",
        "outputId": "c956a0f5-f3f8-4c0e-f23f-eec76881ed81"
      },
      "source": [
        "# 2. 把州（state）作为行索引，把投票候选人作为列名，\r\n",
        "# 列名的顺序按照候选人在全美的总票数由高到低排序，行列对应的元素为该候选人在该州获得的总票数\r\n",
        "\r\n",
        "\r\n",
        "# 长表变宽表\r\n",
        "# 因为有重复值，所以需要使用pivot_table\r\n",
        "res = df_can.pivot_table(index='state',columns='candidate',values='total_votes',aggfunc='sum')\r\n",
        "res = res.fillna(0)\r\n",
        "\r\n",
        "# 重命名列名\r\n",
        "columns_name = res.sum(0).sort_values(ascending=False).index.tolist()\r\n",
        "result = res.reindex(index=res.index, columns=columns_name)\r\n",
        "result.head()"
      ],
      "execution_count": 182,
      "outputs": [
        {
          "output_type": "execute_result",
          "data": {
            "text/html": [
              "<div>\n",
              "<style scoped>\n",
              "    .dataframe tbody tr th:only-of-type {\n",
              "        vertical-align: middle;\n",
              "    }\n",
              "\n",
              "    .dataframe tbody tr th {\n",
              "        vertical-align: top;\n",
              "    }\n",
              "\n",
              "    .dataframe thead th {\n",
              "        text-align: right;\n",
              "    }\n",
              "</style>\n",
              "<table border=\"1\" class=\"dataframe\">\n",
              "  <thead>\n",
              "    <tr style=\"text-align: right;\">\n",
              "      <th>candidate</th>\n",
              "      <th>Joe Biden</th>\n",
              "      <th>Donald Trump</th>\n",
              "      <th>Jo Jorgensen</th>\n",
              "      <th>Howie Hawkins</th>\n",
              "      <th>Write-ins</th>\n",
              "      <th>Rocky De La Fuente</th>\n",
              "      <th>Gloria La Riva</th>\n",
              "      <th>Kanye West</th>\n",
              "      <th>Don Blankenship</th>\n",
              "      <th>Brock Pierce</th>\n",
              "      <th>Brian Carroll</th>\n",
              "      <th>None of these candidates</th>\n",
              "      <th>Alyson Kennedy</th>\n",
              "      <th>Bill Hammons</th>\n",
              "      <th>Jerome Segal</th>\n",
              "      <th>Dario Hunter</th>\n",
              "      <th>Jade Simmons</th>\n",
              "      <th>Phil Collins</th>\n",
              "      <th>Joe McHugh</th>\n",
              "      <th>Jesse Ventura</th>\n",
              "      <th>Mark Charles</th>\n",
              "      <th>Sheila Samm Tittle</th>\n",
              "      <th>Connie Gammon</th>\n",
              "      <th>John Richard Myers</th>\n",
              "      <th>Brooke Paige</th>\n",
              "      <th>President Boddie</th>\n",
              "      <th>Christopher LaFontaine</th>\n",
              "      <th>Kyle Kopitke</th>\n",
              "      <th>Tom Hoefling</th>\n",
              "      <th>Ricki Sue King</th>\n",
              "      <th>Princess Jacob-Fambro</th>\n",
              "      <th>Blake Huber</th>\n",
              "      <th>Richard Duncan</th>\n",
              "      <th>Joseph Kishore</th>\n",
              "      <th>Jordan Scott</th>\n",
              "      <th>Gary Swing</th>\n",
              "      <th>Keith McCormic</th>\n",
              "      <th>Zachary Scalf</th>\n",
              "    </tr>\n",
              "    <tr>\n",
              "      <th>state</th>\n",
              "      <th></th>\n",
              "      <th></th>\n",
              "      <th></th>\n",
              "      <th></th>\n",
              "      <th></th>\n",
              "      <th></th>\n",
              "      <th></th>\n",
              "      <th></th>\n",
              "      <th></th>\n",
              "      <th></th>\n",
              "      <th></th>\n",
              "      <th></th>\n",
              "      <th></th>\n",
              "      <th></th>\n",
              "      <th></th>\n",
              "      <th></th>\n",
              "      <th></th>\n",
              "      <th></th>\n",
              "      <th></th>\n",
              "      <th></th>\n",
              "      <th></th>\n",
              "      <th></th>\n",
              "      <th></th>\n",
              "      <th></th>\n",
              "      <th></th>\n",
              "      <th></th>\n",
              "      <th></th>\n",
              "      <th></th>\n",
              "      <th></th>\n",
              "      <th></th>\n",
              "      <th></th>\n",
              "      <th></th>\n",
              "      <th></th>\n",
              "      <th></th>\n",
              "      <th></th>\n",
              "      <th></th>\n",
              "      <th></th>\n",
              "      <th></th>\n",
              "    </tr>\n",
              "  </thead>\n",
              "  <tbody>\n",
              "    <tr>\n",
              "      <th>Alabama</th>\n",
              "      <td>849648.0</td>\n",
              "      <td>1441168.0</td>\n",
              "      <td>25176.0</td>\n",
              "      <td>0.0</td>\n",
              "      <td>7312.0</td>\n",
              "      <td>0.0</td>\n",
              "      <td>0.0</td>\n",
              "      <td>0.0</td>\n",
              "      <td>0.0</td>\n",
              "      <td>0.0</td>\n",
              "      <td>0.0</td>\n",
              "      <td>0.0</td>\n",
              "      <td>0.0</td>\n",
              "      <td>0.0</td>\n",
              "      <td>0.0</td>\n",
              "      <td>0.0</td>\n",
              "      <td>0.0</td>\n",
              "      <td>0.0</td>\n",
              "      <td>0.0</td>\n",
              "      <td>0.0</td>\n",
              "      <td>0.0</td>\n",
              "      <td>0.0</td>\n",
              "      <td>0.0</td>\n",
              "      <td>0.0</td>\n",
              "      <td>0.0</td>\n",
              "      <td>0.0</td>\n",
              "      <td>0.0</td>\n",
              "      <td>0.0</td>\n",
              "      <td>0.0</td>\n",
              "      <td>0.0</td>\n",
              "      <td>0.0</td>\n",
              "      <td>0.0</td>\n",
              "      <td>0.0</td>\n",
              "      <td>0.0</td>\n",
              "      <td>0.0</td>\n",
              "      <td>0.0</td>\n",
              "      <td>0.0</td>\n",
              "      <td>0.0</td>\n",
              "    </tr>\n",
              "    <tr>\n",
              "      <th>Alaska</th>\n",
              "      <td>153405.0</td>\n",
              "      <td>189892.0</td>\n",
              "      <td>8896.0</td>\n",
              "      <td>0.0</td>\n",
              "      <td>34210.0</td>\n",
              "      <td>318.0</td>\n",
              "      <td>0.0</td>\n",
              "      <td>0.0</td>\n",
              "      <td>1127.0</td>\n",
              "      <td>825.0</td>\n",
              "      <td>0.0</td>\n",
              "      <td>0.0</td>\n",
              "      <td>0.0</td>\n",
              "      <td>0.0</td>\n",
              "      <td>0.0</td>\n",
              "      <td>0.0</td>\n",
              "      <td>0.0</td>\n",
              "      <td>0.0</td>\n",
              "      <td>0.0</td>\n",
              "      <td>2673.0</td>\n",
              "      <td>0.0</td>\n",
              "      <td>0.0</td>\n",
              "      <td>0.0</td>\n",
              "      <td>0.0</td>\n",
              "      <td>0.0</td>\n",
              "      <td>0.0</td>\n",
              "      <td>0.0</td>\n",
              "      <td>0.0</td>\n",
              "      <td>0.0</td>\n",
              "      <td>0.0</td>\n",
              "      <td>0.0</td>\n",
              "      <td>0.0</td>\n",
              "      <td>0.0</td>\n",
              "      <td>0.0</td>\n",
              "      <td>0.0</td>\n",
              "      <td>0.0</td>\n",
              "      <td>0.0</td>\n",
              "      <td>0.0</td>\n",
              "    </tr>\n",
              "    <tr>\n",
              "      <th>Arizona</th>\n",
              "      <td>1672143.0</td>\n",
              "      <td>1661686.0</td>\n",
              "      <td>51465.0</td>\n",
              "      <td>0.0</td>\n",
              "      <td>2032.0</td>\n",
              "      <td>0.0</td>\n",
              "      <td>0.0</td>\n",
              "      <td>0.0</td>\n",
              "      <td>0.0</td>\n",
              "      <td>0.0</td>\n",
              "      <td>0.0</td>\n",
              "      <td>0.0</td>\n",
              "      <td>0.0</td>\n",
              "      <td>0.0</td>\n",
              "      <td>0.0</td>\n",
              "      <td>0.0</td>\n",
              "      <td>0.0</td>\n",
              "      <td>0.0</td>\n",
              "      <td>0.0</td>\n",
              "      <td>0.0</td>\n",
              "      <td>0.0</td>\n",
              "      <td>0.0</td>\n",
              "      <td>0.0</td>\n",
              "      <td>0.0</td>\n",
              "      <td>0.0</td>\n",
              "      <td>0.0</td>\n",
              "      <td>0.0</td>\n",
              "      <td>0.0</td>\n",
              "      <td>0.0</td>\n",
              "      <td>0.0</td>\n",
              "      <td>0.0</td>\n",
              "      <td>0.0</td>\n",
              "      <td>0.0</td>\n",
              "      <td>0.0</td>\n",
              "      <td>0.0</td>\n",
              "      <td>0.0</td>\n",
              "      <td>0.0</td>\n",
              "      <td>0.0</td>\n",
              "    </tr>\n",
              "    <tr>\n",
              "      <th>Arkansas</th>\n",
              "      <td>423932.0</td>\n",
              "      <td>760647.0</td>\n",
              "      <td>13133.0</td>\n",
              "      <td>2980.0</td>\n",
              "      <td>0.0</td>\n",
              "      <td>1321.0</td>\n",
              "      <td>1336.0</td>\n",
              "      <td>4099.0</td>\n",
              "      <td>2108.0</td>\n",
              "      <td>2141.0</td>\n",
              "      <td>1713.0</td>\n",
              "      <td>0.0</td>\n",
              "      <td>0.0</td>\n",
              "      <td>0.0</td>\n",
              "      <td>0.0</td>\n",
              "      <td>0.0</td>\n",
              "      <td>0.0</td>\n",
              "      <td>2812.0</td>\n",
              "      <td>0.0</td>\n",
              "      <td>0.0</td>\n",
              "      <td>0.0</td>\n",
              "      <td>0.0</td>\n",
              "      <td>1475.0</td>\n",
              "      <td>1372.0</td>\n",
              "      <td>0.0</td>\n",
              "      <td>0.0</td>\n",
              "      <td>0.0</td>\n",
              "      <td>0.0</td>\n",
              "      <td>0.0</td>\n",
              "      <td>0.0</td>\n",
              "      <td>0.0</td>\n",
              "      <td>0.0</td>\n",
              "      <td>0.0</td>\n",
              "      <td>0.0</td>\n",
              "      <td>0.0</td>\n",
              "      <td>0.0</td>\n",
              "      <td>0.0</td>\n",
              "      <td>0.0</td>\n",
              "    </tr>\n",
              "    <tr>\n",
              "      <th>California</th>\n",
              "      <td>11109764.0</td>\n",
              "      <td>6005961.0</td>\n",
              "      <td>187885.0</td>\n",
              "      <td>81025.0</td>\n",
              "      <td>80.0</td>\n",
              "      <td>60155.0</td>\n",
              "      <td>51036.0</td>\n",
              "      <td>0.0</td>\n",
              "      <td>0.0</td>\n",
              "      <td>0.0</td>\n",
              "      <td>0.0</td>\n",
              "      <td>0.0</td>\n",
              "      <td>0.0</td>\n",
              "      <td>0.0</td>\n",
              "      <td>0.0</td>\n",
              "      <td>0.0</td>\n",
              "      <td>0.0</td>\n",
              "      <td>0.0</td>\n",
              "      <td>0.0</td>\n",
              "      <td>0.0</td>\n",
              "      <td>0.0</td>\n",
              "      <td>0.0</td>\n",
              "      <td>0.0</td>\n",
              "      <td>0.0</td>\n",
              "      <td>0.0</td>\n",
              "      <td>0.0</td>\n",
              "      <td>0.0</td>\n",
              "      <td>0.0</td>\n",
              "      <td>0.0</td>\n",
              "      <td>0.0</td>\n",
              "      <td>0.0</td>\n",
              "      <td>0.0</td>\n",
              "      <td>0.0</td>\n",
              "      <td>0.0</td>\n",
              "      <td>0.0</td>\n",
              "      <td>0.0</td>\n",
              "      <td>0.0</td>\n",
              "      <td>0.0</td>\n",
              "    </tr>\n",
              "  </tbody>\n",
              "</table>\n",
              "</div>"
            ],
            "text/plain": [
              "candidate    Joe Biden  Donald Trump  ...  Keith McCormic  Zachary Scalf\n",
              "state                                 ...                               \n",
              "Alabama       849648.0     1441168.0  ...             0.0            0.0\n",
              "Alaska        153405.0      189892.0  ...             0.0            0.0\n",
              "Arizona      1672143.0     1661686.0  ...             0.0            0.0\n",
              "Arkansas      423932.0      760647.0  ...             0.0            0.0\n",
              "California  11109764.0     6005961.0  ...             0.0            0.0\n",
              "\n",
              "[5 rows x 38 columns]"
            ]
          },
          "metadata": {
            "tags": []
          },
          "execution_count": 182
        }
      ]
    },
    {
      "cell_type": "code",
      "metadata": {
        "colab": {
          "base_uri": "https://localhost:8080/"
        },
        "id": "7Sg6GWzgN6Bu",
        "outputId": "d0fd55c6-3917-464f-91b1-af65affcc5a2"
      },
      "source": [
        "# 3. 每一个州下设若干县，定义拜登在该县的得票率减去川普在该县的得票率为该县的BT指标，\r\n",
        "# 若某个州所有县BT指标的中位数大于0，则称该州为Biden State，请找出所有的Biden State\r\n",
        "\r\n",
        "# 计算的得票率\r\n",
        "df_can['BT'] = df_can.groupby(['state','county'])['total_votes'].apply(lambda x: x/x.sum())\r\n",
        "df_can.sort_values('state')\r\n",
        "\r\n",
        "res = df_can.pivot(index=['state','county'],columns='candidate',values='BT')\r\n",
        "res['BT'] = res['Joe Biden']-res['Donald Trump']\r\n",
        "res = res.reset_index()\r\n",
        "res = res.groupby(['state'])['BT'].apply(lambda x:x.median()>0).to_frame()\r\n",
        "res[res.BT==True].index"
      ],
      "execution_count": 184,
      "outputs": [
        {
          "output_type": "execute_result",
          "data": {
            "text/plain": [
              "Index(['California', 'Connecticut', 'Delaware', 'District of Columbia',\n",
              "       'Hawaii', 'Massachusetts', 'New Jersey', 'Rhode Island', 'Vermont'],\n",
              "      dtype='object', name='state')"
            ]
          },
          "metadata": {
            "tags": []
          },
          "execution_count": 184
        }
      ]
    },
    {
      "cell_type": "code",
      "metadata": {
        "id": "e5Lp1BqmOj3p"
      },
      "source": [
        ""
      ],
      "execution_count": null,
      "outputs": []
    }
  ]
}